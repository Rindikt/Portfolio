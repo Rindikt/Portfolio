{
 "cells": [
  {
   "cell_type": "markdown",
   "id": "7f805ed8",
   "metadata": {},
   "source": [
    "# Проект исследование пиццерии"
   ]
  },
  {
   "cell_type": "markdown",
   "id": "e729c01e",
   "metadata": {},
   "source": [
    "### Описание"
   ]
  },
  {
   "cell_type": "markdown",
   "id": "79305d7f",
   "metadata": {},
   "source": [
    "Объем продаж вымышленной пиццерии за год, включая дату и время каждого заказа и подаваемую пиццу, а также дополнительные сведения о типе, размере, количестве, цене и ингредиентах.\n",
    "\n"
   ]
  },
  {
   "cell_type": "markdown",
   "id": "9ec212be",
   "metadata": {},
   "source": [
    "### Задачи"
   ]
  },
  {
   "cell_type": "markdown",
   "id": "77996a49",
   "metadata": {},
   "source": [
    "1)Подключение библиотек, выгрузка, осмотр данных\n",
    "\n",
    "2)Подготовка, предобработка данных\n",
    "\n",
    "3)Провести исследование\n",
    "\n",
    "3.1) Сколько клиентов в пиццерии каждый день? Есть ли часы пик?\n",
    "\n",
    "3.2) Сколько пицц обычно находится в заказе? Есть ли бестселлеры?\n",
    "\n",
    "3.3) Сколько денег пиццерия заработала в этом году? Можем ли выявить какую-либо сезонность в продажах?\n",
    "\n",
    "3.4) Рекомендации\n",
    "\n",
    "4)Гипотезы\n",
    "\n",
    "4.1)Средние пиццы в выходные берут чаще чем в будние дни\n",
    "\n",
    "4.2)В будни дни заказы пиццы размера M и L равны\n"
   ]
  },
  {
   "cell_type": "markdown",
   "id": "1111e926",
   "metadata": {},
   "source": [
    "## Подключение библиотек, выгрузка и осмотр данных"
   ]
  },
  {
   "cell_type": "code",
   "execution_count": 4,
   "id": "c0ee8964",
   "metadata": {},
   "outputs": [],
   "source": [
    "import pandas as pd\n",
    "import seaborn as sns\n",
    "from datetime import datetime\n",
    "from datetime import timedelta\n",
    "from matplotlib import pyplot as plt\n",
    "import numpy as np\n",
    "import math as mth\n",
    "from scipy import stats as st"
   ]
  },
  {
   "cell_type": "code",
   "execution_count": 5,
   "id": "e753b016",
   "metadata": {},
   "outputs": [],
   "source": [
    "order_details = pd.read_csv('/Users/Риндикт/notebook/Новая папка/Pizzeria_analysis/order_details.csv')\n",
    "order = pd.read_csv('/Users/Риндикт/notebook/Новая папка/Pizzeria_analysis/orders.csv')\n",
    "pizza_types = pd.read_csv('/Users/Риндикт/notebook/Новая папка/Pizzeria_analysis/pizza_types.csv',header= 0,\n",
    "                        encoding= 'unicode_escape')\n",
    "pizzas = pd.read_csv('/Users/Риндикт/notebook/Новая папка/Pizzeria_analysis/pizzas.csv')"
   ]
  },
  {
   "cell_type": "code",
   "execution_count": 6,
   "id": "5b5c4dc2",
   "metadata": {},
   "outputs": [
    {
     "data": {
      "text/html": [
       "<div>\n",
       "<style scoped>\n",
       "    .dataframe tbody tr th:only-of-type {\n",
       "        vertical-align: middle;\n",
       "    }\n",
       "\n",
       "    .dataframe tbody tr th {\n",
       "        vertical-align: top;\n",
       "    }\n",
       "\n",
       "    .dataframe thead th {\n",
       "        text-align: right;\n",
       "    }\n",
       "</style>\n",
       "<table border=\"1\" class=\"dataframe\">\n",
       "  <thead>\n",
       "    <tr style=\"text-align: right;\">\n",
       "      <th></th>\n",
       "      <th>order_details_id</th>\n",
       "      <th>order_id</th>\n",
       "      <th>pizza_id</th>\n",
       "      <th>quantity</th>\n",
       "    </tr>\n",
       "  </thead>\n",
       "  <tbody>\n",
       "    <tr>\n",
       "      <th>0</th>\n",
       "      <td>1</td>\n",
       "      <td>1</td>\n",
       "      <td>hawaiian_m</td>\n",
       "      <td>1</td>\n",
       "    </tr>\n",
       "    <tr>\n",
       "      <th>1</th>\n",
       "      <td>2</td>\n",
       "      <td>2</td>\n",
       "      <td>classic_dlx_m</td>\n",
       "      <td>1</td>\n",
       "    </tr>\n",
       "    <tr>\n",
       "      <th>2</th>\n",
       "      <td>3</td>\n",
       "      <td>2</td>\n",
       "      <td>five_cheese_l</td>\n",
       "      <td>1</td>\n",
       "    </tr>\n",
       "    <tr>\n",
       "      <th>3</th>\n",
       "      <td>4</td>\n",
       "      <td>2</td>\n",
       "      <td>ital_supr_l</td>\n",
       "      <td>1</td>\n",
       "    </tr>\n",
       "    <tr>\n",
       "      <th>4</th>\n",
       "      <td>5</td>\n",
       "      <td>2</td>\n",
       "      <td>mexicana_m</td>\n",
       "      <td>1</td>\n",
       "    </tr>\n",
       "  </tbody>\n",
       "</table>\n",
       "</div>"
      ],
      "text/plain": [
       "   order_details_id  order_id       pizza_id  quantity\n",
       "0                 1         1     hawaiian_m         1\n",
       "1                 2         2  classic_dlx_m         1\n",
       "2                 3         2  five_cheese_l         1\n",
       "3                 4         2    ital_supr_l         1\n",
       "4                 5         2     mexicana_m         1"
      ]
     },
     "execution_count": 6,
     "metadata": {},
     "output_type": "execute_result"
    }
   ],
   "source": [
    "order_details.head(5)"
   ]
  },
  {
   "cell_type": "code",
   "execution_count": 7,
   "id": "8e0caaac",
   "metadata": {},
   "outputs": [
    {
     "data": {
      "text/html": [
       "<div>\n",
       "<style scoped>\n",
       "    .dataframe tbody tr th:only-of-type {\n",
       "        vertical-align: middle;\n",
       "    }\n",
       "\n",
       "    .dataframe tbody tr th {\n",
       "        vertical-align: top;\n",
       "    }\n",
       "\n",
       "    .dataframe thead th {\n",
       "        text-align: right;\n",
       "    }\n",
       "</style>\n",
       "<table border=\"1\" class=\"dataframe\">\n",
       "  <thead>\n",
       "    <tr style=\"text-align: right;\">\n",
       "      <th></th>\n",
       "      <th>order_id</th>\n",
       "      <th>date</th>\n",
       "      <th>time</th>\n",
       "    </tr>\n",
       "  </thead>\n",
       "  <tbody>\n",
       "    <tr>\n",
       "      <th>0</th>\n",
       "      <td>1</td>\n",
       "      <td>2015-01-01</td>\n",
       "      <td>11:38:36</td>\n",
       "    </tr>\n",
       "    <tr>\n",
       "      <th>1</th>\n",
       "      <td>2</td>\n",
       "      <td>2015-01-01</td>\n",
       "      <td>11:57:40</td>\n",
       "    </tr>\n",
       "    <tr>\n",
       "      <th>2</th>\n",
       "      <td>3</td>\n",
       "      <td>2015-01-01</td>\n",
       "      <td>12:12:28</td>\n",
       "    </tr>\n",
       "    <tr>\n",
       "      <th>3</th>\n",
       "      <td>4</td>\n",
       "      <td>2015-01-01</td>\n",
       "      <td>12:16:31</td>\n",
       "    </tr>\n",
       "    <tr>\n",
       "      <th>4</th>\n",
       "      <td>5</td>\n",
       "      <td>2015-01-01</td>\n",
       "      <td>12:21:30</td>\n",
       "    </tr>\n",
       "  </tbody>\n",
       "</table>\n",
       "</div>"
      ],
      "text/plain": [
       "   order_id        date      time\n",
       "0         1  2015-01-01  11:38:36\n",
       "1         2  2015-01-01  11:57:40\n",
       "2         3  2015-01-01  12:12:28\n",
       "3         4  2015-01-01  12:16:31\n",
       "4         5  2015-01-01  12:21:30"
      ]
     },
     "execution_count": 7,
     "metadata": {},
     "output_type": "execute_result"
    }
   ],
   "source": [
    "order.head(5)"
   ]
  },
  {
   "cell_type": "code",
   "execution_count": 8,
   "id": "c6355bec",
   "metadata": {},
   "outputs": [
    {
     "data": {
      "text/html": [
       "<div>\n",
       "<style scoped>\n",
       "    .dataframe tbody tr th:only-of-type {\n",
       "        vertical-align: middle;\n",
       "    }\n",
       "\n",
       "    .dataframe tbody tr th {\n",
       "        vertical-align: top;\n",
       "    }\n",
       "\n",
       "    .dataframe thead th {\n",
       "        text-align: right;\n",
       "    }\n",
       "</style>\n",
       "<table border=\"1\" class=\"dataframe\">\n",
       "  <thead>\n",
       "    <tr style=\"text-align: right;\">\n",
       "      <th></th>\n",
       "      <th>pizza_type_id</th>\n",
       "      <th>name</th>\n",
       "      <th>category</th>\n",
       "      <th>ingredients</th>\n",
       "    </tr>\n",
       "  </thead>\n",
       "  <tbody>\n",
       "    <tr>\n",
       "      <th>0</th>\n",
       "      <td>bbq_ckn</td>\n",
       "      <td>The Barbecue Chicken Pizza</td>\n",
       "      <td>Chicken</td>\n",
       "      <td>Barbecued Chicken, Red Peppers, Green Peppers,...</td>\n",
       "    </tr>\n",
       "    <tr>\n",
       "      <th>1</th>\n",
       "      <td>cali_ckn</td>\n",
       "      <td>The California Chicken Pizza</td>\n",
       "      <td>Chicken</td>\n",
       "      <td>Chicken, Artichoke, Spinach, Garlic, Jalapeno ...</td>\n",
       "    </tr>\n",
       "    <tr>\n",
       "      <th>2</th>\n",
       "      <td>ckn_alfredo</td>\n",
       "      <td>The Chicken Alfredo Pizza</td>\n",
       "      <td>Chicken</td>\n",
       "      <td>Chicken, Red Onions, Red Peppers, Mushrooms, A...</td>\n",
       "    </tr>\n",
       "    <tr>\n",
       "      <th>3</th>\n",
       "      <td>ckn_pesto</td>\n",
       "      <td>The Chicken Pesto Pizza</td>\n",
       "      <td>Chicken</td>\n",
       "      <td>Chicken, Tomatoes, Red Peppers, Spinach, Garli...</td>\n",
       "    </tr>\n",
       "    <tr>\n",
       "      <th>4</th>\n",
       "      <td>southw_ckn</td>\n",
       "      <td>The Southwest Chicken Pizza</td>\n",
       "      <td>Chicken</td>\n",
       "      <td>Chicken, Tomatoes, Red Peppers, Red Onions, Ja...</td>\n",
       "    </tr>\n",
       "  </tbody>\n",
       "</table>\n",
       "</div>"
      ],
      "text/plain": [
       "  pizza_type_id                          name category  \\\n",
       "0       bbq_ckn    The Barbecue Chicken Pizza  Chicken   \n",
       "1      cali_ckn  The California Chicken Pizza  Chicken   \n",
       "2   ckn_alfredo     The Chicken Alfredo Pizza  Chicken   \n",
       "3     ckn_pesto       The Chicken Pesto Pizza  Chicken   \n",
       "4    southw_ckn   The Southwest Chicken Pizza  Chicken   \n",
       "\n",
       "                                         ingredients  \n",
       "0  Barbecued Chicken, Red Peppers, Green Peppers,...  \n",
       "1  Chicken, Artichoke, Spinach, Garlic, Jalapeno ...  \n",
       "2  Chicken, Red Onions, Red Peppers, Mushrooms, A...  \n",
       "3  Chicken, Tomatoes, Red Peppers, Spinach, Garli...  \n",
       "4  Chicken, Tomatoes, Red Peppers, Red Onions, Ja...  "
      ]
     },
     "execution_count": 8,
     "metadata": {},
     "output_type": "execute_result"
    }
   ],
   "source": [
    "pizza_types.head(5)"
   ]
  },
  {
   "cell_type": "code",
   "execution_count": 9,
   "id": "e1e75932",
   "metadata": {},
   "outputs": [
    {
     "data": {
      "text/html": [
       "<div>\n",
       "<style scoped>\n",
       "    .dataframe tbody tr th:only-of-type {\n",
       "        vertical-align: middle;\n",
       "    }\n",
       "\n",
       "    .dataframe tbody tr th {\n",
       "        vertical-align: top;\n",
       "    }\n",
       "\n",
       "    .dataframe thead th {\n",
       "        text-align: right;\n",
       "    }\n",
       "</style>\n",
       "<table border=\"1\" class=\"dataframe\">\n",
       "  <thead>\n",
       "    <tr style=\"text-align: right;\">\n",
       "      <th></th>\n",
       "      <th>pizza_id</th>\n",
       "      <th>pizza_type_id</th>\n",
       "      <th>size</th>\n",
       "      <th>price</th>\n",
       "    </tr>\n",
       "  </thead>\n",
       "  <tbody>\n",
       "    <tr>\n",
       "      <th>0</th>\n",
       "      <td>bbq_ckn_s</td>\n",
       "      <td>bbq_ckn</td>\n",
       "      <td>S</td>\n",
       "      <td>12.75</td>\n",
       "    </tr>\n",
       "    <tr>\n",
       "      <th>1</th>\n",
       "      <td>bbq_ckn_m</td>\n",
       "      <td>bbq_ckn</td>\n",
       "      <td>M</td>\n",
       "      <td>16.75</td>\n",
       "    </tr>\n",
       "    <tr>\n",
       "      <th>2</th>\n",
       "      <td>bbq_ckn_l</td>\n",
       "      <td>bbq_ckn</td>\n",
       "      <td>L</td>\n",
       "      <td>20.75</td>\n",
       "    </tr>\n",
       "    <tr>\n",
       "      <th>3</th>\n",
       "      <td>cali_ckn_s</td>\n",
       "      <td>cali_ckn</td>\n",
       "      <td>S</td>\n",
       "      <td>12.75</td>\n",
       "    </tr>\n",
       "    <tr>\n",
       "      <th>4</th>\n",
       "      <td>cali_ckn_m</td>\n",
       "      <td>cali_ckn</td>\n",
       "      <td>M</td>\n",
       "      <td>16.75</td>\n",
       "    </tr>\n",
       "  </tbody>\n",
       "</table>\n",
       "</div>"
      ],
      "text/plain": [
       "     pizza_id pizza_type_id size  price\n",
       "0   bbq_ckn_s       bbq_ckn    S  12.75\n",
       "1   bbq_ckn_m       bbq_ckn    M  16.75\n",
       "2   bbq_ckn_l       bbq_ckn    L  20.75\n",
       "3  cali_ckn_s      cali_ckn    S  12.75\n",
       "4  cali_ckn_m      cali_ckn    M  16.75"
      ]
     },
     "execution_count": 9,
     "metadata": {},
     "output_type": "execute_result"
    }
   ],
   "source": [
    "pizzas.head(5)"
   ]
  },
  {
   "cell_type": "code",
   "execution_count": null,
   "id": "a9475bba",
   "metadata": {},
   "outputs": [],
   "source": []
  },
  {
   "cell_type": "markdown",
   "id": "7823c6e8",
   "metadata": {},
   "source": [
    "Подключил библиотеки, и вывел данные на экран"
   ]
  },
  {
   "cell_type": "markdown",
   "id": "1b5ebf2d",
   "metadata": {},
   "source": [
    "## Предобработка данных"
   ]
  },
  {
   "cell_type": "code",
   "execution_count": 10,
   "id": "325242df",
   "metadata": {},
   "outputs": [],
   "source": [
    "def info(data):\n",
    "    ''' \n",
    "    Функция для предварительной обработки датасетов\n",
    "    '''\n",
    "    \n",
    "    print(\"Дубликатов обнаружено: \", data.duplicated().sum())\n",
    "    if data.duplicated().sum() >0:\n",
    "        print('Обнаружены дубликаты, произвожу очистку')\n",
    "        data = data.drop_duplicates()\n",
    "        print('Дубликаты ',data.duplicated().sum())\n",
    "    print()\n",
    "    print('Пропусков обнаружено:', data.isna().sum())\n",
    "    print()\n",
    "    data.info()\n",
    "    return data"
   ]
  },
  {
   "cell_type": "code",
   "execution_count": 11,
   "id": "0178996b",
   "metadata": {},
   "outputs": [
    {
     "name": "stdout",
     "output_type": "stream",
     "text": [
      "Дубликатов обнаружено:  0\n",
      "\n",
      "Пропусков обнаружено: order_details_id    0\n",
      "order_id            0\n",
      "pizza_id            0\n",
      "quantity            0\n",
      "dtype: int64\n",
      "\n",
      "<class 'pandas.core.frame.DataFrame'>\n",
      "RangeIndex: 48620 entries, 0 to 48619\n",
      "Data columns (total 4 columns):\n",
      " #   Column            Non-Null Count  Dtype \n",
      "---  ------            --------------  ----- \n",
      " 0   order_details_id  48620 non-null  int64 \n",
      " 1   order_id          48620 non-null  int64 \n",
      " 2   pizza_id          48620 non-null  object\n",
      " 3   quantity          48620 non-null  int64 \n",
      "dtypes: int64(3), object(1)\n",
      "memory usage: 1.5+ MB\n"
     ]
    }
   ],
   "source": [
    "order_details = info(order_details)"
   ]
  },
  {
   "cell_type": "code",
   "execution_count": 12,
   "id": "559b2337",
   "metadata": {},
   "outputs": [
    {
     "name": "stdout",
     "output_type": "stream",
     "text": [
      "Дубликатов обнаружено:  0\n",
      "\n",
      "Пропусков обнаружено: order_id    0\n",
      "date        0\n",
      "time        0\n",
      "dtype: int64\n",
      "\n",
      "<class 'pandas.core.frame.DataFrame'>\n",
      "RangeIndex: 21350 entries, 0 to 21349\n",
      "Data columns (total 3 columns):\n",
      " #   Column    Non-Null Count  Dtype \n",
      "---  ------    --------------  ----- \n",
      " 0   order_id  21350 non-null  int64 \n",
      " 1   date      21350 non-null  object\n",
      " 2   time      21350 non-null  object\n",
      "dtypes: int64(1), object(2)\n",
      "memory usage: 500.5+ KB\n"
     ]
    }
   ],
   "source": [
    "order = info(order)"
   ]
  },
  {
   "cell_type": "code",
   "execution_count": 13,
   "id": "31735e24",
   "metadata": {},
   "outputs": [
    {
     "name": "stdout",
     "output_type": "stream",
     "text": [
      "Дубликатов обнаружено:  0\n",
      "\n",
      "Пропусков обнаружено: pizza_type_id    0\n",
      "name             0\n",
      "category         0\n",
      "ingredients      0\n",
      "dtype: int64\n",
      "\n",
      "<class 'pandas.core.frame.DataFrame'>\n",
      "RangeIndex: 32 entries, 0 to 31\n",
      "Data columns (total 4 columns):\n",
      " #   Column         Non-Null Count  Dtype \n",
      "---  ------         --------------  ----- \n",
      " 0   pizza_type_id  32 non-null     object\n",
      " 1   name           32 non-null     object\n",
      " 2   category       32 non-null     object\n",
      " 3   ingredients    32 non-null     object\n",
      "dtypes: object(4)\n",
      "memory usage: 1.1+ KB\n"
     ]
    }
   ],
   "source": [
    "pizza_types = info(pizza_types)"
   ]
  },
  {
   "cell_type": "code",
   "execution_count": 14,
   "id": "13c1cd35",
   "metadata": {},
   "outputs": [
    {
     "name": "stdout",
     "output_type": "stream",
     "text": [
      "Дубликатов обнаружено:  0\n",
      "\n",
      "Пропусков обнаружено: pizza_id         0\n",
      "pizza_type_id    0\n",
      "size             0\n",
      "price            0\n",
      "dtype: int64\n",
      "\n",
      "<class 'pandas.core.frame.DataFrame'>\n",
      "RangeIndex: 96 entries, 0 to 95\n",
      "Data columns (total 4 columns):\n",
      " #   Column         Non-Null Count  Dtype  \n",
      "---  ------         --------------  -----  \n",
      " 0   pizza_id       96 non-null     object \n",
      " 1   pizza_type_id  96 non-null     object \n",
      " 2   size           96 non-null     object \n",
      " 3   price          96 non-null     float64\n",
      "dtypes: float64(1), object(3)\n",
      "memory usage: 3.1+ KB\n"
     ]
    }
   ],
   "source": [
    "pizzas = info(pizzas)"
   ]
  },
  {
   "cell_type": "code",
   "execution_count": 15,
   "id": "7a8a9843",
   "metadata": {},
   "outputs": [
    {
     "name": "stdout",
     "output_type": "stream",
     "text": [
      "<class 'pandas.core.frame.DataFrame'>\n",
      "RangeIndex: 21350 entries, 0 to 21349\n",
      "Data columns (total 3 columns):\n",
      " #   Column    Non-Null Count  Dtype \n",
      "---  ------    --------------  ----- \n",
      " 0   order_id  21350 non-null  int64 \n",
      " 1   date      21350 non-null  object\n",
      " 2   time      21350 non-null  object\n",
      "dtypes: int64(1), object(2)\n",
      "memory usage: 500.5+ KB\n"
     ]
    }
   ],
   "source": [
    "order.info()"
   ]
  },
  {
   "cell_type": "markdown",
   "id": "4114becc",
   "metadata": {},
   "source": [
    "Привожу к нужному формату и добавляю необходимые для дальнейшей работы колонки"
   ]
  },
  {
   "cell_type": "code",
   "execution_count": 16,
   "id": "b51e3712",
   "metadata": {},
   "outputs": [],
   "source": [
    "order.date = pd.to_datetime(order.date)\n",
    "order['weekday'] = pd.to_datetime(order.date).dt.dayofweek\n",
    "order.time = pd.to_datetime(order.time)\n",
    "order.time = order.time.round('H')-timedelta(hours = 1)\n",
    "order.time = order.time.apply(lambda x:x.time())\n",
    "order.time = order.time.astype(str)"
   ]
  },
  {
   "cell_type": "code",
   "execution_count": 17,
   "id": "bf118bef",
   "metadata": {},
   "outputs": [
    {
     "name": "stdout",
     "output_type": "stream",
     "text": [
      "<class 'pandas.core.frame.DataFrame'>\n",
      "RangeIndex: 21350 entries, 0 to 21349\n",
      "Data columns (total 4 columns):\n",
      " #   Column    Non-Null Count  Dtype         \n",
      "---  ------    --------------  -----         \n",
      " 0   order_id  21350 non-null  int64         \n",
      " 1   date      21350 non-null  datetime64[ns]\n",
      " 2   time      21350 non-null  object        \n",
      " 3   weekday   21350 non-null  int64         \n",
      "dtypes: datetime64[ns](1), int64(2), object(1)\n",
      "memory usage: 667.3+ KB\n"
     ]
    }
   ],
   "source": [
    "order.info()"
   ]
  },
  {
   "cell_type": "markdown",
   "id": "99255c26",
   "metadata": {},
   "source": [
    "Создаю полную таблицу"
   ]
  },
  {
   "cell_type": "code",
   "execution_count": 18,
   "id": "4e7b0565",
   "metadata": {},
   "outputs": [
    {
     "data": {
      "text/html": [
       "<div>\n",
       "<style scoped>\n",
       "    .dataframe tbody tr th:only-of-type {\n",
       "        vertical-align: middle;\n",
       "    }\n",
       "\n",
       "    .dataframe tbody tr th {\n",
       "        vertical-align: top;\n",
       "    }\n",
       "\n",
       "    .dataframe thead th {\n",
       "        text-align: right;\n",
       "    }\n",
       "</style>\n",
       "<table border=\"1\" class=\"dataframe\">\n",
       "  <thead>\n",
       "    <tr style=\"text-align: right;\">\n",
       "      <th></th>\n",
       "      <th>order_details_id</th>\n",
       "      <th>order_id</th>\n",
       "      <th>pizza_id</th>\n",
       "      <th>quantity</th>\n",
       "      <th>date</th>\n",
       "      <th>time</th>\n",
       "      <th>weekday</th>\n",
       "      <th>pizza_type_id</th>\n",
       "      <th>size</th>\n",
       "      <th>price</th>\n",
       "      <th>name</th>\n",
       "      <th>category</th>\n",
       "      <th>ingredients</th>\n",
       "      <th>day_name</th>\n",
       "      <th>month</th>\n",
       "      <th>month_name</th>\n",
       "    </tr>\n",
       "  </thead>\n",
       "  <tbody>\n",
       "    <tr>\n",
       "      <th>0</th>\n",
       "      <td>1</td>\n",
       "      <td>1</td>\n",
       "      <td>hawaiian_m</td>\n",
       "      <td>1</td>\n",
       "      <td>2015-01-01</td>\n",
       "      <td>11:00:00</td>\n",
       "      <td>3</td>\n",
       "      <td>hawaiian</td>\n",
       "      <td>M</td>\n",
       "      <td>13.25</td>\n",
       "      <td>The Hawaiian Pizza</td>\n",
       "      <td>Classic</td>\n",
       "      <td>Sliced Ham, Pineapple, Mozzarella Cheese</td>\n",
       "      <td>Thursday</td>\n",
       "      <td>1</td>\n",
       "      <td>January</td>\n",
       "    </tr>\n",
       "    <tr>\n",
       "      <th>1</th>\n",
       "      <td>179</td>\n",
       "      <td>77</td>\n",
       "      <td>hawaiian_m</td>\n",
       "      <td>1</td>\n",
       "      <td>2015-01-02</td>\n",
       "      <td>11:00:00</td>\n",
       "      <td>4</td>\n",
       "      <td>hawaiian</td>\n",
       "      <td>M</td>\n",
       "      <td>13.25</td>\n",
       "      <td>The Hawaiian Pizza</td>\n",
       "      <td>Classic</td>\n",
       "      <td>Sliced Ham, Pineapple, Mozzarella Cheese</td>\n",
       "      <td>Friday</td>\n",
       "      <td>1</td>\n",
       "      <td>January</td>\n",
       "    </tr>\n",
       "    <tr>\n",
       "      <th>2</th>\n",
       "      <td>357</td>\n",
       "      <td>146</td>\n",
       "      <td>hawaiian_m</td>\n",
       "      <td>1</td>\n",
       "      <td>2015-01-03</td>\n",
       "      <td>13:00:00</td>\n",
       "      <td>5</td>\n",
       "      <td>hawaiian</td>\n",
       "      <td>M</td>\n",
       "      <td>13.25</td>\n",
       "      <td>The Hawaiian Pizza</td>\n",
       "      <td>Classic</td>\n",
       "      <td>Sliced Ham, Pineapple, Mozzarella Cheese</td>\n",
       "      <td>Saturday</td>\n",
       "      <td>1</td>\n",
       "      <td>January</td>\n",
       "    </tr>\n",
       "    <tr>\n",
       "      <th>3</th>\n",
       "      <td>389</td>\n",
       "      <td>163</td>\n",
       "      <td>hawaiian_m</td>\n",
       "      <td>1</td>\n",
       "      <td>2015-01-03</td>\n",
       "      <td>16:00:00</td>\n",
       "      <td>5</td>\n",
       "      <td>hawaiian</td>\n",
       "      <td>M</td>\n",
       "      <td>13.25</td>\n",
       "      <td>The Hawaiian Pizza</td>\n",
       "      <td>Classic</td>\n",
       "      <td>Sliced Ham, Pineapple, Mozzarella Cheese</td>\n",
       "      <td>Saturday</td>\n",
       "      <td>1</td>\n",
       "      <td>January</td>\n",
       "    </tr>\n",
       "    <tr>\n",
       "      <th>4</th>\n",
       "      <td>568</td>\n",
       "      <td>247</td>\n",
       "      <td>hawaiian_m</td>\n",
       "      <td>1</td>\n",
       "      <td>2015-01-04</td>\n",
       "      <td>20:00:00</td>\n",
       "      <td>6</td>\n",
       "      <td>hawaiian</td>\n",
       "      <td>M</td>\n",
       "      <td>13.25</td>\n",
       "      <td>The Hawaiian Pizza</td>\n",
       "      <td>Classic</td>\n",
       "      <td>Sliced Ham, Pineapple, Mozzarella Cheese</td>\n",
       "      <td>Sunday</td>\n",
       "      <td>1</td>\n",
       "      <td>January</td>\n",
       "    </tr>\n",
       "  </tbody>\n",
       "</table>\n",
       "</div>"
      ],
      "text/plain": [
       "   order_details_id  order_id    pizza_id  quantity       date      time  \\\n",
       "0                 1         1  hawaiian_m         1 2015-01-01  11:00:00   \n",
       "1               179        77  hawaiian_m         1 2015-01-02  11:00:00   \n",
       "2               357       146  hawaiian_m         1 2015-01-03  13:00:00   \n",
       "3               389       163  hawaiian_m         1 2015-01-03  16:00:00   \n",
       "4               568       247  hawaiian_m         1 2015-01-04  20:00:00   \n",
       "\n",
       "   weekday pizza_type_id size  price                name category  \\\n",
       "0        3      hawaiian    M  13.25  The Hawaiian Pizza  Classic   \n",
       "1        4      hawaiian    M  13.25  The Hawaiian Pizza  Classic   \n",
       "2        5      hawaiian    M  13.25  The Hawaiian Pizza  Classic   \n",
       "3        5      hawaiian    M  13.25  The Hawaiian Pizza  Classic   \n",
       "4        6      hawaiian    M  13.25  The Hawaiian Pizza  Classic   \n",
       "\n",
       "                                ingredients  day_name  month month_name  \n",
       "0  Sliced Ham, Pineapple, Mozzarella Cheese  Thursday      1    January  \n",
       "1  Sliced Ham, Pineapple, Mozzarella Cheese    Friday      1    January  \n",
       "2  Sliced Ham, Pineapple, Mozzarella Cheese  Saturday      1    January  \n",
       "3  Sliced Ham, Pineapple, Mozzarella Cheese  Saturday      1    January  \n",
       "4  Sliced Ham, Pineapple, Mozzarella Cheese    Sunday      1    January  "
      ]
     },
     "execution_count": 18,
     "metadata": {},
     "output_type": "execute_result"
    }
   ],
   "source": [
    "complete_table = order_details.merge(order,how = 'inner', on = 'order_id')\n",
    "complete_table = complete_table.merge(pizzas,how = 'inner', on = 'pizza_id')\n",
    "complete_table = complete_table.merge(pizza_types, how = 'inner', on = 'pizza_type_id')\n",
    "complete_table['weekday'] = pd.to_datetime(complete_table.date).dt.dayofweek\n",
    "complete_table['day_name'] = pd.to_datetime(complete_table.date).dt.day_name()\n",
    "complete_table['month'] = pd.to_datetime(complete_table.date).dt.month\n",
    "complete_table['month_name'] = pd.to_datetime(complete_table.date).dt.month_name()\n",
    "complete_table.head(5)"
   ]
  },
  {
   "cell_type": "markdown",
   "id": "1bad3fde",
   "metadata": {},
   "source": [
    "### Итог"
   ]
  },
  {
   "cell_type": "markdown",
   "id": "bd801046",
   "metadata": {},
   "source": [
    "Проверил таблицы на пропуски и дубликаты, изменил тип данных и добавил нужный столбец для дальнейшей работы, создал объединённую таблицу"
   ]
  },
  {
   "cell_type": "markdown",
   "id": "a4d9a5b8",
   "metadata": {},
   "source": [
    "## Исследование"
   ]
  },
  {
   "cell_type": "markdown",
   "id": "7829955d",
   "metadata": {},
   "source": [
    "### Сколько клиентов в пиццерии каждый день? Есть ли часы пик?"
   ]
  },
  {
   "cell_type": "code",
   "execution_count": 19,
   "id": "c55febaa",
   "metadata": {},
   "outputs": [
    {
     "data": {
      "text/plain": [
       "135.81005586592178"
      ]
     },
     "execution_count": 19,
     "metadata": {},
     "output_type": "execute_result"
    }
   ],
   "source": [
    "complete_table.groupby('date', as_index=False).agg({'order_id':'count'}).order_id.mean()"
   ]
  },
  {
   "cell_type": "code",
   "execution_count": 20,
   "id": "c46260d8",
   "metadata": {},
   "outputs": [
    {
     "data": {
      "image/png": "[encoded data removed]",
      "text/plain": [
       "<Figure size 1000x500 with 1 Axes>"
      ]
     },
     "metadata": {},
     "output_type": "display_data"
    }
   ],
   "source": [
    "plt.figure(figsize = (10,5))\n",
    "sns.histplot(order.time.sort_values())\n",
    "plt.xticks(rotation = 45)\n",
    "plt.title('График времени заказов')\n",
    "plt.xlabel('Время заказа')\n",
    "plt.ylabel('Количество заказов')\n",
    "plt.show()"
   ]
  },
  {
   "cell_type": "markdown",
   "id": "a43cb9de",
   "metadata": {},
   "source": [
    "Тут наблюдаю что пик активности около 12 часов и ближе к вечеру с 16 часов до 19"
   ]
  },
  {
   "cell_type": "markdown",
   "id": "703f6ef9",
   "metadata": {},
   "source": [
    "### Сколько пицц обычно находится в заказе? Есть ли бестселлеры?"
   ]
  },
  {
   "cell_type": "code",
   "execution_count": 21,
   "id": "4f3b2e21",
   "metadata": {},
   "outputs": [],
   "source": [
    "pizz_in_order =complete_table.groupby('order_id',as_index=False).agg({'quantity':'sum'})"
   ]
  },
  {
   "cell_type": "markdown",
   "id": "830a89ec",
   "metadata": {},
   "source": [
    "Строю график заказов"
   ]
  },
  {
   "cell_type": "code",
   "execution_count": 22,
   "id": "390f1022",
   "metadata": {},
   "outputs": [
    {
     "data": {
      "image/png": "[encoded data removed]",
      "text/plain": [
       "<Figure size 1000x500 with 1 Axes>"
      ]
     },
     "metadata": {},
     "output_type": "display_data"
    }
   ],
   "source": [
    "plt.figure(figsize=(10,5))\n",
    "sns.histplot(pizz_in_order,x = 'quantity',bins=30)\n",
    "plt.xlabel('Количество пицц в заказе')\n",
    "plt.ylabel('Количество заказов')\n",
    "plt.title('График количества пицц в заказе')\n",
    "plt.show()"
   ]
  },
  {
   "cell_type": "markdown",
   "id": "1c87421d",
   "metadata": {},
   "source": [
    "Тут вижу что в большей части заказов входит от одной до 5 пицц, но есть длинный хвост"
   ]
  },
  {
   "cell_type": "code",
   "execution_count": 23,
   "id": "0b64f2f2",
   "metadata": {},
   "outputs": [
    {
     "name": "stdout",
     "output_type": "stream",
     "text": [
      "5  и более пицц лишь в 3% заказов\n"
     ]
    }
   ],
   "source": [
    "percentile97 = round(np.percentile(pizz_in_order.quantity,97))\n",
    "print(percentile97,' и более пицц лишь в 3% заказов')"
   ]
  },
  {
   "cell_type": "code",
   "execution_count": 24,
   "id": "8f919fc0",
   "metadata": {},
   "outputs": [
    {
     "name": "stdout",
     "output_type": "stream",
     "text": [
      "Если убрать выброс, то в среднем в заказе  2.07 пицц\n"
     ]
    }
   ],
   "source": [
    "print('Если убрать выброс, то в среднем в заказе ', round(pizz_in_order.query('quantity < @percentile97').quantity.mean(),2),'пицц')"
   ]
  },
  {
   "cell_type": "code",
   "execution_count": 25,
   "id": "17ff011c",
   "metadata": {},
   "outputs": [
    {
     "data": {
      "text/html": [
       "<div>\n",
       "<style scoped>\n",
       "    .dataframe tbody tr th:only-of-type {\n",
       "        vertical-align: middle;\n",
       "    }\n",
       "\n",
       "    .dataframe tbody tr th {\n",
       "        vertical-align: top;\n",
       "    }\n",
       "\n",
       "    .dataframe thead th {\n",
       "        text-align: right;\n",
       "    }\n",
       "</style>\n",
       "<table border=\"1\" class=\"dataframe\">\n",
       "  <thead>\n",
       "    <tr style=\"text-align: right;\">\n",
       "      <th></th>\n",
       "      <th>name</th>\n",
       "      <th>count</th>\n",
       "    </tr>\n",
       "  </thead>\n",
       "  <tbody>\n",
       "    <tr>\n",
       "      <th>0</th>\n",
       "      <td>The Classic Deluxe Pizza</td>\n",
       "      <td>2416</td>\n",
       "    </tr>\n",
       "    <tr>\n",
       "      <th>1</th>\n",
       "      <td>The Barbecue Chicken Pizza</td>\n",
       "      <td>2372</td>\n",
       "    </tr>\n",
       "    <tr>\n",
       "      <th>2</th>\n",
       "      <td>The Hawaiian Pizza</td>\n",
       "      <td>2370</td>\n",
       "    </tr>\n",
       "    <tr>\n",
       "      <th>3</th>\n",
       "      <td>The Pepperoni Pizza</td>\n",
       "      <td>2369</td>\n",
       "    </tr>\n",
       "    <tr>\n",
       "      <th>4</th>\n",
       "      <td>The Thai Chicken Pizza</td>\n",
       "      <td>2315</td>\n",
       "    </tr>\n",
       "    <tr>\n",
       "      <th>5</th>\n",
       "      <td>The California Chicken Pizza</td>\n",
       "      <td>2302</td>\n",
       "    </tr>\n",
       "    <tr>\n",
       "      <th>6</th>\n",
       "      <td>The Sicilian Pizza</td>\n",
       "      <td>1887</td>\n",
       "    </tr>\n",
       "    <tr>\n",
       "      <th>7</th>\n",
       "      <td>The Spicy Italian Pizza</td>\n",
       "      <td>1887</td>\n",
       "    </tr>\n",
       "    <tr>\n",
       "      <th>8</th>\n",
       "      <td>The Southwest Chicken Pizza</td>\n",
       "      <td>1885</td>\n",
       "    </tr>\n",
       "    <tr>\n",
       "      <th>9</th>\n",
       "      <td>The Four Cheese Pizza</td>\n",
       "      <td>1850</td>\n",
       "    </tr>\n",
       "    <tr>\n",
       "      <th>10</th>\n",
       "      <td>The Italian Supreme Pizza</td>\n",
       "      <td>1849</td>\n",
       "    </tr>\n",
       "    <tr>\n",
       "      <th>11</th>\n",
       "      <td>The Big Meat Pizza</td>\n",
       "      <td>1811</td>\n",
       "    </tr>\n",
       "    <tr>\n",
       "      <th>12</th>\n",
       "      <td>The Vegetables + Vegetables Pizza</td>\n",
       "      <td>1510</td>\n",
       "    </tr>\n",
       "    <tr>\n",
       "      <th>13</th>\n",
       "      <td>The Mexicana Pizza</td>\n",
       "      <td>1456</td>\n",
       "    </tr>\n",
       "    <tr>\n",
       "      <th>14</th>\n",
       "      <td>The Napolitana Pizza</td>\n",
       "      <td>1451</td>\n",
       "    </tr>\n",
       "  </tbody>\n",
       "</table>\n",
       "</div>"
      ],
      "text/plain": [
       "                                 name  count\n",
       "0            The Classic Deluxe Pizza   2416\n",
       "1          The Barbecue Chicken Pizza   2372\n",
       "2                  The Hawaiian Pizza   2370\n",
       "3                 The Pepperoni Pizza   2369\n",
       "4              The Thai Chicken Pizza   2315\n",
       "5        The California Chicken Pizza   2302\n",
       "6                  The Sicilian Pizza   1887\n",
       "7             The Spicy Italian Pizza   1887\n",
       "8         The Southwest Chicken Pizza   1885\n",
       "9               The Four Cheese Pizza   1850\n",
       "10          The Italian Supreme Pizza   1849\n",
       "11                 The Big Meat Pizza   1811\n",
       "12  The Vegetables + Vegetables Pizza   1510\n",
       "13                 The Mexicana Pizza   1456\n",
       "14               The Napolitana Pizza   1451"
      ]
     },
     "execution_count": 25,
     "metadata": {},
     "output_type": "execute_result"
    }
   ],
   "source": [
    "top_15 = complete_table.name.value_counts().head(15)\n",
    "top_15 = top_15.reset_index().rename(columns={'index':'name','name':'count'})\n",
    "top_15\n"
   ]
  },
  {
   "cell_type": "markdown",
   "id": "9cb89ba0",
   "metadata": {},
   "source": [
    "Смотрю какие размеры пицц предпочитают клиенты"
   ]
  },
  {
   "cell_type": "code",
   "execution_count": 26,
   "id": "cc987bce",
   "metadata": {},
   "outputs": [
    {
     "data": {
      "text/html": [
       "<div>\n",
       "<style scoped>\n",
       "    .dataframe tbody tr th:only-of-type {\n",
       "        vertical-align: middle;\n",
       "    }\n",
       "\n",
       "    .dataframe tbody tr th {\n",
       "        vertical-align: top;\n",
       "    }\n",
       "\n",
       "    .dataframe thead th {\n",
       "        text-align: right;\n",
       "    }\n",
       "</style>\n",
       "<table border=\"1\" class=\"dataframe\">\n",
       "  <thead>\n",
       "    <tr style=\"text-align: right;\">\n",
       "      <th></th>\n",
       "      <th>size</th>\n",
       "      <th>order_count</th>\n",
       "    </tr>\n",
       "  </thead>\n",
       "  <tbody>\n",
       "    <tr>\n",
       "      <th>0</th>\n",
       "      <td>L</td>\n",
       "      <td>18526</td>\n",
       "    </tr>\n",
       "    <tr>\n",
       "      <th>1</th>\n",
       "      <td>M</td>\n",
       "      <td>15385</td>\n",
       "    </tr>\n",
       "    <tr>\n",
       "      <th>2</th>\n",
       "      <td>S</td>\n",
       "      <td>14137</td>\n",
       "    </tr>\n",
       "    <tr>\n",
       "      <th>3</th>\n",
       "      <td>XL</td>\n",
       "      <td>544</td>\n",
       "    </tr>\n",
       "    <tr>\n",
       "      <th>4</th>\n",
       "      <td>XXL</td>\n",
       "      <td>28</td>\n",
       "    </tr>\n",
       "  </tbody>\n",
       "</table>\n",
       "</div>"
      ],
      "text/plain": [
       "  size  order_count\n",
       "0    L        18526\n",
       "1    M        15385\n",
       "2    S        14137\n",
       "3   XL          544\n",
       "4  XXL           28"
      ]
     },
     "execution_count": 26,
     "metadata": {},
     "output_type": "execute_result"
    }
   ],
   "source": [
    "complete_table.groupby('size').agg({'order_id':'count'}).reset_index().rename(columns={'order_id':'order_count'})"
   ]
  },
  {
   "cell_type": "markdown",
   "id": "a6d53592",
   "metadata": {},
   "source": [
    "Большинство клиентов предпочитают большие пиццы, так же берут средние и маленькие. Пиццы размера XL и XXL практически не берут"
   ]
  },
  {
   "cell_type": "markdown",
   "id": "09fa9d32",
   "metadata": {},
   "source": [
    "Тут Я отбираю топ 15 пицц и из них 6 примерно равны по популярности "
   ]
  },
  {
   "cell_type": "markdown",
   "id": "66bbdf80",
   "metadata": {},
   "source": [
    "### Сколько денег пиццерия заработала в этом году? Можем ли выявить какую-либо сезонность в продажах?"
   ]
  },
  {
   "cell_type": "code",
   "execution_count": 27,
   "id": "7956a952",
   "metadata": {
    "scrolled": true
   },
   "outputs": [
    {
     "name": "stdout",
     "output_type": "stream",
     "text": [
      "Пиццерия в этом году заработала:  801944.7\n"
     ]
    }
   ],
   "source": [
    "print('Пиццерия в этом году заработала: ', complete_table.price.sum())"
   ]
  },
  {
   "cell_type": "code",
   "execution_count": 28,
   "id": "6db7c606",
   "metadata": {},
   "outputs": [
    {
     "data": {
      "image/png": "[encoded data removed]",
      "text/plain": [
       "<Figure size 1500x500 with 1 Axes>"
      ]
     },
     "metadata": {},
     "output_type": "display_data"
    }
   ],
   "source": [
    "plt.figure(figsize=(15,5))\n",
    "sns.histplot(complete_table.sort_values(by = 'weekday'),x = 'day_name')\n",
    "plt.xticks(rotation=60)\n",
    "plt.ylabel('В среднем количество заказов в день недели')\n",
    "plt.xlabel('День недели')\n",
    "plt.show()"
   ]
  },
  {
   "cell_type": "markdown",
   "id": "9b4ecb2c",
   "metadata": {},
   "source": [
    "Заказы нарастают в течение недели, больше всего их в пятницу затем идёт спад, меньше всего заказов в воскресенье"
   ]
  },
  {
   "cell_type": "code",
   "execution_count": 29,
   "id": "9f72a15e",
   "metadata": {},
   "outputs": [
    {
     "data": {
      "image/png": "[encoded data removed]",
      "text/plain": [
       "<Figure size 1500x500 with 1 Axes>"
      ]
     },
     "metadata": {},
     "output_type": "display_data"
    }
   ],
   "source": [
    "plt.figure(figsize=(15,5))\n",
    "sns.histplot(complete_table.sort_values(by = 'month'),x = 'month_name')\n",
    "plt.xticks(rotation=60)\n",
    "plt.ylabel('В среднем количество заказов в месяц недели')\n",
    "plt.xlabel('День недели')\n",
    "plt.show()"
   ]
  },
  {
   "cell_type": "markdown",
   "id": "039eaf3d",
   "metadata": {},
   "source": [
    "Разницы в заказах по месяцам не значительные"
   ]
  },
  {
   "cell_type": "markdown",
   "id": "eda1f0c2",
   "metadata": {},
   "source": [
    "### Итог"
   ]
  },
  {
   "cell_type": "markdown",
   "id": "ad13830f",
   "metadata": {},
   "source": [
    "1)В день в среднем приходят 135 человек\n",
    "\n",
    "2)Пики активности приходятся на 12 часов, и с 16-19 часов\n",
    "\n",
    "3)Большинство заказов на 1 пиццу, а среднее по заказам ~2, больше 4‐х практически не берут\n",
    "\n",
    "4)Большинство клиентов предпочитают большие пиццы, так же берут средние и маленькие. Пиццы размера XL и XXL практически не берут\n",
    "\n",
    "5)Есть 6 самых популярных пицц - Classic Deluxe Pizza, Barbecue Chicken Pizza, Hawaiian Pizza, Pepperoni Pizza, Thai Chicken Pizza, California Chicken Pizza. Количество покупок данных пицц практически не различается\n",
    "\n",
    "6)Заказы нарастают в течение недели, больше всего их в пятницу затем идёт спад, меньше всего заказов в воскресенье"
   ]
  },
  {
   "cell_type": "markdown",
   "id": "87182290",
   "metadata": {},
   "source": [
    "## Гипотезы"
   ]
  },
  {
   "cell_type": "markdown",
   "id": "54013cdc",
   "metadata": {},
   "source": [
    "### Гипотеза 1"
   ]
  },
  {
   "cell_type": "markdown",
   "id": "8cd2a1b1",
   "metadata": {},
   "source": [
    "H_0 Большие пиццы в выходные берут так же часто как и в будние дни\n",
    "\n",
    "H_1 Количество в заказах больших пицц различается в выходные и будни"
   ]
  },
  {
   "cell_type": "code",
   "execution_count": 30,
   "id": "72f395a6",
   "metadata": {},
   "outputs": [],
   "source": [
    "def ztest(data_one,second_data):\n",
    "    alpha = 0.01\n",
    "    p1 = data_one[0]/second_data[0]\n",
    "    p2 = data_one[1]/second_data[1]\n",
    "    \n",
    "    p_combined = (data_one[0]+data_one[1])/(second_data[0]+second_data[1])\n",
    "    \n",
    "    difference = p1-p2\n",
    "    \n",
    "    z_value = difference / mth.sqrt(p_combined * (1 - p_combined) * (1/second_data[0] + 1/second_data[1]))\n",
    "    \n",
    "    distr = st.norm(0,1)\n",
    "    \n",
    "    p_value = (1 - distr.cdf(abs(z_value))) * 2\n",
    "    \n",
    "    print('p-значение: ', p_value)\n",
    "\n",
    "    if p_value < alpha:\n",
    "        print('Отвергаем нулевую гипотезу: между долями есть значимая разница')\n",
    "    else:\n",
    "        print(\n",
    "            'Не получилось отвергнуть нулевую гипотезу, нет оснований считать доли разными') "
   ]
  },
  {
   "cell_type": "code",
   "execution_count": 31,
   "id": "3b51399f",
   "metadata": {},
   "outputs": [],
   "source": [
    "pizza_l = complete_table.query('size == \"L\"')"
   ]
  },
  {
   "cell_type": "code",
   "execution_count": 32,
   "id": "df6d4e0e",
   "metadata": {},
   "outputs": [],
   "source": [
    "weekendstr = [5,6]\n",
    "weekdays = complete_table.query('weekday not in @weekendstr')\n",
    "weekend = complete_table.query('weekday in @weekendstr')"
   ]
  },
  {
   "cell_type": "code",
   "execution_count": 33,
   "id": "b0cf55b1",
   "metadata": {},
   "outputs": [],
   "source": [
    "count_pizz =[weekend.query('size == \"L\"').quantity.count(),weekdays.query('size == \"L\"').quantity.count()]\n",
    "count_orders = [weekend.order_id.count(),weekdays.order_id.count()]"
   ]
  },
  {
   "cell_type": "code",
   "execution_count": 34,
   "id": "61636d93",
   "metadata": {},
   "outputs": [
    {
     "name": "stdout",
     "output_type": "stream",
     "text": [
      "p-значение:  0.006797178125890202\n",
      "Отвергаем нулевую гипотезу: между долями есть значимая разница\n"
     ]
    }
   ],
   "source": [
    "ztest(count_pizz,count_orders)"
   ]
  },
  {
   "cell_type": "markdown",
   "id": "27636f75",
   "metadata": {},
   "source": [
    "### Гипотеза 2"
   ]
  },
  {
   "cell_type": "markdown",
   "id": "52de016c",
   "metadata": {},
   "source": [
    "H_0 В будни дни заказы пиццы размера M и L равны\n",
    "\n",
    "H_1 В будни дни заказы пиццы размера M и L не равны"
   ]
  },
  {
   "cell_type": "code",
   "execution_count": 35,
   "id": "f2f8740a",
   "metadata": {},
   "outputs": [],
   "source": [
    "count_pizz = [weekdays.query('size == \"M\"').quantity.count(),weekdays.query('size == \"L\"').quantity.count()]\n",
    "count_orders = [weekdays.order_id.count(),weekdays.order_id.count()]"
   ]
  },
  {
   "cell_type": "code",
   "execution_count": 36,
   "id": "bdc08500",
   "metadata": {},
   "outputs": [
    {
     "name": "stdout",
     "output_type": "stream",
     "text": [
      "p-значение:  0.0\n",
      "Отвергаем нулевую гипотезу: между долями есть значимая разница\n"
     ]
    }
   ],
   "source": [
    "ztest(count_pizz,count_orders)"
   ]
  },
  {
   "cell_type": "markdown",
   "id": "a978d2cd",
   "metadata": {},
   "source": [
    "## Общий вывод"
   ]
  },
  {
   "cell_type": "markdown",
   "id": "09ab96f7",
   "metadata": {},
   "source": [
    "Мной были предобработаны данные и проведено исследование.\n",
    "Я выяснил что:\n",
    "\n",
    "1)В день в среднем приходят 135 человек\n",
    "\n",
    "2)Пики активности приходятся на 12 часов, и с 16-19 часов\n",
    "\n",
    "3)Большинство заказов на 1 пиццу, а среднее по заказам ~2, больше 4‐х практически не берут\n",
    "\n",
    "4)Большинство клиентов предпочитают большие пиццы, так же берут средние и маленькие. Пиццы размера XL и XXL практически не берут\n",
    "\n",
    "5)Есть 6 самых популярных пицц - Classic Deluxe Pizza, Barbecue Chicken Pizza, Hawaiian Pizza, Pepperoni Pizza, Thai Chicken Pizza, California Chicken Pizza. Количество покупок данных пицц практически не различается\n",
    "\n",
    "6)Заказы нарастают в течение недели, больше всего их в пятницу затем идёт спад, меньше всего заказов в воскресенье\n",
    "\n",
    "7)Гипотезу, что большую пиццу берут в будни так же часто как и в выходные была отвергнута так как есть статистическая разница\n",
    "\n",
    "8)Гипотезу, что в будние дни пиццы размера М и L берут одинокого была отвергнута так как есть статистическая разница\n",
    "\n",
    "Рекомендации:\n",
    "\n",
    "Для повышения среднего чека я бы посоветовал добавить возможность менять немного пиццы как пример добавить сырный/сосисочный борт, различные топинги\n",
    "\n",
    "Для возможности получать статистику по посетителям я бы предложил сделать аккаунты/карточки пользователей и для повышения retention бонусные балы и дополнительные акции например каждая 10 бесплатна"
   ]
  }
 ],
 "metadata": {
  "kernelspec": {
   "display_name": "Python 3 (ipykernel)",
   "language": "python",
   "name": "python3"
  },
  "language_info": {
   "codemirror_mode": {
    "name": "ipython",
    "version": 3
   },
   "file_extension": ".py",
   "mimetype": "text/x-python",
   "name": "python",
   "nbconvert_exporter": "python",
   "pygments_lexer": "ipython3",
   "version": "3.10.9"
  },
  "toc": {
   "base_numbering": 1,
   "nav_menu": {},
   "number_sections": true,
   "sideBar": true,
   "skip_h1_title": true,
   "title_cell": "Table of Contents",
   "title_sidebar": "Contents",
   "toc_cell": true,
   "toc_position": {
    "height": "calc(100% - 180px)",
    "left": "10px",
    "top": "150px",
    "width": "384px"
   },
   "toc_section_display": true,
   "toc_window_display": false
  }
 },
 "nbformat": 4,
 "nbformat_minor": 5
}
