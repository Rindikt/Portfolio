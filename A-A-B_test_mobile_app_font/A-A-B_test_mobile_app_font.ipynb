{
 "cells": [
  {
   "cell_type": "markdown",
   "id": "f4d42355",
   "metadata": {},
   "source": [
    "# Исследование поведения пользователей на изменение шрифта"
   ]
  },
  {
   "cell_type": "markdown",
   "id": "fd26fcf3",
   "metadata": {},
   "source": [
    "## Описание проекта"
   ]
  },
  {
   "cell_type": "markdown",
   "id": "787d6195",
   "metadata": {},
   "source": [
    "Работая в стартапе(обучение), который продаёт продукты питания. Нужно разобраться, как ведут себя пользователи нашего мобильного приложения. \n",
    "Дизайнеры захотели поменять шрифты во всём приложении но что бы узнать как скажется на приложении нужно провести тесты и принять решение по результатам A/A/B-теста. Пользователей разбили на 3 группы: 2 контрольные со старыми шрифтами и одну экспериментальную — с новыми."
   ]
  },
  {
   "cell_type": "markdown",
   "id": "f1bd7df1",
   "metadata": {},
   "source": [
    "## План задачи"
   ]
  },
  {
   "cell_type": "markdown",
   "id": "114ef254",
   "metadata": {},
   "source": [
    "Подключить библиотеки, и отгрыть данные\n",
    "\n",
    "Подготовить и предобработать данные\n",
    "\n",
    "Изучить и проверить данные\n",
    "\n",
    "Изучить воронку продаж. \n",
    "\n",
    "Изучу результаты эксперимента и провести A/A/B тест"
   ]
  },
  {
   "cell_type": "markdown",
   "id": "a06d7043",
   "metadata": {},
   "source": [
    "## Описание данных"
   ]
  },
  {
   "cell_type": "markdown",
   "id": "45c75751",
   "metadata": {},
   "source": [
    "EventName — название события;\n",
    "\n",
    "DeviceIDHash — уникальный идентификатор пользователя;\n",
    "\n",
    "EventTimestamp — время события;\n",
    "\n",
    "ExpId — номер эксперимента: 246 и 247 — контрольные группы, а 248 — экспериментальная."
   ]
  },
  {
   "cell_type": "markdown",
   "id": "c449a253",
   "metadata": {},
   "source": [
    "# 1 Подготовка данных"
   ]
  },
  {
   "cell_type": "code",
   "execution_count": 67,
   "id": "e85b9365",
   "metadata": {},
   "outputs": [],
   "source": [
    "#  Подключаю библиотеки\n",
    "import pandas as pd\n",
    "import seaborn as sns\n",
    "import matplotlib.pyplot as plt\n",
    "import scipy.stats as stats\n",
    "import numpy as np\n",
    "import math as mth\n",
    "from scipy import stats as st\n",
    "import plotly.express as px\n",
    "import plotly.graph_objects as go"
   ]
  },
  {
   "cell_type": "code",
   "execution_count": 68,
   "id": "5c23ebef",
   "metadata": {},
   "outputs": [],
   "source": [
    "# скачиваем таблицу данных\n",
    "data = pd.read_csv('/MyJypiterNotebook/Yandex/Мобильное_приложение/logs_exp.csv',sep= \"\\t\")"
   ]
  },
  {
   "cell_type": "code",
   "execution_count": 69,
   "id": "f14c857d",
   "metadata": {},
   "outputs": [
    {
     "data": {
      "text/html": [
       "<div>\n",
       "<style scoped>\n",
       "    .dataframe tbody tr th:only-of-type {\n",
       "        vertical-align: middle;\n",
       "    }\n",
       "\n",
       "    .dataframe tbody tr th {\n",
       "        vertical-align: top;\n",
       "    }\n",
       "\n",
       "    .dataframe thead th {\n",
       "        text-align: right;\n",
       "    }\n",
       "</style>\n",
       "<table border=\"1\" class=\"dataframe\">\n",
       "  <thead>\n",
       "    <tr style=\"text-align: right;\">\n",
       "      <th></th>\n",
       "      <th>EventName</th>\n",
       "      <th>DeviceIDHash</th>\n",
       "      <th>EventTimestamp</th>\n",
       "      <th>ExpId</th>\n",
       "    </tr>\n",
       "  </thead>\n",
       "  <tbody>\n",
       "    <tr>\n",
       "      <th>0</th>\n",
       "      <td>MainScreenAppear</td>\n",
       "      <td>4575588528974610257</td>\n",
       "      <td>1564029816</td>\n",
       "      <td>246</td>\n",
       "    </tr>\n",
       "    <tr>\n",
       "      <th>1</th>\n",
       "      <td>MainScreenAppear</td>\n",
       "      <td>7416695313311560658</td>\n",
       "      <td>1564053102</td>\n",
       "      <td>246</td>\n",
       "    </tr>\n",
       "    <tr>\n",
       "      <th>2</th>\n",
       "      <td>PaymentScreenSuccessful</td>\n",
       "      <td>3518123091307005509</td>\n",
       "      <td>1564054127</td>\n",
       "      <td>248</td>\n",
       "    </tr>\n",
       "    <tr>\n",
       "      <th>3</th>\n",
       "      <td>CartScreenAppear</td>\n",
       "      <td>3518123091307005509</td>\n",
       "      <td>1564054127</td>\n",
       "      <td>248</td>\n",
       "    </tr>\n",
       "    <tr>\n",
       "      <th>4</th>\n",
       "      <td>PaymentScreenSuccessful</td>\n",
       "      <td>6217807653094995999</td>\n",
       "      <td>1564055322</td>\n",
       "      <td>248</td>\n",
       "    </tr>\n",
       "  </tbody>\n",
       "</table>\n",
       "</div>"
      ],
      "text/plain": [
       "                 EventName         DeviceIDHash  EventTimestamp  ExpId\n",
       "0         MainScreenAppear  4575588528974610257      1564029816    246\n",
       "1         MainScreenAppear  7416695313311560658      1564053102    246\n",
       "2  PaymentScreenSuccessful  3518123091307005509      1564054127    248\n",
       "3         CartScreenAppear  3518123091307005509      1564054127    248\n",
       "4  PaymentScreenSuccessful  6217807653094995999      1564055322    248"
      ]
     },
     "execution_count": 69,
     "metadata": {},
     "output_type": "execute_result"
    }
   ],
   "source": [
    "data.head(5)"
   ]
  },
  {
   "cell_type": "markdown",
   "id": "3ec3e163",
   "metadata": {},
   "source": [
    "## 2 Подготовлю и предобработаю данные"
   ]
  },
  {
   "cell_type": "code",
   "execution_count": 70,
   "id": "4422cdb6",
   "metadata": {},
   "outputs": [
    {
     "data": {
      "text/html": [
       "<div>\n",
       "<style scoped>\n",
       "    .dataframe tbody tr th:only-of-type {\n",
       "        vertical-align: middle;\n",
       "    }\n",
       "\n",
       "    .dataframe tbody tr th {\n",
       "        vertical-align: top;\n",
       "    }\n",
       "\n",
       "    .dataframe thead th {\n",
       "        text-align: right;\n",
       "    }\n",
       "</style>\n",
       "<table border=\"1\" class=\"dataframe\">\n",
       "  <thead>\n",
       "    <tr style=\"text-align: right;\">\n",
       "      <th></th>\n",
       "      <th>event</th>\n",
       "      <th>user_id</th>\n",
       "      <th>event_time</th>\n",
       "      <th>group</th>\n",
       "    </tr>\n",
       "  </thead>\n",
       "  <tbody>\n",
       "    <tr>\n",
       "      <th>0</th>\n",
       "      <td>MainScreenAppear</td>\n",
       "      <td>4575588528974610257</td>\n",
       "      <td>1564029816</td>\n",
       "      <td>246</td>\n",
       "    </tr>\n",
       "    <tr>\n",
       "      <th>1</th>\n",
       "      <td>MainScreenAppear</td>\n",
       "      <td>7416695313311560658</td>\n",
       "      <td>1564053102</td>\n",
       "      <td>246</td>\n",
       "    </tr>\n",
       "    <tr>\n",
       "      <th>2</th>\n",
       "      <td>PaymentScreenSuccessful</td>\n",
       "      <td>3518123091307005509</td>\n",
       "      <td>1564054127</td>\n",
       "      <td>248</td>\n",
       "    </tr>\n",
       "    <tr>\n",
       "      <th>3</th>\n",
       "      <td>CartScreenAppear</td>\n",
       "      <td>3518123091307005509</td>\n",
       "      <td>1564054127</td>\n",
       "      <td>248</td>\n",
       "    </tr>\n",
       "    <tr>\n",
       "      <th>4</th>\n",
       "      <td>PaymentScreenSuccessful</td>\n",
       "      <td>6217807653094995999</td>\n",
       "      <td>1564055322</td>\n",
       "      <td>248</td>\n",
       "    </tr>\n",
       "  </tbody>\n",
       "</table>\n",
       "</div>"
      ],
      "text/plain": [
       "                     event              user_id  event_time  group\n",
       "0         MainScreenAppear  4575588528974610257  1564029816    246\n",
       "1         MainScreenAppear  7416695313311560658  1564053102    246\n",
       "2  PaymentScreenSuccessful  3518123091307005509  1564054127    248\n",
       "3         CartScreenAppear  3518123091307005509  1564054127    248\n",
       "4  PaymentScreenSuccessful  6217807653094995999  1564055322    248"
      ]
     },
     "execution_count": 70,
     "metadata": {},
     "output_type": "execute_result"
    }
   ],
   "source": [
    "# Делаю более понятные названия\n",
    "data = data.rename(columns = {'EventName':'event','DeviceIDHash':'user_id','EventTimestamp':'event_time','ExpId':'group'})\n",
    "data.head(5)"
   ]
  },
  {
   "cell_type": "code",
   "execution_count": 71,
   "id": "a65d115f",
   "metadata": {},
   "outputs": [
    {
     "data": {
      "text/html": [
       "<div>\n",
       "<style scoped>\n",
       "    .dataframe tbody tr th:only-of-type {\n",
       "        vertical-align: middle;\n",
       "    }\n",
       "\n",
       "    .dataframe tbody tr th {\n",
       "        vertical-align: top;\n",
       "    }\n",
       "\n",
       "    .dataframe thead th {\n",
       "        text-align: right;\n",
       "    }\n",
       "</style>\n",
       "<table border=\"1\" class=\"dataframe\">\n",
       "  <thead>\n",
       "    <tr style=\"text-align: right;\">\n",
       "      <th></th>\n",
       "      <th>event</th>\n",
       "      <th>user_id</th>\n",
       "      <th>event_time</th>\n",
       "      <th>group</th>\n",
       "      <th>data</th>\n",
       "    </tr>\n",
       "  </thead>\n",
       "  <tbody>\n",
       "    <tr>\n",
       "      <th>0</th>\n",
       "      <td>MainScreenAppear</td>\n",
       "      <td>4575588528974610257</td>\n",
       "      <td>2019-07-25 04:43:36</td>\n",
       "      <td>246</td>\n",
       "      <td>2019-07-25</td>\n",
       "    </tr>\n",
       "    <tr>\n",
       "      <th>1</th>\n",
       "      <td>MainScreenAppear</td>\n",
       "      <td>7416695313311560658</td>\n",
       "      <td>2019-07-25 11:11:42</td>\n",
       "      <td>246</td>\n",
       "      <td>2019-07-25</td>\n",
       "    </tr>\n",
       "    <tr>\n",
       "      <th>2</th>\n",
       "      <td>PaymentScreenSuccessful</td>\n",
       "      <td>3518123091307005509</td>\n",
       "      <td>2019-07-25 11:28:47</td>\n",
       "      <td>248</td>\n",
       "      <td>2019-07-25</td>\n",
       "    </tr>\n",
       "    <tr>\n",
       "      <th>3</th>\n",
       "      <td>CartScreenAppear</td>\n",
       "      <td>3518123091307005509</td>\n",
       "      <td>2019-07-25 11:28:47</td>\n",
       "      <td>248</td>\n",
       "      <td>2019-07-25</td>\n",
       "    </tr>\n",
       "    <tr>\n",
       "      <th>4</th>\n",
       "      <td>PaymentScreenSuccessful</td>\n",
       "      <td>6217807653094995999</td>\n",
       "      <td>2019-07-25 11:48:42</td>\n",
       "      <td>248</td>\n",
       "      <td>2019-07-25</td>\n",
       "    </tr>\n",
       "  </tbody>\n",
       "</table>\n",
       "</div>"
      ],
      "text/plain": [
       "                     event              user_id          event_time  group  \\\n",
       "0         MainScreenAppear  4575588528974610257 2019-07-25 04:43:36    246   \n",
       "1         MainScreenAppear  7416695313311560658 2019-07-25 11:11:42    246   \n",
       "2  PaymentScreenSuccessful  3518123091307005509 2019-07-25 11:28:47    248   \n",
       "3         CartScreenAppear  3518123091307005509 2019-07-25 11:28:47    248   \n",
       "4  PaymentScreenSuccessful  6217807653094995999 2019-07-25 11:48:42    248   \n",
       "\n",
       "        data  \n",
       "0 2019-07-25  \n",
       "1 2019-07-25  \n",
       "2 2019-07-25  \n",
       "3 2019-07-25  \n",
       "4 2019-07-25  "
      ]
     },
     "execution_count": 71,
     "metadata": {},
     "output_type": "execute_result"
    }
   ],
   "source": [
    "# Приводим дату/время к более читаймому варианты и выносим дату в отдельный столбец\n",
    "data.event_time\t = pd.to_datetime(data.event_time, unit='s')\n",
    "data['data'] = pd.to_datetime(data.event_time).dt.round('1D')\n",
    "data.head(5)"
   ]
  },
  {
   "cell_type": "code",
   "execution_count": 101,
   "id": "8b221047",
   "metadata": {},
   "outputs": [
    {
     "name": "stdout",
     "output_type": "stream",
     "text": [
      "<class 'pandas.core.frame.DataFrame'>\n",
      "Int64Index: 243713 entries, 0 to 244125\n",
      "Data columns (total 5 columns):\n",
      " #   Column      Non-Null Count   Dtype         \n",
      "---  ------      --------------   -----         \n",
      " 0   event       243713 non-null  object        \n",
      " 1   user_id     243713 non-null  int64         \n",
      " 2   event_time  243713 non-null  datetime64[ns]\n",
      " 3   group       243713 non-null  int64         \n",
      " 4   data        243713 non-null  datetime64[ns]\n",
      "dtypes: datetime64[ns](2), int64(2), object(1)\n",
      "memory usage: 11.2+ MB\n"
     ]
    }
   ],
   "source": [
    "# Проверяю тип танных в таблице\n",
    "data.info()"
   ]
  },
  {
   "cell_type": "code",
   "execution_count": 73,
   "id": "1bbc812d",
   "metadata": {},
   "outputs": [
    {
     "data": {
      "text/plain": [
       "413"
      ]
     },
     "execution_count": 73,
     "metadata": {},
     "output_type": "execute_result"
    }
   ],
   "source": [
    "data.duplicated().sum()"
   ]
  },
  {
   "cell_type": "code",
   "execution_count": 102,
   "id": "fb072569",
   "metadata": {},
   "outputs": [
    {
     "data": {
      "text/plain": [
       "0"
      ]
     },
     "execution_count": 102,
     "metadata": {},
     "output_type": "execute_result"
    }
   ],
   "source": [
    "# Удаляю дубликаты\n",
    "data = data.drop_duplicates()\n",
    "data.duplicated().sum()"
   ]
  },
  {
   "cell_type": "code",
   "execution_count": 103,
   "id": "7ec3b319",
   "metadata": {},
   "outputs": [
    {
     "data": {
      "text/plain": [
       "event         0\n",
       "user_id       0\n",
       "event_time    0\n",
       "group         0\n",
       "data          0\n",
       "dtype: int64"
      ]
     },
     "execution_count": 103,
     "metadata": {},
     "output_type": "execute_result"
    }
   ],
   "source": [
    "# Проверяю пропуски\n",
    "data.isna().sum()"
   ]
  },
  {
   "cell_type": "markdown",
   "id": "eda789b2",
   "metadata": {},
   "source": [
    "### 2.1 Итог"
   ]
  },
  {
   "cell_type": "markdown",
   "id": "82ec5f5a",
   "metadata": {},
   "source": [
    "Посмотрел и обработал данные\n",
    "\n",
    "Привел название колонок а так же дату/время к более читаемому виду, проверил и удалил дубликаты, проверил пропуски"
   ]
  },
  {
   "cell_type": "markdown",
   "id": "8ce12f27",
   "metadata": {},
   "source": [
    "## 3 Изучиаю и проверяю данные"
   ]
  },
  {
   "cell_type": "markdown",
   "id": "32643b5b",
   "metadata": {},
   "source": [
    "### 3.1 Узнаю сколько всего событий в логе"
   ]
  },
  {
   "cell_type": "code",
   "execution_count": 76,
   "id": "0c32ff05",
   "metadata": {},
   "outputs": [
    {
     "name": "stdout",
     "output_type": "stream",
     "text": [
      "Всего событий в логе: 243713\n"
     ]
    }
   ],
   "source": [
    "print('Всего событий в логе:', data.event.count())"
   ]
  },
  {
   "cell_type": "markdown",
   "id": "6470cb94",
   "metadata": {},
   "source": [
    "###  3.2 Узнаю сколько всего пользователей в логе"
   ]
  },
  {
   "cell_type": "code",
   "execution_count": 77,
   "id": "778d7bc0",
   "metadata": {},
   "outputs": [
    {
     "name": "stdout",
     "output_type": "stream",
     "text": [
      "Всего уникальных пользователей в логе 7551\n"
     ]
    }
   ],
   "source": [
    "print('Всего уникальных пользователей в логе', data.user_id\t.nunique())"
   ]
  },
  {
   "cell_type": "markdown",
   "id": "0a192c19",
   "metadata": {},
   "source": [
    "### 3.3 Узнаю cколько в среднем событий приходится на пользователя"
   ]
  },
  {
   "cell_type": "code",
   "execution_count": 78,
   "id": "16014d14",
   "metadata": {},
   "outputs": [
    {
     "name": "stdout",
     "output_type": "stream",
     "text": [
      "среднем на пользователя приходится  32.27559263673685 событий\n"
     ]
    }
   ],
   "source": [
    "print('среднем на пользователя приходится ', data.event.count() / data.user_id.nunique(),'событий')"
   ]
  },
  {
   "cell_type": "markdown",
   "id": "0dc77e1e",
   "metadata": {},
   "source": [
    "### 3.4 Определяю периуд имеющихся данных"
   ]
  },
  {
   "cell_type": "code",
   "execution_count": 79,
   "id": "e7beb5f4",
   "metadata": {},
   "outputs": [
    {
     "name": "stdout",
     "output_type": "stream",
     "text": [
      "Время/дата первого события в наших данных 2019-07-25 04:43:36\n",
      "Время/дата последнего события в наших данных 2019-08-07 21:15:17\n"
     ]
    }
   ],
   "source": [
    "print('Время/дата первого события в наших данных', data.event_time.min())\n",
    "print('Время/дата последнего события в наших данных', data.event_time.max())"
   ]
  },
  {
   "cell_type": "code",
   "execution_count": 80,
   "id": "2a9f1e7c",
   "metadata": {},
   "outputs": [
    {
     "data": {
      "image/png": "[encoded data removed]",
      "text/plain": [
       "<Figure size 1600x500 with 1 Axes>"
      ]
     },
     "metadata": {},
     "output_type": "display_data"
    }
   ],
   "source": [
    "plt.figure(figsize=(16,5))\n",
    "sns.histplot(data = data, x = 'event_time')\n",
    "plt.title('График событий')\n",
    "plt.show()"
   ]
  },
  {
   "cell_type": "markdown",
   "id": "9739bc57",
   "metadata": {},
   "source": [
    "На графике мы отчетливо видим сезонность и что данные до 1го числа пользы никакой нам не несут и полноценные данные у нас только за 7 дней"
   ]
  },
  {
   "cell_type": "markdown",
   "id": "5102d549",
   "metadata": {},
   "source": [
    "### 3.5 Убираю не актуальные данные "
   ]
  },
  {
   "cell_type": "code",
   "execution_count": 81,
   "id": "1efdac91",
   "metadata": {},
   "outputs": [],
   "source": [
    "actual_data = data.query('data >= \"2019-08-01\"')"
   ]
  },
  {
   "cell_type": "code",
   "execution_count": 82,
   "id": "4c421f56",
   "metadata": {},
   "outputs": [
    {
     "data": {
      "image/png": "[encoded data removed]",
      "text/plain": [
       "<Figure size 1600x500 with 1 Axes>"
      ]
     },
     "metadata": {},
     "output_type": "display_data"
    }
   ],
   "source": [
    "# Проверю что у нас получилось на графике\n",
    "plt.figure(figsize=(16,5))\n",
    "sns.histplot(data = actual_data, x = 'event_time')\n",
    "plt.show()"
   ]
  },
  {
   "cell_type": "markdown",
   "id": "08836f02",
   "metadata": {},
   "source": [
    "всё так же видим сезонность и судя по всему ночью совершают мало действий в нашем приложении"
   ]
  },
  {
   "cell_type": "markdown",
   "id": "b1491f20",
   "metadata": {},
   "source": [
    "### 3.6 Проверяю много ли событий и пользователей мы потеряли, отбросив старые данные"
   ]
  },
  {
   "cell_type": "code",
   "execution_count": 83,
   "id": "25db892b",
   "metadata": {},
   "outputs": [
    {
     "data": {
      "text/plain": [
       "MainScreenAppear           119101\n",
       "OffersScreenAppear          46808\n",
       "CartScreenAppear            42668\n",
       "PaymentScreenSuccessful     34118\n",
       "Tutorial                     1018\n",
       "Name: event, dtype: int64"
      ]
     },
     "execution_count": 83,
     "metadata": {},
     "output_type": "execute_result"
    }
   ],
   "source": [
    "data_funnel = data.event.value_counts()\n",
    "data_funnel"
   ]
  },
  {
   "cell_type": "code",
   "execution_count": 84,
   "id": "85f48107",
   "metadata": {},
   "outputs": [
    {
     "name": "stdout",
     "output_type": "stream",
     "text": [
      "Событий было:  243713\n",
      "Пользователей было:  7551\n",
      "Событий после того как отбросили данные:  242554\n",
      "Пользователей после того как отбросили данные:  7542\n",
      "Изменение количества событий: -0.5%\n",
      "Изменение количества пользователей: -0.1%\n"
     ]
    }
   ],
   "source": [
    "print('Событий было: ', data.shape[0])\n",
    "print('Пользователей было: ',data['user_id'].nunique())\n",
    "print('Событий после того как отбросили данные: ', actual_data.shape[0])\n",
    "print('Пользователей после того как отбросили данные: ',actual_data['user_id'].nunique())\n",
    "print('Изменение количества событий: ''{:.1%}'.format((actual_data.shape[0]-data.shape[0])/data.shape[0]))\n",
    "print('Изменение количества пользователей: ''{:.1%}'.format((actual_data['user_id'].nunique()-data['user_id'].nunique())/data['user_id'].nunique()))"
   ]
  },
  {
   "cell_type": "markdown",
   "id": "c6b0038d",
   "metadata": {},
   "source": [
    "### 3.7 Проверю, что у нас есть пользователи из всех трёх экспериментальных групп."
   ]
  },
  {
   "cell_type": "code",
   "execution_count": 85,
   "id": "4913d658",
   "metadata": {},
   "outputs": [
    {
     "data": {
      "text/html": [
       "<div>\n",
       "<style scoped>\n",
       "    .dataframe tbody tr th:only-of-type {\n",
       "        vertical-align: middle;\n",
       "    }\n",
       "\n",
       "    .dataframe tbody tr th {\n",
       "        vertical-align: top;\n",
       "    }\n",
       "\n",
       "    .dataframe thead th {\n",
       "        text-align: right;\n",
       "    }\n",
       "</style>\n",
       "<table border=\"1\" class=\"dataframe\">\n",
       "  <thead>\n",
       "    <tr style=\"text-align: right;\">\n",
       "      <th></th>\n",
       "      <th>user_id</th>\n",
       "    </tr>\n",
       "    <tr>\n",
       "      <th>group</th>\n",
       "      <th></th>\n",
       "    </tr>\n",
       "  </thead>\n",
       "  <tbody>\n",
       "    <tr>\n",
       "      <th>246</th>\n",
       "      <td>2485</td>\n",
       "    </tr>\n",
       "    <tr>\n",
       "      <th>247</th>\n",
       "      <td>2517</td>\n",
       "    </tr>\n",
       "    <tr>\n",
       "      <th>248</th>\n",
       "      <td>2540</td>\n",
       "    </tr>\n",
       "  </tbody>\n",
       "</table>\n",
       "</div>"
      ],
      "text/plain": [
       "       user_id\n",
       "group         \n",
       "246       2485\n",
       "247       2517\n",
       "248       2540"
      ]
     },
     "execution_count": 85,
     "metadata": {},
     "output_type": "execute_result"
    }
   ],
   "source": [
    "actual_data.groupby('group')['user_id'].nunique().to_frame()"
   ]
  },
  {
   "cell_type": "markdown",
   "id": "b59d8a9b",
   "metadata": {},
   "source": [
    "### 3.8 Итог"
   ]
  },
  {
   "cell_type": "markdown",
   "id": "b3fb0a76",
   "metadata": {},
   "source": [
    "Изучил данные, исследование началось 019-07-25 и сколько оно длилось 14 дней до 2019-08-07, убрал не актуальные данные осталась от наблюдений только неделя, проверил наличие пользователей из 3х тестовых групп"
   ]
  },
  {
   "cell_type": "markdown",
   "id": "38275084",
   "metadata": {},
   "source": [
    "## 4 Изучу воронку событий"
   ]
  },
  {
   "cell_type": "code",
   "execution_count": 86,
   "id": "0c4f0c4f",
   "metadata": {},
   "outputs": [
    {
     "data": {
      "text/html": [
       "<div>\n",
       "<style scoped>\n",
       "    .dataframe tbody tr th:only-of-type {\n",
       "        vertical-align: middle;\n",
       "    }\n",
       "\n",
       "    .dataframe tbody tr th {\n",
       "        vertical-align: top;\n",
       "    }\n",
       "\n",
       "    .dataframe thead th {\n",
       "        text-align: right;\n",
       "    }\n",
       "</style>\n",
       "<table border=\"1\" class=\"dataframe\">\n",
       "  <thead>\n",
       "    <tr style=\"text-align: right;\">\n",
       "      <th></th>\n",
       "      <th>event</th>\n",
       "      <th>user_id</th>\n",
       "    </tr>\n",
       "  </thead>\n",
       "  <tbody>\n",
       "    <tr>\n",
       "      <th>1</th>\n",
       "      <td>MainScreenAppear</td>\n",
       "      <td>118320</td>\n",
       "    </tr>\n",
       "    <tr>\n",
       "      <th>2</th>\n",
       "      <td>OffersScreenAppear</td>\n",
       "      <td>46667</td>\n",
       "    </tr>\n",
       "    <tr>\n",
       "      <th>0</th>\n",
       "      <td>CartScreenAppear</td>\n",
       "      <td>42518</td>\n",
       "    </tr>\n",
       "    <tr>\n",
       "      <th>3</th>\n",
       "      <td>PaymentScreenSuccessful</td>\n",
       "      <td>34036</td>\n",
       "    </tr>\n",
       "    <tr>\n",
       "      <th>4</th>\n",
       "      <td>Tutorial</td>\n",
       "      <td>1013</td>\n",
       "    </tr>\n",
       "  </tbody>\n",
       "</table>\n",
       "</div>"
      ],
      "text/plain": [
       "                     event  user_id\n",
       "1         MainScreenAppear   118320\n",
       "2       OffersScreenAppear    46667\n",
       "0         CartScreenAppear    42518\n",
       "3  PaymentScreenSuccessful    34036\n",
       "4                 Tutorial     1013"
      ]
     },
     "execution_count": 86,
     "metadata": {},
     "output_type": "execute_result"
    }
   ],
   "source": [
    "actual_data_funnel = actual_data.groupby('event',as_index= False) \\\n",
    "                    .agg({'user_id':'count'}) \\\n",
    "                    .rename(columns = {'count':'count_users'}).sort_values(by = 'user_id', ascending = False)\n",
    "actual_data_funnel"
   ]
  },
  {
   "cell_type": "markdown",
   "id": "0417ef3a",
   "metadata": {},
   "source": [
    "У меня есть 5 событий\n",
    "\n",
    "1) Появление главного экрана\n",
    "\n",
    "2) Появление экрана предложений\n",
    "\n",
    "3) Появление экрана корзины\n",
    "\n",
    "4) Экран оплаты успешно\n",
    "\n",
    "5) Руководство\n",
    "\n",
    "Тут видна воронка событий начиная с главного экрана и заканчивая успешной оплатой. Tutorial\tя считаю не обязательным эвентом и им пользуются только те кто плохо ориентируется в подобных приложениях а опытным пользователям оно ни к чему."
   ]
  },
  {
   "cell_type": "code",
   "execution_count": 87,
   "id": "35d15b70",
   "metadata": {},
   "outputs": [],
   "source": [
    "def get_event_count(event):\n",
    "    count_uniq_users = actual_data[actual_data['event']==event]['user_id'].nunique()\n",
    "    return count_uniq_users"
   ]
  },
  {
   "cell_type": "code",
   "execution_count": 88,
   "id": "c6a63abd",
   "metadata": {},
   "outputs": [
    {
     "name": "stderr",
     "output_type": "stream",
     "text": [
      "C:\\Users\\Риндикт\\AppData\\Local\\Temp\\ipykernel_19232\\2020809024.py:4: SettingWithCopyWarning:\n",
      "\n",
      "\n",
      "A value is trying to be set on a copy of a slice from a DataFrame.\n",
      "Try using .loc[row_indexer,col_indexer] = value instead\n",
      "\n",
      "See the caveats in the documentation: https://pandas.pydata.org/pandas-docs/stable/user_guide/indexing.html#returning-a-view-versus-a-copy\n",
      "\n",
      "C:\\Users\\Риндикт\\AppData\\Local\\Temp\\ipykernel_19232\\2020809024.py:5: SettingWithCopyWarning:\n",
      "\n",
      "\n",
      "A value is trying to be set on a copy of a slice from a DataFrame.\n",
      "Try using .loc[row_indexer,col_indexer] = value instead\n",
      "\n",
      "See the caveats in the documentation: https://pandas.pydata.org/pandas-docs/stable/user_guide/indexing.html#returning-a-view-versus-a-copy\n",
      "\n",
      "C:\\Users\\Риндикт\\AppData\\Local\\Temp\\ipykernel_19232\\2020809024.py:6: SettingWithCopyWarning:\n",
      "\n",
      "\n",
      "A value is trying to be set on a copy of a slice from a DataFrame.\n",
      "Try using .loc[row_indexer,col_indexer] = value instead\n",
      "\n",
      "See the caveats in the documentation: https://pandas.pydata.org/pandas-docs/stable/user_guide/indexing.html#returning-a-view-versus-a-copy\n",
      "\n"
     ]
    },
    {
     "data": {
      "text/html": [
       "<div>\n",
       "<style scoped>\n",
       "    .dataframe tbody tr th:only-of-type {\n",
       "        vertical-align: middle;\n",
       "    }\n",
       "\n",
       "    .dataframe tbody tr th {\n",
       "        vertical-align: top;\n",
       "    }\n",
       "\n",
       "    .dataframe thead th {\n",
       "        text-align: right;\n",
       "    }\n",
       "</style>\n",
       "<table border=\"1\" class=\"dataframe\">\n",
       "  <thead>\n",
       "    <tr style=\"text-align: right;\">\n",
       "      <th></th>\n",
       "      <th>event</th>\n",
       "      <th>user_id</th>\n",
       "      <th>uniq_users</th>\n",
       "      <th>share_users_nexl_funnel</th>\n",
       "      <th>share_of_all</th>\n",
       "    </tr>\n",
       "  </thead>\n",
       "  <tbody>\n",
       "    <tr>\n",
       "      <th>1</th>\n",
       "      <td>MainScreenAppear</td>\n",
       "      <td>118320</td>\n",
       "      <td>7429</td>\n",
       "      <td>NaN</td>\n",
       "      <td>1.000000</td>\n",
       "    </tr>\n",
       "    <tr>\n",
       "      <th>2</th>\n",
       "      <td>OffersScreenAppear</td>\n",
       "      <td>46667</td>\n",
       "      <td>4603</td>\n",
       "      <td>0.620</td>\n",
       "      <td>0.619599</td>\n",
       "    </tr>\n",
       "    <tr>\n",
       "      <th>0</th>\n",
       "      <td>CartScreenAppear</td>\n",
       "      <td>42518</td>\n",
       "      <td>3741</td>\n",
       "      <td>0.813</td>\n",
       "      <td>0.503567</td>\n",
       "    </tr>\n",
       "    <tr>\n",
       "      <th>3</th>\n",
       "      <td>PaymentScreenSuccessful</td>\n",
       "      <td>34036</td>\n",
       "      <td>3542</td>\n",
       "      <td>0.947</td>\n",
       "      <td>0.476780</td>\n",
       "    </tr>\n",
       "  </tbody>\n",
       "</table>\n",
       "</div>"
      ],
      "text/plain": [
       "                     event  user_id  uniq_users  share_users_nexl_funnel  \\\n",
       "1         MainScreenAppear   118320        7429                      NaN   \n",
       "2       OffersScreenAppear    46667        4603                    0.620   \n",
       "0         CartScreenAppear    42518        3741                    0.813   \n",
       "3  PaymentScreenSuccessful    34036        3542                    0.947   \n",
       "\n",
       "   share_of_all  \n",
       "1      1.000000  \n",
       "2      0.619599  \n",
       "0      0.503567  \n",
       "3      0.476780  "
      ]
     },
     "execution_count": 88,
     "metadata": {},
     "output_type": "execute_result"
    }
   ],
   "source": [
    "# Убираю Tutorial так как он побочное событие и не влияет на воронку\n",
    "\n",
    "actual_data_funnel = actual_data_funnel.query('event != \"Tutorial\"')\n",
    "actual_data_funnel['uniq_users'] = actual_data_funnel.event.apply(get_event_count)\n",
    "actual_data_funnel['share_users_nexl_funnel'] = round(actual_data_funnel['uniq_users']/actual_data_funnel['uniq_users'].shift(1),3)\n",
    "actual_data_funnel['share_of_all'] = actual_data_funnel['uniq_users']/actual_data_funnel['uniq_users'].max()\n",
    "actual_data_funnel"
   ]
  },
  {
   "cell_type": "markdown",
   "id": "ab89f103",
   "metadata": {},
   "source": [
    "Больше всего пользователей мы теряем на 2ой воронке ( переходе с главного экрана на экран предложений) переходят 62%\n",
    "\n",
    "А доля дошедших от главного экрана до оплаты составляет ~48%"
   ]
  },
  {
   "cell_type": "code",
   "execution_count": 89,
   "id": "95da43a3",
   "metadata": {},
   "outputs": [
    {
     "data": {
      "application/vnd.plotly.v1+json": {
       "config": {
        "plotlyServerURL": "https://plot.ly"
       },
       "data": [
        {
         "textinfo": "value+percent previous",
         "textposition": "inside",
         "type": "funnel",
         "x": [
          7429,
          4603,
          3741,
          3542
         ],
         "y": [
          "MainScreenAppear",
          "OffersScreenAppear",
          "CartScreenAppear",
          "PaymentScreenSuccessful"
         ]
        }
       ],
       "layout": {
        "template": {
         "data": {
          "bar": [
           {
            "error_x": {
             "color": "#2a3f5f"
            },
            "error_y": {
             "color": "#2a3f5f"
            },
            "marker": {
             "line": {
              "color": "#E5ECF6",
              "width": 0.5
             },
             "pattern": {
              "fillmode": "overlay",
              "size": 10,
              "solidity": 0.2
             }
            },
            "type": "bar"
           }
          ],
          "barpolar": [
           {
            "marker": {
             "line": {
              "color": "#E5ECF6",
              "width": 0.5
             },
             "pattern": {
              "fillmode": "overlay",
              "size": 10,
              "solidity": 0.2
             }
            },
            "type": "barpolar"
           }
          ],
          "carpet": [
           {
            "aaxis": {
             "endlinecolor": "#2a3f5f",
             "gridcolor": "white",
             "linecolor": "white",
             "minorgridcolor": "white",
             "startlinecolor": "#2a3f5f"
            },
            "baxis": {
             "endlinecolor": "#2a3f5f",
             "gridcolor": "white",
             "linecolor": "white",
             "minorgridcolor": "white",
             "startlinecolor": "#2a3f5f"
            },
            "type": "carpet"
           }
          ],
          "choropleth": [
           {
            "colorbar": {
             "outlinewidth": 0,
             "ticks": ""
            },
            "type": "choropleth"
           }
          ],
          "contour": [
           {
            "colorbar": {
             "outlinewidth": 0,
             "ticks": ""
            },
            "colorscale": [
             [
              0,
              "#0d0887"
             ],
             [
              0.1111111111111111,
              "#46039f"
             ],
             [
              0.2222222222222222,
              "#7201a8"
             ],
             [
              0.3333333333333333,
              "#9c179e"
             ],
             [
              0.4444444444444444,
              "#bd3786"
             ],
             [
              0.5555555555555556,
              "#d8576b"
             ],
             [
              0.6666666666666666,
              "#ed7953"
             ],
             [
              0.7777777777777778,
              "#fb9f3a"
             ],
             [
              0.8888888888888888,
              "#fdca26"
             ],
             [
              1,
              "#f0f921"
             ]
            ],
            "type": "contour"
           }
          ],
          "contourcarpet": [
           {
            "colorbar": {
             "outlinewidth": 0,
             "ticks": ""
            },
            "type": "contourcarpet"
           }
          ],
          "heatmap": [
           {
            "colorbar": {
             "outlinewidth": 0,
             "ticks": ""
            },
            "colorscale": [
             [
              0,
              "#0d0887"
             ],
             [
              0.1111111111111111,
              "#46039f"
             ],
             [
              0.2222222222222222,
              "#7201a8"
             ],
             [
              0.3333333333333333,
              "#9c179e"
             ],
             [
              0.4444444444444444,
              "#bd3786"
             ],
             [
              0.5555555555555556,
              "#d8576b"
             ],
             [
              0.6666666666666666,
              "#ed7953"
             ],
             [
              0.7777777777777778,
              "#fb9f3a"
             ],
             [
              0.8888888888888888,
              "#fdca26"
             ],
             [
              1,
              "#f0f921"
             ]
            ],
            "type": "heatmap"
           }
          ],
          "heatmapgl": [
           {
            "colorbar": {
             "outlinewidth": 0,
             "ticks": ""
            },
            "colorscale": [
             [
              0,
              "#0d0887"
             ],
             [
              0.1111111111111111,
              "#46039f"
             ],
             [
              0.2222222222222222,
              "#7201a8"
             ],
             [
              0.3333333333333333,
              "#9c179e"
             ],
             [
              0.4444444444444444,
              "#bd3786"
             ],
             [
              0.5555555555555556,
              "#d8576b"
             ],
             [
              0.6666666666666666,
              "#ed7953"
             ],
             [
              0.7777777777777778,
              "#fb9f3a"
             ],
             [
              0.8888888888888888,
              "#fdca26"
             ],
             [
              1,
              "#f0f921"
             ]
            ],
            "type": "heatmapgl"
           }
          ],
          "histogram": [
           {
            "marker": {
             "pattern": {
              "fillmode": "overlay",
              "size": 10,
              "solidity": 0.2
             }
            },
            "type": "histogram"
           }
          ],
          "histogram2d": [
           {
            "colorbar": {
             "outlinewidth": 0,
             "ticks": ""
            },
            "colorscale": [
             [
              0,
              "#0d0887"
             ],
             [
              0.1111111111111111,
              "#46039f"
             ],
             [
              0.2222222222222222,
              "#7201a8"
             ],
             [
              0.3333333333333333,
              "#9c179e"
             ],
             [
              0.4444444444444444,
              "#bd3786"
             ],
             [
              0.5555555555555556,
              "#d8576b"
             ],
             [
              0.6666666666666666,
              "#ed7953"
             ],
             [
              0.7777777777777778,
              "#fb9f3a"
             ],
             [
              0.8888888888888888,
              "#fdca26"
             ],
             [
              1,
              "#f0f921"
             ]
            ],
            "type": "histogram2d"
           }
          ],
          "histogram2dcontour": [
           {
            "colorbar": {
             "outlinewidth": 0,
             "ticks": ""
            },
            "colorscale": [
             [
              0,
              "#0d0887"
             ],
             [
              0.1111111111111111,
              "#46039f"
             ],
             [
              0.2222222222222222,
              "#7201a8"
             ],
             [
              0.3333333333333333,
              "#9c179e"
             ],
             [
              0.4444444444444444,
              "#bd3786"
             ],
             [
              0.5555555555555556,
              "#d8576b"
             ],
             [
              0.6666666666666666,
              "#ed7953"
             ],
             [
              0.7777777777777778,
              "#fb9f3a"
             ],
             [
              0.8888888888888888,
              "#fdca26"
             ],
             [
              1,
              "#f0f921"
             ]
            ],
            "type": "histogram2dcontour"
           }
          ],
          "mesh3d": [
           {
            "colorbar": {
             "outlinewidth": 0,
             "ticks": ""
            },
            "type": "mesh3d"
           }
          ],
          "parcoords": [
           {
            "line": {
             "colorbar": {
              "outlinewidth": 0,
              "ticks": ""
             }
            },
            "type": "parcoords"
           }
          ],
          "pie": [
           {
            "automargin": true,
            "type": "pie"
           }
          ],
          "scatter": [
           {
            "fillpattern": {
             "fillmode": "overlay",
             "size": 10,
             "solidity": 0.2
            },
            "type": "scatter"
           }
          ],
          "scatter3d": [
           {
            "line": {
             "colorbar": {
              "outlinewidth": 0,
              "ticks": ""
             }
            },
            "marker": {
             "colorbar": {
              "outlinewidth": 0,
              "ticks": ""
             }
            },
            "type": "scatter3d"
           }
          ],
          "scattercarpet": [
           {
            "marker": {
             "colorbar": {
              "outlinewidth": 0,
              "ticks": ""
             }
            },
            "type": "scattercarpet"
           }
          ],
          "scattergeo": [
           {
            "marker": {
             "colorbar": {
              "outlinewidth": 0,
              "ticks": ""
             }
            },
            "type": "scattergeo"
           }
          ],
          "scattergl": [
           {
            "marker": {
             "colorbar": {
              "outlinewidth": 0,
              "ticks": ""
             }
            },
            "type": "scattergl"
           }
          ],
          "scattermapbox": [
           {
            "marker": {
             "colorbar": {
              "outlinewidth": 0,
              "ticks": ""
             }
            },
            "type": "scattermapbox"
           }
          ],
          "scatterpolar": [
           {
            "marker": {
             "colorbar": {
              "outlinewidth": 0,
              "ticks": ""
             }
            },
            "type": "scatterpolar"
           }
          ],
          "scatterpolargl": [
           {
            "marker": {
             "colorbar": {
              "outlinewidth": 0,
              "ticks": ""
             }
            },
            "type": "scatterpolargl"
           }
          ],
          "scatterternary": [
           {
            "marker": {
             "colorbar": {
              "outlinewidth": 0,
              "ticks": ""
             }
            },
            "type": "scatterternary"
           }
          ],
          "surface": [
           {
            "colorbar": {
             "outlinewidth": 0,
             "ticks": ""
            },
            "colorscale": [
             [
              0,
              "#0d0887"
             ],
             [
              0.1111111111111111,
              "#46039f"
             ],
             [
              0.2222222222222222,
              "#7201a8"
             ],
             [
              0.3333333333333333,
              "#9c179e"
             ],
             [
              0.4444444444444444,
              "#bd3786"
             ],
             [
              0.5555555555555556,
              "#d8576b"
             ],
             [
              0.6666666666666666,
              "#ed7953"
             ],
             [
              0.7777777777777778,
              "#fb9f3a"
             ],
             [
              0.8888888888888888,
              "#fdca26"
             ],
             [
              1,
              "#f0f921"
             ]
            ],
            "type": "surface"
           }
          ],
          "table": [
           {
            "cells": {
             "fill": {
              "color": "#EBF0F8"
             },
             "line": {
              "color": "white"
             }
            },
            "header": {
             "fill": {
              "color": "#C8D4E3"
             },
             "line": {
              "color": "white"
             }
            },
            "type": "table"
           }
          ]
         },
         "layout": {
          "annotationdefaults": {
           "arrowcolor": "#2a3f5f",
           "arrowhead": 0,
           "arrowwidth": 1
          },
          "autotypenumbers": "strict",
          "coloraxis": {
           "colorbar": {
            "outlinewidth": 0,
            "ticks": ""
           }
          },
          "colorscale": {
           "diverging": [
            [
             0,
             "#8e0152"
            ],
            [
             0.1,
             "#c51b7d"
            ],
            [
             0.2,
             "#de77ae"
            ],
            [
             0.3,
             "#f1b6da"
            ],
            [
             0.4,
             "#fde0ef"
            ],
            [
             0.5,
             "#f7f7f7"
            ],
            [
             0.6,
             "#e6f5d0"
            ],
            [
             0.7,
             "#b8e186"
            ],
            [
             0.8,
             "#7fbc41"
            ],
            [
             0.9,
             "#4d9221"
            ],
            [
             1,
             "#276419"
            ]
           ],
           "sequential": [
            [
             0,
             "#0d0887"
            ],
            [
             0.1111111111111111,
             "#46039f"
            ],
            [
             0.2222222222222222,
             "#7201a8"
            ],
            [
             0.3333333333333333,
             "#9c179e"
            ],
            [
             0.4444444444444444,
             "#bd3786"
            ],
            [
             0.5555555555555556,
             "#d8576b"
            ],
            [
             0.6666666666666666,
             "#ed7953"
            ],
            [
             0.7777777777777778,
             "#fb9f3a"
            ],
            [
             0.8888888888888888,
             "#fdca26"
            ],
            [
             1,
             "#f0f921"
            ]
           ],
           "sequentialminus": [
            [
             0,
             "#0d0887"
            ],
            [
             0.1111111111111111,
             "#46039f"
            ],
            [
             0.2222222222222222,
             "#7201a8"
            ],
            [
             0.3333333333333333,
             "#9c179e"
            ],
            [
             0.4444444444444444,
             "#bd3786"
            ],
            [
             0.5555555555555556,
             "#d8576b"
            ],
            [
             0.6666666666666666,
             "#ed7953"
            ],
            [
             0.7777777777777778,
             "#fb9f3a"
            ],
            [
             0.8888888888888888,
             "#fdca26"
            ],
            [
             1,
             "#f0f921"
            ]
           ]
          },
          "colorway": [
           "#636efa",
           "#EF553B",
           "#00cc96",
           "#ab63fa",
           "#FFA15A",
           "#19d3f3",
           "#FF6692",
           "#B6E880",
           "#FF97FF",
           "#FECB52"
          ],
          "font": {
           "color": "#2a3f5f"
          },
          "geo": {
           "bgcolor": "white",
           "lakecolor": "white",
           "landcolor": "#E5ECF6",
           "showlakes": true,
           "showland": true,
           "subunitcolor": "white"
          },
          "hoverlabel": {
           "align": "left"
          },
          "hovermode": "closest",
          "mapbox": {
           "style": "light"
          },
          "paper_bgcolor": "white",
          "plot_bgcolor": "#E5ECF6",
          "polar": {
           "angularaxis": {
            "gridcolor": "white",
            "linecolor": "white",
            "ticks": ""
           },
           "bgcolor": "#E5ECF6",
           "radialaxis": {
            "gridcolor": "white",
            "linecolor": "white",
            "ticks": ""
           }
          },
          "scene": {
           "xaxis": {
            "backgroundcolor": "#E5ECF6",
            "gridcolor": "white",
            "gridwidth": 2,
            "linecolor": "white",
            "showbackground": true,
            "ticks": "",
            "zerolinecolor": "white"
           },
           "yaxis": {
            "backgroundcolor": "#E5ECF6",
            "gridcolor": "white",
            "gridwidth": 2,
            "linecolor": "white",
            "showbackground": true,
            "ticks": "",
            "zerolinecolor": "white"
           },
           "zaxis": {
            "backgroundcolor": "#E5ECF6",
            "gridcolor": "white",
            "gridwidth": 2,
            "linecolor": "white",
            "showbackground": true,
            "ticks": "",
            "zerolinecolor": "white"
           }
          },
          "shapedefaults": {
           "line": {
            "color": "#2a3f5f"
           }
          },
          "ternary": {
           "aaxis": {
            "gridcolor": "white",
            "linecolor": "white",
            "ticks": ""
           },
           "baxis": {
            "gridcolor": "white",
            "linecolor": "white",
            "ticks": ""
           },
           "bgcolor": "#E5ECF6",
           "caxis": {
            "gridcolor": "white",
            "linecolor": "white",
            "ticks": ""
           }
          },
          "title": {
           "x": 0.05
          },
          "xaxis": {
           "automargin": true,
           "gridcolor": "white",
           "linecolor": "white",
           "ticks": "",
           "title": {
            "standoff": 15
           },
           "zerolinecolor": "white",
           "zerolinewidth": 2
          },
          "yaxis": {
           "automargin": true,
           "gridcolor": "white",
           "linecolor": "white",
           "ticks": "",
           "title": {
            "standoff": 15
           },
           "zerolinecolor": "white",
           "zerolinewidth": 2
          }
         }
        },
        "title": {
         "text": "Воронка от гравного экрана до оплаты",
         "x": 0.5
        }
       }
      },
      "text/html": [
       "<div>                            <div id=\"c1ed83ae-2de5-45f8-99c5-46c3b1b26452\" class=\"plotly-graph-div\" style=\"height:525px; width:100%;\"></div>            <script type=\"text/javascript\">                require([\"plotly\"], function(Plotly) {                    window.PLOTLYENV=window.PLOTLYENV || {};                                    if (document.getElementById(\"c1ed83ae-2de5-45f8-99c5-46c3b1b26452\")) {                    Plotly.newPlot(                        \"c1ed83ae-2de5-45f8-99c5-46c3b1b26452\",                        [{\"textinfo\":\"value+percent previous\",\"textposition\":\"inside\",\"x\":[7429,4603,3741,3542],\"y\":[\"MainScreenAppear\",\"OffersScreenAppear\",\"CartScreenAppear\",\"PaymentScreenSuccessful\"],\"type\":\"funnel\"}],                        {\"template\":{\"data\":{\"histogram2dcontour\":[{\"type\":\"histogram2dcontour\",\"colorbar\":{\"outlinewidth\":0,\"ticks\":\"\"},\"colorscale\":[[0.0,\"#0d0887\"],[0.1111111111111111,\"#46039f\"],[0.2222222222222222,\"#7201a8\"],[0.3333333333333333,\"#9c179e\"],[0.4444444444444444,\"#bd3786\"],[0.5555555555555556,\"#d8576b\"],[0.6666666666666666,\"#ed7953\"],[0.7777777777777778,\"#fb9f3a\"],[0.8888888888888888,\"#fdca26\"],[1.0,\"#f0f921\"]]}],\"choropleth\":[{\"type\":\"choropleth\",\"colorbar\":{\"outlinewidth\":0,\"ticks\":\"\"}}],\"histogram2d\":[{\"type\":\"histogram2d\",\"colorbar\":{\"outlinewidth\":0,\"ticks\":\"\"},\"colorscale\":[[0.0,\"#0d0887\"],[0.1111111111111111,\"#46039f\"],[0.2222222222222222,\"#7201a8\"],[0.3333333333333333,\"#9c179e\"],[0.4444444444444444,\"#bd3786\"],[0.5555555555555556,\"#d8576b\"],[0.6666666666666666,\"#ed7953\"],[0.7777777777777778,\"#fb9f3a\"],[0.8888888888888888,\"#fdca26\"],[1.0,\"#f0f921\"]]}],\"heatmap\":[{\"type\":\"heatmap\",\"colorbar\":{\"outlinewidth\":0,\"ticks\":\"\"},\"colorscale\":[[0.0,\"#0d0887\"],[0.1111111111111111,\"#46039f\"],[0.2222222222222222,\"#7201a8\"],[0.3333333333333333,\"#9c179e\"],[0.4444444444444444,\"#bd3786\"],[0.5555555555555556,\"#d8576b\"],[0.6666666666666666,\"#ed7953\"],[0.7777777777777778,\"#fb9f3a\"],[0.8888888888888888,\"#fdca26\"],[1.0,\"#f0f921\"]]}],\"heatmapgl\":[{\"type\":\"heatmapgl\",\"colorbar\":{\"outlinewidth\":0,\"ticks\":\"\"},\"colorscale\":[[0.0,\"#0d0887\"],[0.1111111111111111,\"#46039f\"],[0.2222222222222222,\"#7201a8\"],[0.3333333333333333,\"#9c179e\"],[0.4444444444444444,\"#bd3786\"],[0.5555555555555556,\"#d8576b\"],[0.6666666666666666,\"#ed7953\"],[0.7777777777777778,\"#fb9f3a\"],[0.8888888888888888,\"#fdca26\"],[1.0,\"#f0f921\"]]}],\"contourcarpet\":[{\"type\":\"contourcarpet\",\"colorbar\":{\"outlinewidth\":0,\"ticks\":\"\"}}],\"contour\":[{\"type\":\"contour\",\"colorbar\":{\"outlinewidth\":0,\"ticks\":\"\"},\"colorscale\":[[0.0,\"#0d0887\"],[0.1111111111111111,\"#46039f\"],[0.2222222222222222,\"#7201a8\"],[0.3333333333333333,\"#9c179e\"],[0.4444444444444444,\"#bd3786\"],[0.5555555555555556,\"#d8576b\"],[0.6666666666666666,\"#ed7953\"],[0.7777777777777778,\"#fb9f3a\"],[0.8888888888888888,\"#fdca26\"],[1.0,\"#f0f921\"]]}],\"surface\":[{\"type\":\"surface\",\"colorbar\":{\"outlinewidth\":0,\"ticks\":\"\"},\"colorscale\":[[0.0,\"#0d0887\"],[0.1111111111111111,\"#46039f\"],[0.2222222222222222,\"#7201a8\"],[0.3333333333333333,\"#9c179e\"],[0.4444444444444444,\"#bd3786\"],[0.5555555555555556,\"#d8576b\"],[0.6666666666666666,\"#ed7953\"],[0.7777777777777778,\"#fb9f3a\"],[0.8888888888888888,\"#fdca26\"],[1.0,\"#f0f921\"]]}],\"mesh3d\":[{\"type\":\"mesh3d\",\"colorbar\":{\"outlinewidth\":0,\"ticks\":\"\"}}],\"scatter\":[{\"fillpattern\":{\"fillmode\":\"overlay\",\"size\":10,\"solidity\":0.2},\"type\":\"scatter\"}],\"parcoords\":[{\"type\":\"parcoords\",\"line\":{\"colorbar\":{\"outlinewidth\":0,\"ticks\":\"\"}}}],\"scatterpolargl\":[{\"type\":\"scatterpolargl\",\"marker\":{\"colorbar\":{\"outlinewidth\":0,\"ticks\":\"\"}}}],\"bar\":[{\"error_x\":{\"color\":\"#2a3f5f\"},\"error_y\":{\"color\":\"#2a3f5f\"},\"marker\":{\"line\":{\"color\":\"#E5ECF6\",\"width\":0.5},\"pattern\":{\"fillmode\":\"overlay\",\"size\":10,\"solidity\":0.2}},\"type\":\"bar\"}],\"scattergeo\":[{\"type\":\"scattergeo\",\"marker\":{\"colorbar\":{\"outlinewidth\":0,\"ticks\":\"\"}}}],\"scatterpolar\":[{\"type\":\"scatterpolar\",\"marker\":{\"colorbar\":{\"outlinewidth\":0,\"ticks\":\"\"}}}],\"histogram\":[{\"marker\":{\"pattern\":{\"fillmode\":\"overlay\",\"size\":10,\"solidity\":0.2}},\"type\":\"histogram\"}],\"scattergl\":[{\"type\":\"scattergl\",\"marker\":{\"colorbar\":{\"outlinewidth\":0,\"ticks\":\"\"}}}],\"scatter3d\":[{\"type\":\"scatter3d\",\"line\":{\"colorbar\":{\"outlinewidth\":0,\"ticks\":\"\"}},\"marker\":{\"colorbar\":{\"outlinewidth\":0,\"ticks\":\"\"}}}],\"scattermapbox\":[{\"type\":\"scattermapbox\",\"marker\":{\"colorbar\":{\"outlinewidth\":0,\"ticks\":\"\"}}}],\"scatterternary\":[{\"type\":\"scatterternary\",\"marker\":{\"colorbar\":{\"outlinewidth\":0,\"ticks\":\"\"}}}],\"scattercarpet\":[{\"type\":\"scattercarpet\",\"marker\":{\"colorbar\":{\"outlinewidth\":0,\"ticks\":\"\"}}}],\"carpet\":[{\"aaxis\":{\"endlinecolor\":\"#2a3f5f\",\"gridcolor\":\"white\",\"linecolor\":\"white\",\"minorgridcolor\":\"white\",\"startlinecolor\":\"#2a3f5f\"},\"baxis\":{\"endlinecolor\":\"#2a3f5f\",\"gridcolor\":\"white\",\"linecolor\":\"white\",\"minorgridcolor\":\"white\",\"startlinecolor\":\"#2a3f5f\"},\"type\":\"carpet\"}],\"table\":[{\"cells\":{\"fill\":{\"color\":\"#EBF0F8\"},\"line\":{\"color\":\"white\"}},\"header\":{\"fill\":{\"color\":\"#C8D4E3\"},\"line\":{\"color\":\"white\"}},\"type\":\"table\"}],\"barpolar\":[{\"marker\":{\"line\":{\"color\":\"#E5ECF6\",\"width\":0.5},\"pattern\":{\"fillmode\":\"overlay\",\"size\":10,\"solidity\":0.2}},\"type\":\"barpolar\"}],\"pie\":[{\"automargin\":true,\"type\":\"pie\"}]},\"layout\":{\"autotypenumbers\":\"strict\",\"colorway\":[\"#636efa\",\"#EF553B\",\"#00cc96\",\"#ab63fa\",\"#FFA15A\",\"#19d3f3\",\"#FF6692\",\"#B6E880\",\"#FF97FF\",\"#FECB52\"],\"font\":{\"color\":\"#2a3f5f\"},\"hovermode\":\"closest\",\"hoverlabel\":{\"align\":\"left\"},\"paper_bgcolor\":\"white\",\"plot_bgcolor\":\"#E5ECF6\",\"polar\":{\"bgcolor\":\"#E5ECF6\",\"angularaxis\":{\"gridcolor\":\"white\",\"linecolor\":\"white\",\"ticks\":\"\"},\"radialaxis\":{\"gridcolor\":\"white\",\"linecolor\":\"white\",\"ticks\":\"\"}},\"ternary\":{\"bgcolor\":\"#E5ECF6\",\"aaxis\":{\"gridcolor\":\"white\",\"linecolor\":\"white\",\"ticks\":\"\"},\"baxis\":{\"gridcolor\":\"white\",\"linecolor\":\"white\",\"ticks\":\"\"},\"caxis\":{\"gridcolor\":\"white\",\"linecolor\":\"white\",\"ticks\":\"\"}},\"coloraxis\":{\"colorbar\":{\"outlinewidth\":0,\"ticks\":\"\"}},\"colorscale\":{\"sequential\":[[0.0,\"#0d0887\"],[0.1111111111111111,\"#46039f\"],[0.2222222222222222,\"#7201a8\"],[0.3333333333333333,\"#9c179e\"],[0.4444444444444444,\"#bd3786\"],[0.5555555555555556,\"#d8576b\"],[0.6666666666666666,\"#ed7953\"],[0.7777777777777778,\"#fb9f3a\"],[0.8888888888888888,\"#fdca26\"],[1.0,\"#f0f921\"]],\"sequentialminus\":[[0.0,\"#0d0887\"],[0.1111111111111111,\"#46039f\"],[0.2222222222222222,\"#7201a8\"],[0.3333333333333333,\"#9c179e\"],[0.4444444444444444,\"#bd3786\"],[0.5555555555555556,\"#d8576b\"],[0.6666666666666666,\"#ed7953\"],[0.7777777777777778,\"#fb9f3a\"],[0.8888888888888888,\"#fdca26\"],[1.0,\"#f0f921\"]],\"diverging\":[[0,\"#8e0152\"],[0.1,\"#c51b7d\"],[0.2,\"#de77ae\"],[0.3,\"#f1b6da\"],[0.4,\"#fde0ef\"],[0.5,\"#f7f7f7\"],[0.6,\"#e6f5d0\"],[0.7,\"#b8e186\"],[0.8,\"#7fbc41\"],[0.9,\"#4d9221\"],[1,\"#276419\"]]},\"xaxis\":{\"gridcolor\":\"white\",\"linecolor\":\"white\",\"ticks\":\"\",\"title\":{\"standoff\":15},\"zerolinecolor\":\"white\",\"automargin\":true,\"zerolinewidth\":2},\"yaxis\":{\"gridcolor\":\"white\",\"linecolor\":\"white\",\"ticks\":\"\",\"title\":{\"standoff\":15},\"zerolinecolor\":\"white\",\"automargin\":true,\"zerolinewidth\":2},\"scene\":{\"xaxis\":{\"backgroundcolor\":\"#E5ECF6\",\"gridcolor\":\"white\",\"linecolor\":\"white\",\"showbackground\":true,\"ticks\":\"\",\"zerolinecolor\":\"white\",\"gridwidth\":2},\"yaxis\":{\"backgroundcolor\":\"#E5ECF6\",\"gridcolor\":\"white\",\"linecolor\":\"white\",\"showbackground\":true,\"ticks\":\"\",\"zerolinecolor\":\"white\",\"gridwidth\":2},\"zaxis\":{\"backgroundcolor\":\"#E5ECF6\",\"gridcolor\":\"white\",\"linecolor\":\"white\",\"showbackground\":true,\"ticks\":\"\",\"zerolinecolor\":\"white\",\"gridwidth\":2}},\"shapedefaults\":{\"line\":{\"color\":\"#2a3f5f\"}},\"annotationdefaults\":{\"arrowcolor\":\"#2a3f5f\",\"arrowhead\":0,\"arrowwidth\":1},\"geo\":{\"bgcolor\":\"white\",\"landcolor\":\"#E5ECF6\",\"subunitcolor\":\"white\",\"showland\":true,\"showlakes\":true,\"lakecolor\":\"white\"},\"title\":{\"x\":0.05},\"mapbox\":{\"style\":\"light\"}}},\"title\":{\"text\":\"\\u0412\\u043e\\u0440\\u043e\\u043d\\u043a\\u0430 \\u043e\\u0442 \\u0433\\u0440\\u0430\\u0432\\u043d\\u043e\\u0433\\u043e \\u044d\\u043a\\u0440\\u0430\\u043d\\u0430 \\u0434\\u043e \\u043e\\u043f\\u043b\\u0430\\u0442\\u044b\",\"x\":0.5}},                        {\"responsive\": true}                    ).then(function(){\n",
       "                            \n",
       "var gd = document.getElementById('c1ed83ae-2de5-45f8-99c5-46c3b1b26452');\n",
       "var x = new MutationObserver(function (mutations, observer) {{\n",
       "        var display = window.getComputedStyle(gd).display;\n",
       "        if (!display || display === 'none') {{\n",
       "            console.log([gd, 'removed!']);\n",
       "            Plotly.purge(gd);\n",
       "            observer.disconnect();\n",
       "        }}\n",
       "}});\n",
       "\n",
       "// Listen for the removal of the full notebook cells\n",
       "var notebookContainer = gd.closest('#notebook-container');\n",
       "if (notebookContainer) {{\n",
       "    x.observe(notebookContainer, {childList: true});\n",
       "}}\n",
       "\n",
       "// Listen for the clearing of the current output cell\n",
       "var outputEl = gd.closest('.output');\n",
       "if (outputEl) {{\n",
       "    x.observe(outputEl, {childList: true});\n",
       "}}\n",
       "\n",
       "                        })                };                });            </script>        </div>"
      ]
     },
     "metadata": {},
     "output_type": "display_data"
    }
   ],
   "source": [
    "fig = go.Figure(go.Funnel(y = actual_data_funnel['event'],\n",
    "                          x = actual_data_funnel['uniq_users'],\n",
    "                          \n",
    "                          textposition = 'inside',\n",
    "                          textinfo = 'value + percent previous'))\n",
    "fig.update_layout(title='Воронка от гравного экрана до оплаты', title_x = 0.5)\n",
    "fig.show()"
   ]
  },
  {
   "cell_type": "markdown",
   "id": "49ed7b71",
   "metadata": {},
   "source": [
    "## 5 Изучу результаты эксперимента"
   ]
  },
  {
   "cell_type": "markdown",
   "id": "2d735893",
   "metadata": {},
   "source": [
    "### 5.1 Проверю пересекаются ли пользователи в группах."
   ]
  },
  {
   "cell_type": "code",
   "execution_count": 90,
   "id": "d780e5d3",
   "metadata": {},
   "outputs": [
    {
     "name": "stdout",
     "output_type": "stream",
     "text": [
      "Количество пересекающихся пользователей между группами A и AA: 0\n",
      "Количество пересекающихся пользователей между группами A/АА и B: 0\n"
     ]
    }
   ],
   "source": [
    "actual_data.groupby('group')['user_id'].nunique().to_frame()\n",
    "\n",
    "group_a = set(actual_data[actual_data[\"group\"] == \"246\"][\"user_id\"].unique())\n",
    "group_aa = set(actual_data[actual_data[\"group\"] == \"247\"][\"user_id\"].unique())\n",
    "large_group_aa = group_a.intersection(group_aa)\n",
    "print(f'Количество пересекающихся пользователей между группами A и AA: {len(large_group_aa)}')\n",
    "\n",
    "group_b = set(actual_data[actual_data[\"group\"] == '248'][\"user_id\"].unique())\n",
    "group_ab = large_group_aa.intersection(group_b)\n",
    "print(f'Количество пересекающихся пользователей между группами A/АА и B: {len(group_ab)}')"
   ]
  },
  {
   "cell_type": "markdown",
   "id": "a0698b33",
   "metadata": {},
   "source": [
    "## 5.2 Проверю как пользователи распределены по группам и событиям "
   ]
  },
  {
   "cell_type": "code",
   "execution_count": 91,
   "id": "2ca675a5",
   "metadata": {
    "scrolled": true
   },
   "outputs": [
    {
     "data": {
      "text/html": [
       "<div>\n",
       "<style scoped>\n",
       "    .dataframe tbody tr th:only-of-type {\n",
       "        vertical-align: middle;\n",
       "    }\n",
       "\n",
       "    .dataframe tbody tr th {\n",
       "        vertical-align: top;\n",
       "    }\n",
       "\n",
       "    .dataframe thead th {\n",
       "        text-align: right;\n",
       "    }\n",
       "</style>\n",
       "<table border=\"1\" class=\"dataframe\">\n",
       "  <thead>\n",
       "    <tr style=\"text-align: right;\">\n",
       "      <th>event</th>\n",
       "      <th>group</th>\n",
       "      <th>CartScreenAppear</th>\n",
       "      <th>MainScreenAppear</th>\n",
       "      <th>OffersScreenAppear</th>\n",
       "      <th>PaymentScreenSuccessful</th>\n",
       "      <th>Tutorial</th>\n",
       "      <th>user_count</th>\n",
       "    </tr>\n",
       "  </thead>\n",
       "  <tbody>\n",
       "    <tr>\n",
       "      <th>0</th>\n",
       "      <td>246</td>\n",
       "      <td>1267</td>\n",
       "      <td>2452</td>\n",
       "      <td>1543</td>\n",
       "      <td>1200</td>\n",
       "      <td>278</td>\n",
       "      <td>2485</td>\n",
       "    </tr>\n",
       "    <tr>\n",
       "      <th>1</th>\n",
       "      <td>247</td>\n",
       "      <td>1239</td>\n",
       "      <td>2479</td>\n",
       "      <td>1526</td>\n",
       "      <td>1159</td>\n",
       "      <td>285</td>\n",
       "      <td>2517</td>\n",
       "    </tr>\n",
       "    <tr>\n",
       "      <th>2</th>\n",
       "      <td>248</td>\n",
       "      <td>1235</td>\n",
       "      <td>2498</td>\n",
       "      <td>1534</td>\n",
       "      <td>1183</td>\n",
       "      <td>282</td>\n",
       "      <td>2540</td>\n",
       "    </tr>\n",
       "  </tbody>\n",
       "</table>\n",
       "</div>"
      ],
      "text/plain": [
       "event  group  CartScreenAppear  MainScreenAppear  OffersScreenAppear  \\\n",
       "0        246              1267              2452                1543   \n",
       "1        247              1239              2479                1526   \n",
       "2        248              1235              2498                1534   \n",
       "\n",
       "event  PaymentScreenSuccessful  Tutorial  user_count  \n",
       "0                         1200       278        2485  \n",
       "1                         1159       285        2517  \n",
       "2                         1183       282        2540  "
      ]
     },
     "execution_count": 91,
     "metadata": {},
     "output_type": "execute_result"
    }
   ],
   "source": [
    "users_by_events = actual_data.pivot_table(index='group', columns='event', values = 'user_id', aggfunc = 'nunique').reset_index()\n",
    "user_count = actual_data.groupby('group')['user_id'].nunique()\n",
    "users_by_events['user_count'] = users_by_events['group'].apply(lambda x: user_count.loc[x])\n",
    "users_by_events"
   ]
  },
  {
   "cell_type": "markdown",
   "id": "8d1059c6",
   "metadata": {},
   "source": [
    "Вижу что в по группам пользователи распределены примерно одинаково"
   ]
  },
  {
   "cell_type": "markdown",
   "id": "30c53c21",
   "metadata": {},
   "source": [
    "### 5.3 Выберу самое популярное событие. Посчитаею число пользователей, совершивших это событие в каждой из контрольных групп. Посчитаю долю пользователей, совершивших это событие. Проверю, будет ли отличие между группами статистически достоверным. Проделаю то же самое для всех других событий . Можно ли сказать, что разбиение на группы работает корректно?"
   ]
  },
  {
   "cell_type": "code",
   "execution_count": 92,
   "id": "f2cfcf82",
   "metadata": {},
   "outputs": [
    {
     "name": "stderr",
     "output_type": "stream",
     "text": [
      "C:\\Users\\Риндикт\\AppData\\Local\\Temp\\ipykernel_19232\\3036587575.py:3: FutureWarning:\n",
      "\n",
      "The frame.append method is deprecated and will be removed from pandas in a future version. Use pandas.concat instead.\n",
      "\n"
     ]
    },
    {
     "data": {
      "text/html": [
       "<div>\n",
       "<style scoped>\n",
       "    .dataframe tbody tr th:only-of-type {\n",
       "        vertical-align: middle;\n",
       "    }\n",
       "\n",
       "    .dataframe tbody tr th {\n",
       "        vertical-align: top;\n",
       "    }\n",
       "\n",
       "    .dataframe thead th {\n",
       "        text-align: right;\n",
       "    }\n",
       "</style>\n",
       "<table border=\"1\" class=\"dataframe\">\n",
       "  <thead>\n",
       "    <tr style=\"text-align: right;\">\n",
       "      <th>event</th>\n",
       "      <th>group</th>\n",
       "      <th>CartScreenAppear</th>\n",
       "      <th>MainScreenAppear</th>\n",
       "      <th>OffersScreenAppear</th>\n",
       "      <th>PaymentScreenSuccessful</th>\n",
       "      <th>Tutorial</th>\n",
       "      <th>user_count</th>\n",
       "    </tr>\n",
       "  </thead>\n",
       "  <tbody>\n",
       "    <tr>\n",
       "      <th>0</th>\n",
       "      <td>246</td>\n",
       "      <td>1267</td>\n",
       "      <td>2452</td>\n",
       "      <td>1543</td>\n",
       "      <td>1200</td>\n",
       "      <td>278</td>\n",
       "      <td>2485</td>\n",
       "    </tr>\n",
       "    <tr>\n",
       "      <th>1</th>\n",
       "      <td>247</td>\n",
       "      <td>1239</td>\n",
       "      <td>2479</td>\n",
       "      <td>1526</td>\n",
       "      <td>1159</td>\n",
       "      <td>285</td>\n",
       "      <td>2517</td>\n",
       "    </tr>\n",
       "    <tr>\n",
       "      <th>2</th>\n",
       "      <td>248</td>\n",
       "      <td>1235</td>\n",
       "      <td>2498</td>\n",
       "      <td>1534</td>\n",
       "      <td>1183</td>\n",
       "      <td>282</td>\n",
       "      <td>2540</td>\n",
       "    </tr>\n",
       "    <tr>\n",
       "      <th>3</th>\n",
       "      <td>741</td>\n",
       "      <td>3741</td>\n",
       "      <td>7429</td>\n",
       "      <td>4603</td>\n",
       "      <td>3542</td>\n",
       "      <td>845</td>\n",
       "      <td>7542</td>\n",
       "    </tr>\n",
       "  </tbody>\n",
       "</table>\n",
       "</div>"
      ],
      "text/plain": [
       "event  group  CartScreenAppear  MainScreenAppear  OffersScreenAppear  \\\n",
       "0        246              1267              2452                1543   \n",
       "1        247              1239              2479                1526   \n",
       "2        248              1235              2498                1534   \n",
       "3        741              3741              7429                4603   \n",
       "\n",
       "event  PaymentScreenSuccessful  Tutorial  user_count  \n",
       "0                         1200       278        2485  \n",
       "1                         1159       285        2517  \n",
       "2                         1183       282        2540  \n",
       "3                         3542       845        7542  "
      ]
     },
     "execution_count": 92,
     "metadata": {},
     "output_type": "execute_result"
    }
   ],
   "source": [
    "users_by_events\n",
    "big_aa = users_by_events.apply(lambda x: x.sum(),axis=0)\n",
    "users_by_events = users_by_events.append(big_aa,ignore_index=True)\n",
    "users_by_events"
   ]
  },
  {
   "cell_type": "code",
   "execution_count": 97,
   "id": "cc8876c4",
   "metadata": {},
   "outputs": [
    {
     "data": {
      "text/html": [
       "<div>\n",
       "<style scoped>\n",
       "    .dataframe tbody tr th:only-of-type {\n",
       "        vertical-align: middle;\n",
       "    }\n",
       "\n",
       "    .dataframe tbody tr th {\n",
       "        vertical-align: top;\n",
       "    }\n",
       "\n",
       "    .dataframe thead th {\n",
       "        text-align: right;\n",
       "    }\n",
       "</style>\n",
       "<table border=\"1\" class=\"dataframe\">\n",
       "  <thead>\n",
       "    <tr style=\"text-align: right;\">\n",
       "      <th></th>\n",
       "      <th>main_screen</th>\n",
       "      <th>user_count</th>\n",
       "      <th>payment</th>\n",
       "      <th>cart</th>\n",
       "      <th>offers</th>\n",
       "      <th>group</th>\n",
       "    </tr>\n",
       "  </thead>\n",
       "  <tbody>\n",
       "    <tr>\n",
       "      <th>0</th>\n",
       "      <td>0.986720</td>\n",
       "      <td>2485</td>\n",
       "      <td>0.482897</td>\n",
       "      <td>0.509859</td>\n",
       "      <td>0.620926</td>\n",
       "      <td>246</td>\n",
       "    </tr>\n",
       "    <tr>\n",
       "      <th>1</th>\n",
       "      <td>0.984903</td>\n",
       "      <td>2517</td>\n",
       "      <td>0.460469</td>\n",
       "      <td>0.492253</td>\n",
       "      <td>0.606277</td>\n",
       "      <td>247</td>\n",
       "    </tr>\n",
       "    <tr>\n",
       "      <th>2</th>\n",
       "      <td>0.983465</td>\n",
       "      <td>2540</td>\n",
       "      <td>0.465748</td>\n",
       "      <td>0.486220</td>\n",
       "      <td>0.603937</td>\n",
       "      <td>248</td>\n",
       "    </tr>\n",
       "    <tr>\n",
       "      <th>3</th>\n",
       "      <td>0.985017</td>\n",
       "      <td>7542</td>\n",
       "      <td>0.469637</td>\n",
       "      <td>0.496022</td>\n",
       "      <td>0.610316</td>\n",
       "      <td>741</td>\n",
       "    </tr>\n",
       "  </tbody>\n",
       "</table>\n",
       "</div>"
      ],
      "text/plain": [
       "   main_screen  user_count   payment      cart    offers  group\n",
       "0     0.986720        2485  0.482897  0.509859  0.620926    246\n",
       "1     0.984903        2517  0.460469  0.492253  0.606277    247\n",
       "2     0.983465        2540  0.465748  0.486220  0.603937    248\n",
       "3     0.985017        7542  0.469637  0.496022  0.610316    741"
      ]
     },
     "execution_count": 97,
     "metadata": {},
     "output_type": "execute_result"
    }
   ],
   "source": [
    "share_users_by_events = pd.DataFrame(columns = {'group', 'main_screen', 'offers', 'cart', 'payment','user_count'})\n",
    "share_users_by_events['group'] = users_by_events.group\n",
    "share_users_by_events['main_screen'] = users_by_events.MainScreenAppear/users_by_events.user_count\n",
    "share_users_by_events['offers'] = users_by_events.OffersScreenAppear/users_by_events.user_count\n",
    "share_users_by_events['cart'] = users_by_events.CartScreenAppear/users_by_events.user_count\n",
    "share_users_by_events['payment'] = users_by_events.PaymentScreenSuccessful/users_by_events.user_count\n",
    "share_users_by_events['user_count'] = users_by_events.user_count\n",
    "share_users_by_events"
   ]
  },
  {
   "cell_type": "code",
   "execution_count": 95,
   "id": "1cc614db",
   "metadata": {},
   "outputs": [],
   "source": [
    "def check(a, b, list_col):\n",
    "    \n",
    "    print('Сравниваем группы:', a.group, b.group)\n",
    "    for i in list_col:\n",
    "        print()\n",
    "        print('Проверем, будет ли отличие между группами в воронке {} статистически достоверным'.format(i))\n",
    "        print()\n",
    "        alpha = 0.01/len(list_col)\n",
    "        one = np.array([a[i],b[i]])\n",
    "        user_count = np.array([a['user_count'],b['user_count']])\n",
    "        \n",
    "        p1 = one[0]/user_count[0]\n",
    "        p2 = one[1]/user_count[1]\n",
    "        \n",
    "        p_combined = (one[0]+one[1])/(user_count[0]+user_count[1])\n",
    "        \n",
    "        difference = p1-p2\n",
    "        \n",
    "        z_value = difference / mth.sqrt(p_combined * (1 - p_combined) * (1/user_count[0] + 1/user_count[1]))\n",
    "        \n",
    "        distr = st.norm(0, 1)  \n",
    "        \n",
    "        p_value = (1 - distr.cdf(abs(z_value))) * 2\n",
    "\n",
    "        print('p-значение: ', p_value)\n",
    "\n",
    "        if p_value < alpha:\n",
    "            print('Отвергаею нулевую гипотезу: между долями есть значимая разница')\n",
    "        else:\n",
    "            print(\n",
    "            'Не получилось отвергнуть нулевую гипотезу, нет оснований считать доли разными'\n",
    "                 ) \n"
   ]
  },
  {
   "cell_type": "markdown",
   "id": "e81b3aa9",
   "metadata": {},
   "source": [
    "### 5.4 Сравниваю группы А/АА"
   ]
  },
  {
   "cell_type": "code",
   "execution_count": 96,
   "id": "98e13656",
   "metadata": {},
   "outputs": [
    {
     "name": "stdout",
     "output_type": "stream",
     "text": [
      "Сравниваем группы: 0    246\n",
      "Name: group, dtype: int64 1    247\n",
      "Name: group, dtype: int64\n",
      "\n",
      "Проверем, будет ли отличие между группами в воронке main_screen статистически достоверным\n",
      "\n",
      "p-значение:  [0.99179816]\n",
      "Не получилось отвергнуть нулевую гипотезу, нет оснований считать доли разными\n",
      "\n",
      "Проверем, будет ли отличие между группами в воронке offers статистически достоверным\n",
      "\n",
      "p-значение:  [0.9837938]\n",
      "Не получилось отвергнуть нулевую гипотезу, нет оснований считать доли разными\n",
      "\n",
      "Проверем, будет ли отличие между группами в воронке cart статистически достоверным\n",
      "\n",
      "p-значение:  [0.9808566]\n",
      "Не получилось отвергнуть нулевую гипотезу, нет оснований считать доли разными\n",
      "\n",
      "Проверем, будет ли отличие между группами в воронке payment статистически достоверным\n",
      "\n",
      "p-значение:  [0.97661815]\n",
      "Не получилось отвергнуть нулевую гипотезу, нет оснований считать доли разными\n"
     ]
    }
   ],
   "source": [
    "list_columns = ['main_screen','offers','cart','payment']\n",
    "\n",
    "a_group = share_users_by_events.query('group == 246')\n",
    "aa_group = share_users_by_events.query('group == 247')\n",
    "\n",
    "check(a_group,aa_group,list_columns)"
   ]
  },
  {
   "cell_type": "markdown",
   "id": "b0d3ae6d",
   "metadata": {},
   "source": [
    "#### Итог\n",
    "Мы убидились что группы для А/А-эксперимента статистические не различаются"
   ]
  },
  {
   "cell_type": "markdown",
   "id": "1fc74f5e",
   "metadata": {},
   "source": [
    "### 5.5 Сравнениваю A(246) группы с B(248)"
   ]
  },
  {
   "cell_type": "code",
   "execution_count": 98,
   "id": "d8434012",
   "metadata": {},
   "outputs": [
    {
     "name": "stdout",
     "output_type": "stream",
     "text": [
      "Сравниваем группы: 0    246\n",
      "Name: group, dtype: int64 2    248\n",
      "Name: group, dtype: int64\n",
      "\n",
      "Проверем, будет ли отличие между группами в воронке main_screen статистически достоверным\n",
      "\n",
      "p-значение:  [0.9858884]\n",
      "Не получилось отвергнуть нулевую гипотезу, нет оснований считать доли разными\n",
      "\n",
      "Проверем, будет ли отличие между группами в воронке offers статистически достоверным\n",
      "\n",
      "p-значение:  [0.97808594]\n",
      "Не получилось отвергнуть нулевую гипотезу, нет оснований считать доли разными\n",
      "\n",
      "Проверем, будет ли отличие между группами в воронке cart статистически достоверным\n",
      "\n",
      "p-значение:  [0.97238717]\n",
      "Не получилось отвергнуть нулевую гипотезу, нет оснований считать доли разными\n",
      "\n",
      "Проверем, будет ли отличие между группами в воронке payment статистически достоверным\n",
      "\n",
      "p-значение:  [0.97744497]\n",
      "Не получилось отвергнуть нулевую гипотезу, нет оснований считать доли разными\n"
     ]
    }
   ],
   "source": [
    "b_group = share_users_by_events.query('group == 248')\n",
    "\n",
    "check(a_group, b_group, list_columns)"
   ]
  },
  {
   "cell_type": "markdown",
   "id": "d989c2d2",
   "metadata": {},
   "source": [
    "#### Итог\n",
    "Проведя сравнени А(246) группа статестически не отлечается от B(248) "
   ]
  },
  {
   "cell_type": "markdown",
   "id": "51394524",
   "metadata": {},
   "source": [
    "### 5.6 Сравнение AA(247) группы с B(248)"
   ]
  },
  {
   "cell_type": "code",
   "execution_count": 99,
   "id": "0fa397ca",
   "metadata": {},
   "outputs": [
    {
     "name": "stdout",
     "output_type": "stream",
     "text": [
      "Сравниваем группы: 1    247\n",
      "Name: group, dtype: int64 2    248\n",
      "Name: group, dtype: int64\n",
      "\n",
      "Проверем, будет ли отличие между группами в воронке main_screen статистически достоверным\n",
      "\n",
      "p-значение:  [0.9940897]\n",
      "Не получилось отвергнуть нулевую гипотезу, нет оснований считать доли разными\n",
      "\n",
      "Проверем, будет ли отличие между группами в воронке offers статистически достоверным\n",
      "\n",
      "p-значение:  [0.99430978]\n",
      "Не получилось отвергнуть нулевую гипотезу, нет оснований считать доли разными\n",
      "\n",
      "Проверем, будет ли отличие между группами в воронке cart статистически достоверным\n",
      "\n",
      "p-значение:  [0.99154396]\n",
      "Не получилось отвергнуть нулевую гипотезу, нет оснований считать доли разными\n",
      "\n",
      "Проверем, будет ли отличие между группами в воронке payment статистически достоверным\n",
      "\n",
      "p-значение:  [0.9991156]\n",
      "Не получилось отвергнуть нулевую гипотезу, нет оснований считать доли разными\n"
     ]
    }
   ],
   "source": [
    "check(aa_group, b_group, list_columns)"
   ]
  },
  {
   "cell_type": "markdown",
   "id": "0e8281a6",
   "metadata": {},
   "source": [
    "#### Итог\n",
    "Проведя сравнени АA(247) группа статестически не отлечается от B(248) "
   ]
  },
  {
   "cell_type": "markdown",
   "id": "0f682fd6",
   "metadata": {},
   "source": [
    "### 5.7 Сравнение B с объединённой контрольной группой. "
   ]
  },
  {
   "cell_type": "code",
   "execution_count": 100,
   "id": "9695972b",
   "metadata": {},
   "outputs": [
    {
     "name": "stdout",
     "output_type": "stream",
     "text": [
      "Сравниваем группы: 3    741\n",
      "Name: group, dtype: int64 2    248\n",
      "Name: group, dtype: int64\n",
      "\n",
      "Проверем, будет ли отличие между группами в воронке main_screen статистически достоверным\n",
      "\n",
      "p-значение:  [0.4234112]\n",
      "Не получилось отвергнуть нулевую гипотезу, нет оснований считать доли разными\n",
      "\n",
      "Проверем, будет ли отличие между группами в воронке offers статистически достоверным\n",
      "\n",
      "p-значение:  [0.53326252]\n",
      "Не получилось отвергнуть нулевую гипотезу, нет оснований считать доли разными\n",
      "\n",
      "Проверем, будет ли отличие между группами в воронке cart статистически достоверным\n",
      "\n",
      "p-значение:  [0.57892361]\n",
      "Не получилось отвергнуть нулевую гипотезу, нет оснований считать доли разными\n",
      "\n",
      "Проверем, будет ли отличие между группами в воронке payment статистически достоверным\n",
      "\n",
      "p-значение:  [0.58366259]\n",
      "Не получилось отвергнуть нулевую гипотезу, нет оснований считать доли разными\n"
     ]
    }
   ],
   "source": [
    "aaa_big_group = share_users_by_events.query('group == 741')\n",
    "check(aaa_big_group, b_group, list_columns)"
   ]
  },
  {
   "cell_type": "markdown",
   "id": "adf7188c",
   "metadata": {},
   "source": [
    "#### Итог\n",
    "Проведя сравнени контрольной группой АAA(741) группа статестически не отлечается от B(248) "
   ]
  },
  {
   "cell_type": "markdown",
   "id": "8742b4f4",
   "metadata": {},
   "source": [
    "## 6 Общий вывод"
   ]
  },
  {
   "cell_type": "markdown",
   "id": "d17efdc7",
   "metadata": {},
   "source": [
    "Были получены, проверены, подготовлены данные и проведены исследования\n",
    "\n",
    "Была построена воронка на которой мы видили как пользователи не доходили но оплаты\n",
    "\n",
    "Проверил что бы данные не пересекались \n",
    "\n",
    "Так же я проверил и не нашел статистически значимых различий между группами А/А и после этого сделал A/B тест а так же с объединённой контрольной групп. Различий выявлено не было а это значит что гипотеза о том что изменение шрифта повлияет на метрики конверсии не подтвердилась.\n",
    "\n",
    "Но так как пришлось отсеить данные за неделю у нас осталась только половинна времени изначально планированного иследования, я рекомендовал бы продлить иследования на неделю что бы накопить больше данных хотя я не ожидаю кардинальных изменений учитывая что  p_value был давольно высок и не опускался ниже 0.42"
   ]
  },
  {
   "cell_type": "code",
   "execution_count": null,
   "id": "6a41b5c9",
   "metadata": {},
   "outputs": [],
   "source": []
  }
 ],
 "metadata": {
  "kernelspec": {
   "display_name": "Python 3 (ipykernel)",
   "language": "python",
   "name": "python3"
  },
  "language_info": {
   "codemirror_mode": {
    "name": "ipython",
    "version": 3
   },
   "file_extension": ".py",
   "mimetype": "text/x-python",
   "name": "python",
   "nbconvert_exporter": "python",
   "pygments_lexer": "ipython3",
   "version": "3.9.13"
  }
 },
 "nbformat": 4,
 "nbformat_minor": 5
}
