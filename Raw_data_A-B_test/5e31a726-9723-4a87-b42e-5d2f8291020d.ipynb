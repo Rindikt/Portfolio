{
 "cells": [
  {
   "cell_type": "markdown",
   "metadata": {},
   "source": [
    "# Проект A/B-тестирования"
   ]
  },
  {
   "cell_type": "markdown",
   "metadata": {},
   "source": [
    "### Описание"
   ]
  },
  {
   "cell_type": "markdown",
   "metadata": {},
   "source": [
    "Задача — провести оценку результатов A/B-теста. В моём распоряжении есть датасет с действиями пользователей, техническое задание и несколько вспомогательных датасетов."
   ]
  },
  {
   "cell_type": "markdown",
   "metadata": {},
   "source": [
    "### Техническое задание"
   ]
  },
  {
   "cell_type": "markdown",
   "metadata": {},
   "source": [
    "Техническое задание\n",
    "\n",
    "Название теста: recommender_system_test;\n",
    "\n",
    "Группы: А (контрольная), B (новая платёжная воронка);\n",
    "\n",
    "Дата запуска: 2020-12-07;\n",
    "\n",
    "Дата остановки набора новых пользователей: 2020-12-21;\n",
    "\n",
    "Дата остановки: 2021-01-04;\n",
    "\n",
    "Аудитория: 15% новых пользователей из региона EU;\n",
    "\n",
    "Назначение теста: тестирование изменений, связанных с внедрением улучшенной рекомендательной системы;\n",
    "\n",
    "Ожидаемое количество участников теста: 6000.\n",
    "\n",
    "Ожидаемый эффект: за 14 дней с момента регистрации в системе пользователи покажут улучшение каждой метрики не менее, чем на 10%:\n",
    "\n",
    "конверсии в просмотр карточек товаров — событие product_page\n",
    "\n",
    "просмотры корзины — product_cart\n",
    "\n",
    "покупки — purchase."
   ]
  },
  {
   "cell_type": "markdown",
   "metadata": {},
   "source": [
    "### Задачи"
   ]
  },
  {
   "cell_type": "markdown",
   "metadata": {},
   "source": [
    "1)Подключение библиотек, выгрузка, осмотр данных\n",
    "\n",
    "2)Подготовка, предобработка данных\n",
    "\n",
    "3)Оценка корректности проведения теста\n",
    "\n",
    "3.1)Проверка пользователей попавших в обе группы\n",
    "\n",
    "3.2)Проверка распределения пользователей по региону и устройствам регистрации\n",
    "\n",
    "3.3)Проверка времени проведения теста на совпадение с маркетинговыми событиями\n",
    "\n",
    "4)Проведение исследования\n",
    "\n",
    "4.1)Количество событий на пользователя и нормальность распределения в выборках по дням\n",
    "\n",
    "4.2)Распределение пользователей по датам регистрации\n",
    "\n",
    "4.3)Количество событий на пользователя распределённые по эвентам\n",
    "\n",
    "4.4)Построение воронки для группы А\n",
    "\n",
    "4.5)построение воронки для группы B\n",
    "\n",
    "5)А/B тест\n",
    "\n"
   ]
  },
  {
   "cell_type": "markdown",
   "metadata": {},
   "source": [
    "## Подключение библиотек, выгрузка и осмотр данных"
   ]
  },
  {
   "cell_type": "code",
   "execution_count": 63,
   "metadata": {},
   "outputs": [],
   "source": [
    "import pandas as pd\n",
    "import numpy as np\n",
    "from matplotlib import pyplot as plt\n",
    "import math as mth\n",
    "from scipy import stats as st\n",
    "import seaborn as sns\n",
    "import plotly.express as px\n",
    "import plotly.graph_objects as go"
   ]
  },
  {
   "cell_type": "code",
   "execution_count": 64,
   "metadata": {},
   "outputs": [],
   "source": [
    "ab_marketing_events = pd.read_csv('/Users/Риндикт/notebook/raw_data_ab_test/ab_project_marketing_events.csv')\n",
    "final_ab_new_users = pd.read_csv('/Users/Риндикт/notebook/raw_data_ab_test/final_ab_new_users.csv')\n",
    "final_ab_events = pd.read_csv('/Users/Риндикт/notebook/raw_data_ab_test/final_ab_events.csv')\n",
    "final_ab_participants = pd.read_csv('/Users/Риндикт/notebook/raw_data_ab_test/final_ab_participants.csv')"
   ]
  },
  {
   "cell_type": "code",
   "execution_count": 65,
   "metadata": {},
   "outputs": [
    {
     "data": {
      "text/html": [
       "<div>\n",
       "<style scoped>\n",
       "    .dataframe tbody tr th:only-of-type {\n",
       "        vertical-align: middle;\n",
       "    }\n",
       "\n",
       "    .dataframe tbody tr th {\n",
       "        vertical-align: top;\n",
       "    }\n",
       "\n",
       "    .dataframe thead th {\n",
       "        text-align: right;\n",
       "    }\n",
       "</style>\n",
       "<table border=\"1\" class=\"dataframe\">\n",
       "  <thead>\n",
       "    <tr style=\"text-align: right;\">\n",
       "      <th></th>\n",
       "      <th>name</th>\n",
       "      <th>regions</th>\n",
       "      <th>start_dt</th>\n",
       "      <th>finish_dt</th>\n",
       "    </tr>\n",
       "  </thead>\n",
       "  <tbody>\n",
       "    <tr>\n",
       "      <th>0</th>\n",
       "      <td>Christmas&amp;New Year Promo</td>\n",
       "      <td>EU, N.America</td>\n",
       "      <td>2020-12-25</td>\n",
       "      <td>2021-01-03</td>\n",
       "    </tr>\n",
       "    <tr>\n",
       "      <th>1</th>\n",
       "      <td>St. Valentine's Day Giveaway</td>\n",
       "      <td>EU, CIS, APAC, N.America</td>\n",
       "      <td>2020-02-14</td>\n",
       "      <td>2020-02-16</td>\n",
       "    </tr>\n",
       "    <tr>\n",
       "      <th>2</th>\n",
       "      <td>St. Patric's Day Promo</td>\n",
       "      <td>EU, N.America</td>\n",
       "      <td>2020-03-17</td>\n",
       "      <td>2020-03-19</td>\n",
       "    </tr>\n",
       "    <tr>\n",
       "      <th>3</th>\n",
       "      <td>Easter Promo</td>\n",
       "      <td>EU, CIS, APAC, N.America</td>\n",
       "      <td>2020-04-12</td>\n",
       "      <td>2020-04-19</td>\n",
       "    </tr>\n",
       "    <tr>\n",
       "      <th>4</th>\n",
       "      <td>4th of July Promo</td>\n",
       "      <td>N.America</td>\n",
       "      <td>2020-07-04</td>\n",
       "      <td>2020-07-11</td>\n",
       "    </tr>\n",
       "  </tbody>\n",
       "</table>\n",
       "</div>"
      ],
      "text/plain": [
       "                           name                   regions    start_dt  \\\n",
       "0      Christmas&New Year Promo             EU, N.America  2020-12-25   \n",
       "1  St. Valentine's Day Giveaway  EU, CIS, APAC, N.America  2020-02-14   \n",
       "2        St. Patric's Day Promo             EU, N.America  2020-03-17   \n",
       "3                  Easter Promo  EU, CIS, APAC, N.America  2020-04-12   \n",
       "4             4th of July Promo                 N.America  2020-07-04   \n",
       "\n",
       "    finish_dt  \n",
       "0  2021-01-03  \n",
       "1  2020-02-16  \n",
       "2  2020-03-19  \n",
       "3  2020-04-19  \n",
       "4  2020-07-11  "
      ]
     },
     "execution_count": 65,
     "metadata": {},
     "output_type": "execute_result"
    }
   ],
   "source": [
    "ab_marketing_events.head()"
   ]
  },
  {
   "cell_type": "code",
   "execution_count": 66,
   "metadata": {},
   "outputs": [
    {
     "data": {
      "text/html": [
       "<div>\n",
       "<style scoped>\n",
       "    .dataframe tbody tr th:only-of-type {\n",
       "        vertical-align: middle;\n",
       "    }\n",
       "\n",
       "    .dataframe tbody tr th {\n",
       "        vertical-align: top;\n",
       "    }\n",
       "\n",
       "    .dataframe thead th {\n",
       "        text-align: right;\n",
       "    }\n",
       "</style>\n",
       "<table border=\"1\" class=\"dataframe\">\n",
       "  <thead>\n",
       "    <tr style=\"text-align: right;\">\n",
       "      <th></th>\n",
       "      <th>user_id</th>\n",
       "      <th>first_date</th>\n",
       "      <th>region</th>\n",
       "      <th>device</th>\n",
       "    </tr>\n",
       "  </thead>\n",
       "  <tbody>\n",
       "    <tr>\n",
       "      <th>0</th>\n",
       "      <td>D72A72121175D8BE</td>\n",
       "      <td>2020-12-07</td>\n",
       "      <td>EU</td>\n",
       "      <td>PC</td>\n",
       "    </tr>\n",
       "    <tr>\n",
       "      <th>1</th>\n",
       "      <td>F1C668619DFE6E65</td>\n",
       "      <td>2020-12-07</td>\n",
       "      <td>N.America</td>\n",
       "      <td>Android</td>\n",
       "    </tr>\n",
       "    <tr>\n",
       "      <th>2</th>\n",
       "      <td>2E1BF1D4C37EA01F</td>\n",
       "      <td>2020-12-07</td>\n",
       "      <td>EU</td>\n",
       "      <td>PC</td>\n",
       "    </tr>\n",
       "    <tr>\n",
       "      <th>3</th>\n",
       "      <td>50734A22C0C63768</td>\n",
       "      <td>2020-12-07</td>\n",
       "      <td>EU</td>\n",
       "      <td>iPhone</td>\n",
       "    </tr>\n",
       "    <tr>\n",
       "      <th>4</th>\n",
       "      <td>E1BDDCE0DAFA2679</td>\n",
       "      <td>2020-12-07</td>\n",
       "      <td>N.America</td>\n",
       "      <td>iPhone</td>\n",
       "    </tr>\n",
       "  </tbody>\n",
       "</table>\n",
       "</div>"
      ],
      "text/plain": [
       "            user_id  first_date     region   device\n",
       "0  D72A72121175D8BE  2020-12-07         EU       PC\n",
       "1  F1C668619DFE6E65  2020-12-07  N.America  Android\n",
       "2  2E1BF1D4C37EA01F  2020-12-07         EU       PC\n",
       "3  50734A22C0C63768  2020-12-07         EU   iPhone\n",
       "4  E1BDDCE0DAFA2679  2020-12-07  N.America   iPhone"
      ]
     },
     "execution_count": 66,
     "metadata": {},
     "output_type": "execute_result"
    }
   ],
   "source": [
    "final_ab_new_users.head()"
   ]
  },
  {
   "cell_type": "code",
   "execution_count": 67,
   "metadata": {},
   "outputs": [
    {
     "data": {
      "text/html": [
       "<div>\n",
       "<style scoped>\n",
       "    .dataframe tbody tr th:only-of-type {\n",
       "        vertical-align: middle;\n",
       "    }\n",
       "\n",
       "    .dataframe tbody tr th {\n",
       "        vertical-align: top;\n",
       "    }\n",
       "\n",
       "    .dataframe thead th {\n",
       "        text-align: right;\n",
       "    }\n",
       "</style>\n",
       "<table border=\"1\" class=\"dataframe\">\n",
       "  <thead>\n",
       "    <tr style=\"text-align: right;\">\n",
       "      <th></th>\n",
       "      <th>user_id</th>\n",
       "      <th>event_dt</th>\n",
       "      <th>event_name</th>\n",
       "      <th>details</th>\n",
       "    </tr>\n",
       "  </thead>\n",
       "  <tbody>\n",
       "    <tr>\n",
       "      <th>0</th>\n",
       "      <td>E1BDDCE0DAFA2679</td>\n",
       "      <td>2020-12-07 20:22:03</td>\n",
       "      <td>purchase</td>\n",
       "      <td>99.99</td>\n",
       "    </tr>\n",
       "    <tr>\n",
       "      <th>1</th>\n",
       "      <td>7B6452F081F49504</td>\n",
       "      <td>2020-12-07 09:22:53</td>\n",
       "      <td>purchase</td>\n",
       "      <td>9.99</td>\n",
       "    </tr>\n",
       "    <tr>\n",
       "      <th>2</th>\n",
       "      <td>9CD9F34546DF254C</td>\n",
       "      <td>2020-12-07 12:59:29</td>\n",
       "      <td>purchase</td>\n",
       "      <td>4.99</td>\n",
       "    </tr>\n",
       "    <tr>\n",
       "      <th>3</th>\n",
       "      <td>96F27A054B191457</td>\n",
       "      <td>2020-12-07 04:02:40</td>\n",
       "      <td>purchase</td>\n",
       "      <td>4.99</td>\n",
       "    </tr>\n",
       "    <tr>\n",
       "      <th>4</th>\n",
       "      <td>1FD7660FDF94CA1F</td>\n",
       "      <td>2020-12-07 10:15:09</td>\n",
       "      <td>purchase</td>\n",
       "      <td>4.99</td>\n",
       "    </tr>\n",
       "  </tbody>\n",
       "</table>\n",
       "</div>"
      ],
      "text/plain": [
       "            user_id             event_dt event_name  details\n",
       "0  E1BDDCE0DAFA2679  2020-12-07 20:22:03   purchase    99.99\n",
       "1  7B6452F081F49504  2020-12-07 09:22:53   purchase     9.99\n",
       "2  9CD9F34546DF254C  2020-12-07 12:59:29   purchase     4.99\n",
       "3  96F27A054B191457  2020-12-07 04:02:40   purchase     4.99\n",
       "4  1FD7660FDF94CA1F  2020-12-07 10:15:09   purchase     4.99"
      ]
     },
     "execution_count": 67,
     "metadata": {},
     "output_type": "execute_result"
    }
   ],
   "source": [
    "final_ab_events.head()"
   ]
  },
  {
   "cell_type": "code",
   "execution_count": 68,
   "metadata": {},
   "outputs": [
    {
     "data": {
      "text/html": [
       "<div>\n",
       "<style scoped>\n",
       "    .dataframe tbody tr th:only-of-type {\n",
       "        vertical-align: middle;\n",
       "    }\n",
       "\n",
       "    .dataframe tbody tr th {\n",
       "        vertical-align: top;\n",
       "    }\n",
       "\n",
       "    .dataframe thead th {\n",
       "        text-align: right;\n",
       "    }\n",
       "</style>\n",
       "<table border=\"1\" class=\"dataframe\">\n",
       "  <thead>\n",
       "    <tr style=\"text-align: right;\">\n",
       "      <th></th>\n",
       "      <th>user_id</th>\n",
       "      <th>group</th>\n",
       "      <th>ab_test</th>\n",
       "    </tr>\n",
       "  </thead>\n",
       "  <tbody>\n",
       "    <tr>\n",
       "      <th>0</th>\n",
       "      <td>D1ABA3E2887B6A73</td>\n",
       "      <td>A</td>\n",
       "      <td>recommender_system_test</td>\n",
       "    </tr>\n",
       "    <tr>\n",
       "      <th>1</th>\n",
       "      <td>A7A3664BD6242119</td>\n",
       "      <td>A</td>\n",
       "      <td>recommender_system_test</td>\n",
       "    </tr>\n",
       "    <tr>\n",
       "      <th>2</th>\n",
       "      <td>DABC14FDDFADD29E</td>\n",
       "      <td>A</td>\n",
       "      <td>recommender_system_test</td>\n",
       "    </tr>\n",
       "    <tr>\n",
       "      <th>3</th>\n",
       "      <td>04988C5DF189632E</td>\n",
       "      <td>A</td>\n",
       "      <td>recommender_system_test</td>\n",
       "    </tr>\n",
       "    <tr>\n",
       "      <th>4</th>\n",
       "      <td>482F14783456D21B</td>\n",
       "      <td>B</td>\n",
       "      <td>recommender_system_test</td>\n",
       "    </tr>\n",
       "  </tbody>\n",
       "</table>\n",
       "</div>"
      ],
      "text/plain": [
       "            user_id group                  ab_test\n",
       "0  D1ABA3E2887B6A73     A  recommender_system_test\n",
       "1  A7A3664BD6242119     A  recommender_system_test\n",
       "2  DABC14FDDFADD29E     A  recommender_system_test\n",
       "3  04988C5DF189632E     A  recommender_system_test\n",
       "4  482F14783456D21B     B  recommender_system_test"
      ]
     },
     "execution_count": 68,
     "metadata": {},
     "output_type": "execute_result"
    }
   ],
   "source": [
    "final_ab_participants.head()"
   ]
  },
  {
   "cell_type": "markdown",
   "metadata": {},
   "source": [
    "Подключил библиотеки, и вывел данные на экран"
   ]
  },
  {
   "cell_type": "markdown",
   "metadata": {},
   "source": [
    "## Предобработка данных"
   ]
  },
  {
   "cell_type": "markdown",
   "metadata": {},
   "source": [
    "Создаю функцию для обработки датасетов что бы избежать дублирования кода"
   ]
  },
  {
   "cell_type": "code",
   "execution_count": 69,
   "metadata": {},
   "outputs": [],
   "source": [
    "def info(data):\n",
    "    ''' \n",
    "    функция для предварительной обработки датасетов\n",
    "    '''\n",
    "    \n",
    "    print(\"Дубликатов обнаружено: \", data.duplicated().sum())\n",
    "    if data.duplicated().sum() >0:\n",
    "        print('Обнаружены дубликаты, произвожу очистку')\n",
    "        data = data.drop_duplicates()\n",
    "        print('Дубликаты ',data.duplicated().sum())\n",
    "    print()\n",
    "    print('Пропусков обнаружено:', data.isna().sum())\n",
    "    print()\n",
    "    data.info()\n",
    "    return data"
   ]
  },
  {
   "cell_type": "code",
   "execution_count": 70,
   "metadata": {},
   "outputs": [
    {
     "name": "stdout",
     "output_type": "stream",
     "text": [
      "Дубликатов обнаружено:  0\n",
      "\n",
      "Пропусков обнаружено: name         0\n",
      "regions      0\n",
      "start_dt     0\n",
      "finish_dt    0\n",
      "dtype: int64\n",
      "\n",
      "<class 'pandas.core.frame.DataFrame'>\n",
      "RangeIndex: 14 entries, 0 to 13\n",
      "Data columns (total 4 columns):\n",
      " #   Column     Non-Null Count  Dtype \n",
      "---  ------     --------------  ----- \n",
      " 0   name       14 non-null     object\n",
      " 1   regions    14 non-null     object\n",
      " 2   start_dt   14 non-null     object\n",
      " 3   finish_dt  14 non-null     object\n",
      "dtypes: object(4)\n",
      "memory usage: 576.0+ bytes\n"
     ]
    }
   ],
   "source": [
    "ab_marketing_events = info(ab_marketing_events)"
   ]
  },
  {
   "cell_type": "code",
   "execution_count": 71,
   "metadata": {},
   "outputs": [
    {
     "name": "stdout",
     "output_type": "stream",
     "text": [
      "Дубликатов обнаружено:  0\n",
      "\n",
      "Пропусков обнаружено: user_id       0\n",
      "first_date    0\n",
      "region        0\n",
      "device        0\n",
      "dtype: int64\n",
      "\n",
      "<class 'pandas.core.frame.DataFrame'>\n",
      "RangeIndex: 61733 entries, 0 to 61732\n",
      "Data columns (total 4 columns):\n",
      " #   Column      Non-Null Count  Dtype \n",
      "---  ------      --------------  ----- \n",
      " 0   user_id     61733 non-null  object\n",
      " 1   first_date  61733 non-null  object\n",
      " 2   region      61733 non-null  object\n",
      " 3   device      61733 non-null  object\n",
      "dtypes: object(4)\n",
      "memory usage: 1.9+ MB\n"
     ]
    }
   ],
   "source": [
    "final_ab_new_users = info(final_ab_new_users)"
   ]
  },
  {
   "cell_type": "code",
   "execution_count": 72,
   "metadata": {},
   "outputs": [
    {
     "name": "stdout",
     "output_type": "stream",
     "text": [
      "Дубликатов обнаружено:  0\n",
      "\n",
      "Пропусков обнаружено: user_id            0\n",
      "event_dt           0\n",
      "event_name         0\n",
      "details       377577\n",
      "dtype: int64\n",
      "\n",
      "<class 'pandas.core.frame.DataFrame'>\n",
      "RangeIndex: 440317 entries, 0 to 440316\n",
      "Data columns (total 4 columns):\n",
      " #   Column      Non-Null Count   Dtype  \n",
      "---  ------      --------------   -----  \n",
      " 0   user_id     440317 non-null  object \n",
      " 1   event_dt    440317 non-null  object \n",
      " 2   event_name  440317 non-null  object \n",
      " 3   details     62740 non-null   float64\n",
      "dtypes: float64(1), object(3)\n",
      "memory usage: 13.4+ MB\n"
     ]
    }
   ],
   "source": [
    "final_ab_events = info(final_ab_events)"
   ]
  },
  {
   "cell_type": "code",
   "execution_count": 73,
   "metadata": {},
   "outputs": [
    {
     "name": "stdout",
     "output_type": "stream",
     "text": [
      "Дубликатов обнаружено:  0\n",
      "\n",
      "Пропусков обнаружено: user_id    0\n",
      "group      0\n",
      "ab_test    0\n",
      "dtype: int64\n",
      "\n",
      "<class 'pandas.core.frame.DataFrame'>\n",
      "RangeIndex: 18268 entries, 0 to 18267\n",
      "Data columns (total 3 columns):\n",
      " #   Column   Non-Null Count  Dtype \n",
      "---  ------   --------------  ----- \n",
      " 0   user_id  18268 non-null  object\n",
      " 1   group    18268 non-null  object\n",
      " 2   ab_test  18268 non-null  object\n",
      "dtypes: object(3)\n",
      "memory usage: 428.3+ KB\n"
     ]
    }
   ],
   "source": [
    "final_ab_participants = info(final_ab_participants)"
   ]
  },
  {
   "cell_type": "markdown",
   "metadata": {},
   "source": [
    "Преобразую типы данных для дальнейшей работы"
   ]
  },
  {
   "cell_type": "code",
   "execution_count": 74,
   "metadata": {},
   "outputs": [],
   "source": [
    "ab_marketing_events.start_dt = pd.to_datetime(ab_marketing_events.start_dt)\n",
    "ab_marketing_events.finish_dt = pd.to_datetime(ab_marketing_events.finish_dt)\n",
    "final_ab_new_users.first_date = pd.to_datetime(final_ab_new_users.first_date)\n",
    "final_ab_events.event_dt = pd.to_datetime(final_ab_events.event_dt)"
   ]
  },
  {
   "cell_type": "markdown",
   "metadata": {},
   "source": [
    "Создаю таблицу пользователей"
   ]
  },
  {
   "cell_type": "code",
   "execution_count": 75,
   "metadata": {},
   "outputs": [],
   "source": [
    "full_tabl =  final_ab_participants.merge(final_ab_new_users, how = 'left', on = 'user_id')\n",
    "full_tabl = full_tabl.merge(final_ab_events, how = 'left', on ='user_id' )\n",
    "full_tabl['event_data'] = full_tabl.event_dt.dt.floor('D')"
   ]
  },
  {
   "cell_type": "markdown",
   "metadata": {},
   "source": [
    "Проверяю полученую таблицу"
   ]
  },
  {
   "cell_type": "code",
   "execution_count": 76,
   "metadata": {},
   "outputs": [
    {
     "name": "stdout",
     "output_type": "stream",
     "text": [
      "Дубликатов обнаружено:  0\n",
      "\n",
      "Пропусков обнаружено: user_id           0\n",
      "group             0\n",
      "ab_test           0\n",
      "first_date        0\n",
      "region            0\n",
      "device            0\n",
      "event_dt       3743\n",
      "event_name     3743\n",
      "details       94952\n",
      "event_data     3743\n",
      "dtype: int64\n",
      "\n",
      "<class 'pandas.core.frame.DataFrame'>\n",
      "Int64Index: 110368 entries, 0 to 110367\n",
      "Data columns (total 10 columns):\n",
      " #   Column      Non-Null Count   Dtype         \n",
      "---  ------      --------------   -----         \n",
      " 0   user_id     110368 non-null  object        \n",
      " 1   group       110368 non-null  object        \n",
      " 2   ab_test     110368 non-null  object        \n",
      " 3   first_date  110368 non-null  datetime64[ns]\n",
      " 4   region      110368 non-null  object        \n",
      " 5   device      110368 non-null  object        \n",
      " 6   event_dt    106625 non-null  datetime64[ns]\n",
      " 7   event_name  106625 non-null  object        \n",
      " 8   details     15416 non-null   float64       \n",
      " 9   event_data  106625 non-null  datetime64[ns]\n",
      "dtypes: datetime64[ns](3), float64(1), object(6)\n",
      "memory usage: 9.3+ MB\n"
     ]
    }
   ],
   "source": [
    "full_tabl = info(full_tabl)"
   ]
  },
  {
   "cell_type": "markdown",
   "metadata": {},
   "source": [
    "Удаляю пользователей у которых нету не даты эвента не названия эвента так как мы не сможем по ним строить графики"
   ]
  },
  {
   "cell_type": "code",
   "execution_count": 77,
   "metadata": {},
   "outputs": [
    {
     "name": "stderr",
     "output_type": "stream",
     "text": [
      "C:\\Users\\Риндикт\\AppData\\Local\\Temp\\ipykernel_12280\\2244401042.py:2: SettingWithCopyWarning:\n",
      "\n",
      "\n",
      "A value is trying to be set on a copy of a slice from a DataFrame.\n",
      "Try using .loc[row_indexer,col_indexer] = value instead\n",
      "\n",
      "See the caveats in the documentation: https://pandas.pydata.org/pandas-docs/stable/user_guide/indexing.html#returning-a-view-versus-a-copy\n",
      "\n"
     ]
    }
   ],
   "source": [
    "full_tabl_one = full_tabl.dropna(subset=['event_dt'])\n",
    "full_tabl_one['event_TTL'] = (full_tabl_one['event_dt']-full_tabl_one['first_date']).dt.days\n",
    "full_tabl = full_tabl_one.query('event_TTL <15')"
   ]
  },
  {
   "cell_type": "markdown",
   "metadata": {},
   "source": [
    "Отбираю пользователей только по интересующему нас A/B тесту"
   ]
  },
  {
   "cell_type": "code",
   "execution_count": 78,
   "metadata": {},
   "outputs": [],
   "source": [
    "full_tabl =full_tabl.query('ab_test == \"recommender_system_test\"')"
   ]
  },
  {
   "cell_type": "markdown",
   "metadata": {},
   "source": [
    "### Итог"
   ]
  },
  {
   "cell_type": "markdown",
   "metadata": {},
   "source": [
    "Проверил данные на дубликаты и пропуски (в имени эвента и начале его старта я полагаю это люди не участвовавшие в нашем тесте, а в details это стоимость покупки, но у нас не в каждом событии происходить покупка от того и пропуски), удалил пользователей не участвовавших в a/b тестировании, но попавших в таблицы, отобрал пользователей только по интересующему нас аб тесту, привёл типы данных к нужным для дальнейшего использования"
   ]
  },
  {
   "cell_type": "markdown",
   "metadata": {},
   "source": [
    "## Оценка корректности проведение теста"
   ]
  },
  {
   "cell_type": "markdown",
   "metadata": {},
   "source": [
    "### Ищу пользователей попавших в обе группы"
   ]
  },
  {
   "cell_type": "code",
   "execution_count": 79,
   "metadata": {},
   "outputs": [
    {
     "data": {
      "text/html": [
       "<div>\n",
       "<style scoped>\n",
       "    .dataframe tbody tr th:only-of-type {\n",
       "        vertical-align: middle;\n",
       "    }\n",
       "\n",
       "    .dataframe tbody tr th {\n",
       "        vertical-align: top;\n",
       "    }\n",
       "\n",
       "    .dataframe thead th {\n",
       "        text-align: right;\n",
       "    }\n",
       "</style>\n",
       "<table border=\"1\" class=\"dataframe\">\n",
       "  <thead>\n",
       "    <tr style=\"text-align: right;\">\n",
       "      <th></th>\n",
       "      <th>group</th>\n",
       "    </tr>\n",
       "    <tr>\n",
       "      <th>user_id</th>\n",
       "      <th></th>\n",
       "    </tr>\n",
       "  </thead>\n",
       "  <tbody>\n",
       "  </tbody>\n",
       "</table>\n",
       "</div>"
      ],
      "text/plain": [
       "Empty DataFrame\n",
       "Columns: [group]\n",
       "Index: []"
      ]
     },
     "execution_count": 79,
     "metadata": {},
     "output_type": "execute_result"
    }
   ],
   "source": [
    "full_tabl.groupby('user_id').agg({'group':'nunique'}).query('group>1')"
   ]
  },
  {
   "cell_type": "markdown",
   "metadata": {},
   "source": [
    "### Проверяю распределение пользователей по региону"
   ]
  },
  {
   "cell_type": "code",
   "execution_count": 80,
   "metadata": {},
   "outputs": [
    {
     "data": {
      "text/html": [
       "<div>\n",
       "<style scoped>\n",
       "    .dataframe tbody tr th:only-of-type {\n",
       "        vertical-align: middle;\n",
       "    }\n",
       "\n",
       "    .dataframe tbody tr th {\n",
       "        vertical-align: top;\n",
       "    }\n",
       "\n",
       "    .dataframe thead th {\n",
       "        text-align: right;\n",
       "    }\n",
       "</style>\n",
       "<table border=\"1\" class=\"dataframe\">\n",
       "  <thead>\n",
       "    <tr style=\"text-align: right;\">\n",
       "      <th>group</th>\n",
       "      <th>A</th>\n",
       "      <th>B</th>\n",
       "    </tr>\n",
       "    <tr>\n",
       "      <th>region</th>\n",
       "      <th></th>\n",
       "      <th></th>\n",
       "    </tr>\n",
       "  </thead>\n",
       "  <tbody>\n",
       "    <tr>\n",
       "      <th>APAC</th>\n",
       "      <td>28</td>\n",
       "      <td>17</td>\n",
       "    </tr>\n",
       "    <tr>\n",
       "      <th>CIS</th>\n",
       "      <td>19</td>\n",
       "      <td>11</td>\n",
       "    </tr>\n",
       "    <tr>\n",
       "      <th>EU</th>\n",
       "      <td>2604</td>\n",
       "      <td>877</td>\n",
       "    </tr>\n",
       "    <tr>\n",
       "      <th>N.America</th>\n",
       "      <td>96</td>\n",
       "      <td>23</td>\n",
       "    </tr>\n",
       "  </tbody>\n",
       "</table>\n",
       "</div>"
      ],
      "text/plain": [
       "group         A    B\n",
       "region              \n",
       "APAC         28   17\n",
       "CIS          19   11\n",
       "EU         2604  877\n",
       "N.America    96   23"
      ]
     },
     "execution_count": 80,
     "metadata": {},
     "output_type": "execute_result"
    }
   ],
   "source": [
    "full_tabl.pivot_table(index = 'region',columns= 'group', values = 'user_id', aggfunc = 'nunique')"
   ]
  },
  {
   "cell_type": "markdown",
   "metadata": {},
   "source": [
    "### Проверяю долю пользователей, которые участвовали в тесте из Евросоюза, от общего числа пользователей из этого региона"
   ]
  },
  {
   "cell_type": "code",
   "execution_count": 81,
   "metadata": {},
   "outputs": [
    {
     "data": {
      "text/plain": [
       "0.15"
      ]
     },
     "execution_count": 81,
     "metadata": {},
     "output_type": "execute_result"
    }
   ],
   "source": [
    "chislitel =  final_ab_participants.merge(final_ab_new_users, on = 'user_id', how = 'left')\\\n",
    ".query('ab_test == \"recommender_system_test\" and region == \"EU\"')\n",
    "znamenal = final_ab_new_users.query('first_date <= \"2020-12-21\" and region == \"EU\"')\n",
    "len(chislitel)/len(znamenal)\n"
   ]
  },
  {
   "cell_type": "markdown",
   "metadata": {},
   "source": [
    " 15% пользователей из европпы нас это устраивает"
   ]
  },
  {
   "cell_type": "markdown",
   "metadata": {},
   "source": [
    "### Проверяю распределения пользователей по устройствам регистрации"
   ]
  },
  {
   "cell_type": "code",
   "execution_count": 82,
   "metadata": {},
   "outputs": [
    {
     "data": {
      "text/html": [
       "<div>\n",
       "<style scoped>\n",
       "    .dataframe tbody tr th:only-of-type {\n",
       "        vertical-align: middle;\n",
       "    }\n",
       "\n",
       "    .dataframe tbody tr th {\n",
       "        vertical-align: top;\n",
       "    }\n",
       "\n",
       "    .dataframe thead th {\n",
       "        text-align: right;\n",
       "    }\n",
       "</style>\n",
       "<table border=\"1\" class=\"dataframe\">\n",
       "  <thead>\n",
       "    <tr style=\"text-align: right;\">\n",
       "      <th>group</th>\n",
       "      <th>A</th>\n",
       "      <th>B</th>\n",
       "    </tr>\n",
       "    <tr>\n",
       "      <th>device</th>\n",
       "      <th></th>\n",
       "      <th></th>\n",
       "    </tr>\n",
       "  </thead>\n",
       "  <tbody>\n",
       "    <tr>\n",
       "      <th>Android</th>\n",
       "      <td>1197</td>\n",
       "      <td>428</td>\n",
       "    </tr>\n",
       "    <tr>\n",
       "      <th>Mac</th>\n",
       "      <td>270</td>\n",
       "      <td>76</td>\n",
       "    </tr>\n",
       "    <tr>\n",
       "      <th>PC</th>\n",
       "      <td>726</td>\n",
       "      <td>227</td>\n",
       "    </tr>\n",
       "    <tr>\n",
       "      <th>iPhone</th>\n",
       "      <td>554</td>\n",
       "      <td>197</td>\n",
       "    </tr>\n",
       "  </tbody>\n",
       "</table>\n",
       "</div>"
      ],
      "text/plain": [
       "group       A    B\n",
       "device            \n",
       "Android  1197  428\n",
       "Mac       270   76\n",
       "PC        726  227\n",
       "iPhone    554  197"
      ]
     },
     "execution_count": 82,
     "metadata": {},
     "output_type": "execute_result"
    }
   ],
   "source": [
    "full_tabl.pivot_table(index = 'device',columns= 'group', values = 'user_id', aggfunc = 'nunique')"
   ]
  },
  {
   "cell_type": "code",
   "execution_count": 83,
   "metadata": {},
   "outputs": [
    {
     "data": {
      "image/png": "[encoded data removed]",
      "text/plain": [
       "<Figure size 1500x500 with 2 Axes>"
      ]
     },
     "metadata": {},
     "output_type": "display_data"
    }
   ],
   "source": [
    "plt.figure(figsize=(15,5))\n",
    "plt.subplot(1, 2, 1)\n",
    "sns.histplot(full_tabl.query('group == \"A\"'), x = 'device')\n",
    "plt.xlabel('Устройства')\n",
    "plt.ylabel('Количество событий')\n",
    "plt.title(\"События по устройствам по тесту для группы A\")\n",
    "plt.subplot(1, 2, 2)\n",
    "sns.histplot(full_tabl.query('group == \"B\"'), x = 'device')\n",
    "plt.xlabel('Устройства')\n",
    "plt.ylabel('Количество событий')\n",
    "plt.title(\"События по устройствам по тесту для группы B\")\n",
    "plt.show()"
   ]
  },
  {
   "cell_type": "markdown",
   "metadata": {},
   "source": [
    "### Проверяю что тест не совпадает с маркетинговыми событиями"
   ]
  },
  {
   "cell_type": "code",
   "execution_count": 84,
   "metadata": {
    "scrolled": true
   },
   "outputs": [
    {
     "data": {
      "text/html": [
       "<div>\n",
       "<style scoped>\n",
       "    .dataframe tbody tr th:only-of-type {\n",
       "        vertical-align: middle;\n",
       "    }\n",
       "\n",
       "    .dataframe tbody tr th {\n",
       "        vertical-align: top;\n",
       "    }\n",
       "\n",
       "    .dataframe thead th {\n",
       "        text-align: right;\n",
       "    }\n",
       "</style>\n",
       "<table border=\"1\" class=\"dataframe\">\n",
       "  <thead>\n",
       "    <tr style=\"text-align: right;\">\n",
       "      <th></th>\n",
       "      <th>name</th>\n",
       "      <th>regions</th>\n",
       "      <th>start_dt</th>\n",
       "      <th>finish_dt</th>\n",
       "    </tr>\n",
       "  </thead>\n",
       "  <tbody>\n",
       "    <tr>\n",
       "      <th>0</th>\n",
       "      <td>Christmas&amp;New Year Promo</td>\n",
       "      <td>EU, N.America</td>\n",
       "      <td>2020-12-25</td>\n",
       "      <td>2021-01-03</td>\n",
       "    </tr>\n",
       "  </tbody>\n",
       "</table>\n",
       "</div>"
      ],
      "text/plain": [
       "                       name        regions   start_dt  finish_dt\n",
       "0  Christmas&New Year Promo  EU, N.America 2020-12-25 2021-01-03"
      ]
     },
     "execution_count": 84,
     "metadata": {},
     "output_type": "execute_result"
    }
   ],
   "source": [
    "min_date = full_tabl.event_dt.min()\n",
    "max_data = full_tabl.event_dt.max()\n",
    "ab_marketing_events.query('start_dt >@min_date and start_dt< @max_data')"
   ]
  },
  {
   "cell_type": "code",
   "execution_count": 85,
   "metadata": {},
   "outputs": [
    {
     "data": {
      "text/plain": [
       "Timestamp('2020-12-07 00:05:57')"
      ]
     },
     "execution_count": 85,
     "metadata": {},
     "output_type": "execute_result"
    }
   ],
   "source": [
    "min_date"
   ]
  },
  {
   "cell_type": "markdown",
   "metadata": {},
   "source": [
    "Два маркетинговых события пересекаются с нашим исследованием в последние 5 дней и если CIS New Year Gift Lottery не как не повлияет так как идёт в регионе где пользователей почти нет то Christmas&New Year Promo могут так как в оно проходит в самом активном нашем регионе"
   ]
  },
  {
   "cell_type": "markdown",
   "metadata": {},
   "source": [
    "<div class=\"alert alert-block alert-success\">✔️\n",
    "    \n",
    "\n",
    "__Комментарий от тимлида №1__\n",
    "\n",
    "События, праздники и тп - влияют на две группы одинаково. Это просто изменение качества пользователей, но относительную конверсию группы В к группе А - не будет иметь воздействие. Но это нужно учитывать при изучении абсолютных данных.\n",
    "</div>"
   ]
  },
  {
   "cell_type": "markdown",
   "metadata": {},
   "source": [
    "### Проверяю попали ли пользователи из моего аб теста в другой и если да, в каких группах они там находятся"
   ]
  },
  {
   "cell_type": "code",
   "execution_count": 86,
   "metadata": {},
   "outputs": [],
   "source": [
    "final_ab_new_users = final_ab_new_users[final_ab_new_users['first_date'] <= '2020-12-21 00:00:00']\n",
    "final_ab_new_users = final_ab_new_users[final_ab_new_users['region'] == 'EU']\n",
    "data = final_ab_new_users.merge(final_ab_participants, on='user_id', how='left').dropna()\n",
    "data_new = data.query('ab_test==\"recommender_system_test\"& region == \"EU\"')\n",
    "test_intersection = (data_new['user_id'].reset_index().merge(\n",
    " final_ab_participants[final_ab_participants['ab_test'] == 'interface_eu_test']['user_id'].reset_index(),\n",
    "     how='inner', on='user_id'))"
   ]
  },
  {
   "cell_type": "code",
   "execution_count": 87,
   "metadata": {},
   "outputs": [
    {
     "name": "stdout",
     "output_type": "stream",
     "text": [
      "Количество пересекающихся пользователей в обоих тестах: 1602\n"
     ]
    }
   ],
   "source": [
    "test_interface = (data_new['user_id'].reset_index()\\\n",
    "                  .merge(final_ab_participants.query('ab_test == \"interface_eu_test\"').user_id.reset_index(),\\\n",
    "                         how = 'inner',on = 'user_id'))\n",
    "print('Количество пересекающихся пользователей в обоих тестах: {}'.format(len(test_interface)))"
   ]
  },
  {
   "cell_type": "code",
   "execution_count": 88,
   "metadata": {},
   "outputs": [
    {
     "name": "stdout",
     "output_type": "stream",
     "text": [
      "25.22% пользователей участвовали в обоих тестах\n"
     ]
    }
   ],
   "source": [
    "print('{:.2%} пользователей участвовали в обоих тестах'.format(len(test_intersection)/len(data_new.user_id)))"
   ]
  },
  {
   "cell_type": "markdown",
   "metadata": {},
   "source": [
    "### Смотрю как распределены папавшие в группу B теста interface_eu_test в моём аб тесте"
   ]
  },
  {
   "cell_type": "code",
   "execution_count": 89,
   "metadata": {},
   "outputs": [
    {
     "name": "stdout",
     "output_type": "stream",
     "text": [
      "A    0.253440\n",
      "B    0.250644\n",
      "Name: group, dtype: float64\n"
     ]
    }
   ],
   "source": [
    "print(test_intersection.merge(final_ab_participants[final_ab_participants['ab_test'] == \"recommender_system_test\"][['user_id', 'group']],\\\n",
    "                              how = 'left',on = 'user_id')['group'].\\\n",
    "      value_counts()/ (data_new.merge(final_ab_participants[final_ab_participants['ab_test'] == \"recommender_system_test\"][['user_id','group']]))['group'].value_counts())"
   ]
  },
  {
   "cell_type": "markdown",
   "metadata": {},
   "source": [
    "Пользователи распределены равномерно по группам и результаты не исказяться"
   ]
  },
  {
   "cell_type": "markdown",
   "metadata": {},
   "source": [
    "### Итог"
   ]
  },
  {
   "cell_type": "markdown",
   "metadata": {},
   "source": [
    "Пользователи в группах не пересекаются, группы не равномерны в группе, а пользователей больше в 2 и более раза, что может сказаться на дальнейшем исследовании, так же тест под конец пересекается с маркетинговыми событиями"
   ]
  },
  {
   "cell_type": "markdown",
   "metadata": {},
   "source": [
    "## Исследование данных"
   ]
  },
  {
   "cell_type": "markdown",
   "metadata": {},
   "source": [
    "### Число событий в выборках распределено по дням"
   ]
  },
  {
   "cell_type": "code",
   "execution_count": 90,
   "metadata": {},
   "outputs": [
    {
     "data": {
      "image/png": "[encoded data removed]",
      "text/plain": [
       "<Figure size 1500x500 with 1 Axes>"
      ]
     },
     "metadata": {},
     "output_type": "display_data"
    }
   ],
   "source": [
    "sns.set_palette('dark') \n",
    "plt.figure(figsize=(15,5))\n",
    "sns.histplot(full_tabl.query('group == \"A\"'), x = 'event_dt',bins=28)\n",
    "plt.xlabel('Дата событий')\n",
    "plt.ylabel('Количество событий')\n",
    "plt.title('График количества событий по дням в группах А и B')\n",
    "plt.xticks(rotation = 45)\n",
    "sns.histplot(full_tabl.query('group == \"B\"'), x = 'event_dt',bins=28)\n",
    "plt.show()"
   ]
  },
  {
   "cell_type": "markdown",
   "metadata": {},
   "source": [
    "На графике мы видим что группы не сбалансированы, в группе B событий намного меньше, большой приток событий после 14-го числа возможно это связано с большим количеством в данной группе вероятно пришедших в этот момент, после 30го числа в группах событий не наблюдаю вовсе Так же в группе B среднее количество событий на пользователя ниже"
   ]
  },
  {
   "cell_type": "code",
   "execution_count": 91,
   "metadata": {},
   "outputs": [
    {
     "name": "stdout",
     "output_type": "stream",
     "text": [
      "Среднее количество событий на пользователя в группе А:  6.9\n",
      "Среднее количество событий на пользователя в группе В:  5.52\n"
     ]
    }
   ],
   "source": [
    "print('Среднее количество событий на пользователя в группе А: ',round(full_tabl.query('group == \"A\"').event_name.count()/full_tabl.query('group == \"A\"').user_id.nunique(),2))\n",
    "print('Среднее количество событий на пользователя в группе В: ',round(full_tabl.query('group == \"B\"').event_name.count()/full_tabl.query('group == \"B\"').user_id.nunique(),2))"
   ]
  },
  {
   "cell_type": "markdown",
   "metadata": {},
   "source": [
    "### График распределения между группами по датам регистрации пользователей "
   ]
  },
  {
   "cell_type": "code",
   "execution_count": 92,
   "metadata": {},
   "outputs": [
    {
     "data": {
      "image/png": "[encoded data removed]",
      "text/plain": [
       "<Figure size 1500x500 with 1 Axes>"
      ]
     },
     "metadata": {},
     "output_type": "display_data"
    }
   ],
   "source": [
    "plt.figure(figsize=(15,5))\n",
    "sns.histplot(full_tabl.query('group == \"A\"'), x = 'first_date',bins=15)\n",
    "plt.xlabel('Дата событий')\n",
    "plt.ylabel('Количество регистраций новых пользователей')\n",
    "plt.title('График количества регистраций по дням в группах А и В')\n",
    "sns.histplot(full_tabl.query('group == \"B\"'), x = 'first_date',bins=15)\n",
    "plt.xticks(rotation = 45)\n",
    "\n",
    "plt.show()"
   ]
  },
  {
   "cell_type": "markdown",
   "metadata": {},
   "source": [
    "На графике мы видим что группы не сбалансированы, в группе B регистраций намного меньше, а в группу А пришло много пользователей после 13го числа что и объясняет увеличившееся количество событий"
   ]
  },
  {
   "cell_type": "markdown",
   "metadata": {},
   "source": [
    "### Количество событий на пользователя распределеные по эвентам"
   ]
  },
  {
   "cell_type": "code",
   "execution_count": 93,
   "metadata": {},
   "outputs": [
    {
     "data": {
      "text/html": [
       "<div>\n",
       "<style scoped>\n",
       "    .dataframe tbody tr th:only-of-type {\n",
       "        vertical-align: middle;\n",
       "    }\n",
       "\n",
       "    .dataframe tbody tr th {\n",
       "        vertical-align: top;\n",
       "    }\n",
       "\n",
       "    .dataframe thead th {\n",
       "        text-align: right;\n",
       "    }\n",
       "</style>\n",
       "<table border=\"1\" class=\"dataframe\">\n",
       "  <thead>\n",
       "    <tr style=\"text-align: right;\">\n",
       "      <th>group</th>\n",
       "      <th>A</th>\n",
       "      <th>B</th>\n",
       "    </tr>\n",
       "    <tr>\n",
       "      <th>event_name</th>\n",
       "      <th></th>\n",
       "      <th></th>\n",
       "    </tr>\n",
       "  </thead>\n",
       "  <tbody>\n",
       "    <tr>\n",
       "      <th>login</th>\n",
       "      <td>2747</td>\n",
       "      <td>927</td>\n",
       "    </tr>\n",
       "    <tr>\n",
       "      <th>product_cart</th>\n",
       "      <td>824</td>\n",
       "      <td>255</td>\n",
       "    </tr>\n",
       "    <tr>\n",
       "      <th>product_page</th>\n",
       "      <td>1780</td>\n",
       "      <td>523</td>\n",
       "    </tr>\n",
       "    <tr>\n",
       "      <th>purchase</th>\n",
       "      <td>872</td>\n",
       "      <td>256</td>\n",
       "    </tr>\n",
       "  </tbody>\n",
       "</table>\n",
       "</div>"
      ],
      "text/plain": [
       "group            A    B\n",
       "event_name             \n",
       "login         2747  927\n",
       "product_cart   824  255\n",
       "product_page  1780  523\n",
       "purchase       872  256"
      ]
     },
     "execution_count": 93,
     "metadata": {},
     "output_type": "execute_result"
    }
   ],
   "source": [
    "full_tabl.pivot_table(index = 'event_name',columns= 'group', values = 'user_id', aggfunc = 'nunique')"
   ]
  },
  {
   "cell_type": "markdown",
   "metadata": {},
   "source": [
    "Критичных различий не наблюдаю"
   ]
  },
  {
   "cell_type": "markdown",
   "metadata": {},
   "source": [
    "### Изменение конверсии в воронке в выборках на разных этапах для группы А"
   ]
  },
  {
   "cell_type": "code",
   "execution_count": 94,
   "metadata": {},
   "outputs": [
    {
     "data": {
      "application/vnd.plotly.v1+json": {
       "config": {
        "plotlyServerURL": "https://plot.ly"
       },
       "data": [
        {
         "textinfo": "value+percent previous",
         "textposition": "inside",
         "type": "funnel",
         "x": [
          2747,
          1780,
          824,
          872
         ],
         "y": [
          "login",
          "product_page",
          "product_cart",
          "purchase"
         ]
        }
       ],
       "layout": {
        "template": {
         "data": {
          "bar": [
           {
            "error_x": {
             "color": "#2a3f5f"
            },
            "error_y": {
             "color": "#2a3f5f"
            },
            "marker": {
             "line": {
              "color": "#E5ECF6",
              "width": 0.5
             },
             "pattern": {
              "fillmode": "overlay",
              "size": 10,
              "solidity": 0.2
             }
            },
            "type": "bar"
           }
          ],
          "barpolar": [
           {
            "marker": {
             "line": {
              "color": "#E5ECF6",
              "width": 0.5
             },
             "pattern": {
              "fillmode": "overlay",
              "size": 10,
              "solidity": 0.2
             }
            },
            "type": "barpolar"
           }
          ],
          "carpet": [
           {
            "aaxis": {
             "endlinecolor": "#2a3f5f",
             "gridcolor": "white",
             "linecolor": "white",
             "minorgridcolor": "white",
             "startlinecolor": "#2a3f5f"
            },
            "baxis": {
             "endlinecolor": "#2a3f5f",
             "gridcolor": "white",
             "linecolor": "white",
             "minorgridcolor": "white",
             "startlinecolor": "#2a3f5f"
            },
            "type": "carpet"
           }
          ],
          "choropleth": [
           {
            "colorbar": {
             "outlinewidth": 0,
             "ticks": ""
            },
            "type": "choropleth"
           }
          ],
          "contour": [
           {
            "colorbar": {
             "outlinewidth": 0,
             "ticks": ""
            },
            "colorscale": [
             [
              0,
              "#0d0887"
             ],
             [
              0.1111111111111111,
              "#46039f"
             ],
             [
              0.2222222222222222,
              "#7201a8"
             ],
             [
              0.3333333333333333,
              "#9c179e"
             ],
             [
              0.4444444444444444,
              "#bd3786"
             ],
             [
              0.5555555555555556,
              "#d8576b"
             ],
             [
              0.6666666666666666,
              "#ed7953"
             ],
             [
              0.7777777777777778,
              "#fb9f3a"
             ],
             [
              0.8888888888888888,
              "#fdca26"
             ],
             [
              1,
              "#f0f921"
             ]
            ],
            "type": "contour"
           }
          ],
          "contourcarpet": [
           {
            "colorbar": {
             "outlinewidth": 0,
             "ticks": ""
            },
            "type": "contourcarpet"
           }
          ],
          "heatmap": [
           {
            "colorbar": {
             "outlinewidth": 0,
             "ticks": ""
            },
            "colorscale": [
             [
              0,
              "#0d0887"
             ],
             [
              0.1111111111111111,
              "#46039f"
             ],
             [
              0.2222222222222222,
              "#7201a8"
             ],
             [
              0.3333333333333333,
              "#9c179e"
             ],
             [
              0.4444444444444444,
              "#bd3786"
             ],
             [
              0.5555555555555556,
              "#d8576b"
             ],
             [
              0.6666666666666666,
              "#ed7953"
             ],
             [
              0.7777777777777778,
              "#fb9f3a"
             ],
             [
              0.8888888888888888,
              "#fdca26"
             ],
             [
              1,
              "#f0f921"
             ]
            ],
            "type": "heatmap"
           }
          ],
          "heatmapgl": [
           {
            "colorbar": {
             "outlinewidth": 0,
             "ticks": ""
            },
            "colorscale": [
             [
              0,
              "#0d0887"
             ],
             [
              0.1111111111111111,
              "#46039f"
             ],
             [
              0.2222222222222222,
              "#7201a8"
             ],
             [
              0.3333333333333333,
              "#9c179e"
             ],
             [
              0.4444444444444444,
              "#bd3786"
             ],
             [
              0.5555555555555556,
              "#d8576b"
             ],
             [
              0.6666666666666666,
              "#ed7953"
             ],
             [
              0.7777777777777778,
              "#fb9f3a"
             ],
             [
              0.8888888888888888,
              "#fdca26"
             ],
             [
              1,
              "#f0f921"
             ]
            ],
            "type": "heatmapgl"
           }
          ],
          "histogram": [
           {
            "marker": {
             "pattern": {
              "fillmode": "overlay",
              "size": 10,
              "solidity": 0.2
             }
            },
            "type": "histogram"
           }
          ],
          "histogram2d": [
           {
            "colorbar": {
             "outlinewidth": 0,
             "ticks": ""
            },
            "colorscale": [
             [
              0,
              "#0d0887"
             ],
             [
              0.1111111111111111,
              "#46039f"
             ],
             [
              0.2222222222222222,
              "#7201a8"
             ],
             [
              0.3333333333333333,
              "#9c179e"
             ],
             [
              0.4444444444444444,
              "#bd3786"
             ],
             [
              0.5555555555555556,
              "#d8576b"
             ],
             [
              0.6666666666666666,
              "#ed7953"
             ],
             [
              0.7777777777777778,
              "#fb9f3a"
             ],
             [
              0.8888888888888888,
              "#fdca26"
             ],
             [
              1,
              "#f0f921"
             ]
            ],
            "type": "histogram2d"
           }
          ],
          "histogram2dcontour": [
           {
            "colorbar": {
             "outlinewidth": 0,
             "ticks": ""
            },
            "colorscale": [
             [
              0,
              "#0d0887"
             ],
             [
              0.1111111111111111,
              "#46039f"
             ],
             [
              0.2222222222222222,
              "#7201a8"
             ],
             [
              0.3333333333333333,
              "#9c179e"
             ],
             [
              0.4444444444444444,
              "#bd3786"
             ],
             [
              0.5555555555555556,
              "#d8576b"
             ],
             [
              0.6666666666666666,
              "#ed7953"
             ],
             [
              0.7777777777777778,
              "#fb9f3a"
             ],
             [
              0.8888888888888888,
              "#fdca26"
             ],
             [
              1,
              "#f0f921"
             ]
            ],
            "type": "histogram2dcontour"
           }
          ],
          "mesh3d": [
           {
            "colorbar": {
             "outlinewidth": 0,
             "ticks": ""
            },
            "type": "mesh3d"
           }
          ],
          "parcoords": [
           {
            "line": {
             "colorbar": {
              "outlinewidth": 0,
              "ticks": ""
             }
            },
            "type": "parcoords"
           }
          ],
          "pie": [
           {
            "automargin": true,
            "type": "pie"
           }
          ],
          "scatter": [
           {
            "fillpattern": {
             "fillmode": "overlay",
             "size": 10,
             "solidity": 0.2
            },
            "type": "scatter"
           }
          ],
          "scatter3d": [
           {
            "line": {
             "colorbar": {
              "outlinewidth": 0,
              "ticks": ""
             }
            },
            "marker": {
             "colorbar": {
              "outlinewidth": 0,
              "ticks": ""
             }
            },
            "type": "scatter3d"
           }
          ],
          "scattercarpet": [
           {
            "marker": {
             "colorbar": {
              "outlinewidth": 0,
              "ticks": ""
             }
            },
            "type": "scattercarpet"
           }
          ],
          "scattergeo": [
           {
            "marker": {
             "colorbar": {
              "outlinewidth": 0,
              "ticks": ""
             }
            },
            "type": "scattergeo"
           }
          ],
          "scattergl": [
           {
            "marker": {
             "colorbar": {
              "outlinewidth": 0,
              "ticks": ""
             }
            },
            "type": "scattergl"
           }
          ],
          "scattermapbox": [
           {
            "marker": {
             "colorbar": {
              "outlinewidth": 0,
              "ticks": ""
             }
            },
            "type": "scattermapbox"
           }
          ],
          "scatterpolar": [
           {
            "marker": {
             "colorbar": {
              "outlinewidth": 0,
              "ticks": ""
             }
            },
            "type": "scatterpolar"
           }
          ],
          "scatterpolargl": [
           {
            "marker": {
             "colorbar": {
              "outlinewidth": 0,
              "ticks": ""
             }
            },
            "type": "scatterpolargl"
           }
          ],
          "scatterternary": [
           {
            "marker": {
             "colorbar": {
              "outlinewidth": 0,
              "ticks": ""
             }
            },
            "type": "scatterternary"
           }
          ],
          "surface": [
           {
            "colorbar": {
             "outlinewidth": 0,
             "ticks": ""
            },
            "colorscale": [
             [
              0,
              "#0d0887"
             ],
             [
              0.1111111111111111,
              "#46039f"
             ],
             [
              0.2222222222222222,
              "#7201a8"
             ],
             [
              0.3333333333333333,
              "#9c179e"
             ],
             [
              0.4444444444444444,
              "#bd3786"
             ],
             [
              0.5555555555555556,
              "#d8576b"
             ],
             [
              0.6666666666666666,
              "#ed7953"
             ],
             [
              0.7777777777777778,
              "#fb9f3a"
             ],
             [
              0.8888888888888888,
              "#fdca26"
             ],
             [
              1,
              "#f0f921"
             ]
            ],
            "type": "surface"
           }
          ],
          "table": [
           {
            "cells": {
             "fill": {
              "color": "#EBF0F8"
             },
             "line": {
              "color": "white"
             }
            },
            "header": {
             "fill": {
              "color": "#C8D4E3"
             },
             "line": {
              "color": "white"
             }
            },
            "type": "table"
           }
          ]
         },
         "layout": {
          "annotationdefaults": {
           "arrowcolor": "#2a3f5f",
           "arrowhead": 0,
           "arrowwidth": 1
          },
          "autotypenumbers": "strict",
          "coloraxis": {
           "colorbar": {
            "outlinewidth": 0,
            "ticks": ""
           }
          },
          "colorscale": {
           "diverging": [
            [
             0,
             "#8e0152"
            ],
            [
             0.1,
             "#c51b7d"
            ],
            [
             0.2,
             "#de77ae"
            ],
            [
             0.3,
             "#f1b6da"
            ],
            [
             0.4,
             "#fde0ef"
            ],
            [
             0.5,
             "#f7f7f7"
            ],
            [
             0.6,
             "#e6f5d0"
            ],
            [
             0.7,
             "#b8e186"
            ],
            [
             0.8,
             "#7fbc41"
            ],
            [
             0.9,
             "#4d9221"
            ],
            [
             1,
             "#276419"
            ]
           ],
           "sequential": [
            [
             0,
             "#0d0887"
            ],
            [
             0.1111111111111111,
             "#46039f"
            ],
            [
             0.2222222222222222,
             "#7201a8"
            ],
            [
             0.3333333333333333,
             "#9c179e"
            ],
            [
             0.4444444444444444,
             "#bd3786"
            ],
            [
             0.5555555555555556,
             "#d8576b"
            ],
            [
             0.6666666666666666,
             "#ed7953"
            ],
            [
             0.7777777777777778,
             "#fb9f3a"
            ],
            [
             0.8888888888888888,
             "#fdca26"
            ],
            [
             1,
             "#f0f921"
            ]
           ],
           "sequentialminus": [
            [
             0,
             "#0d0887"
            ],
            [
             0.1111111111111111,
             "#46039f"
            ],
            [
             0.2222222222222222,
             "#7201a8"
            ],
            [
             0.3333333333333333,
             "#9c179e"
            ],
            [
             0.4444444444444444,
             "#bd3786"
            ],
            [
             0.5555555555555556,
             "#d8576b"
            ],
            [
             0.6666666666666666,
             "#ed7953"
            ],
            [
             0.7777777777777778,
             "#fb9f3a"
            ],
            [
             0.8888888888888888,
             "#fdca26"
            ],
            [
             1,
             "#f0f921"
            ]
           ]
          },
          "colorway": [
           "#636efa",
           "#EF553B",
           "#00cc96",
           "#ab63fa",
           "#FFA15A",
           "#19d3f3",
           "#FF6692",
           "#B6E880",
           "#FF97FF",
           "#FECB52"
          ],
          "font": {
           "color": "#2a3f5f"
          },
          "geo": {
           "bgcolor": "white",
           "lakecolor": "white",
           "landcolor": "#E5ECF6",
           "showlakes": true,
           "showland": true,
           "subunitcolor": "white"
          },
          "hoverlabel": {
           "align": "left"
          },
          "hovermode": "closest",
          "mapbox": {
           "style": "light"
          },
          "paper_bgcolor": "white",
          "plot_bgcolor": "#E5ECF6",
          "polar": {
           "angularaxis": {
            "gridcolor": "white",
            "linecolor": "white",
            "ticks": ""
           },
           "bgcolor": "#E5ECF6",
           "radialaxis": {
            "gridcolor": "white",
            "linecolor": "white",
            "ticks": ""
           }
          },
          "scene": {
           "xaxis": {
            "backgroundcolor": "#E5ECF6",
            "gridcolor": "white",
            "gridwidth": 2,
            "linecolor": "white",
            "showbackground": true,
            "ticks": "",
            "zerolinecolor": "white"
           },
           "yaxis": {
            "backgroundcolor": "#E5ECF6",
            "gridcolor": "white",
            "gridwidth": 2,
            "linecolor": "white",
            "showbackground": true,
            "ticks": "",
            "zerolinecolor": "white"
           },
           "zaxis": {
            "backgroundcolor": "#E5ECF6",
            "gridcolor": "white",
            "gridwidth": 2,
            "linecolor": "white",
            "showbackground": true,
            "ticks": "",
            "zerolinecolor": "white"
           }
          },
          "shapedefaults": {
           "line": {
            "color": "#2a3f5f"
           }
          },
          "ternary": {
           "aaxis": {
            "gridcolor": "white",
            "linecolor": "white",
            "ticks": ""
           },
           "baxis": {
            "gridcolor": "white",
            "linecolor": "white",
            "ticks": ""
           },
           "bgcolor": "#E5ECF6",
           "caxis": {
            "gridcolor": "white",
            "linecolor": "white",
            "ticks": ""
           }
          },
          "title": {
           "x": 0.05
          },
          "xaxis": {
           "automargin": true,
           "gridcolor": "white",
           "linecolor": "white",
           "ticks": "",
           "title": {
            "standoff": 15
           },
           "zerolinecolor": "white",
           "zerolinewidth": 2
          },
          "yaxis": {
           "automargin": true,
           "gridcolor": "white",
           "linecolor": "white",
           "ticks": "",
           "title": {
            "standoff": 15
           },
           "zerolinecolor": "white",
           "zerolinewidth": 2
          }
         }
        },
        "title": {
         "text": "Воронка событий группы A",
         "x": 0.5
        },
        "yaxis": {
         "title": {
          "text": "События в воронке"
         }
        }
       }
      },
      "text/html": [
       "<div>                            <div id=\"44ab0eea-9ca3-4488-be38-6eb59cbeb33a\" class=\"plotly-graph-div\" style=\"height:525px; width:100%;\"></div>            <script type=\"text/javascript\">                require([\"plotly\"], function(Plotly) {                    window.PLOTLYENV=window.PLOTLYENV || {};                                    if (document.getElementById(\"44ab0eea-9ca3-4488-be38-6eb59cbeb33a\")) {                    Plotly.newPlot(                        \"44ab0eea-9ca3-4488-be38-6eb59cbeb33a\",                        [{\"textinfo\":\"value+percent previous\",\"textposition\":\"inside\",\"x\":[2747,1780,824,872],\"y\":[\"login\",\"product_page\",\"product_cart\",\"purchase\"],\"type\":\"funnel\"}],                        {\"template\":{\"data\":{\"histogram2dcontour\":[{\"type\":\"histogram2dcontour\",\"colorbar\":{\"outlinewidth\":0,\"ticks\":\"\"},\"colorscale\":[[0.0,\"#0d0887\"],[0.1111111111111111,\"#46039f\"],[0.2222222222222222,\"#7201a8\"],[0.3333333333333333,\"#9c179e\"],[0.4444444444444444,\"#bd3786\"],[0.5555555555555556,\"#d8576b\"],[0.6666666666666666,\"#ed7953\"],[0.7777777777777778,\"#fb9f3a\"],[0.8888888888888888,\"#fdca26\"],[1.0,\"#f0f921\"]]}],\"choropleth\":[{\"type\":\"choropleth\",\"colorbar\":{\"outlinewidth\":0,\"ticks\":\"\"}}],\"histogram2d\":[{\"type\":\"histogram2d\",\"colorbar\":{\"outlinewidth\":0,\"ticks\":\"\"},\"colorscale\":[[0.0,\"#0d0887\"],[0.1111111111111111,\"#46039f\"],[0.2222222222222222,\"#7201a8\"],[0.3333333333333333,\"#9c179e\"],[0.4444444444444444,\"#bd3786\"],[0.5555555555555556,\"#d8576b\"],[0.6666666666666666,\"#ed7953\"],[0.7777777777777778,\"#fb9f3a\"],[0.8888888888888888,\"#fdca26\"],[1.0,\"#f0f921\"]]}],\"heatmap\":[{\"type\":\"heatmap\",\"colorbar\":{\"outlinewidth\":0,\"ticks\":\"\"},\"colorscale\":[[0.0,\"#0d0887\"],[0.1111111111111111,\"#46039f\"],[0.2222222222222222,\"#7201a8\"],[0.3333333333333333,\"#9c179e\"],[0.4444444444444444,\"#bd3786\"],[0.5555555555555556,\"#d8576b\"],[0.6666666666666666,\"#ed7953\"],[0.7777777777777778,\"#fb9f3a\"],[0.8888888888888888,\"#fdca26\"],[1.0,\"#f0f921\"]]}],\"heatmapgl\":[{\"type\":\"heatmapgl\",\"colorbar\":{\"outlinewidth\":0,\"ticks\":\"\"},\"colorscale\":[[0.0,\"#0d0887\"],[0.1111111111111111,\"#46039f\"],[0.2222222222222222,\"#7201a8\"],[0.3333333333333333,\"#9c179e\"],[0.4444444444444444,\"#bd3786\"],[0.5555555555555556,\"#d8576b\"],[0.6666666666666666,\"#ed7953\"],[0.7777777777777778,\"#fb9f3a\"],[0.8888888888888888,\"#fdca26\"],[1.0,\"#f0f921\"]]}],\"contourcarpet\":[{\"type\":\"contourcarpet\",\"colorbar\":{\"outlinewidth\":0,\"ticks\":\"\"}}],\"contour\":[{\"type\":\"contour\",\"colorbar\":{\"outlinewidth\":0,\"ticks\":\"\"},\"colorscale\":[[0.0,\"#0d0887\"],[0.1111111111111111,\"#46039f\"],[0.2222222222222222,\"#7201a8\"],[0.3333333333333333,\"#9c179e\"],[0.4444444444444444,\"#bd3786\"],[0.5555555555555556,\"#d8576b\"],[0.6666666666666666,\"#ed7953\"],[0.7777777777777778,\"#fb9f3a\"],[0.8888888888888888,\"#fdca26\"],[1.0,\"#f0f921\"]]}],\"surface\":[{\"type\":\"surface\",\"colorbar\":{\"outlinewidth\":0,\"ticks\":\"\"},\"colorscale\":[[0.0,\"#0d0887\"],[0.1111111111111111,\"#46039f\"],[0.2222222222222222,\"#7201a8\"],[0.3333333333333333,\"#9c179e\"],[0.4444444444444444,\"#bd3786\"],[0.5555555555555556,\"#d8576b\"],[0.6666666666666666,\"#ed7953\"],[0.7777777777777778,\"#fb9f3a\"],[0.8888888888888888,\"#fdca26\"],[1.0,\"#f0f921\"]]}],\"mesh3d\":[{\"type\":\"mesh3d\",\"colorbar\":{\"outlinewidth\":0,\"ticks\":\"\"}}],\"scatter\":[{\"fillpattern\":{\"fillmode\":\"overlay\",\"size\":10,\"solidity\":0.2},\"type\":\"scatter\"}],\"parcoords\":[{\"type\":\"parcoords\",\"line\":{\"colorbar\":{\"outlinewidth\":0,\"ticks\":\"\"}}}],\"scatterpolargl\":[{\"type\":\"scatterpolargl\",\"marker\":{\"colorbar\":{\"outlinewidth\":0,\"ticks\":\"\"}}}],\"bar\":[{\"error_x\":{\"color\":\"#2a3f5f\"},\"error_y\":{\"color\":\"#2a3f5f\"},\"marker\":{\"line\":{\"color\":\"#E5ECF6\",\"width\":0.5},\"pattern\":{\"fillmode\":\"overlay\",\"size\":10,\"solidity\":0.2}},\"type\":\"bar\"}],\"scattergeo\":[{\"type\":\"scattergeo\",\"marker\":{\"colorbar\":{\"outlinewidth\":0,\"ticks\":\"\"}}}],\"scatterpolar\":[{\"type\":\"scatterpolar\",\"marker\":{\"colorbar\":{\"outlinewidth\":0,\"ticks\":\"\"}}}],\"histogram\":[{\"marker\":{\"pattern\":{\"fillmode\":\"overlay\",\"size\":10,\"solidity\":0.2}},\"type\":\"histogram\"}],\"scattergl\":[{\"type\":\"scattergl\",\"marker\":{\"colorbar\":{\"outlinewidth\":0,\"ticks\":\"\"}}}],\"scatter3d\":[{\"type\":\"scatter3d\",\"line\":{\"colorbar\":{\"outlinewidth\":0,\"ticks\":\"\"}},\"marker\":{\"colorbar\":{\"outlinewidth\":0,\"ticks\":\"\"}}}],\"scattermapbox\":[{\"type\":\"scattermapbox\",\"marker\":{\"colorbar\":{\"outlinewidth\":0,\"ticks\":\"\"}}}],\"scatterternary\":[{\"type\":\"scatterternary\",\"marker\":{\"colorbar\":{\"outlinewidth\":0,\"ticks\":\"\"}}}],\"scattercarpet\":[{\"type\":\"scattercarpet\",\"marker\":{\"colorbar\":{\"outlinewidth\":0,\"ticks\":\"\"}}}],\"carpet\":[{\"aaxis\":{\"endlinecolor\":\"#2a3f5f\",\"gridcolor\":\"white\",\"linecolor\":\"white\",\"minorgridcolor\":\"white\",\"startlinecolor\":\"#2a3f5f\"},\"baxis\":{\"endlinecolor\":\"#2a3f5f\",\"gridcolor\":\"white\",\"linecolor\":\"white\",\"minorgridcolor\":\"white\",\"startlinecolor\":\"#2a3f5f\"},\"type\":\"carpet\"}],\"table\":[{\"cells\":{\"fill\":{\"color\":\"#EBF0F8\"},\"line\":{\"color\":\"white\"}},\"header\":{\"fill\":{\"color\":\"#C8D4E3\"},\"line\":{\"color\":\"white\"}},\"type\":\"table\"}],\"barpolar\":[{\"marker\":{\"line\":{\"color\":\"#E5ECF6\",\"width\":0.5},\"pattern\":{\"fillmode\":\"overlay\",\"size\":10,\"solidity\":0.2}},\"type\":\"barpolar\"}],\"pie\":[{\"automargin\":true,\"type\":\"pie\"}]},\"layout\":{\"autotypenumbers\":\"strict\",\"colorway\":[\"#636efa\",\"#EF553B\",\"#00cc96\",\"#ab63fa\",\"#FFA15A\",\"#19d3f3\",\"#FF6692\",\"#B6E880\",\"#FF97FF\",\"#FECB52\"],\"font\":{\"color\":\"#2a3f5f\"},\"hovermode\":\"closest\",\"hoverlabel\":{\"align\":\"left\"},\"paper_bgcolor\":\"white\",\"plot_bgcolor\":\"#E5ECF6\",\"polar\":{\"bgcolor\":\"#E5ECF6\",\"angularaxis\":{\"gridcolor\":\"white\",\"linecolor\":\"white\",\"ticks\":\"\"},\"radialaxis\":{\"gridcolor\":\"white\",\"linecolor\":\"white\",\"ticks\":\"\"}},\"ternary\":{\"bgcolor\":\"#E5ECF6\",\"aaxis\":{\"gridcolor\":\"white\",\"linecolor\":\"white\",\"ticks\":\"\"},\"baxis\":{\"gridcolor\":\"white\",\"linecolor\":\"white\",\"ticks\":\"\"},\"caxis\":{\"gridcolor\":\"white\",\"linecolor\":\"white\",\"ticks\":\"\"}},\"coloraxis\":{\"colorbar\":{\"outlinewidth\":0,\"ticks\":\"\"}},\"colorscale\":{\"sequential\":[[0.0,\"#0d0887\"],[0.1111111111111111,\"#46039f\"],[0.2222222222222222,\"#7201a8\"],[0.3333333333333333,\"#9c179e\"],[0.4444444444444444,\"#bd3786\"],[0.5555555555555556,\"#d8576b\"],[0.6666666666666666,\"#ed7953\"],[0.7777777777777778,\"#fb9f3a\"],[0.8888888888888888,\"#fdca26\"],[1.0,\"#f0f921\"]],\"sequentialminus\":[[0.0,\"#0d0887\"],[0.1111111111111111,\"#46039f\"],[0.2222222222222222,\"#7201a8\"],[0.3333333333333333,\"#9c179e\"],[0.4444444444444444,\"#bd3786\"],[0.5555555555555556,\"#d8576b\"],[0.6666666666666666,\"#ed7953\"],[0.7777777777777778,\"#fb9f3a\"],[0.8888888888888888,\"#fdca26\"],[1.0,\"#f0f921\"]],\"diverging\":[[0,\"#8e0152\"],[0.1,\"#c51b7d\"],[0.2,\"#de77ae\"],[0.3,\"#f1b6da\"],[0.4,\"#fde0ef\"],[0.5,\"#f7f7f7\"],[0.6,\"#e6f5d0\"],[0.7,\"#b8e186\"],[0.8,\"#7fbc41\"],[0.9,\"#4d9221\"],[1,\"#276419\"]]},\"xaxis\":{\"gridcolor\":\"white\",\"linecolor\":\"white\",\"ticks\":\"\",\"title\":{\"standoff\":15},\"zerolinecolor\":\"white\",\"automargin\":true,\"zerolinewidth\":2},\"yaxis\":{\"gridcolor\":\"white\",\"linecolor\":\"white\",\"ticks\":\"\",\"title\":{\"standoff\":15},\"zerolinecolor\":\"white\",\"automargin\":true,\"zerolinewidth\":2},\"scene\":{\"xaxis\":{\"backgroundcolor\":\"#E5ECF6\",\"gridcolor\":\"white\",\"linecolor\":\"white\",\"showbackground\":true,\"ticks\":\"\",\"zerolinecolor\":\"white\",\"gridwidth\":2},\"yaxis\":{\"backgroundcolor\":\"#E5ECF6\",\"gridcolor\":\"white\",\"linecolor\":\"white\",\"showbackground\":true,\"ticks\":\"\",\"zerolinecolor\":\"white\",\"gridwidth\":2},\"zaxis\":{\"backgroundcolor\":\"#E5ECF6\",\"gridcolor\":\"white\",\"linecolor\":\"white\",\"showbackground\":true,\"ticks\":\"\",\"zerolinecolor\":\"white\",\"gridwidth\":2}},\"shapedefaults\":{\"line\":{\"color\":\"#2a3f5f\"}},\"annotationdefaults\":{\"arrowcolor\":\"#2a3f5f\",\"arrowhead\":0,\"arrowwidth\":1},\"geo\":{\"bgcolor\":\"white\",\"landcolor\":\"#E5ECF6\",\"subunitcolor\":\"white\",\"showland\":true,\"showlakes\":true,\"lakecolor\":\"white\"},\"title\":{\"x\":0.05},\"mapbox\":{\"style\":\"light\"}}},\"title\":{\"text\":\"\\u0412\\u043e\\u0440\\u043e\\u043d\\u043a\\u0430 \\u0441\\u043e\\u0431\\u044b\\u0442\\u0438\\u0439 \\u0433\\u0440\\u0443\\u043f\\u043f\\u044b A\",\"x\":0.5},\"yaxis\":{\"title\":{\"text\":\"\\u0421\\u043e\\u0431\\u044b\\u0442\\u0438\\u044f \\u0432 \\u0432\\u043e\\u0440\\u043e\\u043d\\u043a\\u0435\"}}},                        {\"responsive\": true}                    ).then(function(){\n",
       "                            \n",
       "var gd = document.getElementById('44ab0eea-9ca3-4488-be38-6eb59cbeb33a');\n",
       "var x = new MutationObserver(function (mutations, observer) {{\n",
       "        var display = window.getComputedStyle(gd).display;\n",
       "        if (!display || display === 'none') {{\n",
       "            console.log([gd, 'removed!']);\n",
       "            Plotly.purge(gd);\n",
       "            observer.disconnect();\n",
       "        }}\n",
       "}});\n",
       "\n",
       "// Listen for the removal of the full notebook cells\n",
       "var notebookContainer = gd.closest('#notebook-container');\n",
       "if (notebookContainer) {{\n",
       "    x.observe(notebookContainer, {childList: true});\n",
       "}}\n",
       "\n",
       "// Listen for the clearing of the current output cell\n",
       "var outputEl = gd.closest('.output');\n",
       "if (outputEl) {{\n",
       "    x.observe(outputEl, {childList: true});\n",
       "}}\n",
       "\n",
       "                        })                };                });            </script>        </div>"
      ]
     },
     "metadata": {},
     "output_type": "display_data"
    }
   ],
   "source": [
    "fig = go.Figure(go.Funnel(y = ['login','product_page','product_cart','purchase'],\n",
    "                          x = [2747,1780,824,872],\n",
    "                          \n",
    "                          textposition = 'inside',\n",
    "                          textinfo = 'value + percent previous'))\n",
    "fig.update_layout(title='Воронка событий группы A',yaxis_title='События в воронке', title_x = 0.5)\n",
    "fig.show()"
   ]
  },
  {
   "cell_type": "markdown",
   "metadata": {},
   "source": [
    "### Изменение конверсии в воронке в выборках на разных этапах для группы B"
   ]
  },
  {
   "cell_type": "code",
   "execution_count": 95,
   "metadata": {},
   "outputs": [
    {
     "data": {
      "application/vnd.plotly.v1+json": {
       "config": {
        "plotlyServerURL": "https://plot.ly"
       },
       "data": [
        {
         "textinfo": "value+percent previous",
         "textposition": "inside",
         "type": "funnel",
         "x": [
          927,
          523,
          255,
          256
         ],
         "y": [
          "login",
          "product_page",
          "product_cart",
          "purchase"
         ]
        }
       ],
       "layout": {
        "template": {
         "data": {
          "bar": [
           {
            "error_x": {
             "color": "#2a3f5f"
            },
            "error_y": {
             "color": "#2a3f5f"
            },
            "marker": {
             "line": {
              "color": "#E5ECF6",
              "width": 0.5
             },
             "pattern": {
              "fillmode": "overlay",
              "size": 10,
              "solidity": 0.2
             }
            },
            "type": "bar"
           }
          ],
          "barpolar": [
           {
            "marker": {
             "line": {
              "color": "#E5ECF6",
              "width": 0.5
             },
             "pattern": {
              "fillmode": "overlay",
              "size": 10,
              "solidity": 0.2
             }
            },
            "type": "barpolar"
           }
          ],
          "carpet": [
           {
            "aaxis": {
             "endlinecolor": "#2a3f5f",
             "gridcolor": "white",
             "linecolor": "white",
             "minorgridcolor": "white",
             "startlinecolor": "#2a3f5f"
            },
            "baxis": {
             "endlinecolor": "#2a3f5f",
             "gridcolor": "white",
             "linecolor": "white",
             "minorgridcolor": "white",
             "startlinecolor": "#2a3f5f"
            },
            "type": "carpet"
           }
          ],
          "choropleth": [
           {
            "colorbar": {
             "outlinewidth": 0,
             "ticks": ""
            },
            "type": "choropleth"
           }
          ],
          "contour": [
           {
            "colorbar": {
             "outlinewidth": 0,
             "ticks": ""
            },
            "colorscale": [
             [
              0,
              "#0d0887"
             ],
             [
              0.1111111111111111,
              "#46039f"
             ],
             [
              0.2222222222222222,
              "#7201a8"
             ],
             [
              0.3333333333333333,
              "#9c179e"
             ],
             [
              0.4444444444444444,
              "#bd3786"
             ],
             [
              0.5555555555555556,
              "#d8576b"
             ],
             [
              0.6666666666666666,
              "#ed7953"
             ],
             [
              0.7777777777777778,
              "#fb9f3a"
             ],
             [
              0.8888888888888888,
              "#fdca26"
             ],
             [
              1,
              "#f0f921"
             ]
            ],
            "type": "contour"
           }
          ],
          "contourcarpet": [
           {
            "colorbar": {
             "outlinewidth": 0,
             "ticks": ""
            },
            "type": "contourcarpet"
           }
          ],
          "heatmap": [
           {
            "colorbar": {
             "outlinewidth": 0,
             "ticks": ""
            },
            "colorscale": [
             [
              0,
              "#0d0887"
             ],
             [
              0.1111111111111111,
              "#46039f"
             ],
             [
              0.2222222222222222,
              "#7201a8"
             ],
             [
              0.3333333333333333,
              "#9c179e"
             ],
             [
              0.4444444444444444,
              "#bd3786"
             ],
             [
              0.5555555555555556,
              "#d8576b"
             ],
             [
              0.6666666666666666,
              "#ed7953"
             ],
             [
              0.7777777777777778,
              "#fb9f3a"
             ],
             [
              0.8888888888888888,
              "#fdca26"
             ],
             [
              1,
              "#f0f921"
             ]
            ],
            "type": "heatmap"
           }
          ],
          "heatmapgl": [
           {
            "colorbar": {
             "outlinewidth": 0,
             "ticks": ""
            },
            "colorscale": [
             [
              0,
              "#0d0887"
             ],
             [
              0.1111111111111111,
              "#46039f"
             ],
             [
              0.2222222222222222,
              "#7201a8"
             ],
             [
              0.3333333333333333,
              "#9c179e"
             ],
             [
              0.4444444444444444,
              "#bd3786"
             ],
             [
              0.5555555555555556,
              "#d8576b"
             ],
             [
              0.6666666666666666,
              "#ed7953"
             ],
             [
              0.7777777777777778,
              "#fb9f3a"
             ],
             [
              0.8888888888888888,
              "#fdca26"
             ],
             [
              1,
              "#f0f921"
             ]
            ],
            "type": "heatmapgl"
           }
          ],
          "histogram": [
           {
            "marker": {
             "pattern": {
              "fillmode": "overlay",
              "size": 10,
              "solidity": 0.2
             }
            },
            "type": "histogram"
           }
          ],
          "histogram2d": [
           {
            "colorbar": {
             "outlinewidth": 0,
             "ticks": ""
            },
            "colorscale": [
             [
              0,
              "#0d0887"
             ],
             [
              0.1111111111111111,
              "#46039f"
             ],
             [
              0.2222222222222222,
              "#7201a8"
             ],
             [
              0.3333333333333333,
              "#9c179e"
             ],
             [
              0.4444444444444444,
              "#bd3786"
             ],
             [
              0.5555555555555556,
              "#d8576b"
             ],
             [
              0.6666666666666666,
              "#ed7953"
             ],
             [
              0.7777777777777778,
              "#fb9f3a"
             ],
             [
              0.8888888888888888,
              "#fdca26"
             ],
             [
              1,
              "#f0f921"
             ]
            ],
            "type": "histogram2d"
           }
          ],
          "histogram2dcontour": [
           {
            "colorbar": {
             "outlinewidth": 0,
             "ticks": ""
            },
            "colorscale": [
             [
              0,
              "#0d0887"
             ],
             [
              0.1111111111111111,
              "#46039f"
             ],
             [
              0.2222222222222222,
              "#7201a8"
             ],
             [
              0.3333333333333333,
              "#9c179e"
             ],
             [
              0.4444444444444444,
              "#bd3786"
             ],
             [
              0.5555555555555556,
              "#d8576b"
             ],
             [
              0.6666666666666666,
              "#ed7953"
             ],
             [
              0.7777777777777778,
              "#fb9f3a"
             ],
             [
              0.8888888888888888,
              "#fdca26"
             ],
             [
              1,
              "#f0f921"
             ]
            ],
            "type": "histogram2dcontour"
           }
          ],
          "mesh3d": [
           {
            "colorbar": {
             "outlinewidth": 0,
             "ticks": ""
            },
            "type": "mesh3d"
           }
          ],
          "parcoords": [
           {
            "line": {
             "colorbar": {
              "outlinewidth": 0,
              "ticks": ""
             }
            },
            "type": "parcoords"
           }
          ],
          "pie": [
           {
            "automargin": true,
            "type": "pie"
           }
          ],
          "scatter": [
           {
            "fillpattern": {
             "fillmode": "overlay",
             "size": 10,
             "solidity": 0.2
            },
            "type": "scatter"
           }
          ],
          "scatter3d": [
           {
            "line": {
             "colorbar": {
              "outlinewidth": 0,
              "ticks": ""
             }
            },
            "marker": {
             "colorbar": {
              "outlinewidth": 0,
              "ticks": ""
             }
            },
            "type": "scatter3d"
           }
          ],
          "scattercarpet": [
           {
            "marker": {
             "colorbar": {
              "outlinewidth": 0,
              "ticks": ""
             }
            },
            "type": "scattercarpet"
           }
          ],
          "scattergeo": [
           {
            "marker": {
             "colorbar": {
              "outlinewidth": 0,
              "ticks": ""
             }
            },
            "type": "scattergeo"
           }
          ],
          "scattergl": [
           {
            "marker": {
             "colorbar": {
              "outlinewidth": 0,
              "ticks": ""
             }
            },
            "type": "scattergl"
           }
          ],
          "scattermapbox": [
           {
            "marker": {
             "colorbar": {
              "outlinewidth": 0,
              "ticks": ""
             }
            },
            "type": "scattermapbox"
           }
          ],
          "scatterpolar": [
           {
            "marker": {
             "colorbar": {
              "outlinewidth": 0,
              "ticks": ""
             }
            },
            "type": "scatterpolar"
           }
          ],
          "scatterpolargl": [
           {
            "marker": {
             "colorbar": {
              "outlinewidth": 0,
              "ticks": ""
             }
            },
            "type": "scatterpolargl"
           }
          ],
          "scatterternary": [
           {
            "marker": {
             "colorbar": {
              "outlinewidth": 0,
              "ticks": ""
             }
            },
            "type": "scatterternary"
           }
          ],
          "surface": [
           {
            "colorbar": {
             "outlinewidth": 0,
             "ticks": ""
            },
            "colorscale": [
             [
              0,
              "#0d0887"
             ],
             [
              0.1111111111111111,
              "#46039f"
             ],
             [
              0.2222222222222222,
              "#7201a8"
             ],
             [
              0.3333333333333333,
              "#9c179e"
             ],
             [
              0.4444444444444444,
              "#bd3786"
             ],
             [
              0.5555555555555556,
              "#d8576b"
             ],
             [
              0.6666666666666666,
              "#ed7953"
             ],
             [
              0.7777777777777778,
              "#fb9f3a"
             ],
             [
              0.8888888888888888,
              "#fdca26"
             ],
             [
              1,
              "#f0f921"
             ]
            ],
            "type": "surface"
           }
          ],
          "table": [
           {
            "cells": {
             "fill": {
              "color": "#EBF0F8"
             },
             "line": {
              "color": "white"
             }
            },
            "header": {
             "fill": {
              "color": "#C8D4E3"
             },
             "line": {
              "color": "white"
             }
            },
            "type": "table"
           }
          ]
         },
         "layout": {
          "annotationdefaults": {
           "arrowcolor": "#2a3f5f",
           "arrowhead": 0,
           "arrowwidth": 1
          },
          "autotypenumbers": "strict",
          "coloraxis": {
           "colorbar": {
            "outlinewidth": 0,
            "ticks": ""
           }
          },
          "colorscale": {
           "diverging": [
            [
             0,
             "#8e0152"
            ],
            [
             0.1,
             "#c51b7d"
            ],
            [
             0.2,
             "#de77ae"
            ],
            [
             0.3,
             "#f1b6da"
            ],
            [
             0.4,
             "#fde0ef"
            ],
            [
             0.5,
             "#f7f7f7"
            ],
            [
             0.6,
             "#e6f5d0"
            ],
            [
             0.7,
             "#b8e186"
            ],
            [
             0.8,
             "#7fbc41"
            ],
            [
             0.9,
             "#4d9221"
            ],
            [
             1,
             "#276419"
            ]
           ],
           "sequential": [
            [
             0,
             "#0d0887"
            ],
            [
             0.1111111111111111,
             "#46039f"
            ],
            [
             0.2222222222222222,
             "#7201a8"
            ],
            [
             0.3333333333333333,
             "#9c179e"
            ],
            [
             0.4444444444444444,
             "#bd3786"
            ],
            [
             0.5555555555555556,
             "#d8576b"
            ],
            [
             0.6666666666666666,
             "#ed7953"
            ],
            [
             0.7777777777777778,
             "#fb9f3a"
            ],
            [
             0.8888888888888888,
             "#fdca26"
            ],
            [
             1,
             "#f0f921"
            ]
           ],
           "sequentialminus": [
            [
             0,
             "#0d0887"
            ],
            [
             0.1111111111111111,
             "#46039f"
            ],
            [
             0.2222222222222222,
             "#7201a8"
            ],
            [
             0.3333333333333333,
             "#9c179e"
            ],
            [
             0.4444444444444444,
             "#bd3786"
            ],
            [
             0.5555555555555556,
             "#d8576b"
            ],
            [
             0.6666666666666666,
             "#ed7953"
            ],
            [
             0.7777777777777778,
             "#fb9f3a"
            ],
            [
             0.8888888888888888,
             "#fdca26"
            ],
            [
             1,
             "#f0f921"
            ]
           ]
          },
          "colorway": [
           "#636efa",
           "#EF553B",
           "#00cc96",
           "#ab63fa",
           "#FFA15A",
           "#19d3f3",
           "#FF6692",
           "#B6E880",
           "#FF97FF",
           "#FECB52"
          ],
          "font": {
           "color": "#2a3f5f"
          },
          "geo": {
           "bgcolor": "white",
           "lakecolor": "white",
           "landcolor": "#E5ECF6",
           "showlakes": true,
           "showland": true,
           "subunitcolor": "white"
          },
          "hoverlabel": {
           "align": "left"
          },
          "hovermode": "closest",
          "mapbox": {
           "style": "light"
          },
          "paper_bgcolor": "white",
          "plot_bgcolor": "#E5ECF6",
          "polar": {
           "angularaxis": {
            "gridcolor": "white",
            "linecolor": "white",
            "ticks": ""
           },
           "bgcolor": "#E5ECF6",
           "radialaxis": {
            "gridcolor": "white",
            "linecolor": "white",
            "ticks": ""
           }
          },
          "scene": {
           "xaxis": {
            "backgroundcolor": "#E5ECF6",
            "gridcolor": "white",
            "gridwidth": 2,
            "linecolor": "white",
            "showbackground": true,
            "ticks": "",
            "zerolinecolor": "white"
           },
           "yaxis": {
            "backgroundcolor": "#E5ECF6",
            "gridcolor": "white",
            "gridwidth": 2,
            "linecolor": "white",
            "showbackground": true,
            "ticks": "",
            "zerolinecolor": "white"
           },
           "zaxis": {
            "backgroundcolor": "#E5ECF6",
            "gridcolor": "white",
            "gridwidth": 2,
            "linecolor": "white",
            "showbackground": true,
            "ticks": "",
            "zerolinecolor": "white"
           }
          },
          "shapedefaults": {
           "line": {
            "color": "#2a3f5f"
           }
          },
          "ternary": {
           "aaxis": {
            "gridcolor": "white",
            "linecolor": "white",
            "ticks": ""
           },
           "baxis": {
            "gridcolor": "white",
            "linecolor": "white",
            "ticks": ""
           },
           "bgcolor": "#E5ECF6",
           "caxis": {
            "gridcolor": "white",
            "linecolor": "white",
            "ticks": ""
           }
          },
          "title": {
           "x": 0.05
          },
          "xaxis": {
           "automargin": true,
           "gridcolor": "white",
           "linecolor": "white",
           "ticks": "",
           "title": {
            "standoff": 15
           },
           "zerolinecolor": "white",
           "zerolinewidth": 2
          },
          "yaxis": {
           "automargin": true,
           "gridcolor": "white",
           "linecolor": "white",
           "ticks": "",
           "title": {
            "standoff": 15
           },
           "zerolinecolor": "white",
           "zerolinewidth": 2
          }
         }
        },
        "title": {
         "text": "Воронка событий группы B",
         "x": 0.5
        },
        "yaxis": {
         "title": {
          "text": "События в воронке"
         }
        }
       }
      },
      "text/html": [
       "<div>                            <div id=\"c1580f4d-f2fe-44c2-8d14-ee571a95dbf3\" class=\"plotly-graph-div\" style=\"height:525px; width:100%;\"></div>            <script type=\"text/javascript\">                require([\"plotly\"], function(Plotly) {                    window.PLOTLYENV=window.PLOTLYENV || {};                                    if (document.getElementById(\"c1580f4d-f2fe-44c2-8d14-ee571a95dbf3\")) {                    Plotly.newPlot(                        \"c1580f4d-f2fe-44c2-8d14-ee571a95dbf3\",                        [{\"textinfo\":\"value+percent previous\",\"textposition\":\"inside\",\"x\":[927,523,255,256],\"y\":[\"login\",\"product_page\",\"product_cart\",\"purchase\"],\"type\":\"funnel\"}],                        {\"template\":{\"data\":{\"histogram2dcontour\":[{\"type\":\"histogram2dcontour\",\"colorbar\":{\"outlinewidth\":0,\"ticks\":\"\"},\"colorscale\":[[0.0,\"#0d0887\"],[0.1111111111111111,\"#46039f\"],[0.2222222222222222,\"#7201a8\"],[0.3333333333333333,\"#9c179e\"],[0.4444444444444444,\"#bd3786\"],[0.5555555555555556,\"#d8576b\"],[0.6666666666666666,\"#ed7953\"],[0.7777777777777778,\"#fb9f3a\"],[0.8888888888888888,\"#fdca26\"],[1.0,\"#f0f921\"]]}],\"choropleth\":[{\"type\":\"choropleth\",\"colorbar\":{\"outlinewidth\":0,\"ticks\":\"\"}}],\"histogram2d\":[{\"type\":\"histogram2d\",\"colorbar\":{\"outlinewidth\":0,\"ticks\":\"\"},\"colorscale\":[[0.0,\"#0d0887\"],[0.1111111111111111,\"#46039f\"],[0.2222222222222222,\"#7201a8\"],[0.3333333333333333,\"#9c179e\"],[0.4444444444444444,\"#bd3786\"],[0.5555555555555556,\"#d8576b\"],[0.6666666666666666,\"#ed7953\"],[0.7777777777777778,\"#fb9f3a\"],[0.8888888888888888,\"#fdca26\"],[1.0,\"#f0f921\"]]}],\"heatmap\":[{\"type\":\"heatmap\",\"colorbar\":{\"outlinewidth\":0,\"ticks\":\"\"},\"colorscale\":[[0.0,\"#0d0887\"],[0.1111111111111111,\"#46039f\"],[0.2222222222222222,\"#7201a8\"],[0.3333333333333333,\"#9c179e\"],[0.4444444444444444,\"#bd3786\"],[0.5555555555555556,\"#d8576b\"],[0.6666666666666666,\"#ed7953\"],[0.7777777777777778,\"#fb9f3a\"],[0.8888888888888888,\"#fdca26\"],[1.0,\"#f0f921\"]]}],\"heatmapgl\":[{\"type\":\"heatmapgl\",\"colorbar\":{\"outlinewidth\":0,\"ticks\":\"\"},\"colorscale\":[[0.0,\"#0d0887\"],[0.1111111111111111,\"#46039f\"],[0.2222222222222222,\"#7201a8\"],[0.3333333333333333,\"#9c179e\"],[0.4444444444444444,\"#bd3786\"],[0.5555555555555556,\"#d8576b\"],[0.6666666666666666,\"#ed7953\"],[0.7777777777777778,\"#fb9f3a\"],[0.8888888888888888,\"#fdca26\"],[1.0,\"#f0f921\"]]}],\"contourcarpet\":[{\"type\":\"contourcarpet\",\"colorbar\":{\"outlinewidth\":0,\"ticks\":\"\"}}],\"contour\":[{\"type\":\"contour\",\"colorbar\":{\"outlinewidth\":0,\"ticks\":\"\"},\"colorscale\":[[0.0,\"#0d0887\"],[0.1111111111111111,\"#46039f\"],[0.2222222222222222,\"#7201a8\"],[0.3333333333333333,\"#9c179e\"],[0.4444444444444444,\"#bd3786\"],[0.5555555555555556,\"#d8576b\"],[0.6666666666666666,\"#ed7953\"],[0.7777777777777778,\"#fb9f3a\"],[0.8888888888888888,\"#fdca26\"],[1.0,\"#f0f921\"]]}],\"surface\":[{\"type\":\"surface\",\"colorbar\":{\"outlinewidth\":0,\"ticks\":\"\"},\"colorscale\":[[0.0,\"#0d0887\"],[0.1111111111111111,\"#46039f\"],[0.2222222222222222,\"#7201a8\"],[0.3333333333333333,\"#9c179e\"],[0.4444444444444444,\"#bd3786\"],[0.5555555555555556,\"#d8576b\"],[0.6666666666666666,\"#ed7953\"],[0.7777777777777778,\"#fb9f3a\"],[0.8888888888888888,\"#fdca26\"],[1.0,\"#f0f921\"]]}],\"mesh3d\":[{\"type\":\"mesh3d\",\"colorbar\":{\"outlinewidth\":0,\"ticks\":\"\"}}],\"scatter\":[{\"fillpattern\":{\"fillmode\":\"overlay\",\"size\":10,\"solidity\":0.2},\"type\":\"scatter\"}],\"parcoords\":[{\"type\":\"parcoords\",\"line\":{\"colorbar\":{\"outlinewidth\":0,\"ticks\":\"\"}}}],\"scatterpolargl\":[{\"type\":\"scatterpolargl\",\"marker\":{\"colorbar\":{\"outlinewidth\":0,\"ticks\":\"\"}}}],\"bar\":[{\"error_x\":{\"color\":\"#2a3f5f\"},\"error_y\":{\"color\":\"#2a3f5f\"},\"marker\":{\"line\":{\"color\":\"#E5ECF6\",\"width\":0.5},\"pattern\":{\"fillmode\":\"overlay\",\"size\":10,\"solidity\":0.2}},\"type\":\"bar\"}],\"scattergeo\":[{\"type\":\"scattergeo\",\"marker\":{\"colorbar\":{\"outlinewidth\":0,\"ticks\":\"\"}}}],\"scatterpolar\":[{\"type\":\"scatterpolar\",\"marker\":{\"colorbar\":{\"outlinewidth\":0,\"ticks\":\"\"}}}],\"histogram\":[{\"marker\":{\"pattern\":{\"fillmode\":\"overlay\",\"size\":10,\"solidity\":0.2}},\"type\":\"histogram\"}],\"scattergl\":[{\"type\":\"scattergl\",\"marker\":{\"colorbar\":{\"outlinewidth\":0,\"ticks\":\"\"}}}],\"scatter3d\":[{\"type\":\"scatter3d\",\"line\":{\"colorbar\":{\"outlinewidth\":0,\"ticks\":\"\"}},\"marker\":{\"colorbar\":{\"outlinewidth\":0,\"ticks\":\"\"}}}],\"scattermapbox\":[{\"type\":\"scattermapbox\",\"marker\":{\"colorbar\":{\"outlinewidth\":0,\"ticks\":\"\"}}}],\"scatterternary\":[{\"type\":\"scatterternary\",\"marker\":{\"colorbar\":{\"outlinewidth\":0,\"ticks\":\"\"}}}],\"scattercarpet\":[{\"type\":\"scattercarpet\",\"marker\":{\"colorbar\":{\"outlinewidth\":0,\"ticks\":\"\"}}}],\"carpet\":[{\"aaxis\":{\"endlinecolor\":\"#2a3f5f\",\"gridcolor\":\"white\",\"linecolor\":\"white\",\"minorgridcolor\":\"white\",\"startlinecolor\":\"#2a3f5f\"},\"baxis\":{\"endlinecolor\":\"#2a3f5f\",\"gridcolor\":\"white\",\"linecolor\":\"white\",\"minorgridcolor\":\"white\",\"startlinecolor\":\"#2a3f5f\"},\"type\":\"carpet\"}],\"table\":[{\"cells\":{\"fill\":{\"color\":\"#EBF0F8\"},\"line\":{\"color\":\"white\"}},\"header\":{\"fill\":{\"color\":\"#C8D4E3\"},\"line\":{\"color\":\"white\"}},\"type\":\"table\"}],\"barpolar\":[{\"marker\":{\"line\":{\"color\":\"#E5ECF6\",\"width\":0.5},\"pattern\":{\"fillmode\":\"overlay\",\"size\":10,\"solidity\":0.2}},\"type\":\"barpolar\"}],\"pie\":[{\"automargin\":true,\"type\":\"pie\"}]},\"layout\":{\"autotypenumbers\":\"strict\",\"colorway\":[\"#636efa\",\"#EF553B\",\"#00cc96\",\"#ab63fa\",\"#FFA15A\",\"#19d3f3\",\"#FF6692\",\"#B6E880\",\"#FF97FF\",\"#FECB52\"],\"font\":{\"color\":\"#2a3f5f\"},\"hovermode\":\"closest\",\"hoverlabel\":{\"align\":\"left\"},\"paper_bgcolor\":\"white\",\"plot_bgcolor\":\"#E5ECF6\",\"polar\":{\"bgcolor\":\"#E5ECF6\",\"angularaxis\":{\"gridcolor\":\"white\",\"linecolor\":\"white\",\"ticks\":\"\"},\"radialaxis\":{\"gridcolor\":\"white\",\"linecolor\":\"white\",\"ticks\":\"\"}},\"ternary\":{\"bgcolor\":\"#E5ECF6\",\"aaxis\":{\"gridcolor\":\"white\",\"linecolor\":\"white\",\"ticks\":\"\"},\"baxis\":{\"gridcolor\":\"white\",\"linecolor\":\"white\",\"ticks\":\"\"},\"caxis\":{\"gridcolor\":\"white\",\"linecolor\":\"white\",\"ticks\":\"\"}},\"coloraxis\":{\"colorbar\":{\"outlinewidth\":0,\"ticks\":\"\"}},\"colorscale\":{\"sequential\":[[0.0,\"#0d0887\"],[0.1111111111111111,\"#46039f\"],[0.2222222222222222,\"#7201a8\"],[0.3333333333333333,\"#9c179e\"],[0.4444444444444444,\"#bd3786\"],[0.5555555555555556,\"#d8576b\"],[0.6666666666666666,\"#ed7953\"],[0.7777777777777778,\"#fb9f3a\"],[0.8888888888888888,\"#fdca26\"],[1.0,\"#f0f921\"]],\"sequentialminus\":[[0.0,\"#0d0887\"],[0.1111111111111111,\"#46039f\"],[0.2222222222222222,\"#7201a8\"],[0.3333333333333333,\"#9c179e\"],[0.4444444444444444,\"#bd3786\"],[0.5555555555555556,\"#d8576b\"],[0.6666666666666666,\"#ed7953\"],[0.7777777777777778,\"#fb9f3a\"],[0.8888888888888888,\"#fdca26\"],[1.0,\"#f0f921\"]],\"diverging\":[[0,\"#8e0152\"],[0.1,\"#c51b7d\"],[0.2,\"#de77ae\"],[0.3,\"#f1b6da\"],[0.4,\"#fde0ef\"],[0.5,\"#f7f7f7\"],[0.6,\"#e6f5d0\"],[0.7,\"#b8e186\"],[0.8,\"#7fbc41\"],[0.9,\"#4d9221\"],[1,\"#276419\"]]},\"xaxis\":{\"gridcolor\":\"white\",\"linecolor\":\"white\",\"ticks\":\"\",\"title\":{\"standoff\":15},\"zerolinecolor\":\"white\",\"automargin\":true,\"zerolinewidth\":2},\"yaxis\":{\"gridcolor\":\"white\",\"linecolor\":\"white\",\"ticks\":\"\",\"title\":{\"standoff\":15},\"zerolinecolor\":\"white\",\"automargin\":true,\"zerolinewidth\":2},\"scene\":{\"xaxis\":{\"backgroundcolor\":\"#E5ECF6\",\"gridcolor\":\"white\",\"linecolor\":\"white\",\"showbackground\":true,\"ticks\":\"\",\"zerolinecolor\":\"white\",\"gridwidth\":2},\"yaxis\":{\"backgroundcolor\":\"#E5ECF6\",\"gridcolor\":\"white\",\"linecolor\":\"white\",\"showbackground\":true,\"ticks\":\"\",\"zerolinecolor\":\"white\",\"gridwidth\":2},\"zaxis\":{\"backgroundcolor\":\"#E5ECF6\",\"gridcolor\":\"white\",\"linecolor\":\"white\",\"showbackground\":true,\"ticks\":\"\",\"zerolinecolor\":\"white\",\"gridwidth\":2}},\"shapedefaults\":{\"line\":{\"color\":\"#2a3f5f\"}},\"annotationdefaults\":{\"arrowcolor\":\"#2a3f5f\",\"arrowhead\":0,\"arrowwidth\":1},\"geo\":{\"bgcolor\":\"white\",\"landcolor\":\"#E5ECF6\",\"subunitcolor\":\"white\",\"showland\":true,\"showlakes\":true,\"lakecolor\":\"white\"},\"title\":{\"x\":0.05},\"mapbox\":{\"style\":\"light\"}}},\"title\":{\"text\":\"\\u0412\\u043e\\u0440\\u043e\\u043d\\u043a\\u0430 \\u0441\\u043e\\u0431\\u044b\\u0442\\u0438\\u0439 \\u0433\\u0440\\u0443\\u043f\\u043f\\u044b B\",\"x\":0.5},\"yaxis\":{\"title\":{\"text\":\"\\u0421\\u043e\\u0431\\u044b\\u0442\\u0438\\u044f \\u0432 \\u0432\\u043e\\u0440\\u043e\\u043d\\u043a\\u0435\"}}},                        {\"responsive\": true}                    ).then(function(){\n",
       "                            \n",
       "var gd = document.getElementById('c1580f4d-f2fe-44c2-8d14-ee571a95dbf3');\n",
       "var x = new MutationObserver(function (mutations, observer) {{\n",
       "        var display = window.getComputedStyle(gd).display;\n",
       "        if (!display || display === 'none') {{\n",
       "            console.log([gd, 'removed!']);\n",
       "            Plotly.purge(gd);\n",
       "            observer.disconnect();\n",
       "        }}\n",
       "}});\n",
       "\n",
       "// Listen for the removal of the full notebook cells\n",
       "var notebookContainer = gd.closest('#notebook-container');\n",
       "if (notebookContainer) {{\n",
       "    x.observe(notebookContainer, {childList: true});\n",
       "}}\n",
       "\n",
       "// Listen for the clearing of the current output cell\n",
       "var outputEl = gd.closest('.output');\n",
       "if (outputEl) {{\n",
       "    x.observe(outputEl, {childList: true});\n",
       "}}\n",
       "\n",
       "                        })                };                });            </script>        </div>"
      ]
     },
     "metadata": {},
     "output_type": "display_data"
    }
   ],
   "source": [
    "fig = go.Figure(go.Funnel(y = ['login','product_page','product_cart','purchase'],\n",
    "                          x = [927,523,255,256],\n",
    "                          \n",
    "                          textposition = 'inside',\n",
    "                          textinfo = 'value + percent previous'))\n",
    "fig.update_layout(title='Воронка событий группы B',yaxis_title='События в воронке', title_x = 0.5)\n",
    "fig.show()"
   ]
  },
  {
   "cell_type": "markdown",
   "metadata": {},
   "source": [
    "Я считаю тут тоже неровная воронка в низу от того что можно миновать продуктовую корзину и сразу купить продукт"
   ]
  },
  {
   "cell_type": "markdown",
   "metadata": {},
   "source": [
    "### Итог и что нужно учесть в дальнейшем"
   ]
  },
  {
   "cell_type": "markdown",
   "metadata": {},
   "source": [
    "Изучив данные я вижу что группы не сбалансированы, в группе B событий намного меньше, большой приток событий после 14-го числа возможно это связано с большим количеством в данной группе вероятно пришедших в этот момент, после 30го числа в группах событий не наблюдаю вовсе Так же в группе B среднее количество событий на пользователя ниже\n",
    "\n",
    "Так же в группе B регистраций намного меньше, а в группу А пришло много пользователей после 13го числа что и объясняет увеличившееся количество событий\n",
    "\n",
    "Я построил воронки событий они выглядят нормально за исключением последнего шага. В ней больше покупок чем захода в корзину я пологою или системный сбой, или то что можно совершать покупки не заходя в корзину напрямую со страницы продукта."
   ]
  },
  {
   "cell_type": "markdown",
   "metadata": {},
   "source": [
    "## A/B-тест"
   ]
  },
  {
   "cell_type": "code",
   "execution_count": 96,
   "metadata": {},
   "outputs": [],
   "source": [
    "def ztest(a, b, list_col):\n",
    "    \n",
    "    print('Сравниваем группы: A и B')\n",
    "    for i in list_col:\n",
    "        print()\n",
    "        print('Проверем, будет ли отличие между группами в воронке {} статистически достоверным'.format(i))\n",
    "        print()\n",
    "        alpha = 0.05/3\n",
    "        one = np.array([a[i],b[i]])\n",
    "        user_count = np.array([a['user_count'],b['user_count']])\n",
    "        \n",
    "        p1 = one[0]/user_count[0]\n",
    "        p2 = one[1]/user_count[1]\n",
    "           \n",
    "        p_combined = (one[0]+one[1])/(user_count[0]+user_count[1])\n",
    "        \n",
    "        difference = p1-p2\n",
    "        \n",
    "        z_value = difference / mth.sqrt(p_combined * (1 - p_combined) * (1/user_count[0] + 1/user_count[1]))\n",
    "        \n",
    "        distr = st.norm(0, 1)  \n",
    "        \n",
    "        p_value = (1 - distr.cdf(abs(z_value))) * 2\n",
    "\n",
    "        print('p-значение: ', p_value)\n",
    "\n",
    "        if p_value < alpha:\n",
    "            print('Отвергаем нулевую гипотезу: между долями есть значимая разница')\n",
    "        else:\n",
    "            print(\n",
    "            'Не получилось отвергнуть нулевую гипотезу, нет оснований считать доли разными'\n",
    "                 ) "
   ]
  },
  {
   "cell_type": "markdown",
   "metadata": {},
   "source": [
    "### Проверка гипотезы"
   ]
  },
  {
   "cell_type": "markdown",
   "metadata": {},
   "source": []
  },
  {
   "cell_type": "markdown",
   "metadata": {},
   "source": [
    "H_0 Конверсия обоих групп равна\n",
    "\n",
    "H_1 конверсия обоих групп не равна"
   ]
  },
  {
   "cell_type": "code",
   "execution_count": 97,
   "metadata": {},
   "outputs": [],
   "source": [
    "user_count = full_tabl.query('ab_test == \"recommender_system_test\"').groupby('group')['user_id'].nunique()\n",
    "events_system_test = full_tabl.query('ab_test == \"recommender_system_test\"').pivot_table(index='group', columns='event_name', values = 'user_id', aggfunc = 'nunique').reset_index()\n",
    "events_system_test['user_count'] = events_system_test['group'].apply(lambda x: user_count.loc[x])"
   ]
  },
  {
   "cell_type": "code",
   "execution_count": 98,
   "metadata": {},
   "outputs": [
    {
     "data": {
      "text/html": [
       "<div>\n",
       "<style scoped>\n",
       "    .dataframe tbody tr th:only-of-type {\n",
       "        vertical-align: middle;\n",
       "    }\n",
       "\n",
       "    .dataframe tbody tr th {\n",
       "        vertical-align: top;\n",
       "    }\n",
       "\n",
       "    .dataframe thead th {\n",
       "        text-align: right;\n",
       "    }\n",
       "</style>\n",
       "<table border=\"1\" class=\"dataframe\">\n",
       "  <thead>\n",
       "    <tr style=\"text-align: right;\">\n",
       "      <th>event_name</th>\n",
       "      <th>group</th>\n",
       "      <th>login</th>\n",
       "      <th>product_cart</th>\n",
       "      <th>product_page</th>\n",
       "      <th>purchase</th>\n",
       "      <th>user_count</th>\n",
       "    </tr>\n",
       "  </thead>\n",
       "  <tbody>\n",
       "    <tr>\n",
       "      <th>0</th>\n",
       "      <td>A</td>\n",
       "      <td>2747</td>\n",
       "      <td>824</td>\n",
       "      <td>1780</td>\n",
       "      <td>872</td>\n",
       "      <td>2747</td>\n",
       "    </tr>\n",
       "    <tr>\n",
       "      <th>1</th>\n",
       "      <td>B</td>\n",
       "      <td>927</td>\n",
       "      <td>255</td>\n",
       "      <td>523</td>\n",
       "      <td>256</td>\n",
       "      <td>928</td>\n",
       "    </tr>\n",
       "  </tbody>\n",
       "</table>\n",
       "</div>"
      ],
      "text/plain": [
       "event_name group  login  product_cart  product_page  purchase  user_count\n",
       "0              A   2747           824          1780       872        2747\n",
       "1              B    927           255           523       256         928"
      ]
     },
     "execution_count": 98,
     "metadata": {},
     "output_type": "execute_result"
    }
   ],
   "source": [
    "events_system_test"
   ]
  },
  {
   "cell_type": "code",
   "execution_count": 99,
   "metadata": {},
   "outputs": [],
   "source": [
    "list_columns = ['product_cart', 'product_page', 'purchase']"
   ]
  },
  {
   "cell_type": "code",
   "execution_count": 100,
   "metadata": {},
   "outputs": [],
   "source": [
    "events_system_test_a = events_system_test.query('group == \"A\"')\n",
    "events_system_test_b = events_system_test.query('group == \"B\"')"
   ]
  },
  {
   "cell_type": "code",
   "execution_count": 101,
   "metadata": {
    "scrolled": false
   },
   "outputs": [
    {
     "name": "stdout",
     "output_type": "stream",
     "text": [
      "Сравниваем группы: A и B\n",
      "\n",
      "Проверем, будет ли отличие между группами в воронке product_cart статистически достоверным\n",
      "\n",
      "p-значение:  [0.14534815]\n",
      "Не получилось отвергнуть нулевую гипотезу, нет оснований считать доли разными\n",
      "\n",
      "Проверем, будет ли отличие между группами в воронке product_page статистически достоверным\n",
      "\n",
      "p-значение:  [4.31098055e-06]\n",
      "Отвергаем нулевую гипотезу: между долями есть значимая разница\n",
      "\n",
      "Проверем, будет ли отличие между группами в воронке purchase статистически достоверным\n",
      "\n",
      "p-значение:  [0.0175924]\n",
      "Не получилось отвергнуть нулевую гипотезу, нет оснований считать доли разными\n"
     ]
    }
   ],
   "source": [
    "ztest(events_system_test_a,events_system_test_b,list_columns)"
   ]
  },
  {
   "cell_type": "markdown",
   "metadata": {},
   "source": [
    "### Проверяем изменение конверсии в метриках теста recommender system"
   ]
  },
  {
   "cell_type": "markdown",
   "metadata": {},
   "source": [
    "1) Конверсия в просмотр карточек"
   ]
  },
  {
   "cell_type": "code",
   "execution_count": 102,
   "metadata": {},
   "outputs": [],
   "source": [
    "group_a = full_tabl.query('group == \"A\"')\n",
    "group_b = full_tabl.query('group == \"B\"')"
   ]
  },
  {
   "cell_type": "code",
   "execution_count": 103,
   "metadata": {
    "scrolled": true
   },
   "outputs": [
    {
     "name": "stdout",
     "output_type": "stream",
     "text": [
      "Конверсия группы A:  0.09394627117749511\n",
      "Конверсия группы В:  0.10208861994924849\n",
      "% Прироста конверсии в действие:  8.66702708867479\n"
     ]
    }
   ],
   "source": [
    "conversion_a = group_a.query('event_name==\"product_page\"').user_id.nunique()/group_a.event_name.count()\n",
    "print('Конверсия группы A: ',conversion_a)\n",
    "conversion_b = group_b.query('event_name==\"product_page\"').user_id.nunique()/group_b.event_name.count()\n",
    "print('Конверсия группы В: ',conversion_b)\n",
    "print('% Прироста конверсии в действие: ', (conversion_b-conversion_a)/conversion_a * 100)"
   ]
  },
  {
   "cell_type": "markdown",
   "metadata": {},
   "source": [
    "2) Конверсия в корзину продуктов"
   ]
  },
  {
   "cell_type": "code",
   "execution_count": 104,
   "metadata": {},
   "outputs": [
    {
     "name": "stdout",
     "output_type": "stream",
     "text": [
      "Конверсия группы A:  0.04348973452261572\n",
      "Конверсия группы В:  0.04977552215498731\n",
      "% Прироста конверсии в действие:  14.453497362930168\n"
     ]
    }
   ],
   "source": [
    "conversion_a = group_a.query('event_name==\"product_cart\"').user_id.nunique()/group_a.event_name.count()\n",
    "print('Конверсия группы A: ',conversion_a)\n",
    "conversion_b = group_b.query('event_name==\"product_cart\"').user_id.nunique()/group_b.event_name.count()\n",
    "print('Конверсия группы В: ',conversion_b)\n",
    "print('% Прироста конверсии в действие: ', (conversion_b-conversion_a)/conversion_a * 100)"
   ]
  },
  {
   "cell_type": "markdown",
   "metadata": {},
   "source": [
    "3) Конверсия в покупку"
   ]
  },
  {
   "cell_type": "code",
   "execution_count": 105,
   "metadata": {},
   "outputs": [
    {
     "name": "stdout",
     "output_type": "stream",
     "text": [
      "Конверсия группы A:  0.04602311711616615\n",
      "Конверсия группы В:  0.049970720281085304\n",
      "% Прироста конверсии в действие:  8.577435454784775\n"
     ]
    }
   ],
   "source": [
    "conversion_a = group_a.query('event_name==\"purchase\"').user_id.nunique()/group_a.event_name.count()\n",
    "print('Конверсия группы A: ',conversion_a)\n",
    "conversion_b = group_b.query('event_name==\"purchase\"').user_id.nunique()/group_b.event_name.count()\n",
    "print('Конверсия группы В: ',conversion_b)\n",
    "print('% Прироста конверсии в действие: ', (conversion_b-conversion_a)/conversion_a * 100)"
   ]
  },
  {
   "cell_type": "markdown",
   "metadata": {},
   "source": [
    "Мы видим прирост конверсии в группе B Но он ниже чем предполагалось прирост в просмотр карточек и конверсию в покупки составляет ~8.6, а вот конверсия в корзину продуктов увеличилась на ~14.5% и оправдала наши ожидания"
   ]
  },
  {
   "cell_type": "markdown",
   "metadata": {},
   "source": [
    "## Итог"
   ]
  },
  {
   "cell_type": "markdown",
   "metadata": {},
   "source": [
    "Я получил и предобработал данные.\n",
    "\n",
    "Провел исследование и выяснил что распределения пользователей по устройствам регистрации между группами было равномерно, большинство пользователей предпочитают Android в два раза меньше PC и iPhone и меньше всего Mac.\n",
    "\n",
    "Если смотреть по регионам, то у нас участвовали можно сказать только европейцы\n",
    "\n",
    "Группы, а и b в тесте плохо сбалансированные так же у них разняться среднее количество событий на человека 6.9 против 5.5\n",
    "\n",
    "Я построил воронки событий, они выглядят нормально, за исключением последнего шага в группе А. В ней больше покупок чем захода в корзину. Я пологою или системный сбой, или то что можно совершать покупки не заходя в корзину напрямую со страницы продукта.\n",
    "\n",
    "Данных было мало, заявлено было что до 4‐го числа, но было лишь до 30го так же с 25го проходило маркетинговое событие и с 25го было заметно меньше пользователей\n",
    "\n",
    "проведя z-test я обнаружил что есть статистическое различия в конверсии\n",
    "\n",
    "Я посчитал конверсию и увидел её рост в группе B, но он ниже чем предполагалось прирост в просмотр карточек и конверсию в покупки составляет ~8.6, а вот конверсия в корзину продуктов увеличилась на ~14.5% и оправдала наши ожидания.\n",
    "\n",
    "Как итог хочу сказать что тест скорее успешный но группы были не сбалансированные и это вероятно повлияло на полученные выводы"
   ]
  },
  {
   "cell_type": "code",
   "execution_count": null,
   "metadata": {},
   "outputs": [],
   "source": []
  }
 ],
 "metadata": {
  "ExecuteTimeLog": [
   {
    "duration": 1416,
    "start_time": "2023-06-30T06:06:10.337Z"
   },
   {
    "duration": 144,
    "start_time": "2023-06-30T06:11:38.272Z"
   },
   {
    "duration": 16,
    "start_time": "2023-06-30T06:12:08.950Z"
   },
   {
    "duration": 70,
    "start_time": "2023-06-30T06:12:54.747Z"
   },
   {
    "duration": 71,
    "start_time": "2023-06-30T06:13:53.479Z"
   },
   {
    "duration": 934,
    "start_time": "2023-06-30T06:14:24.165Z"
   },
   {
    "duration": 17,
    "start_time": "2023-06-30T06:14:35.628Z"
   },
   {
    "duration": 8,
    "start_time": "2023-06-30T06:14:58.886Z"
   },
   {
    "duration": 10,
    "start_time": "2023-06-30T06:15:06.460Z"
   },
   {
    "duration": 8,
    "start_time": "2023-06-30T06:15:15.532Z"
   },
   {
    "duration": 5,
    "start_time": "2023-06-30T06:16:00.495Z"
   },
   {
    "duration": 15,
    "start_time": "2023-06-30T06:16:24.007Z"
   },
   {
    "duration": 87,
    "start_time": "2023-06-30T06:17:10.090Z"
   },
   {
    "duration": 874,
    "start_time": "2023-06-30T06:17:10.310Z"
   },
   {
    "duration": 26,
    "start_time": "2023-06-30T06:17:11.457Z"
   },
   {
    "duration": 15,
    "start_time": "2023-06-30T06:25:50.520Z"
   },
   {
    "duration": 13,
    "start_time": "2023-06-30T06:26:22.097Z"
   },
   {
    "duration": 13,
    "start_time": "2023-06-30T06:26:34.384Z"
   },
   {
    "duration": 18,
    "start_time": "2023-06-30T06:26:37.197Z"
   },
   {
    "duration": 18,
    "start_time": "2023-06-30T06:26:39.429Z"
   },
   {
    "duration": 7,
    "start_time": "2023-06-30T06:26:55.603Z"
   },
   {
    "duration": 16,
    "start_time": "2023-06-30T06:26:57.926Z"
   },
   {
    "duration": 16,
    "start_time": "2023-06-30T06:27:01.096Z"
   },
   {
    "duration": 6,
    "start_time": "2023-06-30T06:27:22.625Z"
   },
   {
    "duration": 18,
    "start_time": "2023-06-30T06:27:25.035Z"
   },
   {
    "duration": 14,
    "start_time": "2023-06-30T06:27:27.845Z"
   },
   {
    "duration": 18,
    "start_time": "2023-06-30T06:28:49.043Z"
   },
   {
    "duration": 11,
    "start_time": "2023-06-30T06:29:01.044Z"
   },
   {
    "duration": 23,
    "start_time": "2023-06-30T06:29:27.244Z"
   },
   {
    "duration": 9,
    "start_time": "2023-06-30T06:29:28.788Z"
   },
   {
    "duration": 35,
    "start_time": "2023-06-30T06:29:33.495Z"
   },
   {
    "duration": 86,
    "start_time": "2023-06-30T06:30:20.769Z"
   },
   {
    "duration": 20,
    "start_time": "2023-06-30T06:30:23.800Z"
   },
   {
    "duration": 132,
    "start_time": "2023-06-30T06:31:10.633Z"
   },
   {
    "duration": 11,
    "start_time": "2023-06-30T06:31:11.889Z"
   },
   {
    "duration": 51,
    "start_time": "2023-06-30T06:31:15.028Z"
   },
   {
    "duration": 19,
    "start_time": "2023-06-30T06:41:33.536Z"
   },
   {
    "duration": 19,
    "start_time": "2023-06-30T06:41:33.814Z"
   },
   {
    "duration": 981,
    "start_time": "2023-06-30T07:06:27.698Z"
   },
   {
    "duration": 3,
    "start_time": "2023-06-30T07:06:45.355Z"
   },
   {
    "duration": 608,
    "start_time": "2023-06-30T07:06:45.360Z"
   },
   {
    "duration": 10,
    "start_time": "2023-06-30T07:06:45.969Z"
   },
   {
    "duration": 14,
    "start_time": "2023-06-30T07:06:45.981Z"
   },
   {
    "duration": 30,
    "start_time": "2023-06-30T07:06:45.997Z"
   },
   {
    "duration": 14,
    "start_time": "2023-06-30T07:06:46.029Z"
   },
   {
    "duration": 13,
    "start_time": "2023-06-30T07:06:46.044Z"
   },
   {
    "duration": 25,
    "start_time": "2023-06-30T07:06:46.058Z"
   },
   {
    "duration": 84,
    "start_time": "2023-06-30T07:06:46.084Z"
   },
   {
    "duration": 868,
    "start_time": "2023-06-30T07:06:46.169Z"
   },
   {
    "duration": 27,
    "start_time": "2023-06-30T07:06:47.039Z"
   },
   {
    "duration": 121,
    "start_time": "2023-06-30T07:06:47.069Z"
   },
   {
    "duration": 217,
    "start_time": "2023-06-30T07:08:05.445Z"
   },
   {
    "duration": 869,
    "start_time": "2023-06-30T07:09:04.174Z"
   },
   {
    "duration": 571,
    "start_time": "2023-06-30T07:09:05.045Z"
   },
   {
    "duration": 17,
    "start_time": "2023-06-30T07:09:11.400Z"
   },
   {
    "duration": 82,
    "start_time": "2023-06-30T07:11:45.953Z"
   },
   {
    "duration": 233,
    "start_time": "2023-06-30T07:12:05.292Z"
   },
   {
    "duration": 115,
    "start_time": "2023-06-30T07:12:37.154Z"
   },
   {
    "duration": 221,
    "start_time": "2023-06-30T07:12:55.084Z"
   },
   {
    "duration": 231,
    "start_time": "2023-06-30T07:13:07.663Z"
   },
   {
    "duration": 202,
    "start_time": "2023-06-30T07:13:57.483Z"
   },
   {
    "duration": 6,
    "start_time": "2023-06-30T07:14:09.653Z"
   },
   {
    "duration": 5,
    "start_time": "2023-06-30T07:14:15.090Z"
   },
   {
    "duration": 128,
    "start_time": "2023-06-30T07:16:48.690Z"
   },
   {
    "duration": 330,
    "start_time": "2023-06-30T07:16:49.698Z"
   },
   {
    "duration": 115,
    "start_time": "2023-06-30T07:16:50.719Z"
   },
   {
    "duration": 5,
    "start_time": "2023-06-30T07:18:54.831Z"
   },
   {
    "duration": 107,
    "start_time": "2023-06-30T07:20:28.082Z"
   },
   {
    "duration": 3,
    "start_time": "2023-06-30T07:20:30.655Z"
   },
   {
    "duration": 642,
    "start_time": "2023-06-30T07:20:30.661Z"
   },
   {
    "duration": 12,
    "start_time": "2023-06-30T07:20:31.305Z"
   },
   {
    "duration": 51,
    "start_time": "2023-06-30T07:20:31.319Z"
   },
   {
    "duration": 54,
    "start_time": "2023-06-30T07:20:31.372Z"
   },
   {
    "duration": 33,
    "start_time": "2023-06-30T07:20:31.428Z"
   },
   {
    "duration": 52,
    "start_time": "2023-06-30T07:20:31.463Z"
   },
   {
    "duration": 44,
    "start_time": "2023-06-30T07:20:31.517Z"
   },
   {
    "duration": 110,
    "start_time": "2023-06-30T07:20:31.562Z"
   },
   {
    "duration": 718,
    "start_time": "2023-06-30T07:20:31.674Z"
   },
   {
    "duration": 37,
    "start_time": "2023-06-30T07:20:32.394Z"
   },
   {
    "duration": 118,
    "start_time": "2023-06-30T07:20:32.433Z"
   },
   {
    "duration": 213,
    "start_time": "2023-06-30T07:20:32.553Z"
   },
   {
    "duration": 84,
    "start_time": "2023-06-30T07:20:32.769Z"
   },
   {
    "duration": 13,
    "start_time": "2023-06-30T07:20:32.855Z"
   },
   {
    "duration": 70,
    "start_time": "2023-06-30T07:20:32.870Z"
   },
   {
    "duration": 5,
    "start_time": "2023-06-30T07:20:32.941Z"
   },
   {
    "duration": 43,
    "start_time": "2023-06-30T07:20:32.947Z"
   },
   {
    "duration": 34,
    "start_time": "2023-06-30T07:20:32.992Z"
   },
   {
    "duration": 25,
    "start_time": "2023-06-30T07:20:33.028Z"
   },
   {
    "duration": 59,
    "start_time": "2023-06-30T07:23:58.747Z"
   },
   {
    "duration": 417,
    "start_time": "2023-06-30T07:24:34.579Z"
   },
   {
    "duration": 277,
    "start_time": "2023-06-30T07:25:05.566Z"
   },
   {
    "duration": 55,
    "start_time": "2023-06-30T07:29:46.873Z"
   },
   {
    "duration": 27,
    "start_time": "2023-06-30T07:30:20.013Z"
   },
   {
    "duration": 26,
    "start_time": "2023-06-30T07:31:10.739Z"
   },
   {
    "duration": 13,
    "start_time": "2023-06-30T07:31:24.635Z"
   },
   {
    "duration": 39,
    "start_time": "2023-06-30T07:31:43.680Z"
   },
   {
    "duration": 45,
    "start_time": "2023-06-30T07:36:36.937Z"
   },
   {
    "duration": 39,
    "start_time": "2023-06-30T07:38:46.792Z"
   },
   {
    "duration": 7,
    "start_time": "2023-06-30T07:38:59.719Z"
   },
   {
    "duration": 107,
    "start_time": "2023-06-30T07:39:23.138Z"
   },
   {
    "duration": 99,
    "start_time": "2023-06-30T07:39:52.392Z"
   },
   {
    "duration": 377,
    "start_time": "2023-06-30T07:40:56.399Z"
   },
   {
    "duration": 12,
    "start_time": "2023-06-30T07:41:06.725Z"
   },
   {
    "duration": 182,
    "start_time": "2023-06-30T07:41:29.139Z"
   },
   {
    "duration": 225,
    "start_time": "2023-06-30T07:41:50.438Z"
   },
   {
    "duration": 25,
    "start_time": "2023-06-30T07:44:06.157Z"
   },
   {
    "duration": 18,
    "start_time": "2023-06-30T07:44:08.648Z"
   },
   {
    "duration": 19,
    "start_time": "2023-06-30T07:44:27.831Z"
   },
   {
    "duration": 186,
    "start_time": "2023-06-30T07:44:34.564Z"
   },
   {
    "duration": 18,
    "start_time": "2023-06-30T07:45:02.148Z"
   },
   {
    "duration": 17,
    "start_time": "2023-06-30T07:45:08.028Z"
   },
   {
    "duration": 17,
    "start_time": "2023-06-30T07:45:27.469Z"
   },
   {
    "duration": 17,
    "start_time": "2023-06-30T07:45:31.971Z"
   },
   {
    "duration": 17,
    "start_time": "2023-06-30T07:46:10.100Z"
   },
   {
    "duration": 28,
    "start_time": "2023-06-30T07:46:21.291Z"
   },
   {
    "duration": 11,
    "start_time": "2023-06-30T07:46:27.634Z"
   },
   {
    "duration": 163,
    "start_time": "2023-06-30T07:46:42.846Z"
   },
   {
    "duration": 151,
    "start_time": "2023-06-30T07:46:55.768Z"
   },
   {
    "duration": 85,
    "start_time": "2023-06-30T08:02:56.390Z"
   },
   {
    "duration": 276,
    "start_time": "2023-06-30T08:02:59.680Z"
   },
   {
    "duration": 317,
    "start_time": "2023-06-30T08:03:08.003Z"
   },
   {
    "duration": 251,
    "start_time": "2023-06-30T08:03:11.336Z"
   },
   {
    "duration": 328,
    "start_time": "2023-06-30T08:03:21.194Z"
   },
   {
    "duration": 344,
    "start_time": "2023-06-30T08:03:25.598Z"
   },
   {
    "duration": 232,
    "start_time": "2023-06-30T08:04:53.101Z"
   },
   {
    "duration": 190,
    "start_time": "2023-06-30T08:04:58.693Z"
   },
   {
    "duration": 206,
    "start_time": "2023-06-30T08:05:05.245Z"
   },
   {
    "duration": 200,
    "start_time": "2023-06-30T08:05:07.944Z"
   },
   {
    "duration": 247,
    "start_time": "2023-06-30T08:05:21.901Z"
   },
   {
    "duration": 246,
    "start_time": "2023-06-30T08:06:09.695Z"
   },
   {
    "duration": 213,
    "start_time": "2023-06-30T08:06:23.254Z"
   },
   {
    "duration": 208,
    "start_time": "2023-06-30T08:06:28.515Z"
   },
   {
    "duration": 218,
    "start_time": "2023-06-30T08:06:31.729Z"
   },
   {
    "duration": 214,
    "start_time": "2023-06-30T08:06:56.732Z"
   },
   {
    "duration": 309,
    "start_time": "2023-06-30T08:07:25.992Z"
   },
   {
    "duration": 221,
    "start_time": "2023-06-30T08:07:50.573Z"
   },
   {
    "duration": 216,
    "start_time": "2023-06-30T08:08:01.343Z"
   },
   {
    "duration": 443,
    "start_time": "2023-06-30T08:08:08.753Z"
   },
   {
    "duration": 355,
    "start_time": "2023-06-30T08:08:16.992Z"
   },
   {
    "duration": 338,
    "start_time": "2023-06-30T08:08:34.338Z"
   },
   {
    "duration": 228,
    "start_time": "2023-06-30T08:08:39.631Z"
   },
   {
    "duration": 352,
    "start_time": "2023-06-30T08:08:44.850Z"
   },
   {
    "duration": 229,
    "start_time": "2023-06-30T08:10:28.845Z"
   },
   {
    "duration": 199,
    "start_time": "2023-06-30T08:11:44.071Z"
   },
   {
    "duration": 191,
    "start_time": "2023-06-30T08:11:50.275Z"
   },
   {
    "duration": 165,
    "start_time": "2023-06-30T08:11:52.001Z"
   },
   {
    "duration": 12,
    "start_time": "2023-06-30T08:13:43.360Z"
   },
   {
    "duration": 24,
    "start_time": "2023-06-30T08:13:52.294Z"
   },
   {
    "duration": 279,
    "start_time": "2023-06-30T09:34:04.416Z"
   },
   {
    "duration": 300,
    "start_time": "2023-06-30T09:34:28.019Z"
   },
   {
    "duration": 341,
    "start_time": "2023-06-30T09:34:31.885Z"
   },
   {
    "duration": 27,
    "start_time": "2023-06-30T09:38:07.627Z"
   },
   {
    "duration": 8,
    "start_time": "2023-06-30T09:38:16.427Z"
   },
   {
    "duration": 32,
    "start_time": "2023-06-30T09:38:57.897Z"
   },
   {
    "duration": 8,
    "start_time": "2023-06-30T09:38:58.986Z"
   },
   {
    "duration": 293,
    "start_time": "2023-06-30T09:39:31.147Z"
   },
   {
    "duration": 284,
    "start_time": "2023-06-30T09:40:01.050Z"
   },
   {
    "duration": 24,
    "start_time": "2023-06-30T09:43:07.716Z"
   },
   {
    "duration": 30,
    "start_time": "2023-06-30T09:44:09.494Z"
   },
   {
    "duration": 52,
    "start_time": "2023-06-30T09:44:16.502Z"
   },
   {
    "duration": 10,
    "start_time": "2023-06-30T09:44:21.107Z"
   },
   {
    "duration": 43,
    "start_time": "2023-06-30T09:45:09.355Z"
   },
   {
    "duration": 8,
    "start_time": "2023-06-30T09:45:09.977Z"
   },
   {
    "duration": 266,
    "start_time": "2023-06-30T09:45:43.136Z"
   },
   {
    "duration": 3,
    "start_time": "2023-06-30T09:49:28.592Z"
   },
   {
    "duration": 593,
    "start_time": "2023-06-30T09:49:28.597Z"
   },
   {
    "duration": 9,
    "start_time": "2023-06-30T09:49:29.192Z"
   },
   {
    "duration": 11,
    "start_time": "2023-06-30T09:49:29.203Z"
   },
   {
    "duration": 10,
    "start_time": "2023-06-30T09:49:29.217Z"
   },
   {
    "duration": 9,
    "start_time": "2023-06-30T09:49:29.228Z"
   },
   {
    "duration": 9,
    "start_time": "2023-06-30T09:49:29.239Z"
   },
   {
    "duration": 19,
    "start_time": "2023-06-30T09:49:29.249Z"
   },
   {
    "duration": 110,
    "start_time": "2023-06-30T09:49:29.270Z"
   },
   {
    "duration": 650,
    "start_time": "2023-06-30T09:49:29.382Z"
   },
   {
    "duration": 25,
    "start_time": "2023-06-30T09:49:30.034Z"
   },
   {
    "duration": 110,
    "start_time": "2023-06-30T09:49:30.061Z"
   },
   {
    "duration": 236,
    "start_time": "2023-06-30T09:49:30.173Z"
   },
   {
    "duration": 53,
    "start_time": "2023-06-30T09:49:30.412Z"
   },
   {
    "duration": 22,
    "start_time": "2023-06-30T09:49:30.467Z"
   },
   {
    "duration": 53,
    "start_time": "2023-06-30T09:49:30.491Z"
   },
   {
    "duration": 0,
    "start_time": "2023-06-30T09:49:30.547Z"
   },
   {
    "duration": 0,
    "start_time": "2023-06-30T09:49:30.549Z"
   },
   {
    "duration": 0,
    "start_time": "2023-06-30T09:49:30.550Z"
   },
   {
    "duration": 0,
    "start_time": "2023-06-30T09:49:30.552Z"
   },
   {
    "duration": 0,
    "start_time": "2023-06-30T09:49:30.553Z"
   },
   {
    "duration": 0,
    "start_time": "2023-06-30T09:49:30.554Z"
   },
   {
    "duration": 0,
    "start_time": "2023-06-30T09:49:30.556Z"
   },
   {
    "duration": 0,
    "start_time": "2023-06-30T09:49:30.557Z"
   },
   {
    "duration": 0,
    "start_time": "2023-06-30T09:49:30.558Z"
   },
   {
    "duration": 0,
    "start_time": "2023-06-30T09:49:30.559Z"
   },
   {
    "duration": 0,
    "start_time": "2023-06-30T09:49:30.561Z"
   },
   {
    "duration": 0,
    "start_time": "2023-06-30T09:49:30.562Z"
   },
   {
    "duration": 0,
    "start_time": "2023-06-30T09:49:30.563Z"
   },
   {
    "duration": 0,
    "start_time": "2023-06-30T09:49:30.564Z"
   },
   {
    "duration": 0,
    "start_time": "2023-06-30T09:49:30.566Z"
   },
   {
    "duration": 0,
    "start_time": "2023-06-30T09:49:30.567Z"
   },
   {
    "duration": 3,
    "start_time": "2023-06-30T09:50:45.777Z"
   },
   {
    "duration": 565,
    "start_time": "2023-06-30T09:50:45.783Z"
   },
   {
    "duration": 8,
    "start_time": "2023-06-30T09:50:46.350Z"
   },
   {
    "duration": 9,
    "start_time": "2023-06-30T09:50:46.361Z"
   },
   {
    "duration": 21,
    "start_time": "2023-06-30T09:50:46.373Z"
   },
   {
    "duration": 10,
    "start_time": "2023-06-30T09:50:46.396Z"
   },
   {
    "duration": 5,
    "start_time": "2023-06-30T09:50:46.407Z"
   },
   {
    "duration": 20,
    "start_time": "2023-06-30T09:50:46.413Z"
   },
   {
    "duration": 94,
    "start_time": "2023-06-30T09:50:46.434Z"
   },
   {
    "duration": 633,
    "start_time": "2023-06-30T09:50:46.530Z"
   },
   {
    "duration": 37,
    "start_time": "2023-06-30T09:50:47.165Z"
   },
   {
    "duration": 110,
    "start_time": "2023-06-30T09:50:47.203Z"
   },
   {
    "duration": 207,
    "start_time": "2023-06-30T09:50:47.317Z"
   },
   {
    "duration": 104,
    "start_time": "2023-06-30T09:50:47.526Z"
   },
   {
    "duration": 13,
    "start_time": "2023-06-30T09:50:47.632Z"
   },
   {
    "duration": 76,
    "start_time": "2023-06-30T09:50:47.646Z"
   },
   {
    "duration": 4,
    "start_time": "2023-06-30T09:50:47.724Z"
   },
   {
    "duration": 109,
    "start_time": "2023-06-30T09:50:47.729Z"
   },
   {
    "duration": 42,
    "start_time": "2023-06-30T09:50:47.841Z"
   },
   {
    "duration": 89,
    "start_time": "2023-06-30T09:50:47.885Z"
   },
   {
    "duration": 27,
    "start_time": "2023-06-30T09:50:47.975Z"
   },
   {
    "duration": 0,
    "start_time": "2023-06-30T09:50:48.003Z"
   },
   {
    "duration": 0,
    "start_time": "2023-06-30T09:50:48.004Z"
   },
   {
    "duration": 0,
    "start_time": "2023-06-30T09:50:48.006Z"
   },
   {
    "duration": 1,
    "start_time": "2023-06-30T09:50:48.006Z"
   },
   {
    "duration": 0,
    "start_time": "2023-06-30T09:50:48.008Z"
   },
   {
    "duration": 0,
    "start_time": "2023-06-30T09:50:48.009Z"
   },
   {
    "duration": 0,
    "start_time": "2023-06-30T09:50:48.010Z"
   },
   {
    "duration": 0,
    "start_time": "2023-06-30T09:50:48.011Z"
   },
   {
    "duration": 0,
    "start_time": "2023-06-30T09:50:48.012Z"
   },
   {
    "duration": 0,
    "start_time": "2023-06-30T09:50:48.014Z"
   },
   {
    "duration": 0,
    "start_time": "2023-06-30T09:50:48.015Z"
   },
   {
    "duration": 63,
    "start_time": "2023-06-30T09:50:53.899Z"
   },
   {
    "duration": 4,
    "start_time": "2023-06-30T09:51:15.902Z"
   },
   {
    "duration": 574,
    "start_time": "2023-06-30T09:51:15.908Z"
   },
   {
    "duration": 9,
    "start_time": "2023-06-30T09:51:16.484Z"
   },
   {
    "duration": 13,
    "start_time": "2023-06-30T09:51:16.495Z"
   },
   {
    "duration": 13,
    "start_time": "2023-06-30T09:51:16.510Z"
   },
   {
    "duration": 11,
    "start_time": "2023-06-30T09:51:16.525Z"
   },
   {
    "duration": 8,
    "start_time": "2023-06-30T09:51:16.538Z"
   },
   {
    "duration": 22,
    "start_time": "2023-06-30T09:51:16.548Z"
   },
   {
    "duration": 98,
    "start_time": "2023-06-30T09:51:16.572Z"
   },
   {
    "duration": 653,
    "start_time": "2023-06-30T09:51:16.672Z"
   },
   {
    "duration": 25,
    "start_time": "2023-06-30T09:51:17.327Z"
   },
   {
    "duration": 109,
    "start_time": "2023-06-30T09:51:17.353Z"
   },
   {
    "duration": 203,
    "start_time": "2023-06-30T09:51:17.464Z"
   },
   {
    "duration": 99,
    "start_time": "2023-06-30T09:51:17.670Z"
   },
   {
    "duration": 12,
    "start_time": "2023-06-30T09:51:17.771Z"
   },
   {
    "duration": 54,
    "start_time": "2023-06-30T09:51:17.801Z"
   },
   {
    "duration": 4,
    "start_time": "2023-06-30T09:51:17.856Z"
   },
   {
    "duration": 97,
    "start_time": "2023-06-30T09:51:17.861Z"
   },
   {
    "duration": 51,
    "start_time": "2023-06-30T09:51:17.960Z"
   },
   {
    "duration": 76,
    "start_time": "2023-06-30T09:51:18.013Z"
   },
   {
    "duration": 57,
    "start_time": "2023-06-30T09:51:18.090Z"
   },
   {
    "duration": 7,
    "start_time": "2023-06-30T09:51:18.148Z"
   },
   {
    "duration": 14,
    "start_time": "2023-06-30T09:51:18.157Z"
   },
   {
    "duration": 46,
    "start_time": "2023-06-30T09:51:18.172Z"
   },
   {
    "duration": 58,
    "start_time": "2023-06-30T09:51:18.219Z"
   },
   {
    "duration": 7,
    "start_time": "2023-06-30T09:51:18.279Z"
   },
   {
    "duration": 40,
    "start_time": "2023-06-30T09:51:18.302Z"
   },
   {
    "duration": 7,
    "start_time": "2023-06-30T09:51:18.344Z"
   },
   {
    "duration": 279,
    "start_time": "2023-06-30T09:51:18.353Z"
   },
   {
    "duration": 0,
    "start_time": "2023-06-30T09:51:18.634Z"
   },
   {
    "duration": 0,
    "start_time": "2023-06-30T09:51:18.635Z"
   },
   {
    "duration": 125,
    "start_time": "2023-06-30T09:51:49.911Z"
   },
   {
    "duration": 10,
    "start_time": "2023-06-30T09:52:02.623Z"
   },
   {
    "duration": 4,
    "start_time": "2023-06-30T09:54:53.147Z"
   },
   {
    "duration": 9,
    "start_time": "2023-06-30T09:54:53.613Z"
   },
   {
    "duration": 3,
    "start_time": "2023-06-30T09:55:08.997Z"
   },
   {
    "duration": 566,
    "start_time": "2023-06-30T09:55:09.002Z"
   },
   {
    "duration": 8,
    "start_time": "2023-06-30T09:55:09.570Z"
   },
   {
    "duration": 12,
    "start_time": "2023-06-30T09:55:09.580Z"
   },
   {
    "duration": 17,
    "start_time": "2023-06-30T09:55:09.594Z"
   },
   {
    "duration": 19,
    "start_time": "2023-06-30T09:55:09.613Z"
   },
   {
    "duration": 8,
    "start_time": "2023-06-30T09:55:09.634Z"
   },
   {
    "duration": 29,
    "start_time": "2023-06-30T09:55:09.644Z"
   },
   {
    "duration": 83,
    "start_time": "2023-06-30T09:55:09.677Z"
   },
   {
    "duration": 659,
    "start_time": "2023-06-30T09:55:09.763Z"
   },
   {
    "duration": 33,
    "start_time": "2023-06-30T09:55:10.424Z"
   },
   {
    "duration": 143,
    "start_time": "2023-06-30T09:55:10.459Z"
   },
   {
    "duration": 218,
    "start_time": "2023-06-30T09:55:10.605Z"
   },
   {
    "duration": 111,
    "start_time": "2023-06-30T09:55:10.824Z"
   },
   {
    "duration": 13,
    "start_time": "2023-06-30T09:55:10.937Z"
   },
   {
    "duration": 66,
    "start_time": "2023-06-30T09:55:10.952Z"
   },
   {
    "duration": 5,
    "start_time": "2023-06-30T09:55:11.019Z"
   },
   {
    "duration": 28,
    "start_time": "2023-06-30T09:55:11.026Z"
   },
   {
    "duration": 27,
    "start_time": "2023-06-30T09:55:11.055Z"
   },
   {
    "duration": 24,
    "start_time": "2023-06-30T09:55:11.101Z"
   },
   {
    "duration": 49,
    "start_time": "2023-06-30T09:55:11.126Z"
   },
   {
    "duration": 26,
    "start_time": "2023-06-30T09:55:11.177Z"
   },
   {
    "duration": 13,
    "start_time": "2023-06-30T09:55:11.205Z"
   },
   {
    "duration": 28,
    "start_time": "2023-06-30T09:55:11.222Z"
   },
   {
    "duration": 74,
    "start_time": "2023-06-30T09:55:11.251Z"
   },
   {
    "duration": 8,
    "start_time": "2023-06-30T09:55:11.326Z"
   },
   {
    "duration": 55,
    "start_time": "2023-06-30T09:55:11.335Z"
   },
   {
    "duration": 11,
    "start_time": "2023-06-30T09:55:11.392Z"
   },
   {
    "duration": 13,
    "start_time": "2023-06-30T09:55:11.404Z"
   },
   {
    "duration": 18,
    "start_time": "2023-06-30T09:55:11.419Z"
   },
   {
    "duration": 0,
    "start_time": "2023-06-30T09:55:11.439Z"
   },
   {
    "duration": 0,
    "start_time": "2023-06-30T09:55:11.441Z"
   },
   {
    "duration": 0,
    "start_time": "2023-06-30T09:55:11.442Z"
   },
   {
    "duration": 4,
    "start_time": "2023-06-30T09:57:58.195Z"
   },
   {
    "duration": 552,
    "start_time": "2023-06-30T09:57:58.201Z"
   },
   {
    "duration": 8,
    "start_time": "2023-06-30T09:57:58.755Z"
   },
   {
    "duration": 13,
    "start_time": "2023-06-30T09:57:58.765Z"
   },
   {
    "duration": 18,
    "start_time": "2023-06-30T09:57:58.780Z"
   },
   {
    "duration": 11,
    "start_time": "2023-06-30T09:57:58.799Z"
   },
   {
    "duration": 5,
    "start_time": "2023-06-30T09:57:58.812Z"
   },
   {
    "duration": 24,
    "start_time": "2023-06-30T09:57:58.818Z"
   },
   {
    "duration": 85,
    "start_time": "2023-06-30T09:57:58.844Z"
   },
   {
    "duration": 600,
    "start_time": "2023-06-30T09:57:58.930Z"
   },
   {
    "duration": 25,
    "start_time": "2023-06-30T09:57:59.533Z"
   },
   {
    "duration": 113,
    "start_time": "2023-06-30T09:57:59.560Z"
   },
   {
    "duration": 280,
    "start_time": "2023-06-30T09:57:59.675Z"
   },
   {
    "duration": 122,
    "start_time": "2023-06-30T09:57:59.958Z"
   },
   {
    "duration": 21,
    "start_time": "2023-06-30T09:58:00.082Z"
   },
   {
    "duration": 76,
    "start_time": "2023-06-30T09:58:00.105Z"
   },
   {
    "duration": 3,
    "start_time": "2023-06-30T09:58:00.183Z"
   },
   {
    "duration": 51,
    "start_time": "2023-06-30T09:58:00.187Z"
   },
   {
    "duration": 52,
    "start_time": "2023-06-30T09:58:00.240Z"
   },
   {
    "duration": 23,
    "start_time": "2023-06-30T09:58:00.294Z"
   },
   {
    "duration": 31,
    "start_time": "2023-06-30T09:58:00.319Z"
   },
   {
    "duration": 0,
    "start_time": "2023-06-30T09:58:00.352Z"
   },
   {
    "duration": 0,
    "start_time": "2023-06-30T09:58:00.353Z"
   },
   {
    "duration": 0,
    "start_time": "2023-06-30T09:58:00.354Z"
   },
   {
    "duration": 0,
    "start_time": "2023-06-30T09:58:00.355Z"
   },
   {
    "duration": 0,
    "start_time": "2023-06-30T09:58:00.356Z"
   },
   {
    "duration": 0,
    "start_time": "2023-06-30T09:58:00.357Z"
   },
   {
    "duration": 0,
    "start_time": "2023-06-30T09:58:00.359Z"
   },
   {
    "duration": 0,
    "start_time": "2023-06-30T09:58:00.360Z"
   },
   {
    "duration": 0,
    "start_time": "2023-06-30T09:58:00.361Z"
   },
   {
    "duration": 0,
    "start_time": "2023-06-30T09:58:00.362Z"
   },
   {
    "duration": 0,
    "start_time": "2023-06-30T09:58:00.363Z"
   },
   {
    "duration": 0,
    "start_time": "2023-06-30T09:58:00.365Z"
   },
   {
    "duration": 14,
    "start_time": "2023-06-30T09:58:23.660Z"
   },
   {
    "duration": 29,
    "start_time": "2023-06-30T09:58:28.546Z"
   },
   {
    "duration": 12,
    "start_time": "2023-06-30T09:58:35.045Z"
   },
   {
    "duration": 33,
    "start_time": "2023-06-30T10:00:31.218Z"
   },
   {
    "duration": 13,
    "start_time": "2023-06-30T10:01:04.055Z"
   },
   {
    "duration": 24,
    "start_time": "2023-06-30T10:01:05.231Z"
   },
   {
    "duration": 14,
    "start_time": "2023-06-30T10:01:11.792Z"
   },
   {
    "duration": 126,
    "start_time": "2023-06-30T10:01:12.808Z"
   },
   {
    "duration": 26,
    "start_time": "2023-06-30T10:05:21.905Z"
   },
   {
    "duration": 9,
    "start_time": "2023-06-30T10:05:27.702Z"
   },
   {
    "duration": 7,
    "start_time": "2023-06-30T10:05:39.454Z"
   },
   {
    "duration": 10,
    "start_time": "2023-06-30T10:06:07.098Z"
   },
   {
    "duration": 108,
    "start_time": "2023-06-30T10:06:37.205Z"
   },
   {
    "duration": 118,
    "start_time": "2023-06-30T10:06:53.559Z"
   },
   {
    "duration": 103,
    "start_time": "2023-06-30T10:07:04.007Z"
   },
   {
    "duration": 112,
    "start_time": "2023-06-30T10:07:11.160Z"
   },
   {
    "duration": 92,
    "start_time": "2023-06-30T10:07:21.907Z"
   },
   {
    "duration": 93,
    "start_time": "2023-06-30T10:07:26.153Z"
   },
   {
    "duration": 96,
    "start_time": "2023-06-30T10:07:40.957Z"
   },
   {
    "duration": 96,
    "start_time": "2023-06-30T10:08:08.096Z"
   },
   {
    "duration": 116,
    "start_time": "2023-06-30T10:08:11.961Z"
   },
   {
    "duration": 96,
    "start_time": "2023-06-30T10:08:38.400Z"
   },
   {
    "duration": 89,
    "start_time": "2023-06-30T10:09:22.453Z"
   },
   {
    "duration": 11,
    "start_time": "2023-06-30T10:10:17.005Z"
   },
   {
    "duration": 43,
    "start_time": "2023-06-30T10:10:30.216Z"
   },
   {
    "duration": 101,
    "start_time": "2023-06-30T10:11:41.718Z"
   },
   {
    "duration": 21,
    "start_time": "2023-06-30T10:14:40.798Z"
   },
   {
    "duration": 36,
    "start_time": "2023-06-30T10:14:48.394Z"
   },
   {
    "duration": 17,
    "start_time": "2023-06-30T10:18:00.611Z"
   },
   {
    "duration": 155,
    "start_time": "2023-06-30T10:18:05.519Z"
   },
   {
    "duration": 22,
    "start_time": "2023-06-30T10:18:05.939Z"
   },
   {
    "duration": 125,
    "start_time": "2023-06-30T10:19:09.846Z"
   },
   {
    "duration": 20,
    "start_time": "2023-06-30T10:19:35.915Z"
   },
   {
    "duration": 334,
    "start_time": "2023-06-30T10:20:19.420Z"
   },
   {
    "duration": 356,
    "start_time": "2023-06-30T10:21:03.962Z"
   },
   {
    "duration": 311,
    "start_time": "2023-06-30T10:21:13.744Z"
   },
   {
    "duration": 397,
    "start_time": "2023-06-30T10:21:40.631Z"
   },
   {
    "duration": 354,
    "start_time": "2023-06-30T10:21:57.235Z"
   },
   {
    "duration": 330,
    "start_time": "2023-06-30T10:22:01.716Z"
   },
   {
    "duration": 8,
    "start_time": "2023-06-30T10:23:34.915Z"
   },
   {
    "duration": 22,
    "start_time": "2023-06-30T10:23:44.115Z"
   },
   {
    "duration": 7,
    "start_time": "2023-06-30T10:23:49.531Z"
   },
   {
    "duration": 12,
    "start_time": "2023-06-30T10:25:53.128Z"
   },
   {
    "duration": 311,
    "start_time": "2023-06-30T10:26:04.250Z"
   },
   {
    "duration": 33,
    "start_time": "2023-06-30T10:27:21.316Z"
   },
   {
    "duration": 13,
    "start_time": "2023-06-30T10:27:57.515Z"
   },
   {
    "duration": 28,
    "start_time": "2023-06-30T10:28:01.316Z"
   },
   {
    "duration": 335,
    "start_time": "2023-06-30T10:28:24.771Z"
   },
   {
    "duration": 99,
    "start_time": "2023-06-30T10:28:25.107Z"
   },
   {
    "duration": 249,
    "start_time": "2023-06-30T10:28:33.516Z"
   },
   {
    "duration": 4,
    "start_time": "2023-06-30T10:28:33.818Z"
   },
   {
    "duration": 86,
    "start_time": "2023-06-30T10:28:34.450Z"
   },
   {
    "duration": 138,
    "start_time": "2023-06-30T10:28:40.371Z"
   },
   {
    "duration": 88,
    "start_time": "2023-06-30T10:28:43.034Z"
   },
   {
    "duration": 333,
    "start_time": "2023-06-30T10:28:47.815Z"
   },
   {
    "duration": 13,
    "start_time": "2023-06-30T10:28:54.122Z"
   },
   {
    "duration": 348,
    "start_time": "2023-06-30T10:28:56.292Z"
   },
   {
    "duration": 14,
    "start_time": "2023-06-30T10:30:06.116Z"
   },
   {
    "duration": 26,
    "start_time": "2023-06-30T10:30:13.664Z"
   },
   {
    "duration": 205,
    "start_time": "2023-06-30T10:30:53.115Z"
   },
   {
    "duration": 333,
    "start_time": "2023-06-30T10:31:01.819Z"
   },
   {
    "duration": 25,
    "start_time": "2023-06-30T10:31:49.360Z"
   },
   {
    "duration": 89,
    "start_time": "2023-06-30T10:31:53.707Z"
   },
   {
    "duration": 14,
    "start_time": "2023-06-30T10:33:21.438Z"
   },
   {
    "duration": 9,
    "start_time": "2023-06-30T10:33:44.316Z"
   },
   {
    "duration": 29,
    "start_time": "2023-06-30T10:33:47.798Z"
   },
   {
    "duration": 205,
    "start_time": "2023-06-30T10:34:41.078Z"
   },
   {
    "duration": 103,
    "start_time": "2023-06-30T10:35:34.515Z"
   },
   {
    "duration": 224,
    "start_time": "2023-06-30T10:35:39.094Z"
   },
   {
    "duration": 27,
    "start_time": "2023-06-30T10:35:59.922Z"
   },
   {
    "duration": 100,
    "start_time": "2023-06-30T10:36:19.742Z"
   },
   {
    "duration": 96,
    "start_time": "2023-06-30T10:36:26.566Z"
   },
   {
    "duration": 33,
    "start_time": "2023-06-30T10:38:41.973Z"
   },
   {
    "duration": 79,
    "start_time": "2023-06-30T10:38:45.807Z"
   },
   {
    "duration": 64,
    "start_time": "2023-06-30T10:39:58.158Z"
   },
   {
    "duration": 51,
    "start_time": "2023-06-30T10:40:05.459Z"
   },
   {
    "duration": 208,
    "start_time": "2023-06-30T10:40:06.938Z"
   },
   {
    "duration": 343,
    "start_time": "2023-06-30T10:40:08.732Z"
   },
   {
    "duration": 846,
    "start_time": "2023-06-30T10:40:39.950Z"
   },
   {
    "duration": 51,
    "start_time": "2023-06-30T10:41:19.610Z"
   },
   {
    "duration": 38,
    "start_time": "2023-06-30T10:41:36.046Z"
   },
   {
    "duration": 217,
    "start_time": "2023-06-30T10:41:38.446Z"
   },
   {
    "duration": 29,
    "start_time": "2023-06-30T10:42:17.346Z"
   },
   {
    "duration": 56,
    "start_time": "2023-06-30T10:42:30.926Z"
   },
   {
    "duration": 4,
    "start_time": "2023-06-30T10:42:31.214Z"
   },
   {
    "duration": 24,
    "start_time": "2023-06-30T10:42:32.641Z"
   },
   {
    "duration": 22,
    "start_time": "2023-06-30T10:42:39.026Z"
   },
   {
    "duration": 27,
    "start_time": "2023-06-30T10:42:39.341Z"
   },
   {
    "duration": 32,
    "start_time": "2023-06-30T10:42:42.415Z"
   },
   {
    "duration": 68,
    "start_time": "2023-06-30T10:42:43.928Z"
   },
   {
    "duration": 324,
    "start_time": "2023-06-30T10:42:47.030Z"
   },
   {
    "duration": 36,
    "start_time": "2023-06-30T10:43:25.816Z"
   },
   {
    "duration": 351,
    "start_time": "2023-06-30T10:43:56.496Z"
   },
   {
    "duration": 96,
    "start_time": "2023-06-30T10:44:31.234Z"
   },
   {
    "duration": 13,
    "start_time": "2023-06-30T10:45:02.245Z"
   },
   {
    "duration": 72,
    "start_time": "2023-06-30T10:45:12.735Z"
   },
   {
    "duration": 6,
    "start_time": "2023-06-30T10:46:50.934Z"
   },
   {
    "duration": 9,
    "start_time": "2023-06-30T10:46:53.750Z"
   },
   {
    "duration": 19,
    "start_time": "2023-06-30T10:50:19.998Z"
   },
   {
    "duration": 10,
    "start_time": "2023-06-30T11:00:35.209Z"
   },
   {
    "duration": 20,
    "start_time": "2023-06-30T11:00:50.238Z"
   },
   {
    "duration": 4,
    "start_time": "2023-06-30T11:02:12.933Z"
   },
   {
    "duration": 6,
    "start_time": "2023-06-30T11:02:17.446Z"
   },
   {
    "duration": 5,
    "start_time": "2023-06-30T11:02:22.210Z"
   },
   {
    "duration": 7,
    "start_time": "2023-06-30T11:02:44.845Z"
   },
   {
    "duration": 50,
    "start_time": "2023-06-30T11:04:14.542Z"
   },
   {
    "duration": 6,
    "start_time": "2023-06-30T11:04:22.933Z"
   },
   {
    "duration": 36,
    "start_time": "2023-06-30T11:04:23.501Z"
   },
   {
    "duration": 14,
    "start_time": "2023-06-30T11:04:40.413Z"
   },
   {
    "duration": 19,
    "start_time": "2023-06-30T11:06:16.023Z"
   },
   {
    "duration": 12,
    "start_time": "2023-06-30T11:08:12.937Z"
   },
   {
    "duration": 29,
    "start_time": "2023-06-30T11:08:13.334Z"
   },
   {
    "duration": 5,
    "start_time": "2023-06-30T11:08:13.850Z"
   },
   {
    "duration": 84,
    "start_time": "2023-06-30T12:49:00.160Z"
   },
   {
    "duration": 172,
    "start_time": "2023-06-30T12:49:11.311Z"
   },
   {
    "duration": 161,
    "start_time": "2023-06-30T12:49:14.197Z"
   },
   {
    "duration": 28,
    "start_time": "2023-06-30T12:49:29.656Z"
   },
   {
    "duration": 17,
    "start_time": "2023-06-30T12:49:55.435Z"
   },
   {
    "duration": 33,
    "start_time": "2023-06-30T12:51:11.087Z"
   },
   {
    "duration": 13,
    "start_time": "2023-06-30T12:51:21.975Z"
   },
   {
    "duration": 42,
    "start_time": "2023-06-30T12:51:24.115Z"
   },
   {
    "duration": 4,
    "start_time": "2023-06-30T12:51:24.442Z"
   },
   {
    "duration": 16,
    "start_time": "2023-06-30T12:51:25.582Z"
   },
   {
    "duration": 18,
    "start_time": "2023-06-30T12:51:33.698Z"
   },
   {
    "duration": 14,
    "start_time": "2023-06-30T12:51:34.610Z"
   },
   {
    "duration": 41,
    "start_time": "2023-06-30T12:51:39.923Z"
   },
   {
    "duration": 293,
    "start_time": "2023-06-30T12:51:41.436Z"
   },
   {
    "duration": 41,
    "start_time": "2023-06-30T12:51:50.711Z"
   },
   {
    "duration": 9,
    "start_time": "2023-06-30T12:51:52.718Z"
   },
   {
    "duration": 19,
    "start_time": "2023-06-30T12:51:53.103Z"
   },
   {
    "duration": 5,
    "start_time": "2023-06-30T12:51:53.435Z"
   },
   {
    "duration": 13,
    "start_time": "2023-06-30T12:51:54.082Z"
   },
   {
    "duration": 85,
    "start_time": "2023-06-30T12:53:01.348Z"
   },
   {
    "duration": 42,
    "start_time": "2023-06-30T12:55:14.928Z"
   },
   {
    "duration": 46,
    "start_time": "2023-06-30T12:55:19.948Z"
   },
   {
    "duration": 41,
    "start_time": "2023-06-30T12:55:45.856Z"
   },
   {
    "duration": 40,
    "start_time": "2023-06-30T12:55:46.737Z"
   },
   {
    "duration": 11,
    "start_time": "2023-06-30T12:57:50.986Z"
   },
   {
    "duration": 4,
    "start_time": "2023-06-30T12:58:25.602Z"
   },
   {
    "duration": 12,
    "start_time": "2023-06-30T12:58:26.185Z"
   },
   {
    "duration": 23,
    "start_time": "2023-06-30T12:58:28.386Z"
   },
   {
    "duration": 21,
    "start_time": "2023-06-30T13:01:07.393Z"
   },
   {
    "duration": 262,
    "start_time": "2023-06-30T13:02:16.586Z"
   },
   {
    "duration": 260,
    "start_time": "2023-06-30T13:02:36.528Z"
   },
   {
    "duration": 17,
    "start_time": "2023-06-30T13:02:52.627Z"
   },
   {
    "duration": 23,
    "start_time": "2023-06-30T13:02:55.998Z"
   },
   {
    "duration": 280,
    "start_time": "2023-06-30T13:03:20.003Z"
   },
   {
    "duration": 6,
    "start_time": "2023-06-30T13:03:59.101Z"
   },
   {
    "duration": 241,
    "start_time": "2023-06-30T13:04:58.345Z"
   },
   {
    "duration": 69,
    "start_time": "2023-06-30T13:05:45.312Z"
   },
   {
    "duration": 809,
    "start_time": "2023-06-30T13:05:51.094Z"
   },
   {
    "duration": 251,
    "start_time": "2023-06-30T13:06:11.878Z"
   },
   {
    "duration": 278,
    "start_time": "2023-06-30T13:06:32.114Z"
   },
   {
    "duration": 233,
    "start_time": "2023-06-30T13:06:46.425Z"
   },
   {
    "duration": 227,
    "start_time": "2023-06-30T13:07:02.648Z"
   },
   {
    "duration": 1308,
    "start_time": "2023-06-30T15:36:24.422Z"
   },
   {
    "duration": 2317,
    "start_time": "2023-06-30T15:36:25.732Z"
   },
   {
    "duration": 12,
    "start_time": "2023-06-30T15:36:28.050Z"
   },
   {
    "duration": 9,
    "start_time": "2023-06-30T15:36:28.064Z"
   },
   {
    "duration": 15,
    "start_time": "2023-06-30T15:36:28.075Z"
   },
   {
    "duration": 11,
    "start_time": "2023-06-30T15:36:28.092Z"
   },
   {
    "duration": 6,
    "start_time": "2023-06-30T15:36:28.104Z"
   },
   {
    "duration": 100,
    "start_time": "2023-06-30T15:36:28.112Z"
   },
   {
    "duration": 0,
    "start_time": "2023-06-30T15:36:28.214Z"
   },
   {
    "duration": 0,
    "start_time": "2023-06-30T15:36:28.215Z"
   },
   {
    "duration": 0,
    "start_time": "2023-06-30T15:36:28.216Z"
   },
   {
    "duration": 0,
    "start_time": "2023-06-30T15:36:28.217Z"
   },
   {
    "duration": 0,
    "start_time": "2023-06-30T15:36:28.218Z"
   },
   {
    "duration": 0,
    "start_time": "2023-06-30T15:36:28.219Z"
   },
   {
    "duration": 0,
    "start_time": "2023-06-30T15:36:28.221Z"
   },
   {
    "duration": 0,
    "start_time": "2023-06-30T15:36:28.222Z"
   },
   {
    "duration": 0,
    "start_time": "2023-06-30T15:36:28.223Z"
   },
   {
    "duration": 0,
    "start_time": "2023-06-30T15:36:28.224Z"
   },
   {
    "duration": 0,
    "start_time": "2023-06-30T15:36:28.226Z"
   },
   {
    "duration": 0,
    "start_time": "2023-06-30T15:36:28.227Z"
   },
   {
    "duration": 0,
    "start_time": "2023-06-30T15:36:28.228Z"
   },
   {
    "duration": 0,
    "start_time": "2023-06-30T15:36:28.229Z"
   },
   {
    "duration": 0,
    "start_time": "2023-06-30T15:36:28.230Z"
   },
   {
    "duration": 0,
    "start_time": "2023-06-30T15:36:28.231Z"
   },
   {
    "duration": 0,
    "start_time": "2023-06-30T15:36:28.232Z"
   },
   {
    "duration": 0,
    "start_time": "2023-06-30T15:36:28.233Z"
   },
   {
    "duration": 0,
    "start_time": "2023-06-30T15:36:28.234Z"
   },
   {
    "duration": 0,
    "start_time": "2023-06-30T15:36:28.269Z"
   },
   {
    "duration": 0,
    "start_time": "2023-06-30T15:36:28.270Z"
   },
   {
    "duration": 105,
    "start_time": "2023-06-30T15:43:55.002Z"
   },
   {
    "duration": 711,
    "start_time": "2023-06-30T15:43:55.910Z"
   },
   {
    "duration": 12,
    "start_time": "2023-06-30T15:44:05.208Z"
   },
   {
    "duration": 7,
    "start_time": "2023-06-30T15:44:07.067Z"
   },
   {
    "duration": 634,
    "start_time": "2023-06-30T15:44:07.076Z"
   },
   {
    "duration": 8,
    "start_time": "2023-06-30T15:44:07.712Z"
   },
   {
    "duration": 14,
    "start_time": "2023-06-30T15:44:07.722Z"
   },
   {
    "duration": 10,
    "start_time": "2023-06-30T15:44:07.738Z"
   },
   {
    "duration": 10,
    "start_time": "2023-06-30T15:44:07.750Z"
   },
   {
    "duration": 12,
    "start_time": "2023-06-30T15:44:07.762Z"
   },
   {
    "duration": 17,
    "start_time": "2023-06-30T15:44:07.776Z"
   },
   {
    "duration": 99,
    "start_time": "2023-06-30T15:44:07.794Z"
   },
   {
    "duration": 710,
    "start_time": "2023-06-30T15:44:07.896Z"
   },
   {
    "duration": 27,
    "start_time": "2023-06-30T15:44:08.608Z"
   },
   {
    "duration": 10,
    "start_time": "2023-06-30T15:44:08.637Z"
   },
   {
    "duration": 0,
    "start_time": "2023-06-30T15:44:08.649Z"
   },
   {
    "duration": 0,
    "start_time": "2023-06-30T15:44:08.650Z"
   },
   {
    "duration": 0,
    "start_time": "2023-06-30T15:44:08.671Z"
   },
   {
    "duration": 0,
    "start_time": "2023-06-30T15:44:08.671Z"
   },
   {
    "duration": 0,
    "start_time": "2023-06-30T15:44:08.673Z"
   },
   {
    "duration": 0,
    "start_time": "2023-06-30T15:44:08.674Z"
   },
   {
    "duration": 0,
    "start_time": "2023-06-30T15:44:08.683Z"
   },
   {
    "duration": 0,
    "start_time": "2023-06-30T15:44:08.685Z"
   },
   {
    "duration": 0,
    "start_time": "2023-06-30T15:44:08.687Z"
   },
   {
    "duration": 0,
    "start_time": "2023-06-30T15:44:08.688Z"
   },
   {
    "duration": 0,
    "start_time": "2023-06-30T15:44:08.689Z"
   },
   {
    "duration": 0,
    "start_time": "2023-06-30T15:44:08.690Z"
   },
   {
    "duration": 0,
    "start_time": "2023-06-30T15:44:08.692Z"
   },
   {
    "duration": 0,
    "start_time": "2023-06-30T15:44:08.693Z"
   },
   {
    "duration": 0,
    "start_time": "2023-06-30T15:44:08.695Z"
   },
   {
    "duration": 0,
    "start_time": "2023-06-30T15:44:08.697Z"
   },
   {
    "duration": 0,
    "start_time": "2023-06-30T15:44:08.698Z"
   },
   {
    "duration": 102,
    "start_time": "2023-06-30T15:44:27.920Z"
   },
   {
    "duration": 3,
    "start_time": "2023-06-30T15:44:31.014Z"
   },
   {
    "duration": 670,
    "start_time": "2023-06-30T15:44:31.019Z"
   },
   {
    "duration": 9,
    "start_time": "2023-06-30T15:44:31.691Z"
   },
   {
    "duration": 26,
    "start_time": "2023-06-30T15:44:31.701Z"
   },
   {
    "duration": 36,
    "start_time": "2023-06-30T15:44:31.730Z"
   },
   {
    "duration": 33,
    "start_time": "2023-06-30T15:44:31.767Z"
   },
   {
    "duration": 21,
    "start_time": "2023-06-30T15:44:31.801Z"
   },
   {
    "duration": 43,
    "start_time": "2023-06-30T15:44:31.824Z"
   },
   {
    "duration": 100,
    "start_time": "2023-06-30T15:44:31.870Z"
   },
   {
    "duration": 724,
    "start_time": "2023-06-30T15:44:31.975Z"
   },
   {
    "duration": 25,
    "start_time": "2023-06-30T15:44:32.701Z"
   },
   {
    "duration": 113,
    "start_time": "2023-06-30T15:44:32.727Z"
   },
   {
    "duration": 208,
    "start_time": "2023-06-30T15:44:32.841Z"
   },
   {
    "duration": 195,
    "start_time": "2023-06-30T15:44:33.052Z"
   },
   {
    "duration": 44,
    "start_time": "2023-06-30T15:44:33.248Z"
   },
   {
    "duration": 40,
    "start_time": "2023-06-30T15:44:33.294Z"
   },
   {
    "duration": 4,
    "start_time": "2023-06-30T15:44:33.335Z"
   },
   {
    "duration": 36,
    "start_time": "2023-06-30T15:44:33.340Z"
   },
   {
    "duration": 14,
    "start_time": "2023-06-30T15:44:33.383Z"
   },
   {
    "duration": 13,
    "start_time": "2023-06-30T15:44:33.399Z"
   },
   {
    "duration": 69,
    "start_time": "2023-06-30T15:44:33.414Z"
   },
   {
    "duration": 308,
    "start_time": "2023-06-30T15:44:33.485Z"
   },
   {
    "duration": 40,
    "start_time": "2023-06-30T15:44:33.795Z"
   },
   {
    "duration": 56,
    "start_time": "2023-06-30T15:44:33.837Z"
   },
   {
    "duration": 4,
    "start_time": "2023-06-30T15:44:33.895Z"
   },
   {
    "duration": 15,
    "start_time": "2023-06-30T15:44:33.900Z"
   },
   {
    "duration": 21,
    "start_time": "2023-06-30T15:44:33.917Z"
   },
   {
    "duration": 452,
    "start_time": "2023-06-30T15:44:33.940Z"
   },
   {
    "duration": 304,
    "start_time": "2023-06-30T15:44:34.395Z"
   },
   {
    "duration": 16,
    "start_time": "2023-06-30T15:45:28.568Z"
   },
   {
    "duration": 48,
    "start_time": "2023-06-30T15:45:39.934Z"
   },
   {
    "duration": 88,
    "start_time": "2023-06-30T15:46:27.740Z"
   },
   {
    "duration": 231,
    "start_time": "2023-06-30T15:51:19.934Z"
   },
   {
    "duration": 284,
    "start_time": "2023-06-30T15:54:29.811Z"
   },
   {
    "duration": 292,
    "start_time": "2023-06-30T15:54:45.036Z"
   },
   {
    "duration": 450,
    "start_time": "2023-06-30T15:54:50.588Z"
   },
   {
    "duration": 461,
    "start_time": "2023-06-30T15:54:59.435Z"
   },
   {
    "duration": 375,
    "start_time": "2023-06-30T15:55:05.859Z"
   },
   {
    "duration": 237,
    "start_time": "2023-06-30T15:55:18.773Z"
   },
   {
    "duration": 52,
    "start_time": "2023-06-30T15:55:46.967Z"
   },
   {
    "duration": 13,
    "start_time": "2023-06-30T15:58:23.828Z"
   },
   {
    "duration": 9,
    "start_time": "2023-06-30T15:58:37.710Z"
   },
   {
    "duration": 7,
    "start_time": "2023-06-30T15:58:47.811Z"
   },
   {
    "duration": 10,
    "start_time": "2023-06-30T15:59:08.487Z"
   },
   {
    "duration": 21,
    "start_time": "2023-06-30T16:01:54.152Z"
   },
   {
    "duration": 7,
    "start_time": "2023-06-30T16:01:57.937Z"
   },
   {
    "duration": 10,
    "start_time": "2023-06-30T16:02:43.645Z"
   },
   {
    "duration": 20,
    "start_time": "2023-06-30T16:02:55.469Z"
   },
   {
    "duration": 27,
    "start_time": "2023-06-30T16:06:45.537Z"
   },
   {
    "duration": 8,
    "start_time": "2023-06-30T16:06:48.925Z"
   },
   {
    "duration": 4,
    "start_time": "2023-06-30T16:07:38.193Z"
   },
   {
    "duration": 39,
    "start_time": "2023-06-30T16:09:40.810Z"
   },
   {
    "duration": 15,
    "start_time": "2023-06-30T16:11:17.167Z"
   },
   {
    "duration": 89,
    "start_time": "2023-06-30T16:11:40.246Z"
   },
   {
    "duration": 15,
    "start_time": "2023-06-30T16:11:48.184Z"
   },
   {
    "duration": 10,
    "start_time": "2023-06-30T16:11:56.912Z"
   },
   {
    "duration": 4,
    "start_time": "2023-06-30T16:12:29.389Z"
   },
   {
    "duration": 460,
    "start_time": "2023-06-30T16:12:34.700Z"
   },
   {
    "duration": 9,
    "start_time": "2023-06-30T16:12:59.943Z"
   },
   {
    "duration": 14,
    "start_time": "2023-06-30T16:13:58.325Z"
   },
   {
    "duration": 49,
    "start_time": "2023-06-30T16:15:23.670Z"
   },
   {
    "duration": 1241,
    "start_time": "2023-06-30T16:15:47.096Z"
   },
   {
    "duration": 1142,
    "start_time": "2023-06-30T16:15:54.842Z"
   },
   {
    "duration": 1125,
    "start_time": "2023-06-30T16:16:05.296Z"
   },
   {
    "duration": 62,
    "start_time": "2023-06-30T16:16:30.949Z"
   },
   {
    "duration": 46,
    "start_time": "2023-06-30T16:16:34.829Z"
   },
   {
    "duration": 11,
    "start_time": "2023-06-30T16:16:46.194Z"
   },
   {
    "duration": 9,
    "start_time": "2023-06-30T16:17:25.556Z"
   },
   {
    "duration": 11,
    "start_time": "2023-06-30T16:18:34.137Z"
   },
   {
    "duration": 11,
    "start_time": "2023-06-30T16:19:57.228Z"
   },
   {
    "duration": 11,
    "start_time": "2023-06-30T16:20:09.611Z"
   },
   {
    "duration": 335,
    "start_time": "2023-06-30T16:31:05.170Z"
   },
   {
    "duration": 1628,
    "start_time": "2023-07-01T09:47:00.980Z"
   },
   {
    "duration": 1939,
    "start_time": "2023-07-01T09:47:02.610Z"
   },
   {
    "duration": 14,
    "start_time": "2023-07-01T09:47:04.550Z"
   },
   {
    "duration": 15,
    "start_time": "2023-07-01T09:47:04.565Z"
   },
   {
    "duration": 26,
    "start_time": "2023-07-01T09:47:04.582Z"
   },
   {
    "duration": 19,
    "start_time": "2023-07-01T09:47:04.610Z"
   },
   {
    "duration": 21,
    "start_time": "2023-07-01T09:47:04.631Z"
   },
   {
    "duration": 31,
    "start_time": "2023-07-01T09:47:04.654Z"
   },
   {
    "duration": 101,
    "start_time": "2023-07-01T09:47:04.686Z"
   },
   {
    "duration": 706,
    "start_time": "2023-07-01T09:47:04.789Z"
   },
   {
    "duration": 28,
    "start_time": "2023-07-01T09:47:05.496Z"
   },
   {
    "duration": 119,
    "start_time": "2023-07-01T09:47:05.525Z"
   },
   {
    "duration": 183,
    "start_time": "2023-07-01T09:47:05.646Z"
   },
   {
    "duration": 184,
    "start_time": "2023-07-01T09:47:05.832Z"
   },
   {
    "duration": 25,
    "start_time": "2023-07-01T09:47:06.017Z"
   },
   {
    "duration": 49,
    "start_time": "2023-07-01T09:47:06.044Z"
   },
   {
    "duration": 4,
    "start_time": "2023-07-01T09:47:06.095Z"
   },
   {
    "duration": 21,
    "start_time": "2023-07-01T09:47:06.100Z"
   },
   {
    "duration": 40,
    "start_time": "2023-07-01T09:47:06.122Z"
   },
   {
    "duration": 18,
    "start_time": "2023-07-01T09:47:06.164Z"
   },
   {
    "duration": 45,
    "start_time": "2023-07-01T09:47:06.184Z"
   },
   {
    "duration": 368,
    "start_time": "2023-07-01T09:47:06.231Z"
   },
   {
    "duration": 60,
    "start_time": "2023-07-01T09:47:06.601Z"
   },
   {
    "duration": 48,
    "start_time": "2023-07-01T09:47:06.663Z"
   },
   {
    "duration": 4,
    "start_time": "2023-07-01T09:47:06.713Z"
   },
   {
    "duration": 38,
    "start_time": "2023-07-01T09:47:06.719Z"
   },
   {
    "duration": 24,
    "start_time": "2023-07-01T09:47:06.759Z"
   },
   {
    "duration": 339,
    "start_time": "2023-07-01T09:47:06.785Z"
   },
   {
    "duration": 331,
    "start_time": "2023-07-01T09:47:07.126Z"
   },
   {
    "duration": 52,
    "start_time": "2023-07-01T09:47:07.459Z"
   },
   {
    "duration": 226,
    "start_time": "2023-07-01T09:47:07.513Z"
   },
   {
    "duration": 13,
    "start_time": "2023-07-01T09:47:07.741Z"
   },
   {
    "duration": 20,
    "start_time": "2023-07-01T09:49:31.888Z"
   },
   {
    "duration": 20,
    "start_time": "2023-07-01T09:53:00.444Z"
   },
   {
    "duration": 18,
    "start_time": "2023-07-01T09:55:59.286Z"
   },
   {
    "duration": 35,
    "start_time": "2023-07-01T09:56:05.340Z"
   },
   {
    "duration": 127,
    "start_time": "2023-07-01T09:56:46.737Z"
   },
   {
    "duration": 21,
    "start_time": "2023-07-01T09:56:50.508Z"
   },
   {
    "duration": 7,
    "start_time": "2023-07-01T09:58:41.420Z"
   },
   {
    "duration": 23,
    "start_time": "2023-07-01T09:58:46.620Z"
   },
   {
    "duration": 22,
    "start_time": "2023-07-01T09:59:32.115Z"
   },
   {
    "duration": 200,
    "start_time": "2023-07-01T10:00:05.163Z"
   },
   {
    "duration": 4,
    "start_time": "2023-07-01T10:00:07.183Z"
   },
   {
    "duration": 655,
    "start_time": "2023-07-01T10:00:07.189Z"
   },
   {
    "duration": 9,
    "start_time": "2023-07-01T10:00:07.846Z"
   },
   {
    "duration": 27,
    "start_time": "2023-07-01T10:00:07.858Z"
   },
   {
    "duration": 30,
    "start_time": "2023-07-01T10:00:07.887Z"
   },
   {
    "duration": 32,
    "start_time": "2023-07-01T10:00:07.919Z"
   },
   {
    "duration": 30,
    "start_time": "2023-07-01T10:00:07.953Z"
   },
   {
    "duration": 49,
    "start_time": "2023-07-01T10:00:07.985Z"
   },
   {
    "duration": 105,
    "start_time": "2023-07-01T10:00:08.038Z"
   },
   {
    "duration": 664,
    "start_time": "2023-07-01T10:00:08.145Z"
   },
   {
    "duration": 26,
    "start_time": "2023-07-01T10:00:08.811Z"
   },
   {
    "duration": 115,
    "start_time": "2023-07-01T10:00:08.839Z"
   },
   {
    "duration": 182,
    "start_time": "2023-07-01T10:00:08.956Z"
   },
   {
    "duration": 198,
    "start_time": "2023-07-01T10:00:09.140Z"
   },
   {
    "duration": 30,
    "start_time": "2023-07-01T10:00:09.340Z"
   },
   {
    "duration": 41,
    "start_time": "2023-07-01T10:00:09.372Z"
   },
   {
    "duration": 3,
    "start_time": "2023-07-01T10:00:09.415Z"
   },
   {
    "duration": 34,
    "start_time": "2023-07-01T10:00:09.420Z"
   },
   {
    "duration": 16,
    "start_time": "2023-07-01T10:00:09.456Z"
   },
   {
    "duration": 16,
    "start_time": "2023-07-01T10:00:09.473Z"
   },
   {
    "duration": 69,
    "start_time": "2023-07-01T10:00:09.490Z"
   },
   {
    "duration": 323,
    "start_time": "2023-07-01T10:00:09.561Z"
   },
   {
    "duration": 41,
    "start_time": "2023-07-01T10:00:09.886Z"
   },
   {
    "duration": 59,
    "start_time": "2023-07-01T10:00:09.930Z"
   },
   {
    "duration": 4,
    "start_time": "2023-07-01T10:00:09.991Z"
   },
   {
    "duration": 15,
    "start_time": "2023-07-01T10:00:09.997Z"
   },
   {
    "duration": 17,
    "start_time": "2023-07-01T10:00:10.013Z"
   },
   {
    "duration": 294,
    "start_time": "2023-07-01T10:00:10.032Z"
   },
   {
    "duration": 289,
    "start_time": "2023-07-01T10:00:10.328Z"
   },
   {
    "duration": 55,
    "start_time": "2023-07-01T10:00:10.618Z"
   },
   {
    "duration": 10,
    "start_time": "2023-07-01T10:00:10.675Z"
   },
   {
    "duration": 11,
    "start_time": "2023-07-01T10:00:10.687Z"
   },
   {
    "duration": 27,
    "start_time": "2023-07-01T10:00:10.700Z"
   },
   {
    "duration": 21,
    "start_time": "2023-07-01T10:00:10.755Z"
   },
   {
    "duration": 22,
    "start_time": "2023-07-01T10:00:16.841Z"
   },
   {
    "duration": 14,
    "start_time": "2023-07-01T10:01:54.593Z"
   },
   {
    "duration": 16,
    "start_time": "2023-07-01T10:03:57.773Z"
   },
   {
    "duration": 20,
    "start_time": "2023-07-01T10:07:25.622Z"
   },
   {
    "duration": 13,
    "start_time": "2023-07-01T10:07:36.356Z"
   },
   {
    "duration": 17,
    "start_time": "2023-07-01T10:07:53.910Z"
   },
   {
    "duration": 64,
    "start_time": "2023-07-01T10:07:57.542Z"
   },
   {
    "duration": 17,
    "start_time": "2023-07-01T10:08:00.877Z"
   },
   {
    "duration": 16,
    "start_time": "2023-07-01T10:08:11.780Z"
   },
   {
    "duration": 8,
    "start_time": "2023-07-01T10:08:19.305Z"
   },
   {
    "duration": 9,
    "start_time": "2023-07-01T10:08:39.897Z"
   },
   {
    "duration": 17,
    "start_time": "2023-07-01T10:08:50.291Z"
   },
   {
    "duration": 12,
    "start_time": "2023-07-01T10:08:56.703Z"
   },
   {
    "duration": 9,
    "start_time": "2023-07-01T10:08:57.422Z"
   },
   {
    "duration": 12,
    "start_time": "2023-07-01T10:09:03.743Z"
   },
   {
    "duration": 7,
    "start_time": "2023-07-01T10:09:04.693Z"
   },
   {
    "duration": 3,
    "start_time": "2023-07-01T10:09:22.630Z"
   },
   {
    "duration": 658,
    "start_time": "2023-07-01T10:09:22.636Z"
   },
   {
    "duration": 9,
    "start_time": "2023-07-01T10:09:23.296Z"
   },
   {
    "duration": 14,
    "start_time": "2023-07-01T10:09:23.308Z"
   },
   {
    "duration": 26,
    "start_time": "2023-07-01T10:09:23.323Z"
   },
   {
    "duration": 33,
    "start_time": "2023-07-01T10:09:23.352Z"
   },
   {
    "duration": 16,
    "start_time": "2023-07-01T10:09:23.387Z"
   },
   {
    "duration": 29,
    "start_time": "2023-07-01T10:09:23.405Z"
   },
   {
    "duration": 131,
    "start_time": "2023-07-01T10:09:23.435Z"
   },
   {
    "duration": 679,
    "start_time": "2023-07-01T10:09:23.569Z"
   },
   {
    "duration": 28,
    "start_time": "2023-07-01T10:09:24.253Z"
   },
   {
    "duration": 111,
    "start_time": "2023-07-01T10:09:24.283Z"
   },
   {
    "duration": 193,
    "start_time": "2023-07-01T10:09:24.396Z"
   },
   {
    "duration": 238,
    "start_time": "2023-07-01T10:09:24.591Z"
   },
   {
    "duration": 43,
    "start_time": "2023-07-01T10:09:24.831Z"
   },
   {
    "duration": 40,
    "start_time": "2023-07-01T10:09:24.876Z"
   },
   {
    "duration": 4,
    "start_time": "2023-07-01T10:09:24.918Z"
   },
   {
    "duration": 36,
    "start_time": "2023-07-01T10:09:24.923Z"
   },
   {
    "duration": 16,
    "start_time": "2023-07-01T10:09:24.961Z"
   },
   {
    "duration": 16,
    "start_time": "2023-07-01T10:09:24.979Z"
   },
   {
    "duration": 76,
    "start_time": "2023-07-01T10:09:24.998Z"
   },
   {
    "duration": 375,
    "start_time": "2023-07-01T10:09:25.075Z"
   },
   {
    "duration": 48,
    "start_time": "2023-07-01T10:09:25.454Z"
   },
   {
    "duration": 59,
    "start_time": "2023-07-01T10:09:25.503Z"
   },
   {
    "duration": 4,
    "start_time": "2023-07-01T10:09:25.564Z"
   },
   {
    "duration": 22,
    "start_time": "2023-07-01T10:09:25.569Z"
   },
   {
    "duration": 30,
    "start_time": "2023-07-01T10:09:25.594Z"
   },
   {
    "duration": 330,
    "start_time": "2023-07-01T10:09:25.627Z"
   },
   {
    "duration": 304,
    "start_time": "2023-07-01T10:09:25.959Z"
   },
   {
    "duration": 67,
    "start_time": "2023-07-01T10:09:26.264Z"
   },
   {
    "duration": 27,
    "start_time": "2023-07-01T10:09:26.332Z"
   },
   {
    "duration": 26,
    "start_time": "2023-07-01T10:09:26.361Z"
   },
   {
    "duration": 43,
    "start_time": "2023-07-01T10:09:26.389Z"
   },
   {
    "duration": 26,
    "start_time": "2023-07-01T10:09:26.434Z"
   },
   {
    "duration": 10,
    "start_time": "2023-07-01T10:09:26.462Z"
   },
   {
    "duration": 21,
    "start_time": "2023-07-01T10:09:26.474Z"
   },
   {
    "duration": 14,
    "start_time": "2023-07-01T10:09:42.396Z"
   },
   {
    "duration": 8,
    "start_time": "2023-07-01T10:09:43.117Z"
   },
   {
    "duration": 10,
    "start_time": "2023-07-01T10:09:59.353Z"
   },
   {
    "duration": 8,
    "start_time": "2023-07-01T10:10:06.076Z"
   },
   {
    "duration": 12,
    "start_time": "2023-07-01T10:10:20.092Z"
   },
   {
    "duration": 21,
    "start_time": "2023-07-01T10:10:30.044Z"
   },
   {
    "duration": 21,
    "start_time": "2023-07-01T10:11:00.611Z"
   },
   {
    "duration": 3,
    "start_time": "2023-07-01T10:11:09.005Z"
   },
   {
    "duration": 616,
    "start_time": "2023-07-01T10:11:09.010Z"
   },
   {
    "duration": 9,
    "start_time": "2023-07-01T10:11:09.628Z"
   },
   {
    "duration": 14,
    "start_time": "2023-07-01T10:11:09.639Z"
   },
   {
    "duration": 9,
    "start_time": "2023-07-01T10:11:09.656Z"
   },
   {
    "duration": 12,
    "start_time": "2023-07-01T10:11:09.667Z"
   },
   {
    "duration": 5,
    "start_time": "2023-07-01T10:11:09.680Z"
   },
   {
    "duration": 21,
    "start_time": "2023-07-01T10:11:09.686Z"
   },
   {
    "duration": 119,
    "start_time": "2023-07-01T10:11:09.709Z"
   },
   {
    "duration": 685,
    "start_time": "2023-07-01T10:11:09.831Z"
   },
   {
    "duration": 36,
    "start_time": "2023-07-01T10:11:10.519Z"
   },
   {
    "duration": 103,
    "start_time": "2023-07-01T10:11:10.556Z"
   },
   {
    "duration": 196,
    "start_time": "2023-07-01T10:11:10.661Z"
   },
   {
    "duration": 199,
    "start_time": "2023-07-01T10:11:10.860Z"
   },
   {
    "duration": 23,
    "start_time": "2023-07-01T10:11:11.062Z"
   },
   {
    "duration": 42,
    "start_time": "2023-07-01T10:11:11.087Z"
   },
   {
    "duration": 25,
    "start_time": "2023-07-01T10:11:11.131Z"
   },
   {
    "duration": 17,
    "start_time": "2023-07-01T10:11:11.158Z"
   },
   {
    "duration": 15,
    "start_time": "2023-07-01T10:11:11.177Z"
   },
   {
    "duration": 15,
    "start_time": "2023-07-01T10:11:11.194Z"
   },
   {
    "duration": 72,
    "start_time": "2023-07-01T10:11:11.211Z"
   },
   {
    "duration": 318,
    "start_time": "2023-07-01T10:11:11.285Z"
   },
   {
    "duration": 50,
    "start_time": "2023-07-01T10:11:11.605Z"
   },
   {
    "duration": 41,
    "start_time": "2023-07-01T10:11:11.657Z"
   },
   {
    "duration": 4,
    "start_time": "2023-07-01T10:11:11.700Z"
   },
   {
    "duration": 28,
    "start_time": "2023-07-01T10:11:11.705Z"
   },
   {
    "duration": 29,
    "start_time": "2023-07-01T10:11:11.735Z"
   },
   {
    "duration": 263,
    "start_time": "2023-07-01T10:11:11.766Z"
   },
   {
    "duration": 269,
    "start_time": "2023-07-01T10:11:12.031Z"
   },
   {
    "duration": 55,
    "start_time": "2023-07-01T10:11:12.302Z"
   },
   {
    "duration": 461,
    "start_time": "2023-07-01T10:11:12.359Z"
   },
   {
    "duration": 14,
    "start_time": "2023-07-01T10:11:12.821Z"
   },
   {
    "duration": 37,
    "start_time": "2023-07-01T10:11:12.836Z"
   },
   {
    "duration": 41,
    "start_time": "2023-07-01T10:11:12.875Z"
   },
   {
    "duration": 15,
    "start_time": "2023-07-01T10:11:12.918Z"
   },
   {
    "duration": 19,
    "start_time": "2023-07-01T10:11:12.935Z"
   },
   {
    "duration": 11,
    "start_time": "2023-07-01T10:11:12.956Z"
   },
   {
    "duration": 20,
    "start_time": "2023-07-01T10:11:23.877Z"
   },
   {
    "duration": 15,
    "start_time": "2023-07-01T10:11:37.843Z"
   },
   {
    "duration": 8,
    "start_time": "2023-07-01T10:11:59.830Z"
   },
   {
    "duration": 8,
    "start_time": "2023-07-01T10:12:01.699Z"
   },
   {
    "duration": 11,
    "start_time": "2023-07-01T10:12:03.960Z"
   },
   {
    "duration": 13,
    "start_time": "2023-07-01T10:12:22.903Z"
   },
   {
    "duration": 11,
    "start_time": "2023-07-01T10:12:23.843Z"
   },
   {
    "duration": 16,
    "start_time": "2023-07-01T10:12:39.031Z"
   },
   {
    "duration": 11,
    "start_time": "2023-07-01T10:12:39.448Z"
   },
   {
    "duration": 22,
    "start_time": "2023-07-01T10:12:50.799Z"
   },
   {
    "duration": 4,
    "start_time": "2023-07-01T10:13:04.238Z"
   },
   {
    "duration": 692,
    "start_time": "2023-07-01T10:13:04.244Z"
   },
   {
    "duration": 10,
    "start_time": "2023-07-01T10:13:04.939Z"
   },
   {
    "duration": 164,
    "start_time": "2023-07-01T10:13:04.953Z"
   },
   {
    "duration": 20,
    "start_time": "2023-07-01T10:13:05.119Z"
   },
   {
    "duration": 18,
    "start_time": "2023-07-01T10:13:05.141Z"
   },
   {
    "duration": 15,
    "start_time": "2023-07-01T10:13:05.162Z"
   },
   {
    "duration": 21,
    "start_time": "2023-07-01T10:13:05.179Z"
   },
   {
    "duration": 119,
    "start_time": "2023-07-01T10:13:05.203Z"
   },
   {
    "duration": 730,
    "start_time": "2023-07-01T10:13:05.325Z"
   },
   {
    "duration": 28,
    "start_time": "2023-07-01T10:13:06.057Z"
   },
   {
    "duration": 110,
    "start_time": "2023-07-01T10:13:06.087Z"
   },
   {
    "duration": 200,
    "start_time": "2023-07-01T10:13:06.199Z"
   },
   {
    "duration": 227,
    "start_time": "2023-07-01T10:13:06.401Z"
   },
   {
    "duration": 33,
    "start_time": "2023-07-01T10:13:06.630Z"
   },
   {
    "duration": 51,
    "start_time": "2023-07-01T10:13:06.666Z"
   },
   {
    "duration": 4,
    "start_time": "2023-07-01T10:13:06.720Z"
   },
   {
    "duration": 46,
    "start_time": "2023-07-01T10:13:06.726Z"
   },
   {
    "duration": 44,
    "start_time": "2023-07-01T10:13:06.774Z"
   },
   {
    "duration": 17,
    "start_time": "2023-07-01T10:13:06.820Z"
   },
   {
    "duration": 54,
    "start_time": "2023-07-01T10:13:06.839Z"
   },
   {
    "duration": 346,
    "start_time": "2023-07-01T10:13:06.895Z"
   },
   {
    "duration": 60,
    "start_time": "2023-07-01T10:13:07.243Z"
   },
   {
    "duration": 64,
    "start_time": "2023-07-01T10:13:07.305Z"
   },
   {
    "duration": 6,
    "start_time": "2023-07-01T10:13:07.372Z"
   },
   {
    "duration": 13,
    "start_time": "2023-07-01T10:13:07.380Z"
   },
   {
    "duration": 66,
    "start_time": "2023-07-01T10:13:07.396Z"
   },
   {
    "duration": 354,
    "start_time": "2023-07-01T10:13:07.467Z"
   },
   {
    "duration": 270,
    "start_time": "2023-07-01T10:13:07.823Z"
   },
   {
    "duration": 59,
    "start_time": "2023-07-01T10:13:08.096Z"
   },
   {
    "duration": 13,
    "start_time": "2023-07-01T10:13:08.157Z"
   },
   {
    "duration": 21,
    "start_time": "2023-07-01T10:13:08.172Z"
   },
   {
    "duration": 35,
    "start_time": "2023-07-01T10:13:08.195Z"
   },
   {
    "duration": 34,
    "start_time": "2023-07-01T10:13:08.232Z"
   },
   {
    "duration": 18,
    "start_time": "2023-07-01T10:13:08.268Z"
   },
   {
    "duration": 15,
    "start_time": "2023-07-01T10:13:08.288Z"
   },
   {
    "duration": 12,
    "start_time": "2023-07-01T10:13:08.305Z"
   },
   {
    "duration": 47,
    "start_time": "2023-07-01T10:13:20.284Z"
   },
   {
    "duration": 3,
    "start_time": "2023-07-01T10:17:43.705Z"
   },
   {
    "duration": 1001,
    "start_time": "2023-07-01T10:17:43.710Z"
   },
   {
    "duration": 10,
    "start_time": "2023-07-01T10:17:44.713Z"
   },
   {
    "duration": 22,
    "start_time": "2023-07-01T10:17:44.725Z"
   },
   {
    "duration": 28,
    "start_time": "2023-07-01T10:17:44.749Z"
   },
   {
    "duration": 23,
    "start_time": "2023-07-01T10:17:44.779Z"
   },
   {
    "duration": 12,
    "start_time": "2023-07-01T10:17:44.803Z"
   },
   {
    "duration": 28,
    "start_time": "2023-07-01T10:17:44.818Z"
   },
   {
    "duration": 115,
    "start_time": "2023-07-01T10:17:44.848Z"
   },
   {
    "duration": 915,
    "start_time": "2023-07-01T10:17:44.966Z"
   },
   {
    "duration": 43,
    "start_time": "2023-07-01T10:17:45.883Z"
   },
   {
    "duration": 127,
    "start_time": "2023-07-01T10:17:45.928Z"
   },
   {
    "duration": 237,
    "start_time": "2023-07-01T10:17:46.057Z"
   },
   {
    "duration": 235,
    "start_time": "2023-07-01T10:17:46.298Z"
   },
   {
    "duration": 37,
    "start_time": "2023-07-01T10:17:46.536Z"
   },
   {
    "duration": 46,
    "start_time": "2023-07-01T10:17:46.575Z"
   },
   {
    "duration": 3,
    "start_time": "2023-07-01T10:17:46.624Z"
   },
   {
    "duration": 41,
    "start_time": "2023-07-01T10:17:46.630Z"
   },
   {
    "duration": 18,
    "start_time": "2023-07-01T10:17:46.673Z"
   },
   {
    "duration": 20,
    "start_time": "2023-07-01T10:17:46.693Z"
   },
   {
    "duration": 75,
    "start_time": "2023-07-01T10:17:46.716Z"
   },
   {
    "duration": 371,
    "start_time": "2023-07-01T10:17:46.793Z"
   },
   {
    "duration": 58,
    "start_time": "2023-07-01T10:17:47.166Z"
   },
   {
    "duration": 76,
    "start_time": "2023-07-01T10:17:47.226Z"
   },
   {
    "duration": 8,
    "start_time": "2023-07-01T10:17:47.304Z"
   },
   {
    "duration": 28,
    "start_time": "2023-07-01T10:17:47.314Z"
   },
   {
    "duration": 55,
    "start_time": "2023-07-01T10:17:47.355Z"
   },
   {
    "duration": 377,
    "start_time": "2023-07-01T10:17:47.413Z"
   },
   {
    "duration": 268,
    "start_time": "2023-07-01T10:17:47.792Z"
   },
   {
    "duration": 67,
    "start_time": "2023-07-01T10:17:48.062Z"
   },
   {
    "duration": 26,
    "start_time": "2023-07-01T10:17:48.131Z"
   },
   {
    "duration": 16,
    "start_time": "2023-07-01T10:17:48.159Z"
   },
   {
    "duration": 24,
    "start_time": "2023-07-01T10:17:48.177Z"
   },
   {
    "duration": 40,
    "start_time": "2023-07-01T10:17:48.203Z"
   },
   {
    "duration": 15,
    "start_time": "2023-07-01T10:17:48.254Z"
   },
   {
    "duration": 11,
    "start_time": "2023-07-01T10:17:48.271Z"
   },
   {
    "duration": 16,
    "start_time": "2023-07-01T10:17:48.287Z"
   },
   {
    "duration": 3,
    "start_time": "2023-07-01T10:19:14.908Z"
   },
   {
    "duration": 1058,
    "start_time": "2023-07-01T10:19:14.913Z"
   },
   {
    "duration": 12,
    "start_time": "2023-07-01T10:19:15.973Z"
   },
   {
    "duration": 19,
    "start_time": "2023-07-01T10:19:15.989Z"
   },
   {
    "duration": 24,
    "start_time": "2023-07-01T10:19:16.010Z"
   },
   {
    "duration": 48,
    "start_time": "2023-07-01T10:19:16.035Z"
   },
   {
    "duration": 5,
    "start_time": "2023-07-01T10:19:16.086Z"
   },
   {
    "duration": 40,
    "start_time": "2023-07-01T10:19:16.093Z"
   },
   {
    "duration": 105,
    "start_time": "2023-07-01T10:19:16.135Z"
   },
   {
    "duration": 792,
    "start_time": "2023-07-01T10:19:16.243Z"
   },
   {
    "duration": 37,
    "start_time": "2023-07-01T10:19:17.037Z"
   },
   {
    "duration": 117,
    "start_time": "2023-07-01T10:19:17.077Z"
   },
   {
    "duration": 213,
    "start_time": "2023-07-01T10:19:17.196Z"
   },
   {
    "duration": 256,
    "start_time": "2023-07-01T10:19:17.412Z"
   },
   {
    "duration": 27,
    "start_time": "2023-07-01T10:19:17.670Z"
   },
   {
    "duration": 76,
    "start_time": "2023-07-01T10:19:17.699Z"
   },
   {
    "duration": 6,
    "start_time": "2023-07-01T10:19:17.778Z"
   },
   {
    "duration": 25,
    "start_time": "2023-07-01T10:19:17.786Z"
   },
   {
    "duration": 25,
    "start_time": "2023-07-01T10:19:17.814Z"
   },
   {
    "duration": 42,
    "start_time": "2023-07-01T10:19:17.841Z"
   },
   {
    "duration": 68,
    "start_time": "2023-07-01T10:19:17.889Z"
   },
   {
    "duration": 348,
    "start_time": "2023-07-01T10:19:17.960Z"
   },
   {
    "duration": 52,
    "start_time": "2023-07-01T10:19:18.310Z"
   },
   {
    "duration": 46,
    "start_time": "2023-07-01T10:19:18.364Z"
   },
   {
    "duration": 5,
    "start_time": "2023-07-01T10:19:18.412Z"
   },
   {
    "duration": 38,
    "start_time": "2023-07-01T10:19:18.419Z"
   },
   {
    "duration": 38,
    "start_time": "2023-07-01T10:19:18.459Z"
   },
   {
    "duration": 284,
    "start_time": "2023-07-01T10:19:18.502Z"
   },
   {
    "duration": 285,
    "start_time": "2023-07-01T10:19:18.788Z"
   },
   {
    "duration": 52,
    "start_time": "2023-07-01T10:19:19.076Z"
   },
   {
    "duration": 32,
    "start_time": "2023-07-01T10:19:19.130Z"
   },
   {
    "duration": 18,
    "start_time": "2023-07-01T10:19:19.165Z"
   },
   {
    "duration": 8,
    "start_time": "2023-07-01T10:19:19.187Z"
   },
   {
    "duration": 4,
    "start_time": "2023-07-01T10:19:19.197Z"
   },
   {
    "duration": 22,
    "start_time": "2023-07-01T10:19:19.203Z"
   },
   {
    "duration": 20,
    "start_time": "2023-07-01T10:19:19.259Z"
   },
   {
    "duration": 11,
    "start_time": "2023-07-01T10:19:19.283Z"
   },
   {
    "duration": 8,
    "start_time": "2023-07-01T10:19:19.296Z"
   },
   {
    "duration": 30,
    "start_time": "2023-07-01T10:19:24.659Z"
   },
   {
    "duration": 23,
    "start_time": "2023-07-01T10:19:30.405Z"
   },
   {
    "duration": 18,
    "start_time": "2023-07-01T10:19:53.184Z"
   },
   {
    "duration": 77,
    "start_time": "2023-07-01T10:19:54.384Z"
   },
   {
    "duration": 17,
    "start_time": "2023-07-01T10:19:59.769Z"
   },
   {
    "duration": 675,
    "start_time": "2023-07-01T10:22:33.205Z"
   },
   {
    "duration": 168,
    "start_time": "2023-07-01T10:23:50.211Z"
   },
   {
    "duration": 20,
    "start_time": "2023-07-01T10:24:04.577Z"
   },
   {
    "duration": 4,
    "start_time": "2023-07-01T10:25:39.175Z"
   },
   {
    "duration": 1844,
    "start_time": "2023-07-01T10:25:39.181Z"
   },
   {
    "duration": 9,
    "start_time": "2023-07-01T10:25:41.027Z"
   },
   {
    "duration": 19,
    "start_time": "2023-07-01T10:25:41.038Z"
   },
   {
    "duration": 21,
    "start_time": "2023-07-01T10:25:41.060Z"
   },
   {
    "duration": 49,
    "start_time": "2023-07-01T10:25:41.082Z"
   },
   {
    "duration": 39,
    "start_time": "2023-07-01T10:25:41.133Z"
   },
   {
    "duration": 36,
    "start_time": "2023-07-01T10:25:41.175Z"
   },
   {
    "duration": 107,
    "start_time": "2023-07-01T10:25:41.213Z"
   },
   {
    "duration": 812,
    "start_time": "2023-07-01T10:25:41.321Z"
   },
   {
    "duration": 47,
    "start_time": "2023-07-01T10:25:42.135Z"
   },
   {
    "duration": 120,
    "start_time": "2023-07-01T10:25:42.184Z"
   },
   {
    "duration": 223,
    "start_time": "2023-07-01T10:25:42.306Z"
   },
   {
    "duration": 205,
    "start_time": "2023-07-01T10:25:42.532Z"
   },
   {
    "duration": 38,
    "start_time": "2023-07-01T10:25:42.739Z"
   },
   {
    "duration": 41,
    "start_time": "2023-07-01T10:25:42.779Z"
   },
   {
    "duration": 3,
    "start_time": "2023-07-01T10:25:42.822Z"
   },
   {
    "duration": 47,
    "start_time": "2023-07-01T10:25:42.826Z"
   },
   {
    "duration": 16,
    "start_time": "2023-07-01T10:25:42.875Z"
   },
   {
    "duration": 15,
    "start_time": "2023-07-01T10:25:42.893Z"
   },
   {
    "duration": 78,
    "start_time": "2023-07-01T10:25:42.909Z"
   },
   {
    "duration": 355,
    "start_time": "2023-07-01T10:25:42.989Z"
   },
   {
    "duration": 55,
    "start_time": "2023-07-01T10:25:43.346Z"
   },
   {
    "duration": 63,
    "start_time": "2023-07-01T10:25:43.402Z"
   },
   {
    "duration": 6,
    "start_time": "2023-07-01T10:25:43.468Z"
   },
   {
    "duration": 18,
    "start_time": "2023-07-01T10:25:43.475Z"
   },
   {
    "duration": 46,
    "start_time": "2023-07-01T10:25:43.495Z"
   },
   {
    "duration": 294,
    "start_time": "2023-07-01T10:25:43.543Z"
   },
   {
    "duration": 287,
    "start_time": "2023-07-01T10:25:43.839Z"
   },
   {
    "duration": 66,
    "start_time": "2023-07-01T10:25:44.127Z"
   },
   {
    "duration": 11,
    "start_time": "2023-07-01T10:25:44.194Z"
   },
   {
    "duration": 11,
    "start_time": "2023-07-01T10:25:44.207Z"
   },
   {
    "duration": 2,
    "start_time": "2023-07-01T10:25:44.220Z"
   },
   {
    "duration": 31,
    "start_time": "2023-07-01T10:25:44.223Z"
   },
   {
    "duration": 18,
    "start_time": "2023-07-01T10:25:44.257Z"
   },
   {
    "duration": 12,
    "start_time": "2023-07-01T10:25:44.276Z"
   },
   {
    "duration": 11,
    "start_time": "2023-07-01T10:25:44.289Z"
   },
   {
    "duration": 9,
    "start_time": "2023-07-01T10:25:44.301Z"
   },
   {
    "duration": 7,
    "start_time": "2023-07-01T10:25:58.915Z"
   },
   {
    "duration": 9,
    "start_time": "2023-07-01T10:26:03.709Z"
   },
   {
    "duration": 182,
    "start_time": "2023-07-01T10:28:45.605Z"
   },
   {
    "duration": 187,
    "start_time": "2023-07-01T10:28:57.738Z"
   },
   {
    "duration": 201,
    "start_time": "2023-07-01T10:29:56.501Z"
   },
   {
    "duration": 187,
    "start_time": "2023-07-01T10:30:21.494Z"
   },
   {
    "duration": 195,
    "start_time": "2023-07-01T10:30:45.531Z"
   },
   {
    "duration": 269,
    "start_time": "2023-07-01T10:31:06.347Z"
   },
   {
    "duration": 4,
    "start_time": "2023-07-01T12:49:44.367Z"
   },
   {
    "duration": 1956,
    "start_time": "2023-07-01T12:49:44.374Z"
   },
   {
    "duration": 12,
    "start_time": "2023-07-01T12:49:46.332Z"
   },
   {
    "duration": 452,
    "start_time": "2023-07-01T12:49:46.346Z"
   },
   {
    "duration": 11,
    "start_time": "2023-07-01T12:49:46.800Z"
   },
   {
    "duration": 8,
    "start_time": "2023-07-01T12:49:46.813Z"
   },
   {
    "duration": 5,
    "start_time": "2023-07-01T12:49:46.822Z"
   },
   {
    "duration": 17,
    "start_time": "2023-07-01T12:49:46.853Z"
   },
   {
    "duration": 141,
    "start_time": "2023-07-01T12:49:46.872Z"
   },
   {
    "duration": 760,
    "start_time": "2023-07-01T12:49:47.017Z"
   },
   {
    "duration": 31,
    "start_time": "2023-07-01T12:49:47.778Z"
   },
   {
    "duration": 109,
    "start_time": "2023-07-01T12:49:47.812Z"
   },
   {
    "duration": 218,
    "start_time": "2023-07-01T12:49:47.923Z"
   },
   {
    "duration": 223,
    "start_time": "2023-07-01T12:49:48.147Z"
   },
   {
    "duration": 23,
    "start_time": "2023-07-01T12:49:48.372Z"
   },
   {
    "duration": 66,
    "start_time": "2023-07-01T12:49:48.397Z"
   },
   {
    "duration": 4,
    "start_time": "2023-07-01T12:49:48.465Z"
   },
   {
    "duration": 21,
    "start_time": "2023-07-01T12:49:48.470Z"
   },
   {
    "duration": 18,
    "start_time": "2023-07-01T12:49:48.493Z"
   },
   {
    "duration": 40,
    "start_time": "2023-07-01T12:49:48.514Z"
   },
   {
    "duration": 43,
    "start_time": "2023-07-01T12:49:48.557Z"
   },
   {
    "duration": 342,
    "start_time": "2023-07-01T12:49:48.602Z"
   },
   {
    "duration": 53,
    "start_time": "2023-07-01T12:49:48.946Z"
   },
   {
    "duration": 54,
    "start_time": "2023-07-01T12:49:49.002Z"
   },
   {
    "duration": 5,
    "start_time": "2023-07-01T12:49:49.058Z"
   },
   {
    "duration": 27,
    "start_time": "2023-07-01T12:49:49.065Z"
   },
   {
    "duration": 43,
    "start_time": "2023-07-01T12:49:49.094Z"
   },
   {
    "duration": 297,
    "start_time": "2023-07-01T12:49:49.140Z"
   },
   {
    "duration": 273,
    "start_time": "2023-07-01T12:49:49.439Z"
   },
   {
    "duration": 53,
    "start_time": "2023-07-01T12:49:49.715Z"
   },
   {
    "duration": 12,
    "start_time": "2023-07-01T12:49:49.771Z"
   },
   {
    "duration": 13,
    "start_time": "2023-07-01T12:49:49.785Z"
   },
   {
    "duration": 6,
    "start_time": "2023-07-01T12:49:49.800Z"
   },
   {
    "duration": 26,
    "start_time": "2023-07-01T12:49:49.808Z"
   },
   {
    "duration": 24,
    "start_time": "2023-07-01T12:49:49.836Z"
   },
   {
    "duration": 7,
    "start_time": "2023-07-01T12:49:49.862Z"
   },
   {
    "duration": 17,
    "start_time": "2023-07-01T12:49:49.870Z"
   },
   {
    "duration": 8,
    "start_time": "2023-07-01T12:49:49.889Z"
   },
   {
    "duration": 28,
    "start_time": "2023-07-01T12:49:49.899Z"
   },
   {
    "duration": 226,
    "start_time": "2023-07-01T12:49:49.930Z"
   },
   {
    "duration": 1434,
    "start_time": "2023-07-02T12:16:05.242Z"
   },
   {
    "duration": 2427,
    "start_time": "2023-07-02T12:16:06.679Z"
   },
   {
    "duration": 14,
    "start_time": "2023-07-02T12:16:09.107Z"
   },
   {
    "duration": 13,
    "start_time": "2023-07-02T12:16:09.123Z"
   },
   {
    "duration": 10,
    "start_time": "2023-07-02T12:16:09.137Z"
   },
   {
    "duration": 14,
    "start_time": "2023-07-02T12:16:09.148Z"
   },
   {
    "duration": 24,
    "start_time": "2023-07-02T12:16:09.163Z"
   },
   {
    "duration": 20,
    "start_time": "2023-07-02T12:16:09.188Z"
   },
   {
    "duration": 82,
    "start_time": "2023-07-02T12:16:09.209Z"
   },
   {
    "duration": 638,
    "start_time": "2023-07-02T12:16:09.295Z"
   },
   {
    "duration": 32,
    "start_time": "2023-07-02T12:16:09.934Z"
   },
   {
    "duration": 103,
    "start_time": "2023-07-02T12:16:09.968Z"
   },
   {
    "duration": 278,
    "start_time": "2023-07-02T12:16:10.076Z"
   },
   {
    "duration": 0,
    "start_time": "2023-07-02T12:16:10.356Z"
   },
   {
    "duration": 0,
    "start_time": "2023-07-02T12:16:10.359Z"
   },
   {
    "duration": 0,
    "start_time": "2023-07-02T12:16:10.360Z"
   },
   {
    "duration": 0,
    "start_time": "2023-07-02T12:16:10.362Z"
   },
   {
    "duration": 0,
    "start_time": "2023-07-02T12:16:10.367Z"
   },
   {
    "duration": 0,
    "start_time": "2023-07-02T12:16:10.368Z"
   },
   {
    "duration": 0,
    "start_time": "2023-07-02T12:16:10.368Z"
   },
   {
    "duration": 0,
    "start_time": "2023-07-02T12:16:10.369Z"
   },
   {
    "duration": 0,
    "start_time": "2023-07-02T12:16:10.371Z"
   },
   {
    "duration": 0,
    "start_time": "2023-07-02T12:16:10.378Z"
   },
   {
    "duration": 0,
    "start_time": "2023-07-02T12:16:10.379Z"
   },
   {
    "duration": 0,
    "start_time": "2023-07-02T12:16:10.380Z"
   },
   {
    "duration": 0,
    "start_time": "2023-07-02T12:16:10.381Z"
   },
   {
    "duration": 0,
    "start_time": "2023-07-02T12:16:10.382Z"
   },
   {
    "duration": 0,
    "start_time": "2023-07-02T12:16:10.383Z"
   },
   {
    "duration": 0,
    "start_time": "2023-07-02T12:16:10.387Z"
   },
   {
    "duration": 0,
    "start_time": "2023-07-02T12:16:10.388Z"
   },
   {
    "duration": 0,
    "start_time": "2023-07-02T12:16:10.389Z"
   },
   {
    "duration": 0,
    "start_time": "2023-07-02T12:16:10.390Z"
   },
   {
    "duration": 0,
    "start_time": "2023-07-02T12:16:10.391Z"
   },
   {
    "duration": 0,
    "start_time": "2023-07-02T12:16:10.392Z"
   },
   {
    "duration": 0,
    "start_time": "2023-07-02T12:16:10.393Z"
   },
   {
    "duration": 0,
    "start_time": "2023-07-02T12:16:10.394Z"
   },
   {
    "duration": 0,
    "start_time": "2023-07-02T12:16:10.396Z"
   },
   {
    "duration": 0,
    "start_time": "2023-07-02T12:16:10.397Z"
   },
   {
    "duration": 0,
    "start_time": "2023-07-02T12:16:10.398Z"
   },
   {
    "duration": 0,
    "start_time": "2023-07-02T12:16:10.399Z"
   },
   {
    "duration": 161,
    "start_time": "2023-07-02T12:18:08.942Z"
   },
   {
    "duration": 3,
    "start_time": "2023-07-02T12:18:11.479Z"
   },
   {
    "duration": 559,
    "start_time": "2023-07-02T12:18:11.483Z"
   },
   {
    "duration": 8,
    "start_time": "2023-07-02T12:18:12.043Z"
   },
   {
    "duration": 30,
    "start_time": "2023-07-02T12:18:12.052Z"
   },
   {
    "duration": 46,
    "start_time": "2023-07-02T12:18:12.084Z"
   },
   {
    "duration": 42,
    "start_time": "2023-07-02T12:18:12.131Z"
   },
   {
    "duration": 12,
    "start_time": "2023-07-02T12:18:12.175Z"
   },
   {
    "duration": 16,
    "start_time": "2023-07-02T12:18:12.189Z"
   },
   {
    "duration": 78,
    "start_time": "2023-07-02T12:18:12.207Z"
   },
   {
    "duration": 556,
    "start_time": "2023-07-02T12:18:12.287Z"
   },
   {
    "duration": 31,
    "start_time": "2023-07-02T12:18:12.845Z"
   },
   {
    "duration": 92,
    "start_time": "2023-07-02T12:18:12.877Z"
   },
   {
    "duration": 162,
    "start_time": "2023-07-02T12:18:12.971Z"
   },
   {
    "duration": 163,
    "start_time": "2023-07-02T12:18:13.136Z"
   },
   {
    "duration": 20,
    "start_time": "2023-07-02T12:18:13.301Z"
   },
   {
    "duration": 49,
    "start_time": "2023-07-02T12:18:13.323Z"
   },
   {
    "duration": 3,
    "start_time": "2023-07-02T12:18:13.374Z"
   },
   {
    "duration": 25,
    "start_time": "2023-07-02T12:18:13.378Z"
   },
   {
    "duration": 13,
    "start_time": "2023-07-02T12:18:13.405Z"
   },
   {
    "duration": 12,
    "start_time": "2023-07-02T12:18:13.420Z"
   },
   {
    "duration": 59,
    "start_time": "2023-07-02T12:18:13.433Z"
   },
   {
    "duration": 294,
    "start_time": "2023-07-02T12:18:13.494Z"
   },
   {
    "duration": 37,
    "start_time": "2023-07-02T12:18:13.790Z"
   },
   {
    "duration": 53,
    "start_time": "2023-07-02T12:18:13.829Z"
   },
   {
    "duration": 3,
    "start_time": "2023-07-02T12:18:13.883Z"
   },
   {
    "duration": 26,
    "start_time": "2023-07-02T12:18:13.888Z"
   },
   {
    "duration": 36,
    "start_time": "2023-07-02T12:18:13.915Z"
   },
   {
    "duration": 370,
    "start_time": "2023-07-02T12:18:13.952Z"
   },
   {
    "duration": 286,
    "start_time": "2023-07-02T12:18:14.324Z"
   },
   {
    "duration": 61,
    "start_time": "2023-07-02T12:18:14.611Z"
   },
   {
    "duration": 145,
    "start_time": "2023-07-02T12:18:14.675Z"
   },
   {
    "duration": 12,
    "start_time": "2023-07-02T12:18:14.822Z"
   },
   {
    "duration": 11,
    "start_time": "2023-07-02T12:18:14.836Z"
   },
   {
    "duration": 14,
    "start_time": "2023-07-02T12:18:14.848Z"
   },
   {
    "duration": 19,
    "start_time": "2023-07-02T12:18:14.867Z"
   },
   {
    "duration": 11,
    "start_time": "2023-07-02T12:18:14.887Z"
   },
   {
    "duration": 70,
    "start_time": "2023-07-02T12:18:14.899Z"
   },
   {
    "duration": 8,
    "start_time": "2023-07-02T12:18:14.971Z"
   },
   {
    "duration": 11,
    "start_time": "2023-07-02T12:18:14.981Z"
   },
   {
    "duration": 192,
    "start_time": "2023-07-02T12:18:14.994Z"
   },
   {
    "duration": 10,
    "start_time": "2023-07-02T12:23:51.214Z"
   },
   {
    "duration": 26,
    "start_time": "2023-07-02T12:25:39.810Z"
   },
   {
    "duration": 10,
    "start_time": "2023-07-02T12:26:19.090Z"
   },
   {
    "duration": 21,
    "start_time": "2023-07-02T12:26:19.553Z"
   },
   {
    "duration": 11,
    "start_time": "2023-07-02T12:26:20.192Z"
   },
   {
    "duration": 8,
    "start_time": "2023-07-02T12:26:23.604Z"
   },
   {
    "duration": 211,
    "start_time": "2023-07-02T12:26:34.126Z"
   },
   {
    "duration": 69,
    "start_time": "2023-07-04T11:11:41.777Z"
   },
   {
    "duration": 1359,
    "start_time": "2023-07-04T11:11:46.497Z"
   },
   {
    "duration": 2011,
    "start_time": "2023-07-04T11:11:47.858Z"
   },
   {
    "duration": 11,
    "start_time": "2023-07-04T11:11:49.871Z"
   },
   {
    "duration": 12,
    "start_time": "2023-07-04T11:11:49.884Z"
   },
   {
    "duration": 27,
    "start_time": "2023-07-04T11:11:49.897Z"
   },
   {
    "duration": 12,
    "start_time": "2023-07-04T11:11:49.926Z"
   },
   {
    "duration": 16,
    "start_time": "2023-07-04T11:11:49.940Z"
   },
   {
    "duration": 24,
    "start_time": "2023-07-04T11:11:49.957Z"
   },
   {
    "duration": 75,
    "start_time": "2023-07-04T11:11:49.983Z"
   },
   {
    "duration": 667,
    "start_time": "2023-07-04T11:11:50.059Z"
   },
   {
    "duration": 34,
    "start_time": "2023-07-04T11:11:50.728Z"
   },
   {
    "duration": 110,
    "start_time": "2023-07-04T11:11:50.764Z"
   },
   {
    "duration": 188,
    "start_time": "2023-07-04T11:11:52.364Z"
   },
   {
    "duration": 159,
    "start_time": "2023-07-04T11:11:53.025Z"
   },
   {
    "duration": 23,
    "start_time": "2023-07-04T11:11:56.148Z"
   },
   {
    "duration": 2,
    "start_time": "2023-07-04T11:11:58.492Z"
   },
   {
    "duration": 2,
    "start_time": "2023-07-04T11:11:58.974Z"
   },
   {
    "duration": 16,
    "start_time": "2023-07-04T11:11:59.966Z"
   },
   {
    "duration": 2,
    "start_time": "2023-07-04T11:12:00.713Z"
   },
   {
    "duration": 3,
    "start_time": "2023-07-04T11:12:00.947Z"
   },
   {
    "duration": 44,
    "start_time": "2023-07-04T11:12:04.317Z"
   },
   {
    "duration": 22,
    "start_time": "2023-07-04T11:12:23.529Z"
   },
   {
    "duration": 53,
    "start_time": "2023-07-04T11:12:30.136Z"
   },
   {
    "duration": 289,
    "start_time": "2023-07-04T11:14:11.308Z"
   },
   {
    "duration": 308,
    "start_time": "2023-07-04T11:15:15.235Z"
   },
   {
    "duration": 307,
    "start_time": "2023-07-04T11:15:55.703Z"
   },
   {
    "duration": 301,
    "start_time": "2023-07-04T11:16:02.929Z"
   },
   {
    "duration": 281,
    "start_time": "2023-07-04T11:16:26.447Z"
   },
   {
    "duration": 312,
    "start_time": "2023-07-04T11:16:49.759Z"
   },
   {
    "duration": 398,
    "start_time": "2023-07-04T11:17:24.270Z"
   },
   {
    "duration": 308,
    "start_time": "2023-07-04T11:17:59.321Z"
   },
   {
    "duration": 89,
    "start_time": "2023-07-04T11:22:37.521Z"
   },
   {
    "duration": 36,
    "start_time": "2023-07-04T11:22:41.851Z"
   },
   {
    "duration": 302,
    "start_time": "2023-07-04T11:22:50.176Z"
   },
   {
    "duration": 234,
    "start_time": "2023-07-04T11:23:00.417Z"
   },
   {
    "duration": 39,
    "start_time": "2023-07-04T11:25:47.757Z"
   },
   {
    "duration": 21,
    "start_time": "2023-07-04T11:26:06.156Z"
   },
   {
    "duration": 19,
    "start_time": "2023-07-04T11:26:30.590Z"
   },
   {
    "duration": 21,
    "start_time": "2023-07-04T11:26:47.287Z"
   },
   {
    "duration": 19,
    "start_time": "2023-07-04T11:27:36.516Z"
   },
   {
    "duration": 24,
    "start_time": "2023-07-04T11:27:53.206Z"
   },
   {
    "duration": 22,
    "start_time": "2023-07-04T11:28:00.832Z"
   },
   {
    "duration": 23,
    "start_time": "2023-07-04T11:28:09.715Z"
   },
   {
    "duration": 64,
    "start_time": "2023-07-04T11:28:50.074Z"
   },
   {
    "duration": 23,
    "start_time": "2023-07-04T11:28:58.175Z"
   },
   {
    "duration": 30,
    "start_time": "2023-07-04T11:29:39.830Z"
   },
   {
    "duration": 33,
    "start_time": "2023-07-04T11:29:47.241Z"
   },
   {
    "duration": 39,
    "start_time": "2023-07-04T11:36:05.142Z"
   },
   {
    "duration": 37,
    "start_time": "2023-07-04T11:37:02.189Z"
   },
   {
    "duration": 22,
    "start_time": "2023-07-04T11:37:06.330Z"
   },
   {
    "duration": 28,
    "start_time": "2023-07-04T11:38:01.870Z"
   },
   {
    "duration": 24,
    "start_time": "2023-07-04T11:38:27.681Z"
   },
   {
    "duration": 29,
    "start_time": "2023-07-04T11:38:39.642Z"
   },
   {
    "duration": 50,
    "start_time": "2023-07-04T11:38:48.133Z"
   },
   {
    "duration": 44,
    "start_time": "2023-07-04T11:39:00.323Z"
   },
   {
    "duration": 44,
    "start_time": "2023-07-04T11:39:02.015Z"
   },
   {
    "duration": 52,
    "start_time": "2023-07-04T11:39:06.352Z"
   },
   {
    "duration": 261,
    "start_time": "2023-07-04T11:39:30.442Z"
   },
   {
    "duration": 247,
    "start_time": "2023-07-04T11:39:31.716Z"
   },
   {
    "duration": 83,
    "start_time": "2023-07-04T11:42:04.970Z"
   },
   {
    "duration": 219,
    "start_time": "2023-07-04T11:42:59.153Z"
   },
   {
    "duration": 24,
    "start_time": "2023-07-04T11:43:42.679Z"
   },
   {
    "duration": 62,
    "start_time": "2023-07-04T11:43:47.630Z"
   },
   {
    "duration": 10,
    "start_time": "2023-07-04T11:44:59.628Z"
   },
   {
    "duration": 12,
    "start_time": "2023-07-04T11:45:14.704Z"
   },
   {
    "duration": 10,
    "start_time": "2023-07-04T11:45:51.906Z"
   },
   {
    "duration": 59,
    "start_time": "2023-07-04T11:47:18.726Z"
   },
   {
    "duration": 10,
    "start_time": "2023-07-04T11:48:56.113Z"
   },
   {
    "duration": 10,
    "start_time": "2023-07-04T11:48:57.712Z"
   },
   {
    "duration": 16,
    "start_time": "2023-07-04T12:09:28.932Z"
   },
   {
    "duration": 7,
    "start_time": "2023-07-04T12:09:57.008Z"
   },
   {
    "duration": 93,
    "start_time": "2023-07-04T12:10:56.704Z"
   },
   {
    "duration": 8,
    "start_time": "2023-07-04T12:11:04.707Z"
   },
   {
    "duration": 8,
    "start_time": "2023-07-04T12:11:19.782Z"
   },
   {
    "duration": 7,
    "start_time": "2023-07-04T12:11:38.024Z"
   },
   {
    "duration": 11,
    "start_time": "2023-07-04T12:12:55.272Z"
   },
   {
    "duration": 8,
    "start_time": "2023-07-04T12:13:11.271Z"
   },
   {
    "duration": 11,
    "start_time": "2023-07-04T12:13:41.002Z"
   },
   {
    "duration": 22,
    "start_time": "2023-07-04T12:13:56.068Z"
   },
   {
    "duration": 22,
    "start_time": "2023-07-04T12:21:48.915Z"
   },
   {
    "duration": 717,
    "start_time": "2023-07-04T12:22:01.813Z"
   },
   {
    "duration": 290,
    "start_time": "2023-07-04T12:22:07.311Z"
   },
   {
    "duration": 280,
    "start_time": "2023-07-04T12:22:10.921Z"
   },
   {
    "duration": 254,
    "start_time": "2023-07-04T12:22:14.721Z"
   },
   {
    "duration": 271,
    "start_time": "2023-07-04T12:22:17.234Z"
   },
   {
    "duration": 256,
    "start_time": "2023-07-04T12:22:20.134Z"
   },
   {
    "duration": 263,
    "start_time": "2023-07-04T12:22:37.013Z"
   },
   {
    "duration": 79,
    "start_time": "2023-07-04T12:23:19.516Z"
   },
   {
    "duration": 37,
    "start_time": "2023-07-04T12:24:53.234Z"
   },
   {
    "duration": 251,
    "start_time": "2023-07-04T12:24:59.523Z"
   },
   {
    "duration": 258,
    "start_time": "2023-07-04T12:24:59.847Z"
   },
   {
    "duration": 665,
    "start_time": "2023-07-04T12:25:03.722Z"
   },
   {
    "duration": 326,
    "start_time": "2023-07-04T12:25:06.909Z"
   },
   {
    "duration": 236,
    "start_time": "2023-07-04T12:25:12.231Z"
   },
   {
    "duration": 241,
    "start_time": "2023-07-04T12:25:15.109Z"
   },
   {
    "duration": 231,
    "start_time": "2023-07-04T12:25:19.670Z"
   },
   {
    "duration": 242,
    "start_time": "2023-07-04T12:25:28.609Z"
   },
   {
    "duration": 235,
    "start_time": "2023-07-04T12:25:40.887Z"
   },
   {
    "duration": 73,
    "start_time": "2023-07-04T12:27:02.217Z"
   },
   {
    "duration": 266,
    "start_time": "2023-07-04T12:31:25.106Z"
   },
   {
    "duration": 278,
    "start_time": "2023-07-04T12:31:33.129Z"
   },
   {
    "duration": 6,
    "start_time": "2023-07-04T13:04:47.126Z"
   },
   {
    "duration": 19,
    "start_time": "2023-07-04T13:05:28.205Z"
   },
   {
    "duration": 21,
    "start_time": "2023-07-04T13:05:30.250Z"
   },
   {
    "duration": 12,
    "start_time": "2023-07-04T13:05:42.070Z"
   },
   {
    "duration": 14,
    "start_time": "2023-07-04T13:05:43.060Z"
   },
   {
    "duration": 17,
    "start_time": "2023-07-04T13:05:45.314Z"
   },
   {
    "duration": 3,
    "start_time": "2023-07-04T13:05:52.877Z"
   },
   {
    "duration": 198,
    "start_time": "2023-07-04T13:05:56.931Z"
   },
   {
    "duration": 589,
    "start_time": "2023-07-04T13:06:05.617Z"
   },
   {
    "duration": 31,
    "start_time": "2023-07-04T13:13:16.632Z"
   },
   {
    "duration": 179,
    "start_time": "2023-07-04T13:13:30.053Z"
   },
   {
    "duration": 6,
    "start_time": "2023-07-04T13:14:09.242Z"
   },
   {
    "duration": 7,
    "start_time": "2023-07-04T13:14:26.043Z"
   },
   {
    "duration": 7,
    "start_time": "2023-07-04T13:14:28.124Z"
   },
   {
    "duration": 8,
    "start_time": "2023-07-04T13:14:35.127Z"
   },
   {
    "duration": 7,
    "start_time": "2023-07-04T13:15:06.612Z"
   },
   {
    "duration": 23,
    "start_time": "2023-07-04T13:15:45.452Z"
   },
   {
    "duration": 299,
    "start_time": "2023-07-04T13:15:59.973Z"
   },
   {
    "duration": 307,
    "start_time": "2023-07-04T13:16:10.123Z"
   },
   {
    "duration": 167,
    "start_time": "2023-07-04T13:16:25.626Z"
   },
   {
    "duration": 191,
    "start_time": "2023-07-04T13:16:40.030Z"
   },
   {
    "duration": 170,
    "start_time": "2023-07-04T13:16:44.725Z"
   },
   {
    "duration": 23,
    "start_time": "2023-07-04T13:21:45.570Z"
   },
   {
    "duration": 6,
    "start_time": "2023-07-04T13:22:02.024Z"
   },
   {
    "duration": 21,
    "start_time": "2023-07-04T13:23:05.918Z"
   },
   {
    "duration": 13,
    "start_time": "2023-07-04T13:25:59.633Z"
   },
   {
    "duration": 34,
    "start_time": "2023-07-04T13:27:04.944Z"
   },
   {
    "duration": 68,
    "start_time": "2023-07-04T13:32:17.981Z"
   },
   {
    "duration": 39,
    "start_time": "2023-07-04T13:32:21.778Z"
   },
   {
    "duration": 5,
    "start_time": "2023-07-04T13:32:22.628Z"
   },
   {
    "duration": 35,
    "start_time": "2023-07-04T13:33:06.207Z"
   },
   {
    "duration": 9,
    "start_time": "2023-07-04T13:33:13.284Z"
   },
   {
    "duration": 5,
    "start_time": "2023-07-04T13:34:28.510Z"
   },
   {
    "duration": 3,
    "start_time": "2023-07-04T13:34:53.812Z"
   },
   {
    "duration": 6,
    "start_time": "2023-07-04T13:34:55.426Z"
   },
   {
    "duration": 9,
    "start_time": "2023-07-04T13:35:24.239Z"
   },
   {
    "duration": 7,
    "start_time": "2023-07-04T13:35:26.682Z"
   },
   {
    "duration": 18,
    "start_time": "2023-07-04T13:35:28.468Z"
   },
   {
    "duration": 13,
    "start_time": "2023-07-04T13:35:36.066Z"
   },
   {
    "duration": 14,
    "start_time": "2023-07-04T13:35:38.615Z"
   },
   {
    "duration": 17,
    "start_time": "2023-07-04T13:37:20.473Z"
   },
   {
    "duration": 83,
    "start_time": "2023-07-04T13:38:33.914Z"
   },
   {
    "duration": 6,
    "start_time": "2023-07-04T13:38:34.605Z"
   },
   {
    "duration": 33,
    "start_time": "2023-07-04T13:38:50.456Z"
   },
   {
    "duration": 8,
    "start_time": "2023-07-04T13:43:29.193Z"
   },
   {
    "duration": 36,
    "start_time": "2023-07-04T13:43:30.205Z"
   },
   {
    "duration": 8,
    "start_time": "2023-07-04T13:43:30.946Z"
   },
   {
    "duration": 3,
    "start_time": "2023-07-04T13:43:31.653Z"
   },
   {
    "duration": 12,
    "start_time": "2023-07-04T13:43:32.177Z"
   },
   {
    "duration": 14,
    "start_time": "2023-07-04T13:43:33.027Z"
   },
   {
    "duration": 97,
    "start_time": "2023-07-04T13:43:36.941Z"
   },
   {
    "duration": 22,
    "start_time": "2023-07-04T13:43:37.316Z"
   },
   {
    "duration": 14,
    "start_time": "2023-07-04T13:48:18.454Z"
   },
   {
    "duration": 746,
    "start_time": "2023-07-04T13:48:18.471Z"
   },
   {
    "duration": 11,
    "start_time": "2023-07-04T13:48:19.219Z"
   },
   {
    "duration": 21,
    "start_time": "2023-07-04T13:48:19.233Z"
   },
   {
    "duration": 25,
    "start_time": "2023-07-04T13:48:19.259Z"
   },
   {
    "duration": 17,
    "start_time": "2023-07-04T13:48:19.287Z"
   },
   {
    "duration": 14,
    "start_time": "2023-07-04T13:48:19.306Z"
   },
   {
    "duration": 34,
    "start_time": "2023-07-04T13:48:19.321Z"
   },
   {
    "duration": 103,
    "start_time": "2023-07-04T13:48:19.361Z"
   },
   {
    "duration": 739,
    "start_time": "2023-07-04T13:48:19.472Z"
   },
   {
    "duration": 25,
    "start_time": "2023-07-04T13:48:20.213Z"
   },
   {
    "duration": 118,
    "start_time": "2023-07-04T13:48:20.240Z"
   },
   {
    "duration": 230,
    "start_time": "2023-07-04T13:48:20.359Z"
   },
   {
    "duration": 224,
    "start_time": "2023-07-04T13:48:20.592Z"
   },
   {
    "duration": 22,
    "start_time": "2023-07-04T13:48:20.818Z"
   },
   {
    "duration": 2,
    "start_time": "2023-07-04T13:48:20.843Z"
   },
   {
    "duration": 6,
    "start_time": "2023-07-04T13:48:20.856Z"
   },
   {
    "duration": 27,
    "start_time": "2023-07-04T13:48:20.864Z"
   },
   {
    "duration": 5,
    "start_time": "2023-07-04T13:48:20.894Z"
   },
   {
    "duration": 4,
    "start_time": "2023-07-04T13:48:20.901Z"
   },
   {
    "duration": 89,
    "start_time": "2023-07-04T13:48:20.907Z"
   },
   {
    "duration": 22,
    "start_time": "2023-07-04T13:48:20.998Z"
   },
   {
    "duration": 71,
    "start_time": "2023-07-04T13:48:21.022Z"
   },
   {
    "duration": 354,
    "start_time": "2023-07-04T13:48:21.097Z"
   },
   {
    "duration": 335,
    "start_time": "2023-07-04T13:48:21.457Z"
   },
   {
    "duration": 49,
    "start_time": "2023-07-04T13:48:21.793Z"
   },
   {
    "duration": 75,
    "start_time": "2023-07-04T13:48:21.844Z"
   },
   {
    "duration": 4,
    "start_time": "2023-07-04T13:48:21.921Z"
   },
   {
    "duration": 18,
    "start_time": "2023-07-04T13:48:21.927Z"
   },
   {
    "duration": 48,
    "start_time": "2023-07-04T13:48:21.947Z"
   },
   {
    "duration": 286,
    "start_time": "2023-07-04T13:48:21.997Z"
   },
   {
    "duration": 7,
    "start_time": "2023-07-04T13:48:22.288Z"
   },
   {
    "duration": 21,
    "start_time": "2023-07-04T13:48:22.297Z"
   },
   {
    "duration": 273,
    "start_time": "2023-07-04T13:48:22.320Z"
   },
   {
    "duration": 6,
    "start_time": "2023-07-04T13:48:22.594Z"
   },
   {
    "duration": 278,
    "start_time": "2023-07-04T13:48:22.602Z"
   },
   {
    "duration": 261,
    "start_time": "2023-07-04T13:48:22.884Z"
   },
   {
    "duration": 69,
    "start_time": "2023-07-04T13:48:23.147Z"
   },
   {
    "duration": 297,
    "start_time": "2023-07-04T13:48:23.217Z"
   },
   {
    "duration": 12,
    "start_time": "2023-07-04T13:48:23.515Z"
   },
   {
    "duration": 319,
    "start_time": "2023-07-04T13:48:23.529Z"
   },
   {
    "duration": 25,
    "start_time": "2023-07-04T13:48:23.856Z"
   },
   {
    "duration": 757,
    "start_time": "2023-07-04T13:48:23.887Z"
   },
   {
    "duration": 320,
    "start_time": "2023-07-04T13:48:24.646Z"
   },
   {
    "duration": 65,
    "start_time": "2023-07-04T13:48:24.970Z"
   },
   {
    "duration": 11,
    "start_time": "2023-07-04T13:48:25.037Z"
   },
   {
    "duration": 26,
    "start_time": "2023-07-04T13:48:25.057Z"
   },
   {
    "duration": 24,
    "start_time": "2023-07-04T13:48:25.085Z"
   },
   {
    "duration": 15,
    "start_time": "2023-07-04T13:48:25.111Z"
   },
   {
    "duration": 10,
    "start_time": "2023-07-04T13:48:25.128Z"
   },
   {
    "duration": 66,
    "start_time": "2023-07-04T13:48:25.140Z"
   },
   {
    "duration": 8,
    "start_time": "2023-07-04T13:48:25.208Z"
   },
   {
    "duration": 11,
    "start_time": "2023-07-04T13:48:25.218Z"
   },
   {
    "duration": 18,
    "start_time": "2023-07-04T13:48:25.231Z"
   },
   {
    "duration": 39,
    "start_time": "2023-07-04T13:48:25.251Z"
   },
   {
    "duration": 83,
    "start_time": "2023-07-04T13:48:25.292Z"
   },
   {
    "duration": 26,
    "start_time": "2023-07-04T13:48:25.376Z"
   },
   {
    "duration": 4,
    "start_time": "2023-07-04T13:48:25.404Z"
   },
   {
    "duration": 4,
    "start_time": "2023-07-04T13:48:25.409Z"
   },
   {
    "duration": 12,
    "start_time": "2023-07-04T13:48:25.415Z"
   },
   {
    "duration": 8,
    "start_time": "2023-07-04T13:48:25.429Z"
   },
   {
    "duration": 50,
    "start_time": "2023-07-04T13:48:25.438Z"
   },
   {
    "duration": 9,
    "start_time": "2023-07-04T13:48:25.490Z"
   },
   {
    "duration": 8,
    "start_time": "2023-07-04T13:48:25.501Z"
   },
   {
    "duration": 221,
    "start_time": "2023-07-04T13:48:25.510Z"
   },
   {
    "duration": 217,
    "start_time": "2023-07-04T13:48:25.734Z"
   },
   {
    "duration": 42,
    "start_time": "2023-07-04T13:48:25.958Z"
   },
   {
    "duration": 3,
    "start_time": "2023-07-04T13:49:26.024Z"
   },
   {
    "duration": 7,
    "start_time": "2023-07-04T13:49:27.494Z"
   },
   {
    "duration": 14,
    "start_time": "2023-07-04T13:49:27.884Z"
   },
   {
    "duration": 80,
    "start_time": "2023-07-04T13:49:30.673Z"
   },
   {
    "duration": 17,
    "start_time": "2023-07-04T13:49:31.417Z"
   },
   {
    "duration": 17,
    "start_time": "2023-07-04T13:49:55.489Z"
   },
   {
    "duration": 1377,
    "start_time": "2023-07-04T16:39:08.453Z"
   },
   {
    "duration": 2101,
    "start_time": "2023-07-04T16:39:09.832Z"
   },
   {
    "duration": 11,
    "start_time": "2023-07-04T16:39:11.935Z"
   },
   {
    "duration": 8,
    "start_time": "2023-07-04T16:39:11.948Z"
   },
   {
    "duration": 13,
    "start_time": "2023-07-04T16:39:11.958Z"
   },
   {
    "duration": 8,
    "start_time": "2023-07-04T16:39:11.972Z"
   },
   {
    "duration": 8,
    "start_time": "2023-07-04T16:39:11.981Z"
   },
   {
    "duration": 20,
    "start_time": "2023-07-04T16:39:11.991Z"
   },
   {
    "duration": 81,
    "start_time": "2023-07-04T16:39:12.012Z"
   },
   {
    "duration": 654,
    "start_time": "2023-07-04T16:39:12.094Z"
   },
   {
    "duration": 34,
    "start_time": "2023-07-04T16:39:12.750Z"
   },
   {
    "duration": 106,
    "start_time": "2023-07-04T16:39:12.786Z"
   },
   {
    "duration": 184,
    "start_time": "2023-07-04T16:39:12.894Z"
   },
   {
    "duration": 165,
    "start_time": "2023-07-04T16:39:13.081Z"
   },
   {
    "duration": 28,
    "start_time": "2023-07-04T16:39:13.248Z"
   },
   {
    "duration": 2,
    "start_time": "2023-07-04T16:39:13.278Z"
   },
   {
    "duration": 12,
    "start_time": "2023-07-04T16:39:13.281Z"
   },
   {
    "duration": 24,
    "start_time": "2023-07-04T16:39:13.294Z"
   },
   {
    "duration": 3,
    "start_time": "2023-07-04T16:39:13.320Z"
   },
   {
    "duration": 14,
    "start_time": "2023-07-04T16:39:13.324Z"
   },
   {
    "duration": 48,
    "start_time": "2023-07-04T16:39:13.339Z"
   },
   {
    "duration": 18,
    "start_time": "2023-07-04T16:39:13.388Z"
   },
   {
    "duration": 44,
    "start_time": "2023-07-04T16:39:13.407Z"
   },
   {
    "duration": 294,
    "start_time": "2023-07-04T16:39:13.452Z"
   },
   {
    "duration": 291,
    "start_time": "2023-07-04T16:39:13.748Z"
   },
   {
    "duration": 59,
    "start_time": "2023-07-04T16:39:14.042Z"
   },
   {
    "duration": 64,
    "start_time": "2023-07-04T16:39:14.104Z"
   },
   {
    "duration": 5,
    "start_time": "2023-07-04T16:39:14.170Z"
   },
   {
    "duration": 13,
    "start_time": "2023-07-04T16:39:14.177Z"
   },
   {
    "duration": 29,
    "start_time": "2023-07-04T16:39:14.193Z"
   },
   {
    "duration": 317,
    "start_time": "2023-07-04T16:39:14.223Z"
   },
   {
    "duration": 6,
    "start_time": "2023-07-04T16:39:14.542Z"
   },
   {
    "duration": 28,
    "start_time": "2023-07-04T16:39:14.549Z"
   },
   {
    "duration": 273,
    "start_time": "2023-07-04T16:39:14.578Z"
   },
   {
    "duration": 4,
    "start_time": "2023-07-04T16:39:14.853Z"
   },
   {
    "duration": 205,
    "start_time": "2023-07-04T16:39:14.867Z"
   },
   {
    "duration": 215,
    "start_time": "2023-07-04T16:39:15.074Z"
   },
   {
    "duration": 37,
    "start_time": "2023-07-04T16:39:15.290Z"
   },
   {
    "duration": 222,
    "start_time": "2023-07-04T16:39:15.328Z"
   },
   {
    "duration": 17,
    "start_time": "2023-07-04T16:39:15.552Z"
   },
   {
    "duration": 311,
    "start_time": "2023-07-04T16:39:15.572Z"
   },
   {
    "duration": 11,
    "start_time": "2023-07-04T16:39:15.885Z"
   },
   {
    "duration": 242,
    "start_time": "2023-07-04T16:39:15.897Z"
   },
   {
    "duration": 233,
    "start_time": "2023-07-04T16:39:16.141Z"
   },
   {
    "duration": 59,
    "start_time": "2023-07-04T16:39:16.375Z"
   },
   {
    "duration": 231,
    "start_time": "2023-07-04T16:39:16.435Z"
   },
   {
    "duration": 9,
    "start_time": "2023-07-04T16:39:16.667Z"
   },
   {
    "duration": 33,
    "start_time": "2023-07-04T16:39:16.677Z"
   },
   {
    "duration": 61,
    "start_time": "2023-07-04T16:39:16.712Z"
   },
   {
    "duration": 21,
    "start_time": "2023-07-04T16:39:16.775Z"
   },
   {
    "duration": 39,
    "start_time": "2023-07-04T16:39:16.798Z"
   },
   {
    "duration": 7,
    "start_time": "2023-07-04T16:39:16.839Z"
   },
   {
    "duration": 3,
    "start_time": "2023-07-04T16:39:16.848Z"
   },
   {
    "duration": 7,
    "start_time": "2023-07-04T16:39:16.853Z"
   },
   {
    "duration": 12,
    "start_time": "2023-07-04T16:39:16.868Z"
   },
   {
    "duration": 87,
    "start_time": "2023-07-04T16:39:16.882Z"
   },
   {
    "duration": 14,
    "start_time": "2023-07-04T16:39:16.970Z"
   },
   {
    "duration": 2,
    "start_time": "2023-07-04T16:39:16.985Z"
   },
   {
    "duration": 3,
    "start_time": "2023-07-04T16:39:16.989Z"
   },
   {
    "duration": 14,
    "start_time": "2023-07-04T16:39:16.994Z"
   },
   {
    "duration": 7,
    "start_time": "2023-07-04T16:39:17.010Z"
   },
   {
    "duration": 10,
    "start_time": "2023-07-04T16:39:17.018Z"
   },
   {
    "duration": 7,
    "start_time": "2023-07-04T16:39:17.029Z"
   },
   {
    "duration": 32,
    "start_time": "2023-07-04T16:39:17.037Z"
   },
   {
    "duration": 202,
    "start_time": "2023-07-04T16:39:17.071Z"
   },
   {
    "duration": 193,
    "start_time": "2023-07-04T16:39:17.275Z"
   },
   {
    "duration": 17,
    "start_time": "2023-07-04T16:39:17.470Z"
   },
   {
    "duration": 6,
    "start_time": "2023-07-04T16:39:58.802Z"
   },
   {
    "duration": 12,
    "start_time": "2023-07-04T16:42:46.306Z"
   },
   {
    "duration": 7,
    "start_time": "2023-07-04T16:44:00.706Z"
   },
   {
    "duration": 13,
    "start_time": "2023-07-04T16:44:14.826Z"
   },
   {
    "duration": 11,
    "start_time": "2023-07-04T16:44:56.156Z"
   },
   {
    "duration": 10,
    "start_time": "2023-07-04T16:45:10.912Z"
   },
   {
    "duration": 8,
    "start_time": "2023-07-04T16:45:31.222Z"
   },
   {
    "duration": 10,
    "start_time": "2023-07-04T16:46:21.868Z"
   },
   {
    "duration": 7,
    "start_time": "2023-07-04T16:46:47.714Z"
   },
   {
    "duration": 14,
    "start_time": "2023-07-04T16:51:05.899Z"
   },
   {
    "duration": 20,
    "start_time": "2023-07-04T16:51:22.327Z"
   },
   {
    "duration": 14,
    "start_time": "2023-07-04T16:51:39.410Z"
   },
   {
    "duration": 13,
    "start_time": "2023-07-04T16:51:40.098Z"
   },
   {
    "duration": 12,
    "start_time": "2023-07-04T20:33:02.603Z"
   },
   {
    "duration": 16,
    "start_time": "2023-07-04T20:33:04.181Z"
   },
   {
    "duration": 10,
    "start_time": "2023-07-04T20:33:17.516Z"
   },
   {
    "duration": 13,
    "start_time": "2023-07-04T20:36:47.360Z"
   },
   {
    "duration": 17,
    "start_time": "2023-07-04T20:37:37.385Z"
   },
   {
    "duration": 13,
    "start_time": "2023-07-04T20:37:45.780Z"
   },
   {
    "duration": 12,
    "start_time": "2023-07-04T20:38:29.318Z"
   },
   {
    "duration": 18,
    "start_time": "2023-07-04T20:40:59.287Z"
   },
   {
    "duration": 30,
    "start_time": "2023-07-04T20:41:36.164Z"
   },
   {
    "duration": 17,
    "start_time": "2023-07-04T20:41:52.351Z"
   },
   {
    "duration": 16,
    "start_time": "2023-07-04T20:42:22.793Z"
   },
   {
    "duration": 13,
    "start_time": "2023-07-04T20:45:44.580Z"
   },
   {
    "duration": 12,
    "start_time": "2023-07-04T20:45:45.994Z"
   },
   {
    "duration": 57,
    "start_time": "2023-07-04T21:00:39.704Z"
   },
   {
    "duration": 5,
    "start_time": "2023-07-04T21:01:27.541Z"
   },
   {
    "duration": 31,
    "start_time": "2023-07-04T21:01:31.204Z"
   },
   {
    "duration": 18,
    "start_time": "2023-07-04T21:01:31.662Z"
   },
   {
    "duration": 2,
    "start_time": "2023-07-04T21:01:32.713Z"
   },
   {
    "duration": 6,
    "start_time": "2023-07-04T21:01:33.708Z"
   },
   {
    "duration": 10,
    "start_time": "2023-07-04T21:01:34.915Z"
   },
   {
    "duration": 21,
    "start_time": "2023-07-04T21:01:46.958Z"
   },
   {
    "duration": 11,
    "start_time": "2023-07-04T21:01:48.129Z"
   },
   {
    "duration": 13,
    "start_time": "2023-07-04T21:01:49.279Z"
   },
   {
    "duration": 78,
    "start_time": "2023-07-04T21:01:51.856Z"
   },
   {
    "duration": 16,
    "start_time": "2023-07-04T21:01:53.340Z"
   },
   {
    "duration": 5,
    "start_time": "2023-07-04T21:02:39.153Z"
   },
   {
    "duration": 9,
    "start_time": "2023-07-04T21:02:42.916Z"
   },
   {
    "duration": 14,
    "start_time": "2023-07-04T21:02:57.883Z"
   },
   {
    "duration": 6,
    "start_time": "2023-07-04T21:03:05.416Z"
   },
   {
    "duration": 1322,
    "start_time": "2023-07-04T21:32:39.349Z"
   },
   {
    "duration": 634,
    "start_time": "2023-07-04T21:32:40.673Z"
   },
   {
    "duration": 11,
    "start_time": "2023-07-04T21:32:41.309Z"
   },
   {
    "duration": 7,
    "start_time": "2023-07-04T21:32:41.322Z"
   },
   {
    "duration": 8,
    "start_time": "2023-07-04T21:32:41.332Z"
   },
   {
    "duration": 7,
    "start_time": "2023-07-04T21:32:41.342Z"
   },
   {
    "duration": 5,
    "start_time": "2023-07-04T21:32:41.351Z"
   },
   {
    "duration": 22,
    "start_time": "2023-07-04T21:32:41.368Z"
   },
   {
    "duration": 94,
    "start_time": "2023-07-04T21:32:41.392Z"
   },
   {
    "duration": 696,
    "start_time": "2023-07-04T21:32:41.488Z"
   },
   {
    "duration": 24,
    "start_time": "2023-07-04T21:32:42.185Z"
   },
   {
    "duration": 113,
    "start_time": "2023-07-04T21:32:42.210Z"
   },
   {
    "duration": 202,
    "start_time": "2023-07-04T21:32:42.325Z"
   },
   {
    "duration": 182,
    "start_time": "2023-07-04T21:32:42.530Z"
   },
   {
    "duration": 21,
    "start_time": "2023-07-04T21:32:42.713Z"
   },
   {
    "duration": 3,
    "start_time": "2023-07-04T21:32:42.736Z"
   },
   {
    "duration": 5,
    "start_time": "2023-07-04T21:32:42.740Z"
   },
   {
    "duration": 36,
    "start_time": "2023-07-04T21:32:42.747Z"
   },
   {
    "duration": 2,
    "start_time": "2023-07-04T21:32:42.785Z"
   },
   {
    "duration": 5,
    "start_time": "2023-07-04T21:32:42.789Z"
   },
   {
    "duration": 51,
    "start_time": "2023-07-04T21:32:42.795Z"
   },
   {
    "duration": 68,
    "start_time": "2023-07-04T21:32:42.848Z"
   },
   {
    "duration": 324,
    "start_time": "2023-07-04T21:32:42.917Z"
   },
   {
    "duration": 286,
    "start_time": "2023-07-04T21:32:43.244Z"
   },
   {
    "duration": 53,
    "start_time": "2023-07-04T21:32:43.532Z"
   },
   {
    "duration": 40,
    "start_time": "2023-07-04T21:32:43.587Z"
   },
   {
    "duration": 4,
    "start_time": "2023-07-04T21:32:43.628Z"
   },
   {
    "duration": 13,
    "start_time": "2023-07-04T21:32:43.633Z"
   },
   {
    "duration": 58,
    "start_time": "2023-07-04T21:32:43.647Z"
   },
   {
    "duration": 317,
    "start_time": "2023-07-04T21:32:43.706Z"
   },
   {
    "duration": 10,
    "start_time": "2023-07-04T21:32:44.025Z"
   },
   {
    "duration": 31,
    "start_time": "2023-07-04T21:32:44.037Z"
   },
   {
    "duration": 338,
    "start_time": "2023-07-04T21:32:44.072Z"
   },
   {
    "duration": 5,
    "start_time": "2023-07-04T21:32:44.412Z"
   },
   {
    "duration": 220,
    "start_time": "2023-07-04T21:32:44.419Z"
   },
   {
    "duration": 213,
    "start_time": "2023-07-04T21:32:44.641Z"
   },
   {
    "duration": 75,
    "start_time": "2023-07-04T21:32:44.856Z"
   },
   {
    "duration": 249,
    "start_time": "2023-07-04T21:32:44.933Z"
   },
   {
    "duration": 11,
    "start_time": "2023-07-04T21:32:45.184Z"
   },
   {
    "duration": 308,
    "start_time": "2023-07-04T21:32:45.197Z"
   },
   {
    "duration": 11,
    "start_time": "2023-07-04T21:32:45.508Z"
   },
   {
    "duration": 262,
    "start_time": "2023-07-04T21:32:45.520Z"
   },
   {
    "duration": 268,
    "start_time": "2023-07-04T21:32:45.784Z"
   },
   {
    "duration": 72,
    "start_time": "2023-07-04T21:32:46.054Z"
   },
   {
    "duration": 895,
    "start_time": "2023-07-04T21:32:46.128Z"
   },
   {
    "duration": 9,
    "start_time": "2023-07-04T21:32:47.025Z"
   },
   {
    "duration": 47,
    "start_time": "2023-07-04T21:32:47.035Z"
   },
   {
    "duration": 10,
    "start_time": "2023-07-04T21:32:47.084Z"
   },
   {
    "duration": 16,
    "start_time": "2023-07-04T21:32:47.095Z"
   },
   {
    "duration": 86,
    "start_time": "2023-07-04T21:32:47.113Z"
   },
   {
    "duration": 17,
    "start_time": "2023-07-04T21:32:47.202Z"
   },
   {
    "duration": 2,
    "start_time": "2023-07-04T21:32:47.221Z"
   },
   {
    "duration": 60,
    "start_time": "2023-07-04T21:32:47.225Z"
   },
   {
    "duration": 15,
    "start_time": "2023-07-04T21:32:47.287Z"
   },
   {
    "duration": 15,
    "start_time": "2023-07-04T21:32:47.304Z"
   },
   {
    "duration": 13,
    "start_time": "2023-07-04T21:32:47.320Z"
   },
   {
    "duration": 49,
    "start_time": "2023-07-04T21:32:47.335Z"
   },
   {
    "duration": 68,
    "start_time": "2023-07-04T21:32:47.386Z"
   },
   {
    "duration": 27,
    "start_time": "2023-07-04T21:32:47.456Z"
   },
   {
    "duration": 23,
    "start_time": "2023-07-04T21:32:47.485Z"
   },
   {
    "duration": 17,
    "start_time": "2023-07-04T21:32:47.510Z"
   },
   {
    "duration": 18,
    "start_time": "2023-07-04T21:32:47.528Z"
   },
   {
    "duration": 49,
    "start_time": "2023-07-05T08:19:02.968Z"
   },
   {
    "duration": 1448,
    "start_time": "2023-07-05T08:19:06.291Z"
   },
   {
    "duration": 1906,
    "start_time": "2023-07-05T08:19:07.741Z"
   },
   {
    "duration": 12,
    "start_time": "2023-07-05T08:19:09.649Z"
   },
   {
    "duration": 12,
    "start_time": "2023-07-05T08:19:09.664Z"
   },
   {
    "duration": 19,
    "start_time": "2023-07-05T08:19:09.678Z"
   },
   {
    "duration": 14,
    "start_time": "2023-07-05T08:19:09.700Z"
   },
   {
    "duration": 9,
    "start_time": "2023-07-05T08:19:09.716Z"
   },
   {
    "duration": 21,
    "start_time": "2023-07-05T08:19:09.727Z"
   },
   {
    "duration": 93,
    "start_time": "2023-07-05T08:19:09.750Z"
   },
   {
    "duration": 672,
    "start_time": "2023-07-05T08:19:09.846Z"
   },
   {
    "duration": 28,
    "start_time": "2023-07-05T08:19:10.520Z"
   },
   {
    "duration": 109,
    "start_time": "2023-07-05T08:19:10.550Z"
   },
   {
    "duration": 183,
    "start_time": "2023-07-05T08:19:10.661Z"
   },
   {
    "duration": 186,
    "start_time": "2023-07-05T08:19:10.846Z"
   },
   {
    "duration": 42,
    "start_time": "2023-07-05T08:19:11.034Z"
   },
   {
    "duration": 2,
    "start_time": "2023-07-05T08:19:11.078Z"
   },
   {
    "duration": 9,
    "start_time": "2023-07-05T08:19:11.082Z"
   },
   {
    "duration": 17,
    "start_time": "2023-07-05T08:19:11.092Z"
   },
   {
    "duration": 3,
    "start_time": "2023-07-05T08:19:11.110Z"
   },
   {
    "duration": 6,
    "start_time": "2023-07-05T08:19:11.114Z"
   },
   {
    "duration": 67,
    "start_time": "2023-07-05T08:19:11.121Z"
   },
   {
    "duration": 42,
    "start_time": "2023-07-05T08:19:11.190Z"
   },
   {
    "duration": 349,
    "start_time": "2023-07-05T08:19:11.234Z"
   },
   {
    "duration": 287,
    "start_time": "2023-07-05T08:19:11.585Z"
   },
   {
    "duration": 42,
    "start_time": "2023-07-05T08:19:11.874Z"
   },
   {
    "duration": 51,
    "start_time": "2023-07-05T08:19:11.918Z"
   },
   {
    "duration": 4,
    "start_time": "2023-07-05T08:19:11.970Z"
   },
   {
    "duration": 22,
    "start_time": "2023-07-05T08:19:11.978Z"
   },
   {
    "duration": 33,
    "start_time": "2023-07-05T08:19:12.002Z"
   },
   {
    "duration": 13,
    "start_time": "2023-07-05T08:19:12.036Z"
   },
   {
    "duration": 331,
    "start_time": "2023-07-05T08:19:12.051Z"
   },
   {
    "duration": 7,
    "start_time": "2023-07-05T08:19:12.384Z"
   },
   {
    "duration": 20,
    "start_time": "2023-07-05T08:19:12.392Z"
   },
   {
    "duration": 348,
    "start_time": "2023-07-05T08:19:12.414Z"
   },
   {
    "duration": 6,
    "start_time": "2023-07-05T08:19:12.763Z"
   },
   {
    "duration": 235,
    "start_time": "2023-07-05T08:19:12.771Z"
   },
   {
    "duration": 227,
    "start_time": "2023-07-05T08:19:13.008Z"
   },
   {
    "duration": 48,
    "start_time": "2023-07-05T08:19:13.237Z"
   },
   {
    "duration": 250,
    "start_time": "2023-07-05T08:19:13.287Z"
   },
   {
    "duration": 10,
    "start_time": "2023-07-05T08:19:13.539Z"
   },
   {
    "duration": 443,
    "start_time": "2023-07-05T08:19:13.558Z"
   },
   {
    "duration": 11,
    "start_time": "2023-07-05T08:19:14.002Z"
   },
   {
    "duration": 332,
    "start_time": "2023-07-05T08:19:14.014Z"
   },
   {
    "duration": 249,
    "start_time": "2023-07-05T08:19:14.348Z"
   },
   {
    "duration": 69,
    "start_time": "2023-07-05T08:19:14.598Z"
   },
   {
    "duration": 236,
    "start_time": "2023-07-05T08:19:14.669Z"
   },
   {
    "duration": 10,
    "start_time": "2023-07-05T08:19:14.906Z"
   },
   {
    "duration": 47,
    "start_time": "2023-07-05T08:19:14.917Z"
   },
   {
    "duration": 22,
    "start_time": "2023-07-05T08:19:14.966Z"
   },
   {
    "duration": 11,
    "start_time": "2023-07-05T08:19:14.990Z"
   },
   {
    "duration": 127,
    "start_time": "2023-07-05T08:19:15.002Z"
   },
   {
    "duration": 9,
    "start_time": "2023-07-05T08:19:15.131Z"
   },
   {
    "duration": 18,
    "start_time": "2023-07-05T08:19:15.141Z"
   },
   {
    "duration": 24,
    "start_time": "2023-07-05T08:19:15.161Z"
   },
   {
    "duration": 25,
    "start_time": "2023-07-05T08:19:15.187Z"
   },
   {
    "duration": 55,
    "start_time": "2023-07-05T08:19:15.213Z"
   },
   {
    "duration": 30,
    "start_time": "2023-07-05T08:19:15.270Z"
   },
   {
    "duration": 24,
    "start_time": "2023-07-05T08:19:15.303Z"
   },
   {
    "duration": 90,
    "start_time": "2023-07-05T08:19:15.329Z"
   },
   {
    "duration": 17,
    "start_time": "2023-07-05T08:19:15.421Z"
   },
   {
    "duration": 59,
    "start_time": "2023-07-05T08:19:15.440Z"
   },
   {
    "duration": 30,
    "start_time": "2023-07-05T08:19:15.502Z"
   },
   {
    "duration": 16,
    "start_time": "2023-07-05T08:19:15.534Z"
   },
   {
    "duration": 25,
    "start_time": "2023-07-05T08:21:01.893Z"
   },
   {
    "duration": 23,
    "start_time": "2023-07-05T08:21:08.976Z"
   },
   {
    "duration": 50,
    "start_time": "2023-07-05T08:21:45.670Z"
   },
   {
    "duration": 41,
    "start_time": "2023-07-05T08:22:23.658Z"
   },
   {
    "duration": 77,
    "start_time": "2023-07-05T08:23:36.534Z"
   },
   {
    "duration": 40,
    "start_time": "2023-07-05T08:23:54.899Z"
   },
   {
    "duration": 34,
    "start_time": "2023-07-05T08:33:47.722Z"
   },
   {
    "duration": 45,
    "start_time": "2023-07-05T08:33:53.725Z"
   },
   {
    "duration": 35,
    "start_time": "2023-07-05T08:33:58.646Z"
   },
   {
    "duration": 4,
    "start_time": "2023-07-05T08:34:05.353Z"
   },
   {
    "duration": 602,
    "start_time": "2023-07-05T08:34:05.360Z"
   },
   {
    "duration": 9,
    "start_time": "2023-07-05T08:34:05.963Z"
   },
   {
    "duration": 18,
    "start_time": "2023-07-05T08:34:05.975Z"
   },
   {
    "duration": 23,
    "start_time": "2023-07-05T08:34:05.995Z"
   },
   {
    "duration": 25,
    "start_time": "2023-07-05T08:34:06.020Z"
   },
   {
    "duration": 21,
    "start_time": "2023-07-05T08:34:06.047Z"
   },
   {
    "duration": 35,
    "start_time": "2023-07-05T08:34:06.070Z"
   },
   {
    "duration": 87,
    "start_time": "2023-07-05T08:34:06.108Z"
   },
   {
    "duration": 643,
    "start_time": "2023-07-05T08:34:06.197Z"
   },
   {
    "duration": 34,
    "start_time": "2023-07-05T08:34:06.842Z"
   },
   {
    "duration": 104,
    "start_time": "2023-07-05T08:34:06.878Z"
   },
   {
    "duration": 181,
    "start_time": "2023-07-05T08:34:06.984Z"
   },
   {
    "duration": 180,
    "start_time": "2023-07-05T08:34:07.168Z"
   },
   {
    "duration": 40,
    "start_time": "2023-07-05T08:34:07.350Z"
   },
   {
    "duration": 52,
    "start_time": "2023-07-05T08:34:07.392Z"
   },
   {
    "duration": 45,
    "start_time": "2023-07-05T08:34:07.460Z"
   },
   {
    "duration": 385,
    "start_time": "2023-07-05T08:34:07.507Z"
   },
   {
    "duration": 285,
    "start_time": "2023-07-05T08:34:07.894Z"
   },
   {
    "duration": 42,
    "start_time": "2023-07-05T08:34:08.181Z"
   },
   {
    "duration": 59,
    "start_time": "2023-07-05T08:34:08.225Z"
   },
   {
    "duration": 4,
    "start_time": "2023-07-05T08:34:08.286Z"
   },
   {
    "duration": 23,
    "start_time": "2023-07-05T08:34:08.291Z"
   },
   {
    "duration": 50,
    "start_time": "2023-07-05T08:34:08.318Z"
   },
   {
    "duration": 22,
    "start_time": "2023-07-05T08:34:08.370Z"
   },
   {
    "duration": 253,
    "start_time": "2023-07-05T08:34:08.394Z"
   },
   {
    "duration": 8,
    "start_time": "2023-07-05T08:34:08.658Z"
   },
   {
    "duration": 42,
    "start_time": "2023-07-05T08:34:08.668Z"
   },
   {
    "duration": 250,
    "start_time": "2023-07-05T08:34:08.712Z"
   },
   {
    "duration": 6,
    "start_time": "2023-07-05T08:34:08.964Z"
   },
   {
    "duration": 334,
    "start_time": "2023-07-05T08:34:08.971Z"
   },
   {
    "duration": 230,
    "start_time": "2023-07-05T08:34:09.307Z"
   },
   {
    "duration": 87,
    "start_time": "2023-07-05T08:34:09.539Z"
   },
   {
    "duration": 289,
    "start_time": "2023-07-05T08:34:09.628Z"
   },
   {
    "duration": 11,
    "start_time": "2023-07-05T08:34:09.920Z"
   },
   {
    "duration": 239,
    "start_time": "2023-07-05T08:34:09.933Z"
   },
   {
    "duration": 10,
    "start_time": "2023-07-05T08:34:10.174Z"
   },
   {
    "duration": 342,
    "start_time": "2023-07-05T08:34:10.186Z"
   },
   {
    "duration": 246,
    "start_time": "2023-07-05T08:34:10.530Z"
   },
   {
    "duration": 52,
    "start_time": "2023-07-05T08:34:10.778Z"
   },
   {
    "duration": 27,
    "start_time": "2023-07-05T08:34:10.832Z"
   },
   {
    "duration": 11,
    "start_time": "2023-07-05T08:34:10.861Z"
   },
   {
    "duration": 10,
    "start_time": "2023-07-05T08:34:10.873Z"
   },
   {
    "duration": 15,
    "start_time": "2023-07-05T08:34:10.885Z"
   },
   {
    "duration": 9,
    "start_time": "2023-07-05T08:34:10.902Z"
   },
   {
    "duration": 68,
    "start_time": "2023-07-05T08:34:10.912Z"
   },
   {
    "duration": 7,
    "start_time": "2023-07-05T08:34:10.982Z"
   },
   {
    "duration": 16,
    "start_time": "2023-07-05T08:34:10.990Z"
   },
   {
    "duration": 14,
    "start_time": "2023-07-05T08:34:11.007Z"
   },
   {
    "duration": 20,
    "start_time": "2023-07-05T08:34:11.023Z"
   },
   {
    "duration": 21,
    "start_time": "2023-07-05T08:34:11.045Z"
   },
   {
    "duration": 11,
    "start_time": "2023-07-05T08:34:11.068Z"
   },
   {
    "duration": 12,
    "start_time": "2023-07-05T08:34:11.081Z"
   },
   {
    "duration": 86,
    "start_time": "2023-07-05T08:34:11.095Z"
   },
   {
    "duration": 15,
    "start_time": "2023-07-05T08:34:11.183Z"
   },
   {
    "duration": 20,
    "start_time": "2023-07-05T08:34:11.200Z"
   },
   {
    "duration": 46,
    "start_time": "2023-07-05T08:34:11.222Z"
   },
   {
    "duration": 18,
    "start_time": "2023-07-05T08:34:11.270Z"
   },
   {
    "duration": 3,
    "start_time": "2023-07-05T10:34:10.048Z"
   },
   {
    "duration": 592,
    "start_time": "2023-07-05T10:34:10.053Z"
   },
   {
    "duration": 8,
    "start_time": "2023-07-05T10:34:10.647Z"
   },
   {
    "duration": 16,
    "start_time": "2023-07-05T10:34:10.657Z"
   },
   {
    "duration": 36,
    "start_time": "2023-07-05T10:34:10.674Z"
   },
   {
    "duration": 13,
    "start_time": "2023-07-05T10:34:10.712Z"
   },
   {
    "duration": 14,
    "start_time": "2023-07-05T10:34:10.727Z"
   },
   {
    "duration": 39,
    "start_time": "2023-07-05T10:34:10.743Z"
   },
   {
    "duration": 93,
    "start_time": "2023-07-05T10:34:10.784Z"
   },
   {
    "duration": 625,
    "start_time": "2023-07-05T10:34:10.878Z"
   },
   {
    "duration": 24,
    "start_time": "2023-07-05T10:34:11.504Z"
   },
   {
    "duration": 105,
    "start_time": "2023-07-05T10:34:11.529Z"
   },
   {
    "duration": 246,
    "start_time": "2023-07-05T10:34:11.636Z"
   },
   {
    "duration": 319,
    "start_time": "2023-07-05T10:34:11.884Z"
   },
   {
    "duration": 87,
    "start_time": "2023-07-05T10:34:12.205Z"
   },
   {
    "duration": 103,
    "start_time": "2023-07-05T10:34:12.294Z"
   },
   {
    "duration": 95,
    "start_time": "2023-07-05T10:34:12.399Z"
   },
   {
    "duration": 671,
    "start_time": "2023-07-05T10:34:12.495Z"
   },
   {
    "duration": 539,
    "start_time": "2023-07-05T10:34:13.168Z"
   },
   {
    "duration": 53,
    "start_time": "2023-07-05T10:34:13.709Z"
   },
   {
    "duration": 39,
    "start_time": "2023-07-05T10:34:13.763Z"
   },
   {
    "duration": 5,
    "start_time": "2023-07-05T10:34:13.804Z"
   },
   {
    "duration": 26,
    "start_time": "2023-07-05T10:34:13.810Z"
   },
   {
    "duration": 60,
    "start_time": "2023-07-05T10:34:13.840Z"
   },
   {
    "duration": 23,
    "start_time": "2023-07-05T10:34:13.902Z"
   },
   {
    "duration": 422,
    "start_time": "2023-07-05T10:34:13.927Z"
   },
   {
    "duration": 12,
    "start_time": "2023-07-05T10:34:14.351Z"
   },
   {
    "duration": 37,
    "start_time": "2023-07-05T10:34:14.365Z"
   },
   {
    "duration": 234,
    "start_time": "2023-07-05T10:34:14.404Z"
   },
   {
    "duration": 6,
    "start_time": "2023-07-05T10:34:14.640Z"
   },
   {
    "duration": 243,
    "start_time": "2023-07-05T10:34:14.647Z"
   },
   {
    "duration": 231,
    "start_time": "2023-07-05T10:34:14.892Z"
   },
   {
    "duration": 90,
    "start_time": "2023-07-05T10:34:15.125Z"
   },
   {
    "duration": 351,
    "start_time": "2023-07-05T10:34:15.217Z"
   },
   {
    "duration": 10,
    "start_time": "2023-07-05T10:34:15.570Z"
   },
   {
    "duration": 263,
    "start_time": "2023-07-05T10:34:15.582Z"
   },
   {
    "duration": 13,
    "start_time": "2023-07-05T10:34:15.847Z"
   },
   {
    "duration": 268,
    "start_time": "2023-07-05T10:34:15.862Z"
   },
   {
    "duration": 355,
    "start_time": "2023-07-05T10:34:16.132Z"
   },
   {
    "duration": 53,
    "start_time": "2023-07-05T10:34:16.489Z"
   },
   {
    "duration": 22,
    "start_time": "2023-07-05T10:34:16.544Z"
   },
   {
    "duration": 15,
    "start_time": "2023-07-05T10:34:16.567Z"
   },
   {
    "duration": 18,
    "start_time": "2023-07-05T10:34:16.583Z"
   },
   {
    "duration": 17,
    "start_time": "2023-07-05T10:34:16.603Z"
   },
   {
    "duration": 23,
    "start_time": "2023-07-05T10:34:16.622Z"
   },
   {
    "duration": 48,
    "start_time": "2023-07-05T10:34:16.647Z"
   },
   {
    "duration": 8,
    "start_time": "2023-07-05T10:34:16.697Z"
   },
   {
    "duration": 8,
    "start_time": "2023-07-05T10:34:16.706Z"
   },
   {
    "duration": 37,
    "start_time": "2023-07-05T10:34:16.716Z"
   },
   {
    "duration": 14,
    "start_time": "2023-07-05T10:34:16.755Z"
   },
   {
    "duration": 13,
    "start_time": "2023-07-05T10:34:16.770Z"
   },
   {
    "duration": 25,
    "start_time": "2023-07-05T10:34:16.785Z"
   },
   {
    "duration": 13,
    "start_time": "2023-07-05T10:34:16.812Z"
   },
   {
    "duration": 87,
    "start_time": "2023-07-05T10:34:16.826Z"
   },
   {
    "duration": 17,
    "start_time": "2023-07-05T10:34:16.915Z"
   },
   {
    "duration": 37,
    "start_time": "2023-07-05T10:34:16.934Z"
   },
   {
    "duration": 17,
    "start_time": "2023-07-05T10:34:16.973Z"
   },
   {
    "duration": 17,
    "start_time": "2023-07-05T10:34:16.992Z"
   },
   {
    "duration": 11,
    "start_time": "2023-07-05T10:34:21.028Z"
   },
   {
    "duration": 11,
    "start_time": "2023-07-05T10:34:24.354Z"
   },
   {
    "duration": 12,
    "start_time": "2023-07-05T11:16:09.765Z"
   },
   {
    "duration": 11,
    "start_time": "2023-07-05T11:18:33.584Z"
   },
   {
    "duration": 15,
    "start_time": "2023-07-05T11:20:16.144Z"
   },
   {
    "duration": 17,
    "start_time": "2023-07-05T11:20:23.159Z"
   },
   {
    "duration": 24,
    "start_time": "2023-07-05T11:20:27.678Z"
   },
   {
    "duration": 9,
    "start_time": "2023-07-05T11:20:43.273Z"
   },
   {
    "duration": 9,
    "start_time": "2023-07-05T11:21:48.908Z"
   },
   {
    "duration": 19,
    "start_time": "2023-07-05T11:22:20.898Z"
   },
   {
    "duration": 17,
    "start_time": "2023-07-05T11:23:00.386Z"
   },
   {
    "duration": 29,
    "start_time": "2023-07-05T11:24:48.820Z"
   },
   {
    "duration": 17,
    "start_time": "2023-07-05T11:26:17.541Z"
   },
   {
    "duration": 22,
    "start_time": "2023-07-05T11:27:38.249Z"
   },
   {
    "duration": 390,
    "start_time": "2023-07-05T11:31:41.854Z"
   },
   {
    "duration": 284,
    "start_time": "2023-07-05T11:31:46.835Z"
   },
   {
    "duration": 279,
    "start_time": "2023-07-05T11:31:59.000Z"
   },
   {
    "duration": 3,
    "start_time": "2023-07-05T11:33:30.825Z"
   },
   {
    "duration": 244,
    "start_time": "2023-07-05T11:33:54.333Z"
   },
   {
    "duration": 300,
    "start_time": "2023-07-05T11:34:45.063Z"
   },
   {
    "duration": 15,
    "start_time": "2023-07-05T11:37:21.031Z"
   },
   {
    "duration": 593,
    "start_time": "2023-07-05T11:38:38.328Z"
   },
   {
    "duration": 223,
    "start_time": "2023-07-05T11:39:38.002Z"
   },
   {
    "duration": 270,
    "start_time": "2023-07-05T11:40:25.756Z"
   },
   {
    "duration": 280,
    "start_time": "2023-07-05T11:41:48.055Z"
   },
   {
    "duration": 328,
    "start_time": "2023-07-05T11:42:00.792Z"
   },
   {
    "duration": 547,
    "start_time": "2023-07-05T11:42:11.823Z"
   },
   {
    "duration": 274,
    "start_time": "2023-07-05T11:43:25.920Z"
   },
   {
    "duration": 21,
    "start_time": "2023-07-05T11:45:23.022Z"
   },
   {
    "duration": 25,
    "start_time": "2023-07-05T11:47:01.602Z"
   },
   {
    "duration": 12,
    "start_time": "2023-07-05T11:47:53.288Z"
   },
   {
    "duration": 34,
    "start_time": "2023-07-05T11:52:36.518Z"
   },
   {
    "duration": 8,
    "start_time": "2023-07-05T11:52:37.352Z"
   },
   {
    "duration": 3,
    "start_time": "2023-07-05T11:52:37.755Z"
   },
   {
    "duration": 9,
    "start_time": "2023-07-05T11:52:38.073Z"
   },
   {
    "duration": 11,
    "start_time": "2023-07-05T11:52:38.379Z"
   },
   {
    "duration": 15,
    "start_time": "2023-07-05T11:52:46.111Z"
   },
   {
    "duration": 13,
    "start_time": "2023-07-05T11:52:46.698Z"
   },
   {
    "duration": 14,
    "start_time": "2023-07-05T11:52:47.464Z"
   },
   {
    "duration": 4,
    "start_time": "2023-07-05T11:55:42.443Z"
   },
   {
    "duration": 601,
    "start_time": "2023-07-05T11:55:42.449Z"
   },
   {
    "duration": 9,
    "start_time": "2023-07-05T11:55:43.052Z"
   },
   {
    "duration": 14,
    "start_time": "2023-07-05T11:55:43.063Z"
   },
   {
    "duration": 45,
    "start_time": "2023-07-05T11:55:43.078Z"
   },
   {
    "duration": 24,
    "start_time": "2023-07-05T11:55:43.125Z"
   },
   {
    "duration": 12,
    "start_time": "2023-07-05T11:55:43.150Z"
   },
   {
    "duration": 27,
    "start_time": "2023-07-05T11:55:43.164Z"
   },
   {
    "duration": 92,
    "start_time": "2023-07-05T11:55:43.193Z"
   },
   {
    "duration": 653,
    "start_time": "2023-07-05T11:55:43.286Z"
   },
   {
    "duration": 34,
    "start_time": "2023-07-05T11:55:43.940Z"
   },
   {
    "duration": 107,
    "start_time": "2023-07-05T11:55:43.976Z"
   },
   {
    "duration": 254,
    "start_time": "2023-07-05T11:55:44.085Z"
   },
   {
    "duration": 175,
    "start_time": "2023-07-05T11:55:44.341Z"
   },
   {
    "duration": 48,
    "start_time": "2023-07-05T11:55:44.518Z"
   },
   {
    "duration": 12,
    "start_time": "2023-07-05T11:55:44.568Z"
   },
   {
    "duration": 18,
    "start_time": "2023-07-05T11:55:44.582Z"
   },
   {
    "duration": 21,
    "start_time": "2023-07-05T11:55:44.602Z"
   },
   {
    "duration": 49,
    "start_time": "2023-07-05T11:55:44.624Z"
   },
   {
    "duration": 298,
    "start_time": "2023-07-05T11:55:44.675Z"
   },
   {
    "duration": 13,
    "start_time": "2023-07-05T11:55:44.975Z"
   },
   {
    "duration": 348,
    "start_time": "2023-07-05T11:55:44.990Z"
   },
   {
    "duration": 36,
    "start_time": "2023-07-05T11:55:45.340Z"
   },
   {
    "duration": 286,
    "start_time": "2023-07-05T11:55:45.380Z"
   },
   {
    "duration": 25,
    "start_time": "2023-07-05T11:55:45.668Z"
   },
   {
    "duration": 10,
    "start_time": "2023-07-05T11:55:45.695Z"
   },
   {
    "duration": 21,
    "start_time": "2023-07-05T11:55:45.706Z"
   },
   {
    "duration": 31,
    "start_time": "2023-07-05T11:55:45.728Z"
   },
   {
    "duration": 44,
    "start_time": "2023-07-05T11:55:45.761Z"
   },
   {
    "duration": 8,
    "start_time": "2023-07-05T11:55:45.807Z"
   },
   {
    "duration": 13,
    "start_time": "2023-07-05T11:55:45.816Z"
   },
   {
    "duration": 14,
    "start_time": "2023-07-05T11:55:45.831Z"
   },
   {
    "duration": 22,
    "start_time": "2023-07-05T11:55:45.846Z"
   },
   {
    "duration": 20,
    "start_time": "2023-07-05T11:55:45.870Z"
   },
   {
    "duration": 13,
    "start_time": "2023-07-05T11:55:45.892Z"
   },
   {
    "duration": 18,
    "start_time": "2023-07-05T11:55:45.907Z"
   },
   {
    "duration": 11,
    "start_time": "2023-07-05T12:08:00.284Z"
   },
   {
    "duration": 65,
    "start_time": "2023-07-05T12:09:44.464Z"
   },
   {
    "duration": 3,
    "start_time": "2023-07-05T12:13:55.060Z"
   },
   {
    "duration": 51,
    "start_time": "2023-07-05T12:26:04.612Z"
   },
   {
    "duration": 6,
    "start_time": "2023-07-05T12:26:16.418Z"
   },
   {
    "duration": 1312,
    "start_time": "2023-07-05T12:26:21.542Z"
   },
   {
    "duration": 595,
    "start_time": "2023-07-05T12:26:22.856Z"
   },
   {
    "duration": 13,
    "start_time": "2023-07-05T12:26:23.453Z"
   },
   {
    "duration": 40,
    "start_time": "2023-07-05T12:26:23.469Z"
   },
   {
    "duration": 11,
    "start_time": "2023-07-05T12:26:23.511Z"
   },
   {
    "duration": 9,
    "start_time": "2023-07-05T12:26:23.525Z"
   },
   {
    "duration": 5,
    "start_time": "2023-07-05T12:26:23.536Z"
   },
   {
    "duration": 23,
    "start_time": "2023-07-05T12:26:23.542Z"
   },
   {
    "duration": 133,
    "start_time": "2023-07-05T12:26:23.567Z"
   },
   {
    "duration": 677,
    "start_time": "2023-07-05T12:26:23.704Z"
   },
   {
    "duration": 38,
    "start_time": "2023-07-05T12:26:24.383Z"
   },
   {
    "duration": 115,
    "start_time": "2023-07-05T12:26:24.423Z"
   },
   {
    "duration": 213,
    "start_time": "2023-07-05T12:26:24.540Z"
   },
   {
    "duration": 218,
    "start_time": "2023-07-05T12:26:24.755Z"
   },
   {
    "duration": 48,
    "start_time": "2023-07-05T12:26:24.976Z"
   },
   {
    "duration": 14,
    "start_time": "2023-07-05T12:26:25.026Z"
   },
   {
    "duration": 29,
    "start_time": "2023-07-05T12:26:25.042Z"
   },
   {
    "duration": 53,
    "start_time": "2023-07-05T12:26:25.073Z"
   },
   {
    "duration": 29,
    "start_time": "2023-07-05T12:26:25.128Z"
   },
   {
    "duration": 311,
    "start_time": "2023-07-05T12:26:25.159Z"
   },
   {
    "duration": 13,
    "start_time": "2023-07-05T12:26:25.472Z"
   },
   {
    "duration": 534,
    "start_time": "2023-07-05T12:26:25.488Z"
   },
   {
    "duration": 30,
    "start_time": "2023-07-05T12:26:26.024Z"
   },
   {
    "duration": 60,
    "start_time": "2023-07-05T12:26:26.057Z"
   },
   {
    "duration": 537,
    "start_time": "2023-07-05T12:26:26.120Z"
   },
   {
    "duration": 32,
    "start_time": "2023-07-05T12:26:26.659Z"
   },
   {
    "duration": 1004,
    "start_time": "2023-07-05T12:26:26.694Z"
   },
   {
    "duration": 21,
    "start_time": "2023-07-05T12:26:27.703Z"
   },
   {
    "duration": 9,
    "start_time": "2023-07-05T12:26:27.727Z"
   },
   {
    "duration": 94,
    "start_time": "2023-07-05T12:26:27.738Z"
   },
   {
    "duration": 9,
    "start_time": "2023-07-05T12:26:27.834Z"
   },
   {
    "duration": 13,
    "start_time": "2023-07-05T12:26:27.845Z"
   },
   {
    "duration": 11,
    "start_time": "2023-07-05T12:26:27.860Z"
   },
   {
    "duration": 46,
    "start_time": "2023-07-05T12:26:27.873Z"
   },
   {
    "duration": 136,
    "start_time": "2023-07-05T12:26:27.921Z"
   },
   {
    "duration": 0,
    "start_time": "2023-07-05T12:26:28.059Z"
   },
   {
    "duration": 0,
    "start_time": "2023-07-05T12:26:28.060Z"
   },
   {
    "duration": 10,
    "start_time": "2023-07-05T12:27:57.687Z"
   },
   {
    "duration": 15,
    "start_time": "2023-07-05T12:28:08.574Z"
   },
   {
    "duration": 66,
    "start_time": "2023-07-05T12:34:18.649Z"
   },
   {
    "duration": 12,
    "start_time": "2023-07-05T12:34:40.981Z"
   },
   {
    "duration": 87,
    "start_time": "2023-07-05T12:36:17.241Z"
   },
   {
    "duration": 3,
    "start_time": "2023-07-05T12:36:47.180Z"
   },
   {
    "duration": 568,
    "start_time": "2023-07-05T12:36:47.185Z"
   },
   {
    "duration": 8,
    "start_time": "2023-07-05T12:36:47.755Z"
   },
   {
    "duration": 20,
    "start_time": "2023-07-05T12:36:47.765Z"
   },
   {
    "duration": 19,
    "start_time": "2023-07-05T12:36:47.788Z"
   },
   {
    "duration": 25,
    "start_time": "2023-07-05T12:36:47.809Z"
   },
   {
    "duration": 23,
    "start_time": "2023-07-05T12:36:47.835Z"
   },
   {
    "duration": 38,
    "start_time": "2023-07-05T12:36:47.860Z"
   },
   {
    "duration": 81,
    "start_time": "2023-07-05T12:36:47.900Z"
   },
   {
    "duration": 648,
    "start_time": "2023-07-05T12:36:47.983Z"
   },
   {
    "duration": 37,
    "start_time": "2023-07-05T12:36:48.632Z"
   },
   {
    "duration": 96,
    "start_time": "2023-07-05T12:36:48.671Z"
   },
   {
    "duration": 191,
    "start_time": "2023-07-05T12:36:48.769Z"
   },
   {
    "duration": 168,
    "start_time": "2023-07-05T12:36:48.964Z"
   },
   {
    "duration": 49,
    "start_time": "2023-07-05T12:36:49.134Z"
   },
   {
    "duration": 10,
    "start_time": "2023-07-05T12:36:49.185Z"
   },
   {
    "duration": 20,
    "start_time": "2023-07-05T12:36:49.197Z"
   },
   {
    "duration": 49,
    "start_time": "2023-07-05T12:36:49.220Z"
   },
   {
    "duration": 23,
    "start_time": "2023-07-05T12:36:49.272Z"
   },
   {
    "duration": 290,
    "start_time": "2023-07-05T12:36:49.297Z"
   },
   {
    "duration": 13,
    "start_time": "2023-07-05T12:36:49.589Z"
   },
   {
    "duration": 620,
    "start_time": "2023-07-05T12:36:49.604Z"
   },
   {
    "duration": 24,
    "start_time": "2023-07-05T12:36:50.226Z"
   },
   {
    "duration": 275,
    "start_time": "2023-07-05T12:36:50.260Z"
   },
   {
    "duration": 25,
    "start_time": "2023-07-05T12:36:50.537Z"
   },
   {
    "duration": 9,
    "start_time": "2023-07-05T12:36:50.564Z"
   },
   {
    "duration": 13,
    "start_time": "2023-07-05T12:36:50.575Z"
   },
   {
    "duration": 20,
    "start_time": "2023-07-05T12:36:50.590Z"
   },
   {
    "duration": 36,
    "start_time": "2023-07-05T12:36:50.612Z"
   },
   {
    "duration": 11,
    "start_time": "2023-07-05T12:36:50.650Z"
   },
   {
    "duration": 14,
    "start_time": "2023-07-05T12:36:50.663Z"
   },
   {
    "duration": 13,
    "start_time": "2023-07-05T12:36:50.678Z"
   },
   {
    "duration": 25,
    "start_time": "2023-07-05T12:36:50.692Z"
   },
   {
    "duration": 13,
    "start_time": "2023-07-05T12:36:50.718Z"
   },
   {
    "duration": 11,
    "start_time": "2023-07-05T12:36:50.733Z"
   },
   {
    "duration": 24,
    "start_time": "2023-07-05T12:36:50.746Z"
   },
   {
    "duration": 12,
    "start_time": "2023-07-05T12:38:55.760Z"
   },
   {
    "duration": 12,
    "start_time": "2023-07-05T12:38:57.053Z"
   },
   {
    "duration": 13,
    "start_time": "2023-07-05T12:38:58.920Z"
   },
   {
    "duration": 2,
    "start_time": "2023-07-05T12:39:02.563Z"
   },
   {
    "duration": 7,
    "start_time": "2023-07-05T12:39:03.335Z"
   },
   {
    "duration": 14,
    "start_time": "2023-07-05T12:39:04.963Z"
   },
   {
    "duration": 7,
    "start_time": "2023-07-05T12:40:08.054Z"
   },
   {
    "duration": 13,
    "start_time": "2023-07-05T12:40:12.310Z"
   },
   {
    "duration": 73,
    "start_time": "2023-07-05T12:50:25.606Z"
   },
   {
    "duration": 45,
    "start_time": "2023-07-05T12:58:24.938Z"
   },
   {
    "duration": 16,
    "start_time": "2023-07-05T13:01:39.037Z"
   },
   {
    "duration": 11,
    "start_time": "2023-07-05T13:01:44.095Z"
   },
   {
    "duration": 22,
    "start_time": "2023-07-05T13:02:13.308Z"
   },
   {
    "duration": 17,
    "start_time": "2023-07-05T13:03:20.074Z"
   },
   {
    "duration": 3,
    "start_time": "2023-07-05T13:03:26.121Z"
   },
   {
    "duration": 560,
    "start_time": "2023-07-05T13:03:26.126Z"
   },
   {
    "duration": 8,
    "start_time": "2023-07-05T13:03:26.689Z"
   },
   {
    "duration": 14,
    "start_time": "2023-07-05T13:03:26.699Z"
   },
   {
    "duration": 10,
    "start_time": "2023-07-05T13:03:26.715Z"
   },
   {
    "duration": 10,
    "start_time": "2023-07-05T13:03:26.727Z"
   },
   {
    "duration": 6,
    "start_time": "2023-07-05T13:03:26.739Z"
   },
   {
    "duration": 22,
    "start_time": "2023-07-05T13:03:26.747Z"
   },
   {
    "duration": 95,
    "start_time": "2023-07-05T13:03:26.771Z"
   },
   {
    "duration": 698,
    "start_time": "2023-07-05T13:03:26.868Z"
   },
   {
    "duration": 25,
    "start_time": "2023-07-05T13:03:27.568Z"
   },
   {
    "duration": 192,
    "start_time": "2023-07-05T13:03:27.595Z"
   },
   {
    "duration": 391,
    "start_time": "2023-07-05T13:03:27.788Z"
   },
   {
    "duration": 317,
    "start_time": "2023-07-05T13:03:28.180Z"
   },
   {
    "duration": 90,
    "start_time": "2023-07-05T13:03:28.499Z"
   },
   {
    "duration": 10,
    "start_time": "2023-07-05T13:03:28.590Z"
   },
   {
    "duration": 70,
    "start_time": "2023-07-05T13:03:28.602Z"
   },
   {
    "duration": 24,
    "start_time": "2023-07-05T13:03:28.674Z"
   },
   {
    "duration": 101,
    "start_time": "2023-07-05T13:03:28.700Z"
   },
   {
    "duration": 76,
    "start_time": "2023-07-05T13:03:28.803Z"
   },
   {
    "duration": 580,
    "start_time": "2023-07-05T13:03:28.881Z"
   },
   {
    "duration": 15,
    "start_time": "2023-07-05T13:03:29.463Z"
   },
   {
    "duration": 61,
    "start_time": "2023-07-05T13:03:29.480Z"
   },
   {
    "duration": 30,
    "start_time": "2023-07-05T13:03:29.544Z"
   },
   {
    "duration": 322,
    "start_time": "2023-07-05T13:03:29.576Z"
   },
   {
    "duration": 23,
    "start_time": "2023-07-05T13:03:29.899Z"
   },
   {
    "duration": 297,
    "start_time": "2023-07-05T13:03:29.924Z"
   },
   {
    "duration": 23,
    "start_time": "2023-07-05T13:03:30.223Z"
   },
   {
    "duration": 35,
    "start_time": "2023-07-05T13:03:30.261Z"
   },
   {
    "duration": 50,
    "start_time": "2023-07-05T13:03:30.299Z"
   },
   {
    "duration": 55,
    "start_time": "2023-07-05T13:03:30.351Z"
   },
   {
    "duration": 92,
    "start_time": "2023-07-05T13:03:30.408Z"
   },
   {
    "duration": 67,
    "start_time": "2023-07-05T13:03:30.502Z"
   },
   {
    "duration": 100,
    "start_time": "2023-07-05T13:03:30.571Z"
   },
   {
    "duration": 64,
    "start_time": "2023-07-05T13:03:30.674Z"
   },
   {
    "duration": 47,
    "start_time": "2023-07-05T13:03:30.740Z"
   },
   {
    "duration": 44,
    "start_time": "2023-07-05T13:03:30.789Z"
   },
   {
    "duration": 36,
    "start_time": "2023-07-05T13:03:30.835Z"
   },
   {
    "duration": 49,
    "start_time": "2023-07-05T13:03:30.873Z"
   },
   {
    "duration": 40,
    "start_time": "2023-07-05T13:03:41.095Z"
   },
   {
    "duration": 39,
    "start_time": "2023-07-05T13:03:55.698Z"
   },
   {
    "duration": 26,
    "start_time": "2023-07-05T13:04:39.838Z"
   },
   {
    "duration": 13,
    "start_time": "2023-07-05T13:04:44.924Z"
   },
   {
    "duration": 10,
    "start_time": "2023-07-05T13:04:55.198Z"
   },
   {
    "duration": 9,
    "start_time": "2023-07-05T13:05:08.301Z"
   },
   {
    "duration": 10,
    "start_time": "2023-07-05T13:05:53.455Z"
   },
   {
    "duration": 9,
    "start_time": "2023-07-05T13:05:56.814Z"
   },
   {
    "duration": 23,
    "start_time": "2023-07-05T13:09:00.371Z"
   },
   {
    "duration": 17,
    "start_time": "2023-07-05T13:09:30.183Z"
   },
   {
    "duration": 17,
    "start_time": "2023-07-05T13:09:31.181Z"
   },
   {
    "duration": 4,
    "start_time": "2023-07-05T13:09:39.792Z"
   },
   {
    "duration": 637,
    "start_time": "2023-07-05T13:09:39.798Z"
   },
   {
    "duration": 9,
    "start_time": "2023-07-05T13:09:40.437Z"
   },
   {
    "duration": 12,
    "start_time": "2023-07-05T13:09:40.448Z"
   },
   {
    "duration": 27,
    "start_time": "2023-07-05T13:09:40.462Z"
   },
   {
    "duration": 13,
    "start_time": "2023-07-05T13:09:40.491Z"
   },
   {
    "duration": 4,
    "start_time": "2023-07-05T13:09:40.506Z"
   },
   {
    "duration": 24,
    "start_time": "2023-07-05T13:09:40.512Z"
   },
   {
    "duration": 83,
    "start_time": "2023-07-05T13:09:40.538Z"
   },
   {
    "duration": 642,
    "start_time": "2023-07-05T13:09:40.623Z"
   },
   {
    "duration": 25,
    "start_time": "2023-07-05T13:09:41.266Z"
   },
   {
    "duration": 112,
    "start_time": "2023-07-05T13:09:41.293Z"
   },
   {
    "duration": 192,
    "start_time": "2023-07-05T13:09:41.407Z"
   },
   {
    "duration": 167,
    "start_time": "2023-07-05T13:09:41.602Z"
   },
   {
    "duration": 37,
    "start_time": "2023-07-05T13:09:41.771Z"
   },
   {
    "duration": 11,
    "start_time": "2023-07-05T13:09:41.810Z"
   },
   {
    "duration": 37,
    "start_time": "2023-07-05T13:09:41.823Z"
   },
   {
    "duration": 22,
    "start_time": "2023-07-05T13:09:41.862Z"
   },
   {
    "duration": 47,
    "start_time": "2023-07-05T13:09:41.886Z"
   },
   {
    "duration": 43,
    "start_time": "2023-07-05T13:09:41.935Z"
   },
   {
    "duration": 591,
    "start_time": "2023-07-05T13:09:41.980Z"
   },
   {
    "duration": 13,
    "start_time": "2023-07-05T13:09:42.573Z"
   },
   {
    "duration": 42,
    "start_time": "2023-07-05T13:09:42.587Z"
   },
   {
    "duration": 33,
    "start_time": "2023-07-05T13:09:42.631Z"
   },
   {
    "duration": 16,
    "start_time": "2023-07-05T13:09:42.666Z"
   },
   {
    "duration": 24,
    "start_time": "2023-07-05T13:09:42.684Z"
   },
   {
    "duration": 326,
    "start_time": "2023-07-05T13:09:42.710Z"
   },
   {
    "duration": 30,
    "start_time": "2023-07-05T13:09:43.038Z"
   },
   {
    "duration": 283,
    "start_time": "2023-07-05T13:09:43.070Z"
   },
   {
    "duration": 25,
    "start_time": "2023-07-05T13:09:43.355Z"
   },
   {
    "duration": 11,
    "start_time": "2023-07-05T13:09:43.382Z"
   },
   {
    "duration": 15,
    "start_time": "2023-07-05T13:09:43.395Z"
   },
   {
    "duration": 12,
    "start_time": "2023-07-05T13:09:43.411Z"
   },
   {
    "duration": 68,
    "start_time": "2023-07-05T13:09:43.424Z"
   },
   {
    "duration": 10,
    "start_time": "2023-07-05T13:09:43.494Z"
   },
   {
    "duration": 12,
    "start_time": "2023-07-05T13:09:43.506Z"
   },
   {
    "duration": 39,
    "start_time": "2023-07-05T13:09:43.521Z"
   },
   {
    "duration": 24,
    "start_time": "2023-07-05T13:09:43.562Z"
   },
   {
    "duration": 27,
    "start_time": "2023-07-05T13:09:43.588Z"
   },
   {
    "duration": 12,
    "start_time": "2023-07-05T13:09:43.617Z"
   },
   {
    "duration": 14,
    "start_time": "2023-07-05T13:09:43.633Z"
   },
   {
    "duration": 13,
    "start_time": "2023-07-05T13:13:20.419Z"
   },
   {
    "duration": 6,
    "start_time": "2023-07-05T13:13:23.882Z"
   },
   {
    "duration": 35,
    "start_time": "2023-07-05T13:13:27.667Z"
   },
   {
    "duration": 9,
    "start_time": "2023-07-05T13:13:27.904Z"
   },
   {
    "duration": 3,
    "start_time": "2023-07-05T13:13:28.717Z"
   },
   {
    "duration": 8,
    "start_time": "2023-07-05T13:13:28.923Z"
   },
   {
    "duration": 16,
    "start_time": "2023-07-05T13:13:29.276Z"
   },
   {
    "duration": 158,
    "start_time": "2023-07-05T13:18:10.360Z"
   },
   {
    "duration": 5,
    "start_time": "2023-07-05T13:19:07.312Z"
   },
   {
    "duration": 59,
    "start_time": "2023-07-05T13:20:16.251Z"
   },
   {
    "duration": 13,
    "start_time": "2023-07-05T13:23:20.159Z"
   },
   {
    "duration": 12,
    "start_time": "2023-07-05T13:23:33.449Z"
   },
   {
    "duration": 277,
    "start_time": "2023-07-05T13:24:30.320Z"
   },
   {
    "duration": 69,
    "start_time": "2023-07-05T13:29:27.574Z"
   },
   {
    "duration": 14,
    "start_time": "2023-07-05T13:29:32.932Z"
   },
   {
    "duration": 15,
    "start_time": "2023-07-05T13:29:58.423Z"
   },
   {
    "duration": 11,
    "start_time": "2023-07-05T13:30:00.604Z"
   },
   {
    "duration": 13,
    "start_time": "2023-07-05T13:30:02.271Z"
   },
   {
    "duration": 81,
    "start_time": "2023-07-05T13:33:19.021Z"
   },
   {
    "duration": 4,
    "start_time": "2023-07-05T13:37:56.428Z"
   },
   {
    "duration": 549,
    "start_time": "2023-07-05T13:37:56.433Z"
   },
   {
    "duration": 9,
    "start_time": "2023-07-05T13:37:56.984Z"
   },
   {
    "duration": 17,
    "start_time": "2023-07-05T13:37:56.995Z"
   },
   {
    "duration": 28,
    "start_time": "2023-07-05T13:37:57.014Z"
   },
   {
    "duration": 25,
    "start_time": "2023-07-05T13:37:57.044Z"
   },
   {
    "duration": 12,
    "start_time": "2023-07-05T13:37:57.071Z"
   },
   {
    "duration": 41,
    "start_time": "2023-07-05T13:37:57.084Z"
   },
   {
    "duration": 85,
    "start_time": "2023-07-05T13:37:57.128Z"
   },
   {
    "duration": 655,
    "start_time": "2023-07-05T13:37:57.214Z"
   },
   {
    "duration": 25,
    "start_time": "2023-07-05T13:37:57.872Z"
   },
   {
    "duration": 106,
    "start_time": "2023-07-05T13:37:57.899Z"
   },
   {
    "duration": 194,
    "start_time": "2023-07-05T13:37:58.007Z"
   },
   {
    "duration": 162,
    "start_time": "2023-07-05T13:37:58.203Z"
   },
   {
    "duration": 40,
    "start_time": "2023-07-05T13:37:58.366Z"
   },
   {
    "duration": 9,
    "start_time": "2023-07-05T13:37:58.408Z"
   },
   {
    "duration": 16,
    "start_time": "2023-07-05T13:37:58.418Z"
   },
   {
    "duration": 46,
    "start_time": "2023-07-05T13:37:58.435Z"
   },
   {
    "duration": 50,
    "start_time": "2023-07-05T13:37:58.482Z"
   },
   {
    "duration": 39,
    "start_time": "2023-07-05T13:37:58.535Z"
   },
   {
    "duration": 280,
    "start_time": "2023-07-05T13:37:58.576Z"
   },
   {
    "duration": 12,
    "start_time": "2023-07-05T13:37:58.860Z"
   },
   {
    "duration": 45,
    "start_time": "2023-07-05T13:37:58.874Z"
   },
   {
    "duration": 15,
    "start_time": "2023-07-05T13:37:58.922Z"
   },
   {
    "duration": 32,
    "start_time": "2023-07-05T13:37:58.939Z"
   },
   {
    "duration": 319,
    "start_time": "2023-07-05T13:37:58.973Z"
   },
   {
    "duration": 26,
    "start_time": "2023-07-05T13:37:59.294Z"
   },
   {
    "duration": 303,
    "start_time": "2023-07-05T13:37:59.321Z"
   },
   {
    "duration": 21,
    "start_time": "2023-07-05T13:37:59.626Z"
   },
   {
    "duration": 18,
    "start_time": "2023-07-05T13:37:59.649Z"
   },
   {
    "duration": 28,
    "start_time": "2023-07-05T13:37:59.668Z"
   },
   {
    "duration": 7,
    "start_time": "2023-07-05T13:37:59.698Z"
   },
   {
    "duration": 45,
    "start_time": "2023-07-05T13:37:59.706Z"
   },
   {
    "duration": 10,
    "start_time": "2023-07-05T13:37:59.753Z"
   },
   {
    "duration": 5,
    "start_time": "2023-07-05T13:37:59.764Z"
   },
   {
    "duration": 11,
    "start_time": "2023-07-05T13:37:59.771Z"
   },
   {
    "duration": 96,
    "start_time": "2023-07-05T13:37:59.784Z"
   },
   {
    "duration": 84,
    "start_time": "2023-07-05T13:37:59.882Z"
   },
   {
    "duration": 205,
    "start_time": "2023-07-05T13:37:59.968Z"
   },
   {
    "duration": 77,
    "start_time": "2023-07-05T13:38:00.175Z"
   },
   {
    "duration": 4,
    "start_time": "2023-07-05T13:38:41.570Z"
   },
   {
    "duration": 17,
    "start_time": "2023-07-05T13:44:27.367Z"
   },
   {
    "duration": 14,
    "start_time": "2023-07-05T13:44:41.984Z"
   },
   {
    "duration": 15,
    "start_time": "2023-07-05T13:45:14.460Z"
   },
   {
    "duration": 9,
    "start_time": "2023-07-05T13:45:24.597Z"
   },
   {
    "duration": 83,
    "start_time": "2023-07-05T13:57:59.762Z"
   },
   {
    "duration": 42,
    "start_time": "2023-07-05T13:58:06.670Z"
   },
   {
    "duration": 44,
    "start_time": "2023-07-05T13:59:23.376Z"
   },
   {
    "duration": 27,
    "start_time": "2023-07-05T14:00:10.435Z"
   },
   {
    "duration": 18,
    "start_time": "2023-07-05T14:00:13.277Z"
   },
   {
    "duration": 13,
    "start_time": "2023-07-05T14:01:00.894Z"
   },
   {
    "duration": 79,
    "start_time": "2023-07-05T14:05:46.683Z"
   },
   {
    "duration": 19,
    "start_time": "2023-07-05T14:05:55.618Z"
   },
   {
    "duration": 20,
    "start_time": "2023-07-05T14:09:17.272Z"
   },
   {
    "duration": 4,
    "start_time": "2023-07-05T14:11:36.035Z"
   },
   {
    "duration": 24,
    "start_time": "2023-07-05T14:16:59.979Z"
   },
   {
    "duration": 45,
    "start_time": "2023-07-05T14:17:06.542Z"
   },
   {
    "duration": 33,
    "start_time": "2023-07-05T14:18:40.231Z"
   },
   {
    "duration": 28,
    "start_time": "2023-07-05T14:19:04.806Z"
   },
   {
    "duration": 1140,
    "start_time": "2023-07-05T18:26:47.123Z"
   },
   {
    "duration": 893,
    "start_time": "2023-07-05T18:26:48.265Z"
   },
   {
    "duration": 11,
    "start_time": "2023-07-05T18:26:49.160Z"
   },
   {
    "duration": 7,
    "start_time": "2023-07-05T18:26:49.172Z"
   },
   {
    "duration": 13,
    "start_time": "2023-07-05T18:26:49.180Z"
   },
   {
    "duration": 16,
    "start_time": "2023-07-05T18:26:49.194Z"
   },
   {
    "duration": 8,
    "start_time": "2023-07-05T18:26:49.212Z"
   },
   {
    "duration": 16,
    "start_time": "2023-07-05T18:26:49.221Z"
   },
   {
    "duration": 71,
    "start_time": "2023-07-05T18:26:49.239Z"
   },
   {
    "duration": 533,
    "start_time": "2023-07-05T18:26:49.313Z"
   },
   {
    "duration": 22,
    "start_time": "2023-07-05T18:26:49.847Z"
   },
   {
    "duration": 103,
    "start_time": "2023-07-05T18:26:49.870Z"
   },
   {
    "duration": 147,
    "start_time": "2023-07-05T18:26:49.975Z"
   },
   {
    "duration": 153,
    "start_time": "2023-07-05T18:26:50.124Z"
   },
   {
    "duration": 41,
    "start_time": "2023-07-05T18:26:50.278Z"
   },
   {
    "duration": 8,
    "start_time": "2023-07-05T18:26:50.321Z"
   },
   {
    "duration": 14,
    "start_time": "2023-07-05T18:26:50.331Z"
   },
   {
    "duration": 18,
    "start_time": "2023-07-05T18:26:50.346Z"
   },
   {
    "duration": 58,
    "start_time": "2023-07-05T18:26:50.365Z"
   },
   {
    "duration": 18,
    "start_time": "2023-07-05T18:26:50.425Z"
   },
   {
    "duration": 258,
    "start_time": "2023-07-05T18:26:50.445Z"
   },
   {
    "duration": 11,
    "start_time": "2023-07-05T18:26:50.705Z"
   },
   {
    "duration": 3,
    "start_time": "2023-07-05T18:26:50.717Z"
   },
   {
    "duration": 62,
    "start_time": "2023-07-05T18:26:50.721Z"
   },
   {
    "duration": 24,
    "start_time": "2023-07-05T18:26:50.784Z"
   },
   {
    "duration": 3,
    "start_time": "2023-07-05T18:26:50.810Z"
   },
   {
    "duration": 22,
    "start_time": "2023-07-05T18:26:50.814Z"
   },
   {
    "duration": 329,
    "start_time": "2023-07-05T18:26:50.839Z"
   },
   {
    "duration": 18,
    "start_time": "2023-07-05T18:26:51.170Z"
   },
   {
    "duration": 289,
    "start_time": "2023-07-05T18:26:51.189Z"
   },
   {
    "duration": 27,
    "start_time": "2023-07-05T18:26:51.480Z"
   },
   {
    "duration": 635,
    "start_time": "2023-07-05T18:26:51.510Z"
   },
   {
    "duration": 9,
    "start_time": "2023-07-05T18:26:52.146Z"
   },
   {
    "duration": 7,
    "start_time": "2023-07-05T18:26:52.156Z"
   },
   {
    "duration": 51,
    "start_time": "2023-07-05T18:26:52.164Z"
   },
   {
    "duration": 6,
    "start_time": "2023-07-05T18:26:52.217Z"
   },
   {
    "duration": 17,
    "start_time": "2023-07-05T18:26:52.224Z"
   },
   {
    "duration": 10,
    "start_time": "2023-07-05T18:26:52.242Z"
   },
   {
    "duration": 47,
    "start_time": "2023-07-05T18:26:52.253Z"
   },
   {
    "duration": 112,
    "start_time": "2023-07-05T18:26:52.302Z"
   },
   {
    "duration": 0,
    "start_time": "2023-07-05T18:26:52.416Z"
   },
   {
    "duration": 0,
    "start_time": "2023-07-05T18:26:52.417Z"
   },
   {
    "duration": 10,
    "start_time": "2023-07-05T18:28:30.695Z"
   },
   {
    "duration": 1548,
    "start_time": "2023-07-05T19:23:44.890Z"
   },
   {
    "duration": 1117,
    "start_time": "2023-07-05T19:23:46.440Z"
   },
   {
    "duration": 13,
    "start_time": "2023-07-05T19:23:47.559Z"
   },
   {
    "duration": 10,
    "start_time": "2023-07-05T19:23:47.573Z"
   },
   {
    "duration": 11,
    "start_time": "2023-07-05T19:23:47.585Z"
   },
   {
    "duration": 47,
    "start_time": "2023-07-05T19:23:47.597Z"
   },
   {
    "duration": 25,
    "start_time": "2023-07-05T19:23:47.646Z"
   },
   {
    "duration": 60,
    "start_time": "2023-07-05T19:23:47.673Z"
   },
   {
    "duration": 123,
    "start_time": "2023-07-05T19:23:47.737Z"
   },
   {
    "duration": 897,
    "start_time": "2023-07-05T19:23:47.862Z"
   },
   {
    "duration": 26,
    "start_time": "2023-07-05T19:23:48.761Z"
   },
   {
    "duration": 129,
    "start_time": "2023-07-05T19:23:48.803Z"
   },
   {
    "duration": 256,
    "start_time": "2023-07-05T19:23:48.934Z"
   },
   {
    "duration": 192,
    "start_time": "2023-07-05T19:23:49.194Z"
   },
   {
    "duration": 51,
    "start_time": "2023-07-05T19:23:49.388Z"
   },
   {
    "duration": 11,
    "start_time": "2023-07-05T19:23:49.441Z"
   },
   {
    "duration": 24,
    "start_time": "2023-07-05T19:23:49.454Z"
   },
   {
    "duration": 37,
    "start_time": "2023-07-05T19:23:49.481Z"
   },
   {
    "duration": 48,
    "start_time": "2023-07-05T19:23:49.520Z"
   },
   {
    "duration": 50,
    "start_time": "2023-07-05T19:23:49.570Z"
   },
   {
    "duration": 305,
    "start_time": "2023-07-05T19:23:49.622Z"
   },
   {
    "duration": 18,
    "start_time": "2023-07-05T19:23:49.929Z"
   },
   {
    "duration": 19,
    "start_time": "2023-07-05T19:23:49.949Z"
   },
   {
    "duration": 91,
    "start_time": "2023-07-05T19:23:49.970Z"
   },
   {
    "duration": 19,
    "start_time": "2023-07-05T19:23:50.064Z"
   },
   {
    "duration": 20,
    "start_time": "2023-07-05T19:23:50.084Z"
   },
   {
    "duration": 66,
    "start_time": "2023-07-05T19:23:50.107Z"
   },
   {
    "duration": 483,
    "start_time": "2023-07-05T19:23:50.175Z"
   },
   {
    "duration": 53,
    "start_time": "2023-07-05T19:23:50.660Z"
   },
   {
    "duration": 434,
    "start_time": "2023-07-05T19:23:50.715Z"
   },
   {
    "duration": 30,
    "start_time": "2023-07-05T19:23:51.151Z"
   },
   {
    "duration": 210,
    "start_time": "2023-07-05T19:23:51.184Z"
   },
   {
    "duration": 18,
    "start_time": "2023-07-05T19:23:51.396Z"
   },
   {
    "duration": 21,
    "start_time": "2023-07-05T19:23:51.416Z"
   },
   {
    "duration": 93,
    "start_time": "2023-07-05T19:23:51.439Z"
   },
   {
    "duration": 8,
    "start_time": "2023-07-05T19:23:51.534Z"
   },
   {
    "duration": 12,
    "start_time": "2023-07-05T19:23:51.544Z"
   },
   {
    "duration": 28,
    "start_time": "2023-07-05T19:23:51.558Z"
   },
   {
    "duration": 40,
    "start_time": "2023-07-05T19:23:51.588Z"
   },
   {
    "duration": 126,
    "start_time": "2023-07-05T19:23:51.631Z"
   },
   {
    "duration": 0,
    "start_time": "2023-07-05T19:23:51.758Z"
   },
   {
    "duration": 0,
    "start_time": "2023-07-05T19:23:51.760Z"
   },
   {
    "duration": 5,
    "start_time": "2023-07-05T22:15:00.317Z"
   },
   {
    "duration": 1329,
    "start_time": "2023-07-05T22:15:00.325Z"
   },
   {
    "duration": 12,
    "start_time": "2023-07-05T22:15:01.657Z"
   },
   {
    "duration": 64,
    "start_time": "2023-07-05T22:15:01.671Z"
   },
   {
    "duration": 67,
    "start_time": "2023-07-05T22:15:01.738Z"
   },
   {
    "duration": 73,
    "start_time": "2023-07-05T22:15:01.808Z"
   },
   {
    "duration": 68,
    "start_time": "2023-07-05T22:15:01.883Z"
   },
   {
    "duration": 60,
    "start_time": "2023-07-05T22:15:01.954Z"
   },
   {
    "duration": 167,
    "start_time": "2023-07-05T22:15:02.019Z"
   },
   {
    "duration": 848,
    "start_time": "2023-07-05T22:15:02.189Z"
   },
   {
    "duration": 25,
    "start_time": "2023-07-05T22:15:03.040Z"
   },
   {
    "duration": 129,
    "start_time": "2023-07-05T22:15:03.067Z"
   },
   {
    "duration": 255,
    "start_time": "2023-07-05T22:15:03.199Z"
   },
   {
    "duration": 207,
    "start_time": "2023-07-05T22:15:03.455Z"
   },
   {
    "duration": 56,
    "start_time": "2023-07-05T22:15:03.666Z"
   },
   {
    "duration": 16,
    "start_time": "2023-07-05T22:15:03.728Z"
   },
   {
    "duration": 43,
    "start_time": "2023-07-05T22:15:03.747Z"
   },
   {
    "duration": 43,
    "start_time": "2023-07-05T22:15:03.793Z"
   },
   {
    "duration": 89,
    "start_time": "2023-07-05T22:15:03.838Z"
   },
   {
    "duration": 62,
    "start_time": "2023-07-05T22:15:03.932Z"
   },
   {
    "duration": 388,
    "start_time": "2023-07-05T22:15:03.996Z"
   },
   {
    "duration": 28,
    "start_time": "2023-07-05T22:15:04.386Z"
   },
   {
    "duration": 44,
    "start_time": "2023-07-05T22:15:04.417Z"
   },
   {
    "duration": 126,
    "start_time": "2023-07-05T22:15:04.463Z"
   },
   {
    "duration": 23,
    "start_time": "2023-07-05T22:15:04.591Z"
   },
   {
    "duration": 58,
    "start_time": "2023-07-05T22:15:04.616Z"
   },
   {
    "duration": 77,
    "start_time": "2023-07-05T22:15:04.676Z"
   },
   {
    "duration": 496,
    "start_time": "2023-07-05T22:15:04.754Z"
   },
   {
    "duration": 24,
    "start_time": "2023-07-05T22:15:05.253Z"
   },
   {
    "duration": 371,
    "start_time": "2023-07-05T22:15:05.279Z"
   },
   {
    "duration": 25,
    "start_time": "2023-07-05T22:15:05.652Z"
   },
   {
    "duration": 39,
    "start_time": "2023-07-05T22:15:05.679Z"
   },
   {
    "duration": 41,
    "start_time": "2023-07-05T22:15:05.721Z"
   },
   {
    "duration": 41,
    "start_time": "2023-07-05T22:15:05.764Z"
   },
   {
    "duration": 71,
    "start_time": "2023-07-05T22:15:05.807Z"
   },
   {
    "duration": 12,
    "start_time": "2023-07-05T22:15:05.880Z"
   },
   {
    "duration": 30,
    "start_time": "2023-07-05T22:15:05.894Z"
   },
   {
    "duration": 17,
    "start_time": "2023-07-05T22:15:05.926Z"
   },
   {
    "duration": 28,
    "start_time": "2023-07-05T22:15:05.945Z"
   },
   {
    "duration": 14,
    "start_time": "2023-07-05T22:15:05.975Z"
   },
   {
    "duration": 0,
    "start_time": "2023-07-05T22:15:05.991Z"
   },
   {
    "duration": 0,
    "start_time": "2023-07-05T22:15:05.992Z"
   },
   {
    "duration": 22,
    "start_time": "2023-07-05T22:15:48.641Z"
   },
   {
    "duration": 30,
    "start_time": "2023-07-05T22:16:10.465Z"
   },
   {
    "duration": 48,
    "start_time": "2023-07-05T22:16:29.086Z"
   },
   {
    "duration": 53,
    "start_time": "2023-07-05T22:16:53.913Z"
   },
   {
    "duration": 53,
    "start_time": "2023-07-05T22:17:01.134Z"
   },
   {
    "duration": 46,
    "start_time": "2023-07-05T22:17:10.105Z"
   },
   {
    "duration": 8,
    "start_time": "2023-07-05T22:17:53.351Z"
   },
   {
    "duration": 26,
    "start_time": "2023-07-05T22:17:57.037Z"
   },
   {
    "duration": 7,
    "start_time": "2023-07-05T22:17:59.767Z"
   },
   {
    "duration": 14,
    "start_time": "2023-07-05T22:18:16.075Z"
   },
   {
    "duration": 45,
    "start_time": "2023-07-05T22:18:37.391Z"
   },
   {
    "duration": 16,
    "start_time": "2023-07-05T22:18:45.757Z"
   },
   {
    "duration": 19,
    "start_time": "2023-07-05T22:19:08.917Z"
   },
   {
    "duration": 18,
    "start_time": "2023-07-05T22:19:16.921Z"
   },
   {
    "duration": 15,
    "start_time": "2023-07-05T22:19:34.222Z"
   },
   {
    "duration": 75,
    "start_time": "2023-07-05T22:21:13.386Z"
   },
   {
    "duration": 2372,
    "start_time": "2023-07-06T10:03:19.431Z"
   },
   {
    "duration": 2729,
    "start_time": "2023-07-06T10:03:21.806Z"
   },
   {
    "duration": 13,
    "start_time": "2023-07-06T10:03:24.537Z"
   },
   {
    "duration": 23,
    "start_time": "2023-07-06T10:03:24.553Z"
   },
   {
    "duration": 10,
    "start_time": "2023-07-06T10:03:24.578Z"
   },
   {
    "duration": 22,
    "start_time": "2023-07-06T10:03:24.590Z"
   },
   {
    "duration": 11,
    "start_time": "2023-07-06T10:03:24.614Z"
   },
   {
    "duration": 20,
    "start_time": "2023-07-06T10:03:24.627Z"
   },
   {
    "duration": 113,
    "start_time": "2023-07-06T10:03:24.649Z"
   },
   {
    "duration": 765,
    "start_time": "2023-07-06T10:03:24.765Z"
   },
   {
    "duration": 28,
    "start_time": "2023-07-06T10:03:25.531Z"
   },
   {
    "duration": 128,
    "start_time": "2023-07-06T10:03:25.571Z"
   },
   {
    "duration": 211,
    "start_time": "2023-07-06T10:03:25.701Z"
   },
   {
    "duration": 204,
    "start_time": "2023-07-06T10:03:25.914Z"
   },
   {
    "duration": 50,
    "start_time": "2023-07-06T10:03:26.120Z"
   },
   {
    "duration": 17,
    "start_time": "2023-07-06T10:03:26.176Z"
   },
   {
    "duration": 20,
    "start_time": "2023-07-06T10:03:26.198Z"
   },
   {
    "duration": 23,
    "start_time": "2023-07-06T10:03:26.220Z"
   },
   {
    "duration": 69,
    "start_time": "2023-07-06T10:03:26.245Z"
   },
   {
    "duration": 22,
    "start_time": "2023-07-06T10:03:26.315Z"
   },
   {
    "duration": 330,
    "start_time": "2023-07-06T10:03:26.339Z"
   },
   {
    "duration": 23,
    "start_time": "2023-07-06T10:03:26.672Z"
   },
   {
    "duration": 15,
    "start_time": "2023-07-06T10:03:26.697Z"
   },
   {
    "duration": 84,
    "start_time": "2023-07-06T10:03:26.714Z"
   },
   {
    "duration": 19,
    "start_time": "2023-07-06T10:03:26.800Z"
   },
   {
    "duration": 9,
    "start_time": "2023-07-06T10:03:26.821Z"
   },
   {
    "duration": 54,
    "start_time": "2023-07-06T10:03:26.833Z"
   },
   {
    "duration": 451,
    "start_time": "2023-07-06T10:03:26.890Z"
   },
   {
    "duration": 33,
    "start_time": "2023-07-06T10:03:27.343Z"
   },
   {
    "duration": 470,
    "start_time": "2023-07-06T10:03:27.378Z"
   },
   {
    "duration": 45,
    "start_time": "2023-07-06T10:03:27.850Z"
   },
   {
    "duration": 710,
    "start_time": "2023-07-06T10:03:27.900Z"
   },
   {
    "duration": 11,
    "start_time": "2023-07-06T10:03:28.612Z"
   },
   {
    "duration": 46,
    "start_time": "2023-07-06T10:03:28.625Z"
   },
   {
    "duration": 106,
    "start_time": "2023-07-06T10:03:28.673Z"
   },
   {
    "duration": 15,
    "start_time": "2023-07-06T10:03:28.784Z"
   },
   {
    "duration": 4,
    "start_time": "2023-07-06T10:03:28.800Z"
   },
   {
    "duration": 21,
    "start_time": "2023-07-06T10:03:28.806Z"
   },
   {
    "duration": 15,
    "start_time": "2023-07-06T10:03:28.829Z"
   },
   {
    "duration": 18,
    "start_time": "2023-07-06T10:03:28.846Z"
   },
   {
    "duration": 21,
    "start_time": "2023-07-06T10:03:28.866Z"
   },
   {
    "duration": 23,
    "start_time": "2023-07-06T10:03:28.890Z"
   },
   {
    "duration": 13,
    "start_time": "2023-07-06T10:03:28.916Z"
   }
  ],
  "kernelspec": {
   "display_name": "Python 3 (ipykernel)",
   "language": "python",
   "name": "python3"
  },
  "language_info": {
   "codemirror_mode": {
    "name": "ipython",
    "version": 3
   },
   "file_extension": ".py",
   "mimetype": "text/x-python",
   "name": "python",
   "nbconvert_exporter": "python",
   "pygments_lexer": "ipython3",
   "version": "3.10.9"
  },
  "toc": {
   "base_numbering": 1,
   "nav_menu": {},
   "number_sections": true,
   "sideBar": true,
   "skip_h1_title": true,
   "title_cell": "Table of Contents",
   "title_sidebar": "Contents",
   "toc_cell": false,
   "toc_position": {
    "height": "calc(100% - 180px)",
    "left": "10px",
    "top": "150px",
    "width": "455.391px"
   },
   "toc_section_display": true,
   "toc_window_display": true
  }
 },
 "nbformat": 4,
 "nbformat_minor": 2
}
